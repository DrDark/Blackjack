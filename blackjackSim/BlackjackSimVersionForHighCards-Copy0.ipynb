{
 "metadata": {
  "name": ""
 },
 "nbformat": 3,
 "nbformat_minor": 0,
 "worksheets": [
  {
   "cells": [
    {
     "cell_type": "raw",
     "metadata": {},
     "source": [
      "A Blackjack Simulator for developing strategies on excess number of high cards."
     ]
    },
    {
     "cell_type": "code",
     "collapsed": false,
     "input": [
      "# Randomness for numpies\n",
      "from numpy import random\n",
      "from pandas import DataFrame"
     ],
     "language": "python",
     "metadata": {},
     "outputs": [],
     "prompt_number": 2
    },
    {
     "cell_type": "code",
     "collapsed": false,
     "input": [],
     "language": "python",
     "metadata": {},
     "outputs": []
    },
    {
     "cell_type": "code",
     "collapsed": false,
     "input": [
      "low = range(2, 7)*4          \n",
      "neutral = range(7, 10)*4     \n",
      "high = [10]*16               \n",
      "highAce = ['A']*4            \n",
      "\n",
      "def deckShuffle(no_l=1, no_n=1, no_h=1, no_A=1, low = low, neutral = neutral, high = high, highAce = highAce):\n",
      "    Low =low*no_l\n",
      "    Neut = neutral*no_n\n",
      "    High = high*no_h\n",
      "    Ace = highAce*no_A\n",
      "    All = Low+Neut+High+Ace\n",
      "    shuffle(All)\n",
      "    return All"
     ],
     "language": "python",
     "metadata": {},
     "outputs": [],
     "prompt_number": 57
    },
    {
     "cell_type": "code",
     "collapsed": false,
     "input": [
      "def drawACard(Deck):\n",
      "    x = len(Deck)\n",
      "    return Deck.pop(random.choice(len(Deck)))"
     ],
     "language": "python",
     "metadata": {},
     "outputs": [],
     "prompt_number": 3
    },
    {
     "cell_type": "code",
     "collapsed": false,
     "input": [
      "def AddAce(card):\n",
      "    if card == 'A': return AddAce(array([1, 11])) # Both cards aces\n",
      "    else: \n",
      "        result = array([card + 1, card + 11]) \n",
      "        result = result.flatten()[result.flatten()<22] # Flatten and keep values < 22 only\n",
      "        if len(unique(result))==1: return int(result) # Array of length 1 to int\n",
      "        else: return unique(result)    # Remove repeting values"
     ],
     "language": "python",
     "metadata": {},
     "outputs": [],
     "prompt_number": 4
    },
    {
     "cell_type": "code",
     "collapsed": false,
     "input": [
      "# Adding a card to a total:\n",
      "def AddCards(cards, card):\n",
      "    if cards == 'A': return AddAce(card)\n",
      "    elif card == 'A': return AddAce(cards)\n",
      "    elif isinstance(cards + card, int): return cards + card\n",
      "    else: \n",
      "        result = cards + card \n",
      "        result = result.flatten()[result.flatten()<22]\n",
      "        if len(unique(result))==1: return int(result)\n",
      "        else: return unique(result)"
     ],
     "language": "python",
     "metadata": {},
     "outputs": [],
     "prompt_number": 5
    },
    {
     "cell_type": "code",
     "collapsed": false,
     "input": [
      "def Bust(cards):\n",
      "    if isinstance(cards, int):\n",
      "        if cards > 21: return True\n",
      "    elif not isinstance(cards, int): \n",
      "        if len(cards) == 0: return True\n",
      "    else: return False"
     ],
     "language": "python",
     "metadata": {},
     "outputs": [],
     "prompt_number": 6
    },
    {
     "cell_type": "code",
     "collapsed": false,
     "input": [
      "def dealerPlay(dealer, deck, hard = 17, soft = 17):\n",
      "    lst =[dealer]\n",
      "    card = drawACard(deck)\n",
      "    lst.append(card) \n",
      "    dealer = AddCards(dealer, card)\n",
      "    count = 2\n",
      "    if (not isinstance(dealer, int) and dealer[1] == 21): return 'BJ', count, lst\n",
      "    else: \n",
      "        while not Bust(dealer) and ((isinstance(dealer, int) and dealer < hard) \n",
      "                                or(not isinstance(dealer, int) and dealer[1] < soft)):\n",
      "            count = count + 1\n",
      "            card = drawACard(deck)\n",
      "            lst.append(card) \n",
      "            dealer = AddCards(dealer, card)\n",
      "        if isinstance(dealer, int): \n",
      "            if dealer > 21: return 'Bust', count, lst\n",
      "            else: return dealer, count, lst\n",
      "        else: \n",
      "            if len(dealer) == 2: return int(dealer[1]), count, lst\n",
      "            else: return 'Bust', count, lst"
     ],
     "language": "python",
     "metadata": {},
     "outputs": [],
     "prompt_number": 7
    },
    {
     "cell_type": "raw",
     "metadata": {},
     "source": [
      "Basic Player Strategy"
     ]
    },
    {
     "cell_type": "code",
     "collapsed": false,
     "input": [
      "def playerStrategy(dealer, card1, card2, deck):\n",
      "    player = [card1, card2]\n",
      "    total = AddCards(card1, card2)\n",
      "    count = 2\n",
      "    if (not isinstance(total, int) and total[1] == 21): return 'BJ', count, player\n",
      "    else:\n",
      "        while not Bust(total) and ((not isinstance(total, int) and ((dealer in [9, 10, 'A'] and total[1] < 19) or (dealer not in [9, 10, 'A'] and total[1] < 18))) or  \n",
      "            (isinstance(total, int) and ((total < 17 and dealer in [7, 8, 9, 10, 'A']) or  (total < 13 and dealer in [2, 3, 4, 5, 6]) and not (total == 12 and dealer in [4, 5, 6])))): \n",
      "                 count = count + 1\n",
      "                 card = drawACard(deck)\n",
      "                 player = player + [card]\n",
      "                 total = AddCards(total, card)\n",
      "        if isinstance(total, int): \n",
      "            if total > 21: return 'Bust', count, player\n",
      "            else: return total, count, player\n",
      "        else: \n",
      "            if len(total) == 2: return int(total[1]), count, player\n",
      "            else: return 'Bust', count, player"
     ],
     "language": "python",
     "metadata": {},
     "outputs": [],
     "prompt_number": 67
    },
    {
     "cell_type": "code",
     "collapsed": false,
     "input": [
      "def playerStrategy(dealer, card1, card2, deck):\n",
      "    player = [card1, card2]\n",
      "    total = AddCards(card1, card2)\n",
      "    count = 2\n",
      "    if (not isinstance(total, int) and total[1] == 21): return 'BJ', count, player\n",
      "    else:\n",
      "        while not Bust(total) and ((not isinstance(total, int) and ((dealer in [9, 10, 'A'] and total[1] < 19) or (dealer not in [9, 10, 'A'] and total[1] < 18))) or  \n",
      "            (isinstance(total, int) and ((total < 18 and dealer in [7, 8, 9, 10, 'A']) or  (total < 15 and dealer in [2, 3])))): #or , 4, 5, 6]) and not (total == 12 and dealer in [4, 5, 6])))): \n",
      "                 count = count + 1\n",
      "                 card = drawACard(deck)\n",
      "                 player = player + [card]\n",
      "                 total = AddCards(total, card)\n",
      "        if isinstance(total, int): \n",
      "            if total > 21: return 'Bust', count, player\n",
      "            else: return total, count, player\n",
      "        else: \n",
      "            if len(total) == 2: return int(total[1]), count, player\n",
      "            else: return 'Bust', count, player"
     ],
     "language": "python",
     "metadata": {},
     "outputs": [],
     "prompt_number": 29
    },
    {
     "cell_type": "code",
     "collapsed": false,
     "input": [
      "def playerStrategy(dealer, card1, card2, deck):\n",
      "    player = [card1, card2]\n",
      "    total = AddCards(card1, card2)\n",
      "    count = 2\n",
      "    if (not isinstance(total, int) and total[1] == 21): return 'BJ', count, player\n",
      "    else:\n",
      "        while not Bust(total) and ((not isinstance(total, int) and ((dealer in [9, 10, 'A'] and total[1] < 19) or (dealer not in [9, 10, 'A'] and total[1] < 18))) or  \n",
      "            (isinstance(total, int) and total < 17 and dealer not in [5, 6])): # or  (total < 15 and dealer in [2, 3]))): #or , 4, 5, 6]) and not (total == 12 and dealer in [4, 5, 6])))): \n",
      "                 count = count + 1\n",
      "                 card = drawACard(deck)\n",
      "                 player = player + [card]\n",
      "                 total = AddCards(total, card)\n",
      "        if isinstance(total, int): \n",
      "            if total > 21: return 'Bust', count, player\n",
      "            else: return total, count, player\n",
      "        else: \n",
      "            if len(total) == 2: return int(total[1]), count, player\n",
      "            else: return 'Bust', count, player"
     ],
     "language": "python",
     "metadata": {},
     "outputs": []
    },
    {
     "cell_type": "raw",
     "metadata": {},
     "source": [
      "New strategy:"
     ]
    },
    {
     "cell_type": "code",
     "collapsed": false,
     "input": [
      "def playerStrategy(dealer, card1, card2, deck):\n",
      "    player = [card1, card2]\n",
      "    total = AddCards(card1, card2)\n",
      "    count = 2\n",
      "    if (not isinstance(total, int) and total[1] == 21): return 'BJ', count, player\n",
      "    else:\n",
      "        while not Bust(total) and ((not isinstance(total, int) and ((dealer in [9, 10, 'A'] and total[1] < 19) or (dealer not in [9, 10, 'A'] and total[1] < 18))) or  \n",
      "            (isinstance(total, int) and total < 17)): # and dealer in [7, 8, 9, 10, 'A']) or  (total < 15 and dealer in [2, 3]))): #or , 4, 5, 6]) and not (total == 12 and dealer in [4, 5, 6])))): \n",
      "                 count = count + 1\n",
      "                 card = drawACard(deck)\n",
      "                 player = player + [card]\n",
      "                 total = AddCards(total, card)\n",
      "        if isinstance(total, int): \n",
      "            if total > 21: return 'Bust', count, player\n",
      "            else: return total, count, player\n",
      "        else: \n",
      "            if len(total) == 2: return int(total[1]), count, player\n",
      "            else: return 'Bust', count, player"
     ],
     "language": "python",
     "metadata": {},
     "outputs": [],
     "prompt_number": 32
    },
    {
     "cell_type": "raw",
     "metadata": {},
     "source": [
      "The function to determine if the player won/lost/pushed"
     ]
    },
    {
     "cell_type": "code",
     "collapsed": false,
     "input": [
      "def playerStrategy(dealer, card1, card2, deck):\n",
      "    player = [card1, card2]\n",
      "    total = AddCards(card1, card2)\n",
      "    count = 2\n",
      "    if (not isinstance(total, int) and total[1] == 21): return 'BJ', count, player\n",
      "    else:\n",
      "        while not Bust(total) and ((not isinstance(total, int) and ((dealer in [9, 10, 'A'] and total[1] < 19) or (dealer not in [9, 10, 'A'] and total[1] < 18))) or  \n",
      "            (isinstance(total, int) and total < 18)): # and dealer in [7, 8, 9, 10, 'A']) or  (total < 15 and dealer in [2, 3]))): #or , 4, 5, 6]) and not (total == 12 and dealer in [4, 5, 6])))): \n",
      "                 count = count + 1\n",
      "                 card = drawACard(deck)\n",
      "                 player = player + [card]\n",
      "                 total = AddCards(total, card)\n",
      "        if isinstance(total, int): \n",
      "            if total > 21: return 'Bust', count, player\n",
      "            else: return total, count, player\n",
      "        else: \n",
      "            if len(total) == 2: return int(total[1]), count, player\n",
      "            else: return 'Bust', count, player"
     ],
     "language": "python",
     "metadata": {},
     "outputs": [],
     "prompt_number": 61
    },
    {
     "cell_type": "code",
     "collapsed": false,
     "input": [
      "def playerWin(dealer, player, blackjack = 1.5):\n",
      "    if dealer == 'BJ':\n",
      "        if player == 'BJ': return 0, 'Push'\n",
      "        else: return -1, 'Loss'\n",
      "    if player == 'BJ':\n",
      "        if dealer == 'BJ': return 0, 'Push'\n",
      "        else: return blackjack, 'Win'\n",
      "    elif dealer == 'Bust'and player != 'Bust': return 1, 'Win'\n",
      "    elif player == 'Bust': return -1, 'Loss'\n",
      "    elif player > dealer: return 1, 'Win' \n",
      "    elif player < dealer: return -1, 'Loss'\n",
      "    else: return 0, 'Push'\n",
      "        "
     ],
     "language": "python",
     "metadata": {},
     "outputs": [],
     "prompt_number": 33
    },
    {
     "cell_type": "code",
     "collapsed": false,
     "input": [
      "# Initiate shuffle\n",
      "ShDck = deckShuffle(5,5,5,5) # Shuffle 5 decks"
     ],
     "language": "python",
     "metadata": {},
     "outputs": [],
     "prompt_number": 34
    },
    {
     "cell_type": "raw",
     "metadata": {},
     "source": [
      "A single hand played with all 7 players on the table. It can be played repeatedly and reshuffles automatically when deck size falls below 30. "
     ]
    },
    {
     "cell_type": "code",
     "collapsed": false,
     "input": [
      "card1 = [drawACard(ShDck) for i in range(7)]\n",
      "dealer = drawACard(ShDck)\n",
      "card2 = [drawACard(ShDck) for i in range(7)]\n",
      "Dealer = dealerPlay(dealer, ShDck)\n",
      "Player1 = playerStrategy(dealer, card1[0], card2[0], ShDck)\n",
      "Player2 = playerStrategy(dealer, card1[1], card2[1], ShDck)\n",
      "Player3 = playerStrategy(dealer, card1[2], card2[2], ShDck)\n",
      "Player4 = playerStrategy(dealer, card1[3], card2[3], ShDck)\n",
      "Player5 = playerStrategy(dealer, card1[4], card2[4], ShDck)\n",
      "Player6 = playerStrategy(dealer, card1[5], card2[5], ShDck)\n",
      "Player7 = playerStrategy(dealer, card1[6], card2[6], ShDck)\n",
      "print 'Cards remaining: ', len(ShDck)\n",
      "print '-------------------'\n",
      "print 'Dealer: ', Dealer\n",
      "print '-------------------'\n",
      "print 'Player 1: ', Player1\n",
      "print 'Player 2: ', Player2\n",
      "print 'Player 3: ', Player3\n",
      "print 'Player 4: ', Player4\n",
      "print 'Player 5: ', Player5\n",
      "print 'Player 6: ', Player6\n",
      "print 'Player 7: ', Player7\n",
      "if len(ShDck) < 30: ShDck = deckShuffle(5,5,5,5) # Shuffle"
     ],
     "language": "python",
     "metadata": {},
     "outputs": [
      {
       "output_type": "stream",
       "stream": "stdout",
       "text": [
        "Cards remaining:  194\n",
        "-------------------\n",
        "Dealer:  (21, 4, [2, 10, 3, 6])\n",
        "-------------------\n",
        "Player 1:  (19, 3, [2, 6, 'A'])\n",
        "Player 2:  (19, 4, [5, 3, 3, 8])\n",
        "Player 3:  ('Bust', 3, [6, 8, 8])\n",
        "Player 4:  ('Bust', 4, [8, 6, 2, 10])\n",
        "Player 5:  (21, 3, [5, 7, 9])\n",
        "Player 6:  (21, 3, [3, 'A', 7])\n",
        "Player 7:  (20, 2, ['A', 9])\n"
       ]
      }
     ],
     "prompt_number": 35
    },
    {
     "cell_type": "raw",
     "metadata": {},
     "source": [
      "Individual players busts and BJs:"
     ]
    },
    {
     "cell_type": "code",
     "collapsed": false,
     "input": [
      "DealBJ = 0; DealBust = 0; Play1BJ = 0; P1Bust = 0\n",
      "Play2BJ = 0; P2Bust = 0; Play3BJ = 0; P3Bust = 0\n",
      "Play4BJ = 0; P4Bust = 0; Play5BJ = 0; P5Bust = 0\n",
      "Play6BJ = 0; P6Bust = 0; Play7BJ = 0; P7Bust = 0\n",
      "p1=0; p2=0; p3=0; p4=0; p5=0; p6=0; p7=0\n",
      "\n",
      "for k in range(100000):\n",
      "   card1 = [drawACard(ShDck) for i in range(7)]\n",
      "   dealer = drawACard(ShDck)\n",
      "   card2 = [drawACard(ShDck) for i in range(7)]\n",
      "   Player1 = playerStrategy(dealer, card1[0], card2[0], ShDck)\n",
      "   if Player1[0] == 'BJ': Play1BJ = Play1BJ +1\n",
      "   if Player1[0] == 'Bust': P1Bust = P1Bust +1\n",
      "                 \n",
      "   Player2 = playerStrategy(dealer, card1[1], card2[1], ShDck)\n",
      "   if Player2[0] == 'BJ': Play2BJ = Play2BJ +1\n",
      "   if Player2[0] == 'Bust': P2Bust = P2Bust +1\n",
      "                            \n",
      "   Player3 = playerStrategy(dealer, card1[2], card2[2], ShDck)\n",
      "   if Player3[0] == 'BJ': Play3BJ = Play3BJ +1\n",
      "   if Player3[0] == 'Bust': P3Bust = P3Bust +1\n",
      "                                    \n",
      "   Player4 = playerStrategy(dealer, card1[3], card2[3], ShDck)\n",
      "   if Player4[0] == 'BJ': Play4BJ = Play4BJ +1\n",
      "   if Player4[0] == 'Bust': P4Bust = P4Bust +1\n",
      "                                            \n",
      "   Player5 = playerStrategy(dealer, card1[4], card2[4], ShDck)\n",
      "   if Player5[0] == 'BJ': Play5BJ = Play5BJ +1\n",
      "   if Player5[0] == 'Bust': P5Bust = P5Bust +1\n",
      "   \n",
      "                                            \n",
      "   Player6 = playerStrategy(dealer, card1[5], card2[5], ShDck)\n",
      "   if Player6[0] == 'BJ': Play6BJ = Play6BJ +1\n",
      "   if Player6[0] == 'Bust': P6Bust = P6Bust +1\n",
      "                                                            \n",
      "   Player7 = playerStrategy(dealer, card1[6], card2[6], ShDck)\n",
      "   if Player7[0] == 'BJ': Play7BJ = Play7BJ +1\n",
      "   if Player7[0] == 'Bust': P7Bust = P7Bust +1\n",
      "   \n",
      "   Dealer = dealerPlay(dealer, ShDck)   \n",
      "   if Dealer[0] == 'BJ': DealBJ = DealBJ +1 \n",
      "   if Dealer[0] == 'Bust': DealBust = DealBust +1 \n",
      "                                                                        \n",
      "                                                                        \n",
      "   p7 = p7 + playerWin(Dealer[0], Player7[0])[0]\n",
      "   p1 = p1 + playerWin(Dealer[0], Player1[0])[0]                                                                     \n",
      "   p2 = p2 + playerWin(Dealer[0], Player2[0])[0]\n",
      "   p3 = p3 + playerWin(Dealer[0], Player3[0])[0]\n",
      "   p4 = p4 + playerWin(Dealer[0], Player4[0])[0]\n",
      "   p5 = p5 + playerWin(Dealer[0], Player5[0])[0]                                                                     \n",
      "   p6 = p6 + playerWin(Dealer[0], Player6[0])[0]                                                                     \n",
      "   if len(ShDck) < 40: ShDck = deckShuffle(5,5,8,5) # Shuffle\n",
      "print 'Dealer BJ: ',  DealBJ\n",
      "print 'Dealer Busts: ', DealBust\n",
      "print '--------------------'\n",
      "print 'Player BJs in order: ', Play1BJ, Play2BJ, Play3BJ, Play4BJ, Play5BJ, Play6BJ, Play7BJ \n",
      "print 'Player Busts in order: ',P1Bust, P2Bust, P3Bust, P4Bust, P5Bust, P6Bust, P7Bust\n",
      "print 'Total loss by player: ', p1, p2, p3, p4, p5, p6, p7"
     ],
     "language": "python",
     "metadata": {},
     "outputs": [
      {
       "output_type": "stream",
       "stream": "stdout",
       "text": [
        "Dealer BJ:  5346\n",
        "Dealer Busts:  29230\n",
        "--------------------\n",
        "Player BJs in order:  5564 5371 5399 5362 5325 5280 5299\n",
        "Player Busts in order:  20556 20543 20584 20411 20625 20696 20579\n",
        "Total loss by player:  220.5 167.5 -207.5 224.0 -47.0 -222.5 42.5\n"
       ]
      }
     ],
     "prompt_number": 71
    },
    {
     "cell_type": "code",
     "collapsed": false,
     "input": [
      "-2290.0 -1777.0 -1647.0 -2147.5 -1981.5 -2411.5 -2041.0"
     ],
     "language": "python",
     "metadata": {},
     "outputs": [
      {
       "metadata": {},
       "output_type": "pyout",
       "prompt_number": 48,
       "text": [
        "-14295.5"
       ]
      }
     ],
     "prompt_number": 48
    },
    {
     "cell_type": "code",
     "collapsed": false,
     "input": [
      "-14295.5/7000."
     ],
     "language": "python",
     "metadata": {},
     "outputs": [
      {
       "metadata": {},
       "output_type": "pyout",
       "prompt_number": 51,
       "text": [
        "-2.0422142857142855"
       ]
      }
     ],
     "prompt_number": 51
    },
    {
     "cell_type": "code",
     "collapsed": false,
     "input": [
      "(220.5 + 167.5 -207.5 + 224.0 -47.0 -222.5 +42.5)/7."
     ],
     "language": "python",
     "metadata": {},
     "outputs": [
      {
       "metadata": {},
       "output_type": "pyout",
       "prompt_number": 72,
       "text": [
        "25.357142857142858"
       ]
      }
     ],
     "prompt_number": 72
    },
    {
     "cell_type": "code",
     "collapsed": false,
     "input": [],
     "language": "python",
     "metadata": {},
     "outputs": []
    },
    {
     "cell_type": "code",
     "collapsed": false,
     "input": [
      "# New strategy + normal deck\n",
      "print 'New strategy: ', (-623.0 -492.0 -478.5 -526.5 -430.0 -547.5 -614.5)/7.\n",
      "print 'Old strategy: ',(-280.5 -393.5 -313.0 -198.0 -355.0 -270.0 -295.0)/7."
     ],
     "language": "python",
     "metadata": {},
     "outputs": [
      {
       "output_type": "stream",
       "stream": "stdout",
       "text": [
        "New strategy:  -530.285714286\n",
        "Old strategy:  -300.714285714\n"
       ]
      }
     ],
     "prompt_number": 25
    },
    {
     "cell_type": "code",
     "collapsed": false,
     "input": [
      "# New strategy + reduced 10s deck\n",
      "print 'New strategy: ', (-246.0 -434.5 -429.5 -424.0 -350.0 -312.5 -472.5)/7.\n",
      "print 'Old strategy: ',(-704.0 -720.5 -736.0 -841.0 -844.5 -634.0 -804.0)/7.\n",
      "(-555.0 -633.0 -620.5 -600.5 -527.0 -658.0 -532.0)/7."
     ],
     "language": "python",
     "metadata": {},
     "outputs": [
      {
       "output_type": "stream",
       "stream": "stdout",
       "text": [
        "New strategy:  -381.285714286\n",
        "Old strategy:  -754.857142857\n"
       ]
      },
      {
       "metadata": {},
       "output_type": "pyout",
       "prompt_number": 30,
       "text": [
        "-589.4285714285714"
       ]
      }
     ],
     "prompt_number": 30
    }
   ],
   "metadata": {}
  }
 ]
}