{
 "metadata": {
  "name": ""
 },
 "nbformat": 3,
 "nbformat_minor": 0,
 "worksheets": [
  {
   "cells": [
    {
     "cell_type": "heading",
     "level": 2,
     "metadata": {},
     "source": [
      "Calculating Expected Utilities "
     ]
    },
    {
     "cell_type": "markdown",
     "metadata": {},
     "source": [
      "The cell that follows contains all the needed bacground functions such as shuffle, dealer's and player's strategies, and the function that determines the winner. These can all be run together."
     ]
    },
    {
     "cell_type": "code",
     "collapsed": false,
     "input": [
      "from basicFunctions import *\n",
      "from pandas import DataFrame \n",
      "from scipy.stats import describe\n",
      "from numpy.random import shuffle\n",
      "%matplotlib inline\n"
     ],
     "language": "python",
     "metadata": {},
     "outputs": [],
     "prompt_number": 1
    },
    {
     "cell_type": "heading",
     "level": 3,
     "metadata": {},
     "source": [
      "Monte Carlo simulation for calculating and comparing the expected utilities"
     ]
    },
    {
     "cell_type": "markdown",
     "metadata": {},
     "source": [
      "We wish to know if out hand totals to 5, and the dealer's first card is also a 5, what is out expected utility if we play the `strategy of never busting` (always stay on a hard 12) and otherwise copying the basic strategy for soft cards. We will later also add the `basic strategy` and `copy the dealer` approach and compare the three. "
     ]
    },
    {
     "cell_type": "markdown",
     "metadata": {},
     "source": [
      "We want to compare a series of scenarios like the following: "
     ]
    },
    {
     "cell_type": "code",
     "collapsed": false,
     "input": [
      "count = 0\n",
      "for i in range(10): \n",
      "    P = playerStrategy(5, 2, 3, deck)\n",
      "    D = dealerPlay(5, deck) \n",
      "    print 'Player: ', P\n",
      "    print 'Dealer: ', D\n",
      "    print \"Player's \", playerWin(D[0], P[0])[1]\n",
      "    count += playerWin(D[0], P[0])[0]\n",
      "    print ' '\n",
      "print 'In ten rounds, the player lost/won: $',count    "
     ],
     "language": "python",
     "metadata": {},
     "outputs": [
      {
       "output_type": "stream",
       "stream": "stdout",
       "text": [
        "Player:  (14, 3, ['A', 3, 10])\n",
        "Dealer:  (19, 3, [5, 3, 'A'])\n",
        "Player's  Loss\n",
        " \n",
        "Player:  (19, 3, ['A', 3, 5])\n",
        "Dealer:  (21, 3, [5, 9, 7])\n",
        "Player's  Loss\n",
        " \n",
        "Player:  (13, 3, ['A', 3, 9])\n",
        "Dealer:  (21, 3, [5, 6, 10])\n",
        "Player's  Loss\n",
        " \n",
        "Player:  (13, 3, ['A', 3, 9])\n",
        "Dealer:  ('Bust', 4, [5, 8, 'A', 10])\n",
        "Player's  Win\n",
        " \n",
        "Player:  (14, 3, ['A', 3, 10])\n",
        "Dealer:  ('Bust', 3, [5, 10, 10])\n",
        "Player's  Win\n",
        " \n",
        "Player:  (18, 3, ['A', 3, 4])\n",
        "Dealer:  ('Bust', 3, [5, 10, 7])\n",
        "Player's  Win\n",
        " \n",
        "Player:  (16, 4, ['A', 3, 2, 10])\n",
        "Dealer:  ('Bust', 4, [5, 'A', 10, 6])\n",
        "Player's  Win\n",
        " \n",
        "Player:  (14, 3, ['A', 3, 10])\n",
        "Dealer:  ('Bust', 3, [5, 10, 10])\n",
        "Player's  Win\n",
        " \n",
        "Player:  (14, 3, ['A', 3, 10])\n",
        "Dealer:  (17, 3, [5, 4, 8])\n",
        "Player's  Loss\n",
        " \n",
        "Player:  (20, 3, ['A', 3, 6])\n",
        "Dealer:  (18, 3, [5, 5, 8])\n",
        "Player's  Win\n",
        " \n",
        "In ten rounds, the player lost/won: $ 2\n"
       ]
      }
     ],
     "prompt_number": 42
    },
    {
     "cell_type": "markdown",
     "metadata": {},
     "source": [
      "In fact, we want to know the count for a much larger number of games for it to have any statistical significance. We pick 10000 rounds, but rather than printing all the games, keep track of count only:"
     ]
    },
    {
     "cell_type": "code",
     "collapsed": false,
     "input": [
      "deck = deckShuffle()\n",
      "count = 0\n",
      "for i in range(10000): \n",
      "    P = playerStrategy(5, 2, 3, deck)\n",
      "    D = dealerPlay(5, deck) \n",
      "    count += playerWin(D[0], P[0])[0]\n",
      "    if len(deck)<10: deck = deckShuffle() \n",
      "print 'In 10,000 rounds, the player lost/won: $',count "
     ],
     "language": "python",
     "metadata": {},
     "outputs": [
      {
       "output_type": "stream",
       "stream": "stdout",
       "text": [
        "In 10,000 rounds, the player lost/won: $ -251\n"
       ]
      }
     ],
     "prompt_number": 87
    },
    {
     "cell_type": "markdown",
     "metadata": {},
     "source": [
      "We could then figure out what percentage of 10,000 is the outcome and claim that as an estimate of expected utility, but since this number will tend to vary quite a bit even with 10,000 rounds, a more prudent approach is to pick a smaller number, say 1,000 rounds, and obtain a hundred results over 1,000 rounds and then average them out to get an estimate of expected utility. This, it turns out, gives us a pretty reliable estimate. "
     ]
    },
    {
     "cell_type": "markdown",
     "metadata": {},
     "source": [
      "Player plays 1000 rounds against the dealer. He does this 100 times. The results are averaged, and the expected return is found to be around -2.5%. By visually inspecting the list1, one sees that the player loses about 25 more times than he wins."
     ]
    },
    {
     "cell_type": "code",
     "collapsed": false,
     "input": [
      "deck = deckShuffle()\n",
      "list1=[]\n",
      "for j in range(100):\n",
      "  count = 0\n",
      "  for i in range(1000):\n",
      "      P = playerStrategy(5, 2, 3, deck)\n",
      "      D = dealerPlay(5, deck) \n",
      "      count += playerWin(D[0], P[0])[0] \n",
      "      if len(deck)<10: deck = deckShuffle()  \n",
      "  list1.append(count)\n",
      "print list1 "
     ],
     "language": "python",
     "metadata": {},
     "outputs": [
      {
       "output_type": "stream",
       "stream": "stdout",
       "text": [
        "[-39, -25, 30, -25, -34, -4, -17, -52, 58, -28, -4, 25, 17, -69, -23, -8, -20, -15, 11, -4, -26, -17, 0, -37, -115, 17, -54, -17, -39, -54, -84, -52, -9, -39, -17, -81, -1, -48, -64, -54, -7, -84, -25, -17, -48, 2, -31, -24, -35, -37, -19, -33, -17, -45, -31, -16, -54, -19, -36, 17, -45, -30, -14, -39, -57, -62, 2, -35, -36, -55, -31, -4, -22, -4, -5, -29, -29, -51, -34, -67, -10, 7, -51, -76, 21, -45, 17, -75, -40, -22, -8, 27, 0, -31, -51, -32, 51, -69, -28, -43]\n"
       ]
      }
     ],
     "prompt_number": 23
    },
    {
     "cell_type": "markdown",
     "metadata": {},
     "source": [
      "We average out the expected outcomes of 1000 hands played 100 times to get a good approximation of expected utility"
     ]
    },
    {
     "cell_type": "code",
     "collapsed": false,
     "input": [
      "l = 0\n",
      "for i in list1:\n",
      "  l = l + i/1000.\n",
      "print l/100."
     ],
     "language": "python",
     "metadata": {},
     "outputs": [
      {
       "output_type": "stream",
       "stream": "stdout",
       "text": [
        "-0.02681\n"
       ]
      }
     ],
     "prompt_number": 24
    },
    {
     "cell_type": "markdown",
     "metadata": {},
     "source": [
      "Plot the variance. See that the mean is somewhere around -25 but it varies from one set of 1000  hands to another."
     ]
    },
    {
     "cell_type": "code",
     "collapsed": false,
     "input": [
      "figsize(6,4)\n",
      "hist(list1, color='k', alpha = .15);"
     ],
     "language": "python",
     "metadata": {},
     "outputs": [
      {
       "metadata": {},
       "output_type": "display_data",
       "png": "[encoded data removed]",
       "text": [
        "<matplotlib.figure.Figure at 0x1084bf510>"
       ]
      }
     ],
     "prompt_number": 25
    },
    {
     "cell_type": "code",
     "collapsed": false,
     "input": [
      "print '-------'\n",
      "print '''Summary stats for Player 1 (never bust)'''\n",
      "print '-------'\n",
      "Size,  Range, Mean, variance, skewness, kurtosis = describe(list1)\n",
      "print 'Number of observations: ', Size\n",
      "print 'Mean: ',  Mean\n",
      "print 'Min to Max: ', Range\n",
      "print 'Variance: ', variance\n",
      "print 'Standard Dev.: ', sqrt(variance)\n",
      "print 'Skewness: ', skewness\n",
      "print 'Kurtosis: ', kurtosis\n",
      "print '-------'\n",
      "print '-------'"
     ],
     "language": "python",
     "metadata": {},
     "outputs": [
      {
       "output_type": "stream",
       "stream": "stdout",
       "text": [
        "-------\n",
        "Summary stats for Player 1 (never bust)\n",
        "-------\n",
        "Number of observations:  100\n",
        "Mean:  -26.81\n",
        "Min to Max:  (-115, 58)\n",
        "Variance:  864.155454545\n",
        "Standard Dev.:  29.39652113\n",
        "Skewness:  0.116944088831\n",
        "Kurtosis:  0.599569966962\n",
        "-------\n",
        "-------\n"
       ]
      }
     ],
     "prompt_number": 26
    },
    {
     "cell_type": "markdown",
     "metadata": {},
     "source": [
      "We can ask more ambitious questions. Given two or more other player strategies, which one has the highest expected return given some peculiar features of a biased deck? A small extension of our method does just that."
     ]
    },
    {
     "cell_type": "code",
     "collapsed": false,
     "input": [
      "deck = deckShuffle()\n",
      "list1=[]\n",
      "list2=[]\n",
      "list3=[]\n",
      "\n",
      "player1 = 2\n",
      "dealer = 5\n",
      "player2 = 3\n",
      "\n",
      "for j in range(100):\n",
      "  count = 0\n",
      "  count1 = 0\n",
      "  count2 = 0  \n",
      "  for i in range(1000):\n",
      "      P = playerStrategy(dealer, player1, player2, deck)\n",
      "      P2 = copyDealer(player1, player2, deck) # Player 2 plays copy the dealer strategy \n",
      "      P3 = basicStrategy(dealer, player1, player2, deck)  # Player 3 plays basic strategy  \n",
      "      D = dealerPlay(dealer, deck) \n",
      "      count += playerWin(D[0], P[0])[0]\n",
      "      count1 += playerWin(D[0], P2[0])[0] \n",
      "      count2 += playerWin(D[0], P3[0])[0]\n",
      "      if len(deck)<10: deck = deckShuffle()  \n",
      "  list1.append(count)\n",
      "  list2.append(count1)\n",
      "  list3.append(count2) \n",
      "        \n",
      "\n",
      "ls = zip(list1, list2, list3)\n",
      "l = 0\n",
      "l2 = 0\n",
      "l3 = 0\n",
      "for i, j, k in ls:\n",
      "  l = l + i/1000.\n",
      "  l2 = l2 + j/1000.\n",
      "  l3 = l3 + k/1000.  \n",
      "print 'Expected return for P playing never bust: ', l/100.\n",
      "print 'Expected return for P2 copying the dealer: ', l2/100.\n",
      "print 'Expected return for P3 playing basic strategy: ', l3/100.        "
     ],
     "language": "python",
     "metadata": {},
     "outputs": [
      {
       "output_type": "stream",
       "stream": "stdout",
       "text": [
        "Expected return for P playing never bust:  -0.02092\n",
        "Expected return for P2 copying the dealer:  -0.17524\n",
        "Expected return for P3 playing basic strategy:  -0.01951\n"
       ]
      }
     ],
     "prompt_number": 28
    },
    {
     "cell_type": "markdown",
     "metadata": {},
     "source": [
      "We can plot the three strategies and see that `basic` (blue) and `never bust` (gray) are more or less the same on this problem, and average close to -0.025, but the third strategy, `copy dealer`, does much worse at around -0.17."
     ]
    },
    {
     "cell_type": "code",
     "collapsed": false,
     "input": [
      "figsize(14, 5)\n",
      "hist(list1, color = 'k', alpha = .1)\n",
      "hist(list2, color = 'r', alpha = .1)\n",
      "hist(list3, color = 'b', alpha = .1);"
     ],
     "language": "python",
     "metadata": {},
     "outputs": [
      {
       "metadata": {},
       "output_type": "display_data",
       "png": "[encoded data removed]",
       "text": [
        "<matplotlib.figure.Figure at 0x10866a410>"
       ]
      }
     ],
     "prompt_number": 29
    },
    {
     "cell_type": "heading",
     "level": 3,
     "metadata": {},
     "source": [
      "A basic engine for calculating the expected utilities, variances, and some other data for comparing strategies"
     ]
    },
    {
     "cell_type": "markdown",
     "metadata": {},
     "source": [
      "You set your hand, choose stragegies you wish to compare, "
     ]
    },
    {
     "cell_type": "code",
     "collapsed": false,
     "input": [
      "StrategyOne(10, 10, 2, [])"
     ],
     "language": "python",
     "metadata": {},
     "outputs": [
      {
       "metadata": {},
       "output_type": "pyout",
       "prompt_number": 9,
       "text": [
        "(12, 2, [10, 2])"
       ]
      }
     ],
     "prompt_number": 9
    },
    {
     "cell_type": "code",
     "collapsed": false,
     "input": [
      "from basicFunctions import neverBust as StrategyOne\n",
      "from basicFunctions import copyDealer as StrategyTwo\n",
      "from basicFunctions import basicStrategy as StrategyThree\n",
      "#from somePlace import xxx as StrategyFour\n",
      "#from somePlace import xxx as StrategyFive\n",
      "#from somePlace import xxx as StrategySix\n",
      "\n",
      "\n",
      "\n",
      "'''\n",
      "Part 1: Enter the player's hard total n and dealer's card m for which you want \n",
      "to see the expected utility:\n",
      "'''\n",
      "\n",
      "player1 = 10\n",
      "player2 =6\n",
      "dealer = 2\n",
      "\n",
      "'''\n",
      "Part 2: Simulate 100 times 1000 rounds of play. Three players representing three strategies:\n",
      "P: never bust\n",
      "P2: play like the dealer (stay on soft and hard 17)\n",
      "P3: basic strategy\n",
      "Return results as three lists of final outcomes. Each list has 100 elements, each of which is\n",
      "a number between -1000 and 1000 (perhaps a bit more if 'BJ' is possible)\n",
      "if you bet a dollar in each round, than this number would simply represent the extra dollars\n",
      "in your pocket after 1000 rounds (with negative numbers representing dollars lost).\n",
      "so -236 means that you lost 236 dollars over 1000 rounds, so your realized utility is -23.6% \n",
      "or -0.236. In Part 3, these numbers are averaged out to obtain an estimate of expected utility.\n",
      "100 such numbers are added for each strategy and the total divided by 100. \n",
      "Expected utility should strictly speaking be represented in $ but here we can represent it as\n",
      "a percentage of the bet size since it scales linearly.\n",
      "'''\n",
      "\n",
      "\n",
      "deck = deckShuffle()\n",
      "list1=[]\n",
      "list2=[]\n",
      "list3=[]\n",
      "#list2=[]\n",
      "#list3=[]\n",
      "#list2=[]\n",
      "#list3=[]\n",
      "for j in range(100):\n",
      "  count1 = 0\n",
      "  count2 = 0\n",
      "  count3 = 0\n",
      "  #count4 = 0\n",
      "  #count5 = 0\n",
      "  #count6 = 0    \n",
      "  for i in range(1000):\n",
      "      P1 = StrategyOne(dealer, player1, player2, deck)\n",
      "      P2 = StrategyTwo(dealer, player1, player2, deck) \n",
      "      P3 = StrategyThree(dealer, player1, player2, deck)   \n",
      "      #P4 = StrategyFour(dealer, player1, player2, deck)\n",
      "      #P5 = StrategyFive(dealer, player1, player2, deck) \n",
      "      #P6 = StrategySix(dealer, player1, player2, deck)      \n",
      "      D = dealerPlay(dealer, deck) \n",
      "      count1 += playerWin(D[0], P1[0])[0]\n",
      "      count2 += playerWin(D[0], P2[0])[0] \n",
      "      count3 += playerWin(D[0], P3[0])[0]\n",
      "      #count4 += playerWin(D[0], P4[0])[0]\n",
      "      #count5 += playerWin(D[0], P5[0])[0] \n",
      "      #count6 += playerWin(D[0], P6[0])[0]  \n",
      "      if len(deck)<10: deck = deckShuffle()  \n",
      "  list1.append(count1)\n",
      "  list2.append(count2)\n",
      "  list3.append(count3) \n",
      "  #list4.append(count4)\n",
      "  #list5.append(count5)\n",
      "  #list6.append(count6)          \n",
      "print 'Strategy 1 outcomes:'\n",
      "print list1\n",
      "print '-----'\n",
      "print ' '\n",
      "print ' '\n",
      "print 'Strategy 2 outcomes:'\n",
      "print list2\n",
      "print '-----'\n",
      "print ' '\n",
      "print ' '\n",
      "print 'Strategy 3 outcomes:'\n",
      "print list3\n",
      "print '-----'\n",
      "'''\n",
      "print 'Strategy 4 outcomes:'\n",
      "print list4\n",
      "print '-----'\n",
      "print ' '\n",
      "print ' '\n",
      "print 'Strategy 5 outcomes:'\n",
      "print list5\n",
      "print '-----'\n",
      "print ' '\n",
      "print ' '\n",
      "print 'Strategy 6 outcomes:'\n",
      "print list6\n",
      "print '-----'\n",
      "'''\n",
      "print '-----'\n",
      "print ' '\n",
      "print ' '\n",
      "print ' '\n",
      "print ' '\n",
      "\n",
      "\n",
      "'''\n",
      "Parts 3 and 4 of the engine need to be adapted for more or fewer than 3 strategies\n",
      "'''\n",
      "\n",
      "'''\n",
      "Part 3\n",
      "Calculate the expected utility\n",
      "'''\n",
      "\n",
      "ls = zip(list1, list2, list3)\n",
      "l1 = 0\n",
      "l2 = 0\n",
      "l3 = 0\n",
      "for i, j, k in ls:\n",
      "  l1 = l1 + i/1000.\n",
      "  l2 = l2 + j/1000.\n",
      "  l3 = l3 + k/1000.  \n",
      "print 'Expected return for P1 playing never bust: ', l1/100.\n",
      "print 'Expected return for P2 copying the dealer: ', l2/100.\n",
      "print 'Expected return for P3 playing basic strategy: ', l3/100.\n",
      "print ' '\n",
      "print ' '\n",
      "print ' '\n",
      "print ' '\n",
      "\n",
      "\n",
      "\n",
      "'''\n",
      "Part 4: Plot the variance of returns: to see that a distribution of your \n",
      "outcomes over 100 attempts of playing 1000 hands. The plot captures the frequency of \n",
      "various realized outcomes over 100 runs on y-axis, and their magnitudes on x-axis. If at\n",
      "x of -100 the y is around 20, then about 20 times out of 100 you lost $100. \n",
      "'''\n",
      "figsize(14, 5)\n",
      "figure(1)\n",
      "title(\"Strategy 1 in Gray, Strategy 2 in Pink, Strategy 3 in Blue\")\n",
      "xlabel(\"Magnitude of a return (could in principle range from -1000 to 1000)\")\n",
      "ylabel(\"Frequency of a return (out of 100)\")\n",
      "hist(list1, color = 'k', alpha = .1)\n",
      "hist(list2, color = 'r', alpha = .1)\n",
      "hist(list3, color = 'b', alpha = .1);\n",
      "\n",
      "\n",
      "\n",
      "'''\n",
      "Part 5\n",
      "'''\n",
      "\n",
      "print '-------'\n",
      "print '''Summary stats for Strategy 1'''\n",
      "print '-------'\n",
      "Size,  Range, Mean, variance, skewness, kurtosis = describe(list1)\n",
      "print 'Number of observations: ', Size\n",
      "print 'Mean: ',  Mean\n",
      "print 'Min to Max: ', Range\n",
      "print 'Variance: ', variance\n",
      "print 'Standard Dev.: ', sqrt(variance)\n",
      "print 'Skewness: ', skewness\n",
      "print 'Kurtosis: ', kurtosis\n",
      "print '-------'\n",
      "print '-------'\n",
      "\n",
      "print ' '\n",
      "print ' '\n",
      "print ' '\n",
      "\n",
      "Size,  Range, Mean, variance, skewness, kurtosis = describe(list2)\n",
      "print 'Summary stats for Strategy 2'\n",
      "print '-------'\n",
      "print 'Number of observations: ', Size\n",
      "print 'Mean: ',  Mean\n",
      "print 'Min to Max: ', Range\n",
      "print 'Variance: ', variance\n",
      "print 'Standard Dev.: ', sqrt(variance)\n",
      "print 'Skewness: ', skewness\n",
      "print 'Kurtosis: ', kurtosis\n",
      "print '-------'\n",
      "print '-------'\n",
      "print ' '\n",
      "print ' '\n",
      "print ' '\n",
      "\n",
      "Size,  Range, Mean, variance, skewness, kurtosis = describe(list3)\n",
      "print 'Summary stats for Strategy 3 '\n",
      "print '-------'\n",
      "print 'Number of observations: ', Size\n",
      "print 'Mean: ',  Mean\n",
      "print 'Min to Max: ', Range\n",
      "print 'Variance: ', variance\n",
      "print 'Standard Dev.: ', sqrt(variance)\n",
      "print 'Skewness: ', skewness\n",
      "print 'Kurtosis: ', kurtosis\n",
      "print 'Summary stats for Player 2'\n",
      "print '-------'\n",
      "print ' '\n",
      "print ' '\n",
      "print ' '"
     ],
     "language": "python",
     "metadata": {},
     "outputs": [
      {
       "output_type": "stream",
       "stream": "stdout",
       "text": [
        "Strategy 1 outcomes:\n",
        "[-256, -294, -236, -300, -344, -320, -316, -288, -270, -266, -324, -278, -300, -306, -300, -204, -312, -244, -326, -288, -326, -274, -268, -324, -266, -302, -312, -312, -252, -282, -312, -282, -304, -292, -284, -310, -304, -338, -284, -332, -292, -256, -308, -268, -320, -264, -366, -294, -344, -338, -348, -272, -276, -324, -254, -330, -240, -318, -304, -280, -268, -340, -284, -232, -336, -340, -262, -238, -312, -292, -252, -320, -274, -306, -318, -300, -312, -314, -288, -288, -300, -304, -290, -332, -328, -296, -350, -304, -310, -354, -278, -308, -272, -284, -368, -294, -314, -332, -310, -294]\n",
        "-----\n",
        " \n",
        " \n",
        "Strategy 2 outcomes:\n",
        "[-489, -467, -488, -462, -487, -477, -494, -497, -462, -449, -469, -497, -491, -485, -526, -462, -472, -433, -515, -429, -466, -469, -411, -482, -442, -443, -435, -510, -453, -516, -462, -467, -484, -508, -477, -467, -500, -487, -451, -470, -450, -491, -488, -462, -512, -469, -454, -465, -503, -471, -458, -451, -502, -469, -398, -464, -469, -480, -491, -503, -464, -519, -492, -451, -474, -485, -509, -462, -499, -490, -472, -446, -468, -471, -450, -480, -501, -492, -472, -454, -425, -462, -485, -428, -461, -436, -484, -440, -486, -428, -444, -491, -465, -478, -494, -468, -491, -493, -489, -457]\n",
        "-----\n",
        " \n",
        " \n",
        "Strategy 3 outcomes:\n",
        "[-256, -294, -236, -300, -344, -320, -316, -288, -270, -266, -324, -278, -300, -306, -300, -204, -312, -244, -326, -288, -326, -274, -268, -324, -266, -302, -312, -312, -252, -282, -312, -282, -304, -292, -284, -310, -304, -338, -284, -332, -292, -256, -308, -268, -320, -264, -366, -294, -344, -338, -348, -272, -276, -324, -254, -330, -240, -318, -304, -280, -268, -340, -284, -232, -336, -340, -262, -238, -312, -292, -252, -320, -274, -306, -318, -300, -312, -314, -288, -288, -300, -304, -290, -332, -328, -296, -350, -304, -310, -354, -278, -308, -272, -284, -368, -294, -314, -332, -310, -294]\n",
        "-----\n",
        "-----\n",
        " \n",
        " \n",
        " \n",
        " \n",
        "Expected return for P1 playing never bust:  -0.29826\n",
        "Expected return for P2 copying the dealer:  -0.47257\n",
        "Expected return for P3 playing basic strategy:  -0.29826\n",
        " \n",
        " \n",
        " \n",
        " \n",
        "-------"
       ]
      },
      {
       "output_type": "stream",
       "stream": "stdout",
       "text": [
        "\n",
        "Summary stats for Strategy 1\n",
        "-------\n",
        "Number of observations:  100\n",
        "Mean:  -298.26\n",
        "Min to Max:  (-368, -204)\n",
        "Variance:  960.941818182\n",
        "Standard Dev.:  30.9990615694\n",
        "Skewness:  0.277763384169\n",
        "Kurtosis:  0.0528654536754\n",
        "-------\n",
        "-------\n",
        " \n",
        " \n",
        " \n",
        "Summary stats for Strategy 2\n",
        "-------\n",
        "Number of observations:  100\n",
        "Mean:  -472.57\n",
        "Min to Max:  (-526, -398)\n",
        "Variance:  598.267777778\n",
        "Standard Dev.:  24.4595130323\n",
        "Skewness:  0.354890036207\n",
        "Kurtosis:  0.0903788723356\n",
        "-------\n",
        "-------\n",
        " \n",
        " \n",
        " \n",
        "Summary stats for Strategy 3 \n",
        "-------\n",
        "Number of observations:  100\n",
        "Mean:  -298.26\n",
        "Min to Max:  (-368, -204)\n",
        "Variance:  960.941818182\n",
        "Standard Dev.:  30.9990615694\n",
        "Skewness:  0.277763384169\n",
        "Kurtosis:  0.0528654536754\n",
        "Summary stats for Player 2\n",
        "-------\n",
        " \n",
        " \n",
        " \n"
       ]
      },
      {
       "metadata": {},
       "output_type": "display_data",
       "png": "[encoded data removed]",
       "text": [
        "<matplotlib.figure.Figure at 0x108699f90>"
       ]
      }
     ],
     "prompt_number": 19
    },
    {
     "cell_type": "code",
     "collapsed": false,
     "input": [
      "\"\"\"\n",
      "print '-------'\n",
      "print 'Summary stats for Strategy 4'\n",
      "print '-------'\n",
      "Size,  Range, Mean, variance, skewness, kurtosis = describe(list4)\n",
      "print 'Number of observations: ', Size\n",
      "print 'Mean: ',  Mean\n",
      "print 'Min to Max: ', Range\n",
      "print 'Variance: ', variance\n",
      "print 'Standard Dev.: ', sqrt(variance)\n",
      "print 'Skewness: ', skewness\n",
      "print 'Kurtosis: ', kurtosis\n",
      "print '-------'\n",
      "print '-------'\n",
      "\n",
      "print ' '\n",
      "print ' '\n",
      "print ' '\n",
      "\n",
      "Size,  Range, Mean, variance, skewness, kurtosis = describe(list5)\n",
      "print 'Summary stats for Strategy 5'\n",
      "print '-------'\n",
      "print 'Number of observations: ', Size\n",
      "print 'Mean: ',  Mean\n",
      "print 'Min to Max: ', Range\n",
      "print 'Variance: ', variance\n",
      "print 'Standard Dev.: ', sqrt(variance)\n",
      "print 'Skewness: ', skewness\n",
      "print 'Kurtosis: ', kurtosis\n",
      "print '-------'\n",
      "print '-------'\n",
      "print ' '\n",
      "print ' '\n",
      "print ' '\n",
      "\n",
      "Size,  Range, Mean, variance, skewness, kurtosis = describe(list6)\n",
      "print 'Summary stats for Strategy 6 '\n",
      "print '-------'\n",
      "print 'Number of observations: ', Size\n",
      "print 'Mean: ',  Mean\n",
      "print 'Min to Max: ', Range\n",
      "print 'Variance: ', variance\n",
      "print 'Standard Dev.: ', sqrt(variance)\n",
      "print 'Skewness: ', skewness\n",
      "print 'Kurtosis: ', kurtosis\n",
      "print 'Summary stats for Player 2'\n",
      "print '-------'\n",
      "print ' '\n",
      "print ' '\n",
      "print ' '\n",
      "\"\"\""
     ],
     "language": "python",
     "metadata": {},
     "outputs": [
      {
       "metadata": {},
       "output_type": "pyout",
       "prompt_number": 18,
       "text": [
        "\"\\nprint '-------'\\nprint 'Summary stats for Strategy 4'\\nprint '-------'\\nSize,  Range, Mean, variance, skewness, kurtosis = describe(list4)\\nprint 'Number of observations: ', Size\\nprint 'Mean: ',  Mean\\nprint 'Min to Max: ', Range\\nprint 'Variance: ', variance\\nprint 'Standard Dev.: ', sqrt(variance)\\nprint 'Skewness: ', skewness\\nprint 'Kurtosis: ', kurtosis\\nprint '-------'\\nprint '-------'\\n\\nprint ' '\\nprint ' '\\nprint ' '\\n\\nSize,  Range, Mean, variance, skewness, kurtosis = describe(list5)\\nprint 'Summary stats for Strategy 5'\\nprint '-------'\\nprint 'Number of observations: ', Size\\nprint 'Mean: ',  Mean\\nprint 'Min to Max: ', Range\\nprint 'Variance: ', variance\\nprint 'Standard Dev.: ', sqrt(variance)\\nprint 'Skewness: ', skewness\\nprint 'Kurtosis: ', kurtosis\\nprint '-------'\\nprint '-------'\\nprint ' '\\nprint ' '\\nprint ' '\\n\\nSize,  Range, Mean, variance, skewness, kurtosis = describe(list6)\\nprint 'Summary stats for Strategy 6 '\\nprint '-------'\\nprint 'Number of observations: ', Size\\nprint 'Mean: ',  Mean\\nprint 'Min to Max: ', Range\\nprint 'Variance: ', variance\\nprint 'Standard Dev.: ', sqrt(variance)\\nprint 'Skewness: ', skewness\\nprint 'Kurtosis: ', kurtosis\\nprint 'Summary stats for Player 2'\\nprint '-------'\\nprint ' '\\nprint ' '\\nprint ' '\\n\""
       ]
      }
     ],
     "prompt_number": 18
    },
    {
     "cell_type": "code",
     "collapsed": false,
     "input": [
      "d = 2\n",
      "p1 = 10\n",
      "p2 = 2\n",
      "\n",
      "deck = deckShuffle(1)\n",
      "count = 0\n",
      "for i in xrange(10):\n",
      "    P = basicStrategy(d, p1, p2, deck)\n",
      "    D = dealerPlay(d, deck)\n",
      "    print 'Player: ', P\n",
      "    print 'Dealer: ', D\n",
      "    print \"Player's \", playerWin(D[0], P[0])[1]\n",
      "    count += playerWin(D[0], P[0])[0]\n",
      "    print ' '\n",
      "print 'In ten rounds, the player lost/won: $',count"
     ],
     "language": "python",
     "metadata": {},
     "outputs": [
      {
       "output_type": "stream",
       "stream": "stdout",
       "text": [
        "Player:  (18, 3, [10, 2, 6])\n",
        "Dealer:  ('Bust', 3, [2, 10, 10])\n",
        "Player's  Win\n",
        " \n",
        "Player:  (19, 3, [10, 2, 7])\n",
        "Dealer:  ('Bust', 5, [2, 5, 4, 4, 10])\n",
        "Player's  Win\n",
        " \n",
        "Player:  ('Bust', 3, [10, 2, 10])\n",
        "Dealer:  ('Bust', 4, [2, 10, 2, 10])\n",
        "Player's  Loss\n",
        " \n",
        "Player:  ('Bust', 3, [10, 2, 10])\n",
        "Dealer:  (20, 4, [2, 9, 3, 6])\n",
        "Player's  Loss\n",
        " \n",
        "Player:  (13, 3, [10, 2, 'A'])\n",
        "Dealer:  (21, 3, [2, 9, 10])\n",
        "Player's  Loss\n",
        " \n",
        "Player:  (15, 3, [10, 2, 3])\n",
        "Dealer:  (19, 3, [2, 8, 9])\n",
        "Player's  Loss\n",
        " \n",
        "Player:  ('Bust', 3, [10, 2, 10])\n",
        "Dealer:  (20, 3, [2, 8, 10])\n",
        "Player's  Loss\n",
        " \n",
        "Player:  (19, 3, [10, 2, 7])\n",
        "Dealer:  ('Bust', 5, [2, 5, 8, 'A', 10])\n",
        "Player's  Win\n",
        " \n",
        "Player:  ('Bust', 3, [10, 2, 10])\n",
        "Dealer:  ('Bust', 4, [2, 9, 3, 10])\n",
        "Player's  Loss\n",
        " \n",
        "Player:  (13, 3, [10, 2, 'A'])\n",
        "Dealer:  (21, 5, [2, 6, 6, 2, 5])\n",
        "Player's  Loss\n",
        " \n",
        "In ten rounds, the player lost/won: $ -4\n"
       ]
      }
     ],
     "prompt_number": 11
    },
    {
     "cell_type": "code",
     "collapsed": false,
     "input": [
      "d = 6\n",
      "p1 = 10\n",
      "p2 = 7\n",
      "\n",
      "deck = deckShuffle()\n",
      "list1=[]\n",
      "for j in range(1000):\n",
      "  count = 0\n",
      "  for i in range(1000):\n",
      "      P = basicStrategy(d, p1, p2, deck)\n",
      "      D = dealerPlay(d, deck) \n",
      "      count += playerWin(D[0], P[0])[0] \n",
      "      if len(deck)<10: deck = deckShuffle()  \n",
      "  list1.append(count)\n",
      "# print list1 \n",
      "print ''\n",
      "print''\n",
      "l = 0\n",
      "for i in list1:\n",
      "  l = l + i/1000.\n",
      "print l/1000.\n",
      "print''\n",
      "print''\n",
      "\n",
      "figsize(6,4)\n",
      "hist(list1, color='k', alpha = .15);"
     ],
     "language": "python",
     "metadata": {},
     "outputs": [
      {
       "output_type": "stream",
       "stream": "stdout",
       "text": [
        "\n",
        "\n",
        "0.011262\n",
        "\n",
        "\n"
       ]
      },
      {
       "metadata": {},
       "output_type": "display_data",
       "png": "[encoded data removed]",
       "text": [
        "<matplotlib.figure.Figure at 0x108652890>"
       ]
      }
     ],
     "prompt_number": 283
    },
    {
     "cell_type": "code",
     "collapsed": false,
     "input": [
      "print '-------'\n",
      "print '''Summary stats for Player 1 (never bust)'''\n",
      "print '-------'\n",
      "Size,  Range, Mean, variance, skewness, kurtosis = describe(list1)\n",
      "print 'Number of observations: ', Size\n",
      "print 'Mean: ',  Mean\n",
      "print 'Min to Max: ', Range\n",
      "print 'Variance: ', variance\n",
      "print 'Standard Dev.: ', sqrt(variance)\n",
      "print 'Skewness: ', skewness\n",
      "print 'Kurtosis: ', kurtosis\n",
      "print '-------'\n",
      "print '-------'"
     ],
     "language": "python",
     "metadata": {},
     "outputs": [
      {
       "output_type": "stream",
       "stream": "stdout",
       "text": [
        "-------\n",
        "Summary stats for Player 1 (never bust)\n",
        "-------\n",
        "Number of observations:  1000\n",
        "Mean:  10.94\n",
        "Min to Max:  (-62, 85)\n",
        "Variance:  558.590990991\n",
        "Standard Dev.:  23.6345296334\n",
        "Skewness:  0.06909935182\n",
        "Kurtosis:  -0.0689879662506\n",
        "-------\n",
        "-------\n"
       ]
      }
     ],
     "prompt_number": 265
    },
    {
     "cell_type": "code",
     "collapsed": false,
     "input": [
      "d = 6\n",
      "p1 = 10\n",
      "p2 = 8\n",
      "\n",
      "deck = deckShuffle(6)\n",
      "#deck.remove(d)\n",
      "#deck.remove(p1)\n",
      "#deck.remove(p2)\n",
      "count = 0\n",
      "for i in xrange(10000):\n",
      "\n",
      "    P = basicStrategy(d, p1, p2, deck)\n",
      "    D = dealerPlay(d, deck) \n",
      "    count += playerWin(D[0], P[0])[0]\n",
      "    if len(deck)<10: \n",
      "        deck = deckShuffle(6)\n",
      "        #deck.remove(d)\n",
      "        #deck.remove(p1)\n",
      "        #deck.remove(p2)\n",
      " \n",
      "print count/10000."
     ],
     "language": "python",
     "metadata": {},
     "outputs": [
      {
       "output_type": "stream",
       "stream": "stdout",
       "text": [
        "2.839\n"
       ]
      }
     ],
     "prompt_number": 318
    },
    {
     "cell_type": "code",
     "collapsed": false,
     "input": [
      "count"
     ],
     "language": "python",
     "metadata": {},
     "outputs": [
      {
       "metadata": {},
       "output_type": "pyout",
       "prompt_number": 319,
       "text": [
        "28390"
       ]
      }
     ],
     "prompt_number": 319
    },
    {
     "cell_type": "code",
     "collapsed": false,
     "input": [
      "while not Bust(total) and ((not isinstance(total, int) and ((dealer in [9, 10, 'A'] and total[1] < 19) or (dealer not in [9, 10, 'A'] and total[1] < 18))) or  \n",
      "            (isinstance(total, int) and ((total < 17 and dealer in [7, 8, 9, 10, 'A']) or  (total < 13 and dealer in [2, 3, 4, 5, 6]) and not (total == 12 and dealer in [4, 5, 6])))): \n",
      "        count = count + 1\n",
      "        if len(deck) == 0:"
     ],
     "language": "python",
     "metadata": {},
     "outputs": []
    },
    {
     "cell_type": "code",
     "collapsed": false,
     "input": [
      "dealer = 3\n",
      "total = 12\n",
      "not Bust(total)"
     ],
     "language": "python",
     "metadata": {},
     "outputs": [
      {
       "metadata": {},
       "output_type": "pyout",
       "prompt_number": 344,
       "text": [
        "True"
       ]
      }
     ],
     "prompt_number": 344
    },
    {
     "cell_type": "code",
     "collapsed": false,
     "input": [
      "not isinstance(total, int)"
     ],
     "language": "python",
     "metadata": {},
     "outputs": [
      {
       "metadata": {},
       "output_type": "pyout",
       "prompt_number": 345,
       "text": [
        "False"
       ]
      }
     ],
     "prompt_number": 345
    },
    {
     "cell_type": "code",
     "collapsed": false,
     "input": [
      "dealer in [9, 10, 'A'] "
     ],
     "language": "python",
     "metadata": {},
     "outputs": [
      {
       "metadata": {},
       "output_type": "pyout",
       "prompt_number": 346,
       "text": [
        "False"
       ]
      }
     ],
     "prompt_number": 346
    },
    {
     "cell_type": "code",
     "collapsed": false,
     "input": [
      "dealer not in [9, 10, 'A']"
     ],
     "language": "python",
     "metadata": {},
     "outputs": [
      {
       "metadata": {},
       "output_type": "pyout",
       "prompt_number": 347,
       "text": [
        "True"
       ]
      }
     ],
     "prompt_number": 347
    },
    {
     "cell_type": "code",
     "collapsed": false,
     "input": [
      "#total = array([2, 12])\n",
      "(not isinstance(total, int)) and dealer in [9, 10, 'A'] and total[1] < 19"
     ],
     "language": "python",
     "metadata": {},
     "outputs": [
      {
       "metadata": {},
       "output_type": "pyout",
       "prompt_number": 351,
       "text": [
        "False"
       ]
      }
     ],
     "prompt_number": 351
    },
    {
     "cell_type": "code",
     "collapsed": false,
     "input": [
      "dealer not in [9, 10, 'A'] and total[1] < 18"
     ],
     "language": "python",
     "metadata": {},
     "outputs": [
      {
       "metadata": {},
       "output_type": "pyout",
       "prompt_number": 338,
       "text": [
        "False"
       ]
      }
     ],
     "prompt_number": 338
    },
    {
     "cell_type": "code",
     "collapsed": false,
     "input": [
      "isinstance(total, int) and total < 17 and dealer in [7, 8, 9, 10, 'A']"
     ],
     "language": "python",
     "metadata": {},
     "outputs": [
      {
       "metadata": {},
       "output_type": "pyout",
       "prompt_number": 348,
       "text": [
        "False"
       ]
      }
     ],
     "prompt_number": 348
    },
    {
     "cell_type": "code",
     "collapsed": false,
     "input": [
      "isinstance(total, int) and total < 13 and dealer in [2, 3, 4, 5, 6]"
     ],
     "language": "python",
     "metadata": {},
     "outputs": [
      {
       "metadata": {},
       "output_type": "pyout",
       "prompt_number": 349,
       "text": [
        "True"
       ]
      }
     ],
     "prompt_number": 349
    },
    {
     "cell_type": "code",
     "collapsed": false,
     "input": [
      "isinstance(total, int) and not (total == 12 and dealer in [4, 5, 6])"
     ],
     "language": "python",
     "metadata": {},
     "outputs": [
      {
       "metadata": {},
       "output_type": "pyout",
       "prompt_number": 350,
       "text": [
        "True"
       ]
      }
     ],
     "prompt_number": 350
    },
    {
     "cell_type": "code",
     "collapsed": false,
     "input": [],
     "language": "python",
     "metadata": {},
     "outputs": []
    }
   ],
   "metadata": {}
  }
 ]
}