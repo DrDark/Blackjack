{
 "metadata": {
  "name": ""
 },
 "nbformat": 3,
 "nbformat_minor": 0,
 "worksheets": [
  {
   "cells": [
    {
     "cell_type": "heading",
     "level": 2,
     "metadata": {},
     "source": [
      "A Blackjack Simulator"
     ]
    },
    {
     "cell_type": "markdown",
     "metadata": {},
     "source": [
      "We explore usefulness of a Blackjack simulator as a means for \n",
      "teaching and learning Bayesian approaches to synthetic data generation. On the flipside, we explore teaching and learning Bayesian simulation based models for exploring properties of Blackjack. "
     ]
    },
    {
     "cell_type": "code",
     "collapsed": false,
     "input": [
      "# Randomness for numpies\n",
      "from numpy import random\n",
      "from pandas import DataFrame"
     ],
     "language": "python",
     "metadata": {},
     "outputs": [],
     "prompt_number": 1
    },
    {
     "cell_type": "raw",
     "metadata": {},
     "source": [
      "Our simplified deck consists of four basic types of cards: Ace (1 or 11) -- 2, 3, 4, 5, 6 -- 7, 8, 9 -- 10, 10, 10, 10. Each deck, as per norm, consists of 4 sets of 13 cards of the four types for a total of 52:"
     ]
    },
    {
     "cell_type": "code",
     "collapsed": false,
     "input": [
      "low = range(2, 7)*4          # `Low` face value cards\n",
      "neutral = range(7, 10)*4     # `Neutral` face value cards\n",
      "high = [10]*16               # 16 10's and faces all valued at 10 in BJ\n",
      "highAce = ['A']*4            # 4 Aces valued 1 or 11. \n",
      "# DeckSuffle() has a single balanced deck as a default, but any number\n",
      "# of decks are possible. One can also create unbalanced decks with more\n",
      "# high or low cards.\n",
      "def deckShuffle(no_l=1, no_n=1, no_h=1, no_A=1, low = low, neutral = neutral, high = high, highAce = highAce):\n",
      "    Low =low*no_l\n",
      "    Neut = neutral*no_n\n",
      "    High = high*no_h\n",
      "    Ace = highAce*no_A\n",
      "    All = Low+Neut+High+Ace\n",
      "    shuffle(All)\n",
      "    return All"
     ],
     "language": "python",
     "metadata": {},
     "outputs": [],
     "prompt_number": 2
    },
    {
     "cell_type": "raw",
     "metadata": {},
     "source": [
      "Periodic shuffle. It insures that cards are drawn periodically from low and high\n",
      "cards. For instance one can insist that no more than two low and two high/ace cards are drawn in sequence. Periodicity of course drastically reduces the number\n",
      "of possible shuffles thus very likely changing outcomes. Designed right, these periodic shuffles may appear more random. "
     ]
    },
    {
     "cell_type": "code",
     "collapsed": false,
     "input": [
      "low = range(2, 7)*4          # `Low` face value cards\n",
      "neutral = range(7, 10)*4     # `Neutral` face value cards\n",
      "high = [10]*16               # 16 10's and faces all valued at 10 in BJ\n",
      "highAce = ['A']*4            # 4 Aces valued 1 or 11. \n",
      "def deckShufflePer(no_l=1, no_n=1, no_h=1, no_A=1, low = low, neutral = neutral, high = high, highAce = highAce):\n",
      "    Low =low*no_l\n",
      "    Neut = neutral*no_n\n",
      "    High = high*no_h\n",
      "    Ace = highAce*no_A\n",
      "    All = Low+Neut+High+Ace\n",
      "    shuffle(All)\n",
      "    return All"
     ],
     "language": "python",
     "metadata": {},
     "outputs": [],
     "prompt_number": 3
    },
    {
     "cell_type": "code",
     "collapsed": false,
     "input": [
      "def drawACard(Deck):\n",
      "    x = len(Deck)\n",
      "    return Deck.pop(random.choice(len(Deck)))"
     ],
     "language": "python",
     "metadata": {},
     "outputs": [],
     "prompt_number": 4
    },
    {
     "cell_type": "raw",
     "metadata": {},
     "source": [
      "Example: shuffle 5 decks of cards; check the total number of cards; draw\n",
      "13 cards 16 times; check the remaining total to see that you have 52 cards left. "
     ]
    },
    {
     "cell_type": "code",
     "collapsed": false,
     "input": [
      "ShDck = deckShuffle(5,5,5,5)\n",
      "print len(ShDck)\n",
      "for j in range(16):\n",
      "     print [drawACard(ShDck) for i in range(13)]\n",
      "     print 'The remaining cards: ', len(ShDck)"
     ],
     "language": "python",
     "metadata": {},
     "outputs": [
      {
       "output_type": "stream",
       "stream": "stdout",
       "text": [
        "260\n",
        "[10, 10, 10, 5, 'A', 10, 6, 2, 10, 4, 8, 6, 6]\n",
        "The remaining cards:  247\n",
        "[9, 6, 9, 5, 10, 9, 'A', 7, 'A', 4, 9, 10, 2]\n",
        "The remaining cards:  234\n",
        "[10, 5, 10, 7, 3, 10, 2, 'A', 2, 4, 4, 7, 'A']\n",
        "The remaining cards:  221\n",
        "[2, 9, 10, 8, 4, 6, 3, 10, 7, 10, 8, 8, 5]\n",
        "The remaining cards:  208\n",
        "[10, 2, 'A', 9, 6, 10, 10, 3, 10, 6, 10, 4, 9]\n",
        "The remaining cards:  195\n",
        "['A', 8, 2, 10, 9, 2, 10, 10, 4, 10, 3, 7, 8]\n",
        "The remaining cards:  182\n",
        "[4, 'A', 7, 7, 6, 10, 9, 10, 10, 3, 'A', 5, 6]\n",
        "The remaining cards:  169\n",
        "[3, 5, 7, 10, 5, 7, 10, 'A', 10, 3, 8, 5, 5]\n",
        "The remaining cards:  156\n",
        "[10, 3, 10, 5, 6, 'A', 8, 6, 10, 4, 10, 4, 9]\n",
        "The remaining cards:  143\n",
        "[10, 10, 3, 4, 2, 5, 10, 7, 2, 10, 10, 10, 10]\n",
        "The remaining cards:  130\n",
        "[8, 5, 2, 8, 9, 9, 3, 7, 10, 4, 10, 7, 10]\n",
        "The remaining cards:  117\n",
        "['A', 2, 10, 10, 4, 10, 10, 3, 10, 8, 'A', 10, 7]\n",
        "The remaining cards:  104\n",
        "[9, 3, 7, 10, 10, 8, 8, 3, 6, 2, 8, 10, 8]\n",
        "The remaining cards:  91\n",
        "[9, 3, 10, 7, 10, 9, 2, 10, 4, 4, 2, 9, 7]\n",
        "The remaining cards:  78\n",
        "[6, 2, 'A', 6, 7, 10, 5, 5, 2, 3, 3, 10, 10]\n",
        "The remaining cards:  65\n",
        "[4, 10, 8, 9, 8, 4, 5, 8, 3, 5, 2, 10, 5]\n",
        "The remaining cards:  52\n"
       ]
      }
     ],
     "prompt_number": 5
    },
    {
     "cell_type": "raw",
     "metadata": {},
     "source": [
      "We would not expect our particular remaining 52 cards to look exactly like a full\n",
      "deck (4 twos, 4 threes, ... , 4 Aces), but the expected value of many such \n",
      "52 card remainders is the full deck (that is, the mean deck is the full deck) but there is a lot of variance. If we didn't expect the full deck on average, there would be something amiss with our randomization procedure. We will explore a variety of shuffling methods that introduce a bias here. For instance, if you can have a shuffle that leaves more high cards at the end, the house's advantage would grow. (More about this later.)"
     ]
    },
    {
     "cell_type": "code",
     "collapsed": false,
     "input": [
      "ShDck.sort()\n",
      "print ShDck"
     ],
     "language": "python",
     "metadata": {},
     "outputs": [
      {
       "output_type": "stream",
       "stream": "stdout",
       "text": [
        "[2, 2, 3, 3, 3, 4, 4, 4, 5, 5, 5, 6, 6, 6, 6, 6, 6, 7, 7, 7, 8, 8, 9, 9, 9, 10, 10, 10, 10, 10, 10, 10, 10, 10, 10, 10, 10, 10, 10, 10, 10, 10, 10, 10, 10, 10, 'A', 'A', 'A', 'A', 'A', 'A']\n"
       ]
      }
     ],
     "prompt_number": 6
    },
    {
     "cell_type": "raw",
     "metadata": {},
     "source": [
      "Adding with an Ace: what complicates the simulation of a game of blackjack is\n",
      "the distinction between `soft` and `hard` hands. The aces are responsible.\n",
      "Below we figure out how to add an ace to a card or a total. Say you have a 5 and an ace. Their total value is not a single number but a choice between 6 and 16. We treat this as an numpy array [6, 16]. This introduces a number of necessary complications in the code below. Given the function below, the array is never longer than 2. If its lenght is 1, it is converted back to an inger. If it is empty, the hand has busted. "
     ]
    },
    {
     "cell_type": "code",
     "collapsed": false,
     "input": [
      "def AddAce(card):\n",
      "    if card == 'A': return AddAce(array([1, 11])) # Both cards aces\n",
      "    else: \n",
      "        result = array([card + 1, card + 11]) \n",
      "        result = result.flatten()[result.flatten()<22] # Flatten and keep values < 22 only\n",
      "        if len(unique(result))==1: return int(result) # Array of length 1 to int\n",
      "        else: return unique(result)    # Remove repeting values"
     ],
     "language": "python",
     "metadata": {},
     "outputs": [],
     "prompt_number": 7
    },
    {
     "cell_type": "raw",
     "metadata": {},
     "source": [
      "To figure out the value of a dealt hand, we need to add up the cards. Once again\n",
      "aces complicate the picture, but with the function AddAce() we are set to go:"
     ]
    },
    {
     "cell_type": "code",
     "collapsed": false,
     "input": [
      "# Adding a card to a total:\n",
      "def AddCards(cards, card):\n",
      "    if cards == 'A': return AddAce(card)\n",
      "    elif card == 'A': return AddAce(cards)\n",
      "    elif isinstance(cards + card, int): return cards + card\n",
      "    else: \n",
      "        result = cards + card \n",
      "        result = result.flatten()[result.flatten()<22]\n",
      "        if len(unique(result))==1: return int(result)\n",
      "        else: return unique(result)"
     ],
     "language": "python",
     "metadata": {},
     "outputs": [],
     "prompt_number": 8
    },
    {
     "cell_type": "raw",
     "metadata": {},
     "source": [
      "Defining bust condition: one has busted if one either ends up with an empty\n",
      "numpy array or a card total higher than 21."
     ]
    },
    {
     "cell_type": "code",
     "collapsed": false,
     "input": [
      "def Bust(cards):\n",
      "    if isinstance(cards, int):\n",
      "        if cards > 21: return True\n",
      "    elif not isinstance(cards, int): \n",
      "        if len(cards) == 0: return True\n",
      "    else: return False"
     ],
     "language": "python",
     "metadata": {},
     "outputs": [],
     "prompt_number": 9
    },
    {
     "cell_type": "raw",
     "metadata": {},
     "source": [
      "House strategy: Hit < hard = 17 and < soft = 17 are defaults that can be changed. The function seems more complicated than it is, mostly because of the aces. On default settings, it draws on soft and hard 16 (but this can be easily changed). The process is completely deterministic. One can use it to determine the expected number of outcomes, given dealer's fist card. For instance, \"given an Ace, what is the expected % of a house blackjack?\" or \"Given a deler's 5, what is the chance that the outcome will be 19 or lower. It returns a tripple: the total, the number of cards drawn, the list of cards. For example:\n",
      "    ('BJ', 2, ['A', 10]) represents a house blackjack\n",
      "    (22, 4, ['A','A', 10, 10]), a house bust."
     ]
    },
    {
     "cell_type": "code",
     "collapsed": false,
     "input": [
      "def dealerPlay(dealer, deck, hard = 17, soft = 17):\n",
      "    lst =[dealer]\n",
      "    card = drawACard(deck)\n",
      "    lst.append(card) \n",
      "    dealer = AddCards(dealer, card)\n",
      "    count = 2\n",
      "    if (not isinstance(dealer, int) and dealer[1] == 21): return 'BJ', count, lst\n",
      "    else: \n",
      "        while not Bust(dealer) and ((isinstance(dealer, int) and dealer < hard) \n",
      "                                or(not isinstance(dealer, int) and dealer[1] < soft)):\n",
      "            count = count + 1\n",
      "            card = drawACard(deck)\n",
      "            lst.append(card) \n",
      "            dealer = AddCards(dealer, card)\n",
      "        if isinstance(dealer, int): \n",
      "            if dealer > 21: return 'Bust', count, lst\n",
      "            else: return dealer, count, lst\n",
      "        else: \n",
      "            if len(dealer) == 2: return int(dealer[1]), count, lst\n",
      "            else: return 'Bust', count, lst"
     ],
     "language": "python",
     "metadata": {},
     "outputs": [],
     "prompt_number": 10
    },
    {
     "cell_type": "raw",
     "metadata": {},
     "source": [
      "Basic Player Strategy"
     ]
    },
    {
     "cell_type": "code",
     "collapsed": false,
     "input": [
      "def playerStrategy(dealer, card1, card2, deck):\n",
      "    player = [card1, card2]\n",
      "    total = AddCards(card1, card2)\n",
      "    count = 2\n",
      "    if (not isinstance(total, int) and total[1] == 21): return 'BJ', count, player\n",
      "    else:\n",
      "        while not Bust(total) and ((not isinstance(total, int) and ((dealer in [9, 10, 'A'] and total[1] < 19) or (dealer not in [9, 10, 'A'] and total[1] < 18))) or  \n",
      "            (isinstance(total, int) and ((total < 17 and dealer in [7, 8, 9, 10, 'A']) or  (total < 13 and dealer in [2, 3, 4, 5, 6]) and not (total == 12 and dealer in [4, 5, 6])))): \n",
      "                 count = count + 1\n",
      "                 card = drawACard(deck)\n",
      "                 player = player + [card]\n",
      "                 total = AddCards(total, card)\n",
      "        if isinstance(total, int): \n",
      "            if total > 21: return 'Bust', count, player\n",
      "            else: return total, count, player\n",
      "        else: \n",
      "            if len(total) == 2: return int(total[1]), count, player\n",
      "            else: return 'Bust', count, player"
     ],
     "language": "python",
     "metadata": {},
     "outputs": [],
     "prompt_number": 100
    },
    {
     "cell_type": "raw",
     "metadata": {},
     "source": [
      "New strategy:"
     ]
    },
    {
     "cell_type": "code",
     "collapsed": false,
     "input": [
      "def playerStrategy(dealer, card1, card2, deck):\n",
      "    player = [card1, card2]\n",
      "    total = AddCards(card1, card2)\n",
      "    count = 2\n",
      "    if (not isinstance(total, int) and total[1] == 21): return 'BJ', count, player\n",
      "    else:\n",
      "        while not Bust(total) and ((not isinstance(total, int) and (total[1] < 17) or  \n",
      "            (isinstance(total, int) and ((total < 17))))): # and dealer in [7, 8, 9, 10, 'A']) or  (total < 17 and dealer in [2, 3, 4, 5, 6]) and not (total == 12 and dealer in [4, 5, 6])))): \n",
      "                 count = count + 1\n",
      "                 card = drawACard(deck)\n",
      "                 player = player + [card]\n",
      "                 total = AddCards(total, card)\n",
      "        if isinstance(total, int): \n",
      "            if total > 21: return 'Bust', count, player\n",
      "            else: return total, count, player\n",
      "        else: \n",
      "            if len(total) == 2: return int(total[1]), count, player\n",
      "            else: return 'Bust', count, player"
     ],
     "language": "python",
     "metadata": {},
     "outputs": [],
     "prompt_number": 49
    },
    {
     "cell_type": "raw",
     "metadata": {},
     "source": [
      "The function to determine if the player won/lost/pushed"
     ]
    },
    {
     "cell_type": "code",
     "collapsed": false,
     "input": [
      "def playerWin(dealer, player, blackjack = 1.5):\n",
      "    if dealer == 'BJ':\n",
      "        if player == 'BJ': return 0, 'Push'\n",
      "        else: return -1, 'Loss'\n",
      "    if player == 'BJ':\n",
      "        if dealer == 'BJ': return 0, 'Push'\n",
      "        else: return blackjack, 'Win'\n",
      "    elif dealer == 'Bust'and player != 'Bust': return 1, 'Win'\n",
      "    elif player == 'Bust': return -1, 'Loss'\n",
      "    elif player > dealer: return 1, 'Win' \n",
      "    elif player < dealer: return -1, 'Loss'\n",
      "    else: return 0, 'Push'\n",
      "        "
     ],
     "language": "python",
     "metadata": {},
     "outputs": [],
     "prompt_number": 12
    },
    {
     "cell_type": "raw",
     "metadata": {},
     "source": [
      "Run some tests: "
     ]
    },
    {
     "cell_type": "code",
     "collapsed": false,
     "input": [
      "# Initiate shuffle\n",
      "ShDck = deckShuffle(5,5,5,5) # Shuffle 5 decks"
     ],
     "language": "python",
     "metadata": {},
     "outputs": [],
     "prompt_number": 13
    },
    {
     "cell_type": "raw",
     "metadata": {},
     "source": [
      "A single hand played with all 7 players on the table. It can be played repeatedly and reshuffles automatically when deck size falls below 30. "
     ]
    },
    {
     "cell_type": "code",
     "collapsed": false,
     "input": [
      "card1 = [drawACard(ShDck) for i in range(7)]\n",
      "dealer = drawACard(ShDck)\n",
      "card2 = [drawACard(ShDck) for i in range(7)]\n",
      "Dealer = dealerPlay(dealer, ShDck)\n",
      "Player1 = playerStrategy(dealer, card1[0], card2[0], ShDck)\n",
      "Player2 = playerStrategy(dealer, card1[1], card2[1], ShDck)\n",
      "Player3 = playerStrategy(dealer, card1[2], card2[2], ShDck)\n",
      "Player4 = playerStrategy(dealer, card1[3], card2[3], ShDck)\n",
      "Player5 = playerStrategy(dealer, card1[4], card2[4], ShDck)\n",
      "Player6 = playerStrategy(dealer, card1[5], card2[5], ShDck)\n",
      "Player7 = playerStrategy(dealer, card1[6], card2[6], ShDck)\n",
      "print 'Cards remaining: ', len(ShDck)\n",
      "print '-------------------'\n",
      "print 'Dealer: ', Dealer\n",
      "print '-------------------'\n",
      "print 'Player 1: ', Player1\n",
      "print 'Player 2: ', Player2\n",
      "print 'Player 3: ', Player3\n",
      "print 'Player 4: ', Player4\n",
      "print 'Player 5: ', Player5\n",
      "print 'Player 6: ', Player6\n",
      "print 'Player 7: ', Player7\n",
      "if len(ShDck) < 30: ShDck = deckShuffle(5,5,5,5) # Shuffle"
     ],
     "language": "python",
     "metadata": {},
     "outputs": [
      {
       "output_type": "stream",
       "stream": "stdout",
       "text": [
        "Cards remaining:  241\n",
        "-------------------\n",
        "Dealer:  (20, 3, [2, 10, 8])\n",
        "-------------------\n",
        "Player 1:  (18, 2, [7, 'A'])\n",
        "Player 2:  (13, 3, [10, 2, 'A'])\n",
        "Player 3:  (17, 3, [5, 5, 7])\n",
        "Player 4:  ('BJ', 2, [10, 'A'])\n",
        "Player 5:  (17, 2, [10, 7])\n",
        "Player 6:  (17, 2, [7, 10])\n",
        "Player 7:  (17, 2, [7, 10])\n"
       ]
      }
     ],
     "prompt_number": 14
    },
    {
     "cell_type": "raw",
     "metadata": {},
     "source": [
      "Playing 1000 (or any number) of consecutive games with 5 decks, counting \n",
      "dealer's BJs, players' joint total BJs and dealer's busts. Thre is inded a player\n",
      "BJ every 21 hands or so, but that is for `some` player. A run of 1,000,000 hands yielded a BJ for the dealer  47,290 times or one about 4.73% of the time\n",
      "Dealer Busted  281,920 or 28.2% of the time, a single player had a BJ 332,847, 33.3% of the hands so each player got BJ 4.757% of the time. All these numbers are roughly as expected from the probability tables. "
     ]
    },
    {
     "cell_type": "code",
     "collapsed": false,
     "input": [
      "DealBJ = 0\n",
      "DealBust = 0\n",
      "PlayBJ = 0\n",
      "for k in range(1000):\n",
      "   card1 = [drawACard(ShDck) for i in range(7)]\n",
      "   dealer = drawACard(ShDck)\n",
      "   card2 = [drawACard(ShDck) for i in range(7)]\n",
      "   Dealer = dealerPlay(dealer, ShDck)\n",
      "   if Dealer[0] == 'BJ': DealBJ = DealBJ +1 \n",
      "   if Dealer[0] == 'Bust': DealBust = DealBust +1     \n",
      "   Player1 = playerStrategy(dealer, card1[0], card2[0], ShDck)\n",
      "   if Player1[0] == 'BJ': PlayBJ = PlayBJ +1         \n",
      "   Player2 = playerStrategy(dealer, card1[1], card2[1], ShDck)\n",
      "   if Player2[0] == 'BJ': PlayBJ = PlayBJ +1             \n",
      "   Player3 = playerStrategy(dealer, card1[2], card2[2], ShDck)\n",
      "   if Player3[0] == 'BJ': PlayBJ = PlayBJ +1                 \n",
      "   Player4 = playerStrategy(dealer, card1[3], card2[3], ShDck)\n",
      "   if Player4[0] == 'BJ': PlayBJ = PlayBJ +1                     \n",
      "   Player5 = playerStrategy(dealer, card1[4], card2[4], ShDck)\n",
      "   if Player5[0] == 'BJ': PlayBJ = PlayBJ +1                         \n",
      "   Player6 = playerStrategy(dealer, card1[5], card2[5], ShDck)\n",
      "   if Player6[0] == 'BJ': PlayBJ = PlayBJ +1                             \n",
      "   Player7 = playerStrategy(dealer, card1[6], card2[6], ShDck)\n",
      "   if Player7[0] == 'BJ': PlayBJ = PlayBJ +1                                 \n",
      "   # print 'Cards remaining: ', len(ShDck)\n",
      "   #print '-------------------'\n",
      "   #print 'Dealer: ', Dealer\n",
      "   #print '-------------------'\n",
      "   #print 'Player 1: ', Player1\n",
      "   #print 'Player 2: ', Player2\n",
      "   #print 'Player 3: ', Player3\n",
      "   #print 'Player 4: ', Player4\n",
      "   #print 'Player 5: ', Player5\n",
      "   #print 'Player 6: ', Player6\n",
      "   #print 'Player 7: ', Player7\n",
      "   if len(ShDck) < 30: ShDck = deckShuffle(5,5,5,5) # Shuffle\n",
      "print 'Dealer BJ: ',  DealBJ\n",
      "print 'Dealer Busts: ', DealBust\n",
      "print 'Player BJ: ', PlayBJ"
     ],
     "language": "python",
     "metadata": {},
     "outputs": [
      {
       "output_type": "stream",
       "stream": "stdout",
       "text": [
        "Dealer BJ:  46\n",
        "Dealer Busts:  292\n",
        "Player BJ:  328\n"
       ]
      }
     ],
     "prompt_number": 15
    },
    {
     "cell_type": "raw",
     "metadata": {},
     "source": [
      "Individual players busts and BJs:"
     ]
    },
    {
     "cell_type": "code",
     "collapsed": false,
     "input": [
      "DealBJ = 0; DealBust = 0; Play1BJ = 0; P1Bust = 0\n",
      "Play2BJ = 0; P2Bust = 0; Play3BJ = 0; P3Bust = 0\n",
      "Play4BJ = 0; P4Bust = 0; Play5BJ = 0; P5Bust = 0\n",
      "Play6BJ = 0; P6Bust = 0; Play7BJ = 0; P7Bust = 0\n",
      "p1=0; p2=0; p3=0; p4=0; p5=0; p6=0; p7=0\n",
      "\n",
      "for k in range(100000):\n",
      "   card1 = [drawACard(ShDck) for i in range(7)]\n",
      "   dealer = drawACard(ShDck)\n",
      "   card2 = [drawACard(ShDck) for i in range(7)]\n",
      "   Dealer = dealerPlay(dealer, ShDck)\n",
      "   if Dealer[0] == 'BJ': DealBJ = DealBJ +1 \n",
      "   if Dealer[0] == 'Bust': DealBust = DealBust +1     \n",
      "   Player1 = playerStrategy(dealer, card1[0], card2[0], ShDck)\n",
      "   if Player1[0] == 'BJ': Play1BJ = Play1BJ +1\n",
      "   if Player1[0] == 'Bust': P1Bust = P1Bust +1\n",
      "   p1 = p1 + playerWin(Dealer[0], Player1[0])[0]              \n",
      "   Player2 = playerStrategy(dealer, card1[1], card2[1], ShDck)\n",
      "   if Player2[0] == 'BJ': Play2BJ = Play2BJ +1\n",
      "   if Player2[0] == 'Bust': P2Bust = P2Bust +1\n",
      "   p2 = p2 + playerWin(Dealer[0], Player2[0])[0]                         \n",
      "   Player3 = playerStrategy(dealer, card1[2], card2[2], ShDck)\n",
      "   if Player3[0] == 'BJ': Play3BJ = Play3BJ +1\n",
      "   if Player3[0] == 'Bust': P3Bust = P3Bust +1\n",
      "   p3 = p3 + playerWin(Dealer[0], Player3[0])[0]                                 \n",
      "   Player4 = playerStrategy(dealer, card1[3], card2[3], ShDck)\n",
      "   if Player4[0] == 'BJ': Play4BJ = Play4BJ +1\n",
      "   if Player4[0] == 'Bust': P4Bust = P4Bust +1\n",
      "   p4 = p4 + playerWin(Dealer[0], Player4[0])[0]                                         \n",
      "   Player5 = playerStrategy(dealer, card1[4], card2[4], ShDck)\n",
      "   if Player5[0] == 'BJ': Play5BJ = Play5BJ +1\n",
      "   if Player5[0] == 'Bust': P5Bust = P5Bust +1\n",
      "   p5 = p5 + playerWin(Dealer[0], Player5[0])[0]                                                 \n",
      "   Player6 = playerStrategy(dealer, card1[5], card2[5], ShDck)\n",
      "   if Player6[0] == 'BJ': Play6BJ = Play6BJ +1\n",
      "   if Player6[0] == 'Bust': P6Bust = P6Bust +1\n",
      "   p6 = p6 + playerWin(Dealer[0], Player6[0])[0]                                                         \n",
      "   Player7 = playerStrategy(dealer, card1[6], card2[6], ShDck)\n",
      "   if Player7[0] == 'BJ': Play7BJ = Play7BJ +1\n",
      "   if Player7[0] == 'Bust': P7Bust = P7Bust +1\n",
      "   p7 = p7 + playerWin(Dealer[0], Player7[0])[0]                                                                 \n",
      "   if len(ShDck) < 40: ShDck = deckShuffle(5,5,8,5) # Shuffle\n",
      "print 'Dealer BJ: ',  DealBJ\n",
      "print 'Dealer Busts: ', DealBust\n",
      "print '--------------------'\n",
      "print 'Player BJs in order: ', Play1BJ, Play2BJ, Play3BJ, Play4BJ, Play5BJ, Play6BJ, Play7BJ \n",
      "print 'Player Busts in order: ',P1Bust, P2Bust, P3Bust, P4Bust, P5Bust, P6Bust, P7Bust\n",
      "print 'Total loss by player: ', p1, p2, p3, p4, p5, p6, p7"
     ],
     "language": "python",
     "metadata": {},
     "outputs": [
      {
       "output_type": "stream",
       "stream": "stdout",
       "text": [
        "Dealer BJ:  5343\n",
        "Dealer Busts:  29365\n",
        "--------------------\n",
        "Player BJs in order:  5343 5391 5385 5304 5394 5479 5591\n",
        "Player Busts in order:  20566 20562 20440 20522 20632 20663 20568\n",
        "Total loss by player:  -164.5 461.0 -101.5 383.5 -175.0 29.5 531.0\n"
       ]
      }
     ],
     "prompt_number": 104
    },
    {
     "cell_type": "code",
     "collapsed": false,
     "input": [
      "(-164.5 + 461.0 -101.5 + 383.5 -175.0 + 29.5 + 531.0)/7."
     ],
     "language": "python",
     "metadata": {},
     "outputs": [
      {
       "metadata": {},
       "output_type": "pyout",
       "prompt_number": 106,
       "text": [
        "137.71428571428572"
       ]
      }
     ],
     "prompt_number": 106
    },
    {
     "cell_type": "heading",
     "level": 3,
     "metadata": {},
     "source": [
      "Overal bad news for too few highs and too many lows:"
     ]
    },
    {
     "cell_type": "raw",
     "metadata": {},
     "source": [
      "Over 100,000 hands, with 5 decks [deckShuffle(5,5,5,5)], players lost\n",
      "(-2751.5 -3281.0 -2539.0 -2235.5 -2803.5 -2638.5 -2569.0)/7. = -2688.29\n",
      "on average [this number is likely to be around 2000-2300 and 2700 seems like an anomaly. The latter just makes the case worse.]. That is a little more than $2,500 in losses when playing $1 bets 100,000 times.\n",
      "If the decks are changed to reduce the number of 10s by 16 [deckShuffle(5,5,4,5)]\n",
      "the players now lose (-3648.0 -3634.0 -3166.0 -4111.5 -3493.5 -3858.0 -3693.5)/7 or\n",
      "around 3658, almost an extra 1000 hands over 100,000. \n",
      "Finally, if the number of small cards is increased by 20 [deckShuffle(6,5,5,5)], we obtain (-3914.0 -3523.0 -4004.0 -4059.0 -4407.5 -4179.5 -3782.5)/7 or 3981 on average in losses. That is nearly 1200 extra lost hands. If we combine the two, \n",
      "[deckShuffle(6,5,4,5)], the losses are now (-5316.0 -4937.0 -5217.0 -5182.0 -4946.5 -5250.0 -5077.0)/7 = 5132, almost twice the original ones. Suffices to say with [deckShuffle(7,5,3,5)] things get worse: (-9057.0 -9332.0 -9443.5 -9121.5 -9399.5 -9286.0 -9058.5)/7 = -9243 or 343% higher than in the original case. That is, removing 32 10s and replacing them with 40 2-6 cards increases the \n",
      "advantage of the house by 343%. "
     ]
    },
    {
     "cell_type": "raw",
     "metadata": {},
     "source": [
      "A million hand run yields -2.22% loss over that many games for the even [deckShuffle(5,5,5,5)]\n",
      "(-22379.0 -23244.0 -22135.0 -19938.5 -22193.5 -22376.5 -23323.0)/7\n",
      "In detail:\n",
      "Dealer BJ:  47331\n",
      "Dealer Busts:  282351\n",
      "--------------------\n",
      "Player BJs in order:  47592 47240 48001 47914 47673 47622 47519\n",
      "Player Busts in order:  183141 183695 182399 182897 182667 182869 183702\n",
      "Total loss by player:  -22379.0 -23244.0 -22135.0 -19938.5 -22193.5 -22376.5 -23323.0"
     ]
    },
    {
     "cell_type": "raw",
     "metadata": {},
     "source": [
      "A million runs for [deckShuffle(6,6,5,5)] yields:\n",
      "Dealer BJ:  37710 /lower\n",
      "Dealer Busts:  280263 /same\n",
      "--------------------\n",
      "Player BJs in order:  37810 37846 37969 37553 37500 37695 37587 / lower\n",
      "Player Busts in order:  174940 174814 174496 174912 175022 174631 173925 /1% lower\n",
      "Total loss by player:  -38937.5 -39921.5 -38660.5 -40492.5 -39488.5 -39416.5 -38244.0 \n",
      "    /close to 2 x higher"
     ]
    },
    {
     "cell_type": "raw",
     "metadata": {},
     "source": [
      "A million hand run yields 4.3% loss over that many games for    \n",
      "[deckShuffle(5,5,4,4)]\n",
      "(-42976.5 -42732.0 -42911.0 -43799.0 -42922.5 -43417.5 -42547.5)/7. = -43044\n",
      "Removing 4 aces and 16 tens from 5 decks, almost doubles house's advantage from 2.22% to 4.3%.\n",
      "Fuller picture for a million hands at [deckShuffle(5,5,4,4)]:\n",
      "Dealer BJ:  35408\n",
      "Dealer Busts:  281052\n",
      "--------------------\n",
      "Player BJs in order:  35437 35754 35688 35773 35774 35663 35519\n",
      "Player Busts in order:  172913 173001 173085 172667 173620 173274 173543\n",
      "Total loss by player:  -42976.5 -42732.0 -42911.0 -43799.0 -42922.5 -43417.5 -42547.5\n",
      "Fewer BJs but not a high difference in Busts. BJs go from 4.75 to 3.57%, and that somehow influences the outcome."
     ]
    },
    {
     "cell_type": "raw",
     "metadata": {},
     "source": [
      "[DeckShuffle(5, 5, 5, 5)]\n",
      "# Dealer BJ:  4671\n",
      "# Dealer Busts:  28135\n",
      "# --------------------\n",
      "# Player BJs in order:  4727 4669 4818 4820 4614 4805 4801\n",
      "# Player Busts in order:  18315 18439 18387 18489 18214 18253 18394\n",
      "# The average player + dealer BJ percentage for one 100,000 run of hands\n",
      "print (4727 + 4669 + 4818 + 4820 + 4614 + 4805 + 4801 + 4671)/8000.\n",
      "# Average player percentage of busts for the same 100,000 run\n",
      "print (18315 + 18439 + 18387 + 18489 + 18214 + 18253 + 18394)/7000."
     ]
    },
    {
     "cell_type": "raw",
     "metadata": {},
     "source": [
      "The number of neutral cards, however, seems to have little influence on the \n",
      "final outcomes, although it affacts both the number of BJs (upwards) and the \n",
      "number of Busts (downwards). \n",
      "for DeckShuffle(5, 0, 5, 5)\n",
      "Dealer BJ:  7974 \\ more dealer BJs\n",
      "Dealer Busts:  30009 \\ More dealer busts\n",
      "--------------------\n",
      "Player BJs in order:  7967 8165 7976 8013 8017 8021 8053 \\More player BJs\n",
      "Player Busts in order:  16275 16149 16339 16213 16102 16301 16037 \\ Fewer busts\n",
      "Total loss by player:  -2722.5 -2279.0 -2728.0 -2503.0 -2122.0 -3126.0 -2482.0                                               \\ little higher house advantage\n",
      "\n",
      "(-2722.5 -2279.0 -2728.0 -2503.0 -2122.0 -3126.0 -2482.0)/7. \n",
      "is on the order of 2500"
     ]
    },
    {
     "cell_type": "raw",
     "metadata": {},
     "source": [
      "Next test fixes the initial draw for all players and dealer's first card, and \n",
      "plays 20 hands under that setting. "
     ]
    },
    {
     "cell_type": "code",
     "collapsed": false,
     "input": [
      "ShDck = deckShuffle(5,5,5,5) # Shuffle"
     ],
     "language": "python",
     "metadata": {},
     "outputs": [],
     "prompt_number": 17
    },
    {
     "cell_type": "raw",
     "metadata": {},
     "source": [
      "We can draw the initial deal from the deck, or more informatively, we can\n",
      "fix the initial 15 cards, and rund say 20 hands to gauge what happens. Here\n",
      "we fix dealer's card to 10, and players totals to hard 12 to 18. (We could also\n",
      "do Ace and soft 12 to 18 or whatever we fancy.)"
     ]
    },
    {
     "cell_type": "code",
     "collapsed": false,
     "input": [
      "card1 = [drawACard(ShDck) for i in range(7)] # Fix by hand if necessary\n",
      "dealer = drawACard(ShDck)                    # Fix by hand if necessary\n",
      "card2 = [drawACard(ShDck) for i in range(7)] # Fix by hand if necessary\n",
      "#card1 = [10]*7\n",
      "#dealer = 5\n",
      "#card2 = range(2, 9)\n",
      "\n",
      "play = ['Player1', 'Player2', 'Player3', 'Player4', 'Player5', 'Player6', 'Player7']\n",
      "hand = zip(play, card1, card2)\n",
      "print 'Dealer: ', dealer \n",
      "print '----------'\n",
      "for i, j, k in hand: print i, [j, k]"
     ],
     "language": "python",
     "metadata": {},
     "outputs": [
      {
       "output_type": "stream",
       "stream": "stdout",
       "text": [
        "Dealer:  8\n",
        "----------\n",
        "Player1 [2, 10]\n",
        "Player2 [5, 7]\n",
        "Player3 [6, 'A']\n",
        "Player4 [6, 10]\n",
        "Player5 [7, 10]\n",
        "Player6 [10, 10]\n",
        "Player7 [7, 7]\n"
       ]
      }
     ],
     "prompt_number": 93
    },
    {
     "cell_type": "code",
     "collapsed": false,
     "input": [
      "dic1={}\n",
      "dic1['Dealer'] = [dealerPlay(dealer, ShDck)[0] for i in range(20)]\n",
      "dic1['Player1'] = [playerStrategy(dealer, card1[0], card2[0], ShDck)[0] for i in range(20)]\n",
      "dic1['Player2'] = [playerStrategy(dealer, card1[1], card2[1], ShDck)[0] for i in range(20)]\n",
      "dic1['Player3'] = [playerStrategy(dealer, card1[2], card2[2], ShDck)[0] for i in range(20)]\n",
      "dic1['Player4'] = [playerStrategy(dealer, card1[3], card2[3], ShDck)[0] for i in range(20)]\n",
      "dic1['Player5'] = [playerStrategy(dealer, card1[4], card2[4], ShDck)[0] for i in range(20)]\n",
      "dic1['Player6'] = [playerStrategy(dealer, card1[5], card2[5], ShDck)[0] for i in range(20)]\n",
      "dic1['Player7'] = [playerStrategy(dealer, card1[6], card2[6], ShDck)[0] for i in range(20)]\n",
      "data = DataFrame(dic1)\n",
      "\n",
      "print dealer, len(ShDck)\n",
      "ShDck = deckShuffle(5,5,5,5) # Shuffle\n",
      "\n",
      "# Add columns to sum up wins and losses: 1, 1.5, 0, -1, -1\n",
      "for j in range(7): \n",
      "    st0 = 'Player'+ str(j+1) +' Wins'\n",
      "    st1 = 'Player'+ str(j+1)\n",
      "    data[st0] =[playerWin(data['Dealer'][i], data[st1][i])[0] for i in range(20)]\n",
      "\n",
      "# Add columns to name wins and losses: Win, Win, Push, Loss, Loss   \n",
      "for j in range(7): \n",
      "    st0 = 'P'+ str(j+1) +' Status'\n",
      "    st1 = 'Player'+ str(j+1)\n",
      "    data[st0] =[playerWin(data['Dealer'][i], data[st1][i])[1] for i in range(20)]"
     ],
     "language": "python",
     "metadata": {},
     "outputs": [
      {
       "output_type": "stream",
       "stream": "stdout",
       "text": [
        "8 100\n"
       ]
      }
     ],
     "prompt_number": 97
    },
    {
     "cell_type": "code",
     "collapsed": false,
     "input": [
      "print data.ix[:, :8] # Actual hands\n",
      "# print data.ix[:, 15:] # Wins, Pushes, and Losses\n",
      "# print data.ix[:, 8:15] # 1.5, 1, 0, or -1"
     ],
     "language": "python",
     "metadata": {},
     "outputs": [
      {
       "output_type": "stream",
       "stream": "stdout",
       "text": [
        "   Dealer Player1 Player2 Player3 Player4  Player5  Player6 Player7\n",
        "0      19    Bust    Bust      18      18       17       20    Bust\n",
        "1      21      18      17      17    Bust       17       20      21\n",
        "2      17    Bust      21      17      18       17       20    Bust\n",
        "3      17      21    Bust      20    Bust       17       20    Bust\n",
        "4    Bust    Bust    Bust      18    Bust       17       20      18\n",
        "5      18      21      20      17    Bust       17       20      19\n",
        "6      19      18      18      17    Bust       17       20      18\n",
        "7      18    Bust      18    Bust      20       17       20      18\n",
        "8      21      21      19    Bust      20       17       20      17\n",
        "9    Bust      17      20      17      20       17       20      20\n",
        "10   Bust    Bust    Bust    Bust      20       17       20    Bust\n",
        "11   Bust    Bust      21    Bust    Bust       17       20      17\n",
        "12   Bust    Bust    Bust      19    Bust       17       20    Bust\n",
        "13   Bust      17    Bust      18      17       17       20      17\n",
        "14     21      20    Bust    Bust    Bust       17       20      18\n",
        "15     20      17      19    Bust      18       17       20      17\n",
        "16   Bust    Bust      18      17    Bust       17       20    Bust\n",
        "17     18    Bust      17    Bust    Bust       17       20      17\n",
        "18   Bust    Bust    Bust      17      19       17       20      20\n",
        "19   Bust      20      17      19    Bust       17       20    Bust\n"
       ]
      }
     ],
     "prompt_number": 98
    },
    {
     "cell_type": "code",
     "collapsed": false,
     "input": [
      "data.ix[:, 8:15].sum(axis = 0)"
     ],
     "language": "python",
     "metadata": {},
     "outputs": [
      {
       "metadata": {},
       "output_type": "pyout",
       "prompt_number": 99,
       "text": [
        "Player1 Wins    -9\n",
        "Player2 Wins    -7\n",
        "Player3 Wins    -3\n",
        "Player4 Wins    -8\n",
        "Player5 Wins     0\n",
        "Player6 Wins    13\n",
        "Player7 Wins    -6\n",
        "dtype: int64"
       ]
      }
     ],
     "prompt_number": 99
    },
    {
     "cell_type": "heading",
     "level": 3,
     "metadata": {},
     "source": [
      "Some further simulations"
     ]
    },
    {
     "cell_type": "raw",
     "metadata": {},
     "source": [
      "Decide on the number of decks for the simulation:"
     ]
    },
    {
     "cell_type": "code",
     "collapsed": false,
     "input": [
      "deck1 = deckShuffle(20000,20000,20000,20000)\n",
      "print \"The number of decks: \", len(deck1)/52"
     ],
     "language": "python",
     "metadata": {},
     "outputs": []
    },
    {
     "cell_type": "raw",
     "metadata": {},
     "source": [
      "We can simulate 10,000 hands to see the distribution of dealer outcomes given\n",
      "the first card: "
     ]
    },
    {
     "cell_type": "code",
     "collapsed": false,
     "input": [
      "ls1 = range(2, 11) + ['A']\n",
      "lsLst = [[]]*len(ls1)\n",
      "for i, l in enumerate(ls1):\n",
      "    lsLst[i] = [dealerPlay(l, deck1)[0] for k in range(10000)]   "
     ],
     "language": "python",
     "metadata": {},
     "outputs": []
    },
    {
     "cell_type": "code",
     "collapsed": false,
     "input": [
      "dict1 = {}\n",
      "for k in range(17, 22)+['BJ', 'Bust']:\n",
      "    dict2 = {}\n",
      "    for i, l in enumerate(ls1):\n",
      "       dict2[l] = lsLst[i].count(k)\n",
      "    dict1[k] = dict2       "
     ],
     "language": "python",
     "metadata": {},
     "outputs": []
    },
    {
     "cell_type": "code",
     "collapsed": false,
     "input": [
      "from pandas import DataFrame\n",
      "data = DataFrame(dict1)\n",
      "data = data/100.\n",
      "#data['Bust'] = 100 - data[17] - data[18] - data[19] - data[20] - data[21]- data['BJ']"
     ],
     "language": "python",
     "metadata": {},
     "outputs": []
    },
    {
     "cell_type": "raw",
     "metadata": {},
     "source": [
      "Probability of a dealer outcome (column) given the dealer's first card (row) as a %:"
     ]
    },
    {
     "cell_type": "code",
     "collapsed": false,
     "input": [
      "print data"
     ],
     "language": "python",
     "metadata": {},
     "outputs": []
    },
    {
     "cell_type": "heading",
     "level": 3,
     "metadata": {},
     "source": [
      "Changing relative freqeuncies of low and high cards (ratio high/low):"
     ]
    },
    {
     "cell_type": "code",
     "collapsed": false,
     "input": [
      "ls2 = range(2, 11) + ['A']\n",
      "lsLst = [[]]*len(ls2)\n",
      "for n in range(0, 2001, 100):\n",
      "    deck1 = deckShuffle(2000,2000,n ,2000)\n",
      "    for i, l in enumerate(ls2):\n",
      "      lsLst[i] = [dealerPlay(l, deck1)[0] for k in range(1000)]\n",
      "      dict1 = {}\n",
      "      for k in range(17, 22)+['BJ', 'Bust']:\n",
      "         dict2 = {}\n",
      "         for i, l in enumerate(ls2):\n",
      "                 dict2[l] = lsLst[i].count(k)\n",
      "         dict1[k] = dict2        \n",
      "    data = DataFrame(dict1)\n",
      "    data = data/10.\n",
      "    # data['Bust'] = 100 - data[17] - data[18] - data[19] - data[20] - data[21]- data['BJ']\n",
      "    print \"Dealer outcome given the first card and the high/low ratio of: \", n/2000.\n",
      "    print '----------------------------------------------'\n",
      "    print data\n",
      "    print '----------------------------------------------'\n",
      "    print \"The mean bust % across the data: \", data['Bust'].mean()\n",
      "    print '----------------------------------------------'\n",
      "    print ' '"
     ],
     "language": "python",
     "metadata": {},
     "outputs": []
    },
    {
     "cell_type": "raw",
     "metadata": {},
     "source": [
      "'''Note: the numbers need to be adjusted for fewer 10s in circulations, so take them as they are with a grain of salt. For instance, when there are no 10 there are no BJ's either, so under 10 all columns should be empty for 0/2000 ratio. The average number of busts should be weighted to tak this into account.'''\n",
      "The mean bust % increases in the data from 18.5% to close to 30%\n",
      "as we increase the ratio of high/low from 0 to near 1. For a dealer facing a 6, it goes from around 18% to 43% as we even the number of high and low cards."
     ]
    },
    {
     "cell_type": "raw",
     "metadata": {},
     "source": [
      "for loop here to explore the data under varied settings, discover an already \n",
      "known regression: the ratio of low to high cards affects the house's advantage. "
     ]
    },
    {
     "cell_type": "raw",
     "metadata": {},
     "source": [
      "A single player against house\n",
      "Can you start basic and learn?\n",
      "\n",
      "What if you change ratio of small and large?\n",
      "How that affects learning/strategy?\n",
      "\n",
      "Strategy when you have 14, 15 16, 17 if ratio not even?\n",
      "\n",
      "Clumps and basic strategy?\n",
      "\n",
      "Different clumping regiments?\n",
      "\n",
      "How does it affect busting rate?\n",
      "\n",
      "--------------\n",
      "Ideas March 21, 2014\n",
      "-------------\n",
      "\n",
      "counting and strategy:\n",
      "\n",
      "reverse: if the number is low and deck is biased try betting hi\n",
      "\n",
      "can counting reveal imbalance? is average count is smaller and bigger than 0\n",
      "\n",
      "we use blackjacks to reveal the biased deck\n",
      "\n",
      "play with bet sizes in experiments. \n",
      "\n",
      "what would you do to counter the basic strategy? keeping the mean count near 0. "
     ]
    },
    {
     "cell_type": "code",
     "collapsed": false,
     "input": [
      "import pandas as pd\n",
      "RuleVars = pd.read_csv('RuleVariations.txt', sep = ',')"
     ],
     "language": "python",
     "metadata": {},
     "outputs": []
    },
    {
     "cell_type": "code",
     "collapsed": false,
     "input": [
      "RuleVars"
     ],
     "language": "python",
     "metadata": {},
     "outputs": []
    }
   ],
   "metadata": {}
  }
 ]
}