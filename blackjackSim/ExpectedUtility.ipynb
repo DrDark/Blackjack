{
 "metadata": {
  "name": ""
 },
 "nbformat": 3,
 "nbformat_minor": 0,
 "worksheets": [
  {
   "cells": [
    {
     "cell_type": "heading",
     "level": 2,
     "metadata": {},
     "source": [
      "Calculating Expected Utilities "
     ]
    },
    {
     "cell_type": "markdown",
     "metadata": {},
     "source": [
      "The cell that follows contains all the needed bacground functions such as shuffle, dealer's and player's strategies, and the function that determines the winner. These can all be run together."
     ]
    },
    {
     "cell_type": "code",
     "collapsed": false,
     "input": [
      "from basicFunctions import *\n",
      "from pandas import DataFrame \n",
      "from scipy.stats import describe\n",
      "from numpy.random import shuffle\n",
      "%matplotlib inline\n"
     ],
     "language": "python",
     "metadata": {},
     "outputs": [],
     "prompt_number": 1
    },
    {
     "cell_type": "code",
     "collapsed": false,
     "input": [
      "# Player never hits a hard 12, and thus never busts, but otherwise plays basic strategy. \n",
      "def playerStrategy(dealer, card1, card2, deck):\n",
      "    player = [card1, card2]\n",
      "    total = AddCards(card1, card2)\n",
      "    count = 2\n",
      "    if (not isinstance(total, int) and total[1] == 21): return 'BJ', count, player\n",
      "    while not Bust(total) and ((not isinstance(total, int) and ((dealer in [9, 10, 'A'] and total[1] < 19) or (dealer not in [9, 10, 'A'] and total[1] < 18))) or  (isinstance(total, int) and ((total < 12)))): \n",
      "        count = count + 1\n",
      "        if len(deck) == 0:\n",
      "            deck = deckShuffle()\n",
      "        card = drawACard(deck)\n",
      "        player = player + [card]\n",
      "        total = AddCards(total, card)\n",
      "    if isinstance(total, int): \n",
      "        if total > 21: return 'Bust', count, player\n",
      "        else: return total, count, player\n",
      "    else: \n",
      "        if len(total) == 2: return int(total[1]), count, player\n",
      "        else: return 'Bust', count, player"
     ],
     "language": "python",
     "metadata": {},
     "outputs": [],
     "prompt_number": 2
    },
    {
     "cell_type": "heading",
     "level": 3,
     "metadata": {},
     "source": [
      "Monte Carlo simulation for calculating and comparing the expected utilities"
     ]
    },
    {
     "cell_type": "markdown",
     "metadata": {},
     "source": [
      "We wish to know if out hand totals to 5, and the dealer's first card is also a 5, what is out expected utility if we play the `strategy of never busting` (always stay on a hard 12) and otherwise copying the basic strategy for soft cards. We will later also add the `basic strategy` and `copy the dealer` approach and compare the three. "
     ]
    },
    {
     "cell_type": "markdown",
     "metadata": {},
     "source": [
      "We want to compare a series of scenarios like the following: "
     ]
    },
    {
     "cell_type": "code",
     "collapsed": false,
     "input": [
      "deck = deckShuffle()\n",
      "P = playerStrategy(5, 2, 3, deck)\n",
      "D = dealerPlay(5, deck) \n",
      "print 'Player: ', P\n",
      "print 'Dealer: ', D\n",
      "print \"Player's \", playerWin(D[0], P[0])[1]"
     ],
     "language": "python",
     "metadata": {},
     "outputs": [
      {
       "output_type": "stream",
       "stream": "stdout",
       "text": [
        "Player:  (15, 3, [2, 3, 10])\n",
        "Dealer:  ('Bust', 3, [5, 7, 10])\n",
        "Player's  Win\n"
       ]
      }
     ],
     "prompt_number": 3
    },
    {
     "cell_type": "markdown",
     "metadata": {},
     "source": [
      "We want to repeat a number of such plays and estimate the expected outcomes:"
     ]
    },
    {
     "cell_type": "code",
     "collapsed": false,
     "input": [
      "for i in range(10): \n",
      "    P = playerStrategy(5, 2, 3, deck)\n",
      "    D = dealerPlay(5, deck) \n",
      "    print 'Player: ', P\n",
      "    print 'Dealer: ', D\n",
      "    print \"Player's \", playerWin(D[0], P[0])[1]\n",
      "    print ' '"
     ],
     "language": "python",
     "metadata": {},
     "outputs": [
      {
       "output_type": "stream",
       "stream": "stdout",
       "text": [
        "Player:  (18, 4, [2, 3, 5, 8])\n",
        "Dealer:  (18, 3, [5, 3, 10])\n",
        "Player's  Push\n",
        " \n",
        "Player:  (15, 3, [2, 3, 10])\n",
        "Dealer:  (19, 3, [5, 10, 4])\n",
        "Player's  Loss\n",
        " \n",
        "Player:  (15, 3, [2, 3, 10])\n",
        "Dealer:  (18, 3, [5, 'A', 2])\n",
        "Player's  Loss\n",
        " \n",
        "Player:  (21, 5, [2, 3, 3, 3, 10])\n",
        "Dealer:  ('Bust', 3, [5, 10, 10])\n",
        "Player's  Win\n",
        " \n",
        "Player:  (18, 4, [2, 3, 3, 10])\n",
        "Dealer:  (18, 3, [5, 4, 9])\n",
        "Player's  Push\n",
        " \n",
        "Player:  (15, 3, [2, 3, 10])\n",
        "Dealer:  (20, 3, [5, 5, 10])\n",
        "Player's  Loss\n",
        " \n",
        "Player:  (13, 3, [2, 3, 8])\n",
        "Dealer:  ('Bust', 3, [5, 10, 10])\n",
        "Player's  Win\n",
        " \n",
        "Player:  (13, 4, [2, 3, 5, 3])\n",
        "Dealer:  (20, 3, [5, 9, 6])\n",
        "Player's  Loss\n",
        " \n",
        "Player:  (14, 3, [2, 3, 9])\n",
        "Dealer:  ('Bust', 3, [5, 10, 10])\n",
        "Player's  Win\n",
        " \n",
        "Player:  (13, 4, [2, 3, 4, 4])\n",
        "Dealer:  (20, 3, [5, 4, 'A'])\n",
        "Player's  Loss\n",
        " \n"
       ]
      }
     ],
     "prompt_number": 4
    },
    {
     "cell_type": "markdown",
     "metadata": {},
     "source": [
      "We count loss as -1, win as 1 (unless it is a 'BJ', then 1.5) and push as 0. We are interested in total count over some number of plays. Here is the idea for 10 plays:"
     ]
    },
    {
     "cell_type": "code",
     "collapsed": false,
     "input": [
      "count = 0\n",
      "for i in range(10): \n",
      "    P = playerStrategy(5, 2, 3, deck)\n",
      "    D = dealerPlay(5, deck) \n",
      "    print 'Player: ', P\n",
      "    print 'Dealer: ', D\n",
      "    print \"Player's \", playerWin(D[0], P[0])[1]\n",
      "    count += playerWin(D[0], P[0])[0]\n",
      "    print ' '\n",
      "print 'In ten rounds, the player lost/won: $',count    "
     ],
     "language": "python",
     "metadata": {},
     "outputs": [
      {
       "output_type": "stream",
       "stream": "stdout",
       "text": [
        "Player:  (18, 4, [2, 3, 5, 8])\n",
        "Dealer:  (19, 4, [5, 7, 'A', 6])\n",
        "Player's  Loss\n",
        " \n",
        "Player:  (13, 4, [2, 3, 4, 4])\n",
        "Dealer:  ('Bust', 4, [5, 4, 7, 10])\n",
        "Player's  Win\n",
        " \n",
        "Player:  (14, 3, [2, 3, 9])\n",
        "Dealer:  (18, 3, [5, 8, 5])\n",
        "Player's  Loss\n",
        " \n",
        "Player:  (16, 4, [2, 3, 'A', 10])\n",
        "Dealer:  (21, 3, [5, 10, 6])\n",
        "Player's  Loss\n",
        " \n",
        "Player:  (15, 3, [2, 3, 10])\n",
        "Dealer:  (17, 4, [5, 7, 4, 'A'])\n",
        "Player's  Loss\n",
        " \n",
        "Player:  (19, 4, [2, 3, 'A', 3])\n",
        "Dealer:  (18, 3, [5, 9, 4])\n",
        "Player's  Win\n",
        " \n",
        "Player:  (15, 3, [2, 3, 10])\n",
        "Dealer:  ('Bust', 4, [5, 10, 'A', 10])\n",
        "Player's  Win\n",
        " \n",
        "Player:  (17, 5, [2, 3, 2, 3, 7])\n",
        "Dealer:  ('Bust', 3, [5, 10, 10])\n",
        "Player's  Win\n",
        " \n",
        "Player:  (13, 3, [2, 3, 8])\n",
        "Dealer:  ('Bust', 3, [5, 10, 7])\n",
        "Player's  Win\n",
        " \n",
        "Player:  (21, 4, [2, 3, 6, 10])\n",
        "Dealer:  (19, 3, [5, 'A', 3])\n",
        "Player's  Win\n",
        " \n",
        "In ten rounds, the player lost/won: $ 2\n"
       ]
      }
     ],
     "prompt_number": 5
    },
    {
     "cell_type": "markdown",
     "metadata": {},
     "source": [
      "In fact, we want to know the count for a much larger number of games for it to have any statistical significance. We pick 10000 rounds, but rather than printing all the games, keep track of count only:"
     ]
    },
    {
     "cell_type": "code",
     "collapsed": false,
     "input": [
      "deck = deckShuffle()\n",
      "count = 0\n",
      "for i in range(10000): \n",
      "    P = playerStrategy(5, 2, 3, deck)\n",
      "    D = dealerPlay(5, deck) \n",
      "    count += playerWin(D[0], P[0])[0]\n",
      "    if len(deck)<10: deck = deckShuffle() \n",
      "print 'In 10,000 rounds, the player lost/won: $',count "
     ],
     "language": "python",
     "metadata": {},
     "outputs": [
      {
       "output_type": "stream",
       "stream": "stdout",
       "text": [
        "In 10,000 rounds, the player lost/won: $ -390\n"
       ]
      }
     ],
     "prompt_number": 6
    },
    {
     "cell_type": "markdown",
     "metadata": {},
     "source": [
      "We could then figure out what percentage of 10,000 is the outcome and claim that as an estimate of expected utility, but since this number will tend to vary quite a bit even with 10,000 rounds, a more prudent approach is to pick a smaller number, say 1,000 rounds, and obtain a hundred results over 1,000 rounds and then average them out to get an estimate of expected utility. This, it turns out, gives us a pretty reliable estimate. "
     ]
    },
    {
     "cell_type": "markdown",
     "metadata": {},
     "source": [
      "Player plays 1000 rounds against the dealer. He does this 100 times. The results are averaged, and the expected return is found to be around -2.5%. By visually inspecting the list1, one sees that the player loses about 25 more times than he wins."
     ]
    },
    {
     "cell_type": "code",
     "collapsed": false,
     "input": [
      "deck = deckShuffle()\n",
      "list1=[]\n",
      "for j in range(100):\n",
      "  count = 0\n",
      "  for i in range(1000):\n",
      "      P = playerStrategy(5, 2, 3, deck)\n",
      "      D = dealerPlay(5, deck) \n",
      "      count += playerWin(D[0], P[0])[0] \n",
      "      if len(deck)<10: deck = deckShuffle()  \n",
      "  list1.append(count)\n",
      "print list1 "
     ],
     "language": "python",
     "metadata": {},
     "outputs": [
      {
       "output_type": "stream",
       "stream": "stdout",
       "text": [
        "[12, -80, -28, -35, -11, -47, -25, -10, -16, -9, -49, -68, 47, -39, -50, 2, -58, -39, -24, -45, -10, -27, 4, -55, -38, -43, 30, -5, -25, -40, 19, -16, -15, -35, -17, -41, -48, -93, 30, -34, -10, -9, -27, -64, -27, -81, -28, -125, 1, -39, -14, -34, -65, 41, -47, -32, -46, -63, -18, -1, -42, -10, -40, -56, -25, 31, -48, -41, -75, -28, -2, -2, -70, 22, -25, -36, -16, 0, 9, -19, -26, -47, 21, -21, 59, -44, -51, -30, 11, -40, 7, -28, -6, -1, -38, -43, 3, -20, -71, -6]\n"
       ]
      }
     ],
     "prompt_number": 7
    },
    {
     "cell_type": "markdown",
     "metadata": {},
     "source": [
      "We average out the expected outcomes of 1000 hands played 100 times to get a good approximation of expected utility"
     ]
    },
    {
     "cell_type": "code",
     "collapsed": false,
     "input": [
      "l = 0\n",
      "for i in list1:\n",
      "  l = l + i/1000.\n",
      "print l/100."
     ],
     "language": "python",
     "metadata": {},
     "outputs": [
      {
       "output_type": "stream",
       "stream": "stdout",
       "text": [
        "-0.02563\n"
       ]
      }
     ],
     "prompt_number": 8
    },
    {
     "cell_type": "markdown",
     "metadata": {},
     "source": [
      "Plot the variance. See that the mean is somewhere around -25 but it varies from one set of 1000  hands to another."
     ]
    },
    {
     "cell_type": "code",
     "collapsed": false,
     "input": [
      "figsize(6,4)\n",
      "hist(list1, color='k', alpha = .15);"
     ],
     "language": "python",
     "metadata": {},
     "outputs": [
      {
       "metadata": {},
       "output_type": "display_data",
       "png": "[encoded data removed]",
       "text": [
        "<matplotlib.figure.Figure at 0x1082bf110>"
       ]
      }
     ],
     "prompt_number": 9
    },
    {
     "cell_type": "code",
     "collapsed": false,
     "input": [
      "print '-------'\n",
      "print '''Summary stats for Player 1 (never bust)'''\n",
      "print '-------'\n",
      "Size,  Range, Mean, variance, skewness, kurtosis = describe(list1)\n",
      "print 'Number of observations: ', Size\n",
      "print 'Mean: ',  Mean\n",
      "print 'Min to Max: ', Range\n",
      "print 'Variance: ', variance\n",
      "print 'Standard Dev.: ', sqrt(variance)\n",
      "print 'Skewness: ', skewness\n",
      "print 'Kurtosis: ', kurtosis\n",
      "print '-------'\n",
      "print '-------'"
     ],
     "language": "python",
     "metadata": {},
     "outputs": [
      {
       "output_type": "stream",
       "stream": "stdout",
       "text": [
        "-------\n",
        "Summary stats for Player 1 (never bust)\n",
        "-------\n",
        "Number of observations:  100\n",
        "Mean:  -25.63\n",
        "Min to Max:  (-125, 59)\n",
        "Variance:  930.639494949\n",
        "Standard Dev.:  30.5063844949\n",
        "Skewness:  0.0336812984614\n",
        "Kurtosis:  0.767678565287\n",
        "-------\n",
        "-------\n"
       ]
      }
     ],
     "prompt_number": 10
    },
    {
     "cell_type": "markdown",
     "metadata": {},
     "source": [
      "We can ask more ambitious questions. Given two other player strategies, `copy dealer` and `basic`, which one has the highest expected return? A small extension of our method does just that."
     ]
    },
    {
     "cell_type": "code",
     "collapsed": false,
     "input": [
      "deck = deckShuffle()\n",
      "list1=[]\n",
      "list2=[]\n",
      "list3=[]\n",
      "\n",
      "player1 = 2\n",
      "dealer = 5\n",
      "player2 = 3\n",
      "\n",
      "for j in range(100):\n",
      "  count = 0\n",
      "  count1 = 0\n",
      "  count2 = 0  \n",
      "  for i in range(1000):\n",
      "      P = playerStrategy(dealer, player1, player2, deck)\n",
      "      P2 = copyDealer(player1, player2, deck) # Player 2 plays copy the dealer strategy \n",
      "      P3 = basicStrategy(dealer, player1, player2, deck)  # Player 3 plays basic strategy  \n",
      "      D = dealerPlay(dealer, deck) \n",
      "      count += playerWin(D[0], P[0])[0]\n",
      "      count1 += playerWin(D[0], P2[0])[0] \n",
      "      count2 += playerWin(D[0], P3[0])[0]\n",
      "      if len(deck)<10: deck = deckShuffle()  \n",
      "  list1.append(count)\n",
      "  list2.append(count1)\n",
      "  list3.append(count2) \n",
      "        \n",
      "\n",
      "ls = zip(list1, list2, list3)\n",
      "l = 0\n",
      "l2 = 0\n",
      "l3 = 0\n",
      "for i, j, k in ls:\n",
      "  l = l + i/1000.\n",
      "  l2 = l2 + j/1000.\n",
      "  l3 = l3 + k/1000.  \n",
      "print 'Expected return for P playing never bust: ', l/100.\n",
      "print 'Expected return for P2 copying the dealer: ', l2/100.\n",
      "print 'Expected return for P3 playing basic strategy: ', l3/100.        "
     ],
     "language": "python",
     "metadata": {},
     "outputs": [
      {
       "output_type": "stream",
       "stream": "stdout",
       "text": [
        "Expected return for P playing never bust:  -0.02542\n",
        "Expected return for P2 copying the dealer:  -0.17055\n",
        "Expected return for P3 playing basic strategy:  -0.02552\n"
       ]
      }
     ],
     "prompt_number": 11
    },
    {
     "cell_type": "markdown",
     "metadata": {},
     "source": [
      "We can plot the three strategies and see that `basic` (blue) and `never bust` (gray) are more or less the same on this problem, and average close to -0.025, but the third strategy, `copy dealer`, does much worse at around -0.17."
     ]
    },
    {
     "cell_type": "code",
     "collapsed": false,
     "input": [
      "figsize(14, 5)\n",
      "hist(list1, color = 'k', alpha = .1)\n",
      "hist(list2, color = 'r', alpha = .1)\n",
      "hist(list3, color = 'b', alpha = .1);"
     ],
     "language": "python",
     "metadata": {},
     "outputs": [
      {
       "metadata": {},
       "output_type": "display_data",
       "png": "[encoded data removed]",
       "text": [
        "<matplotlib.figure.Figure at 0x10875ea10>"
       ]
      }
     ],
     "prompt_number": 12
    },
    {
     "cell_type": "markdown",
     "metadata": {},
     "source": [
      "We next put all the insights together into a single model. To compare the three strategy given the player's initial two cards\n",
      "\n",
      "`player1 = 2`\n",
      "\n",
      "and\n",
      "\n",
      "`player = 3`\n",
      "\n",
      "and dealer's first card \n",
      "\n",
      "`dealer = 5`\n",
      "\n",
      "we simply substitute `n, m` and `k` for 2, 3 and 5 in the model below and run it. We run it for `x` and `y` below."
     ]
    },
    {
     "cell_type": "heading",
     "level": 3,
     "metadata": {},
     "source": [
      "Calculating the expected utility of player's hard total of `n` against the dealer's first card `m`"
     ]
    },
    {
     "cell_type": "code",
     "collapsed": false,
     "input": [
      "'''\n",
      "Part 1: Enter the player's hard total n and dealer's card m for which you want \n",
      "to see the expected utility:\n",
      "'''\n",
      "\n",
      "player1 = 1\n",
      "player2 = 7\n",
      "dealer = 6\n",
      "\n",
      "'''\n",
      "Part 2: Simulate 100 times 1000 rounds of play. Three players representing three strategies:\n",
      "P: never bust\n",
      "P2: play like the dealer (stay on soft and hard 17)\n",
      "P3: basic strategy\n",
      "Return results as three lists of final outcomes. Each list has 100 elements, each of which is\n",
      "a number between -1000 and 1000 (perhaps a bit more if 'BJ' is possible)\n",
      "if you bet a dollar in each round, than this number would simply represent the extra dollars\n",
      "in your pocket after 1000 rounds (with negative numbers representing dollars lost).\n",
      "so -236 means that you lost 236 dollars over 1000 rounds, so your realized utility is -23.6% \n",
      "or -0.236. In Part 3, these numbers are averaged out to obtain an estimate of expected utility.\n",
      "100 such numbers are added for each strategy and the total divided by 100. \n",
      "Expected utility should strictly speaking be represented in $ but here we can represent it as\n",
      "a percentage of the bet size since it scales linearly.\n",
      "'''\n",
      "\n",
      "deck = deckShuffle()\n",
      "list1=[]\n",
      "list2=[]\n",
      "list3=[]\n",
      "for j in range(100):\n",
      "  count = 0\n",
      "  count1 = 0\n",
      "  count2 = 0  \n",
      "  for i in range(1000):\n",
      "      P = playerStrategy(dealer, player1, player2, deck)\n",
      "      P2 = copyDealer(player1, player2, deck) # Player 2 plays copy the dealer strategy \n",
      "      P3 = basicStrategy(dealer, player1, player2, deck)  # Player 3 plays basic strategy  \n",
      "      D = dealerPlay(dealer, deck) \n",
      "      count += playerWin(D[0], P[0])[0]\n",
      "      count1 += playerWin(D[0], P2[0])[0] \n",
      "      count2 += playerWin(D[0], P3[0])[0]\n",
      "      if len(deck)<10: deck = deckShuffle()  \n",
      "  list1.append(count)\n",
      "  list2.append(count1)\n",
      "  list3.append(count2)      \n",
      "print 'Player 1 outcomes:'\n",
      "print list1\n",
      "print '-----'\n",
      "print ' '\n",
      "print ' '\n",
      "print 'Player 2 outcomes:'\n",
      "print list2\n",
      "print '-----'\n",
      "print ' '\n",
      "print ' '\n",
      "print 'Player 3 outcomes:'\n",
      "print list3\n",
      "print '-----'\n",
      "print '-----'\n",
      "print ' '\n",
      "print ' '\n",
      "print ' '\n",
      "print ' '\n",
      "\n",
      "\n",
      "'''\n",
      "Part 3\n",
      "Calculate the expected utility\n",
      "'''\n",
      "\n",
      "ls = zip(list1, list2, list3)\n",
      "l = 0\n",
      "l2 = 0\n",
      "l3 = 0\n",
      "for i, j, k in ls:\n",
      "  l = l + i/1000.\n",
      "  l2 = l2 + j/1000.\n",
      "  l3 = l3 + k/1000.  \n",
      "print 'Expected return for P playing never bust: ', l/100.\n",
      "print 'Expected return for P2 copying the dealer: ', l2/100.\n",
      "print 'Expected return for P3 playing basic strategy: ', l3/100.\n",
      "print ' '\n",
      "print ' '\n",
      "print ' '\n",
      "print ' '\n",
      "\n",
      "\n",
      "\n",
      "'''\n",
      "Part 4: Plot the variance of returns: to see that a distribution of your \n",
      "outcomes over 100 attempts of playing 1000 hands. The plot captures the frequency of \n",
      "various realized outcomes over 100 runs on y-axis, and their magnitudes on x-axis. If at\n",
      "x of -100 the y is around 20, then about 20 times out of 100 you lost $100. \n",
      "'''\n",
      "figsize(14, 5)\n",
      "figure(1)\n",
      "title(\"P1 (never bust) in gray, P2 (copy the dealer) in pink, P3 (basic strategy) in blue\")\n",
      "xlabel(\"Magnitude of a return (could in principle range from -1000 to 1000)\")\n",
      "ylabel(\"Frequency of a return (out of 100)\")\n",
      "hist(list1, color = 'k', alpha = .1)\n",
      "hist(list2, color = 'r', alpha = .1)\n",
      "hist(list3, color = 'b', alpha = .1);\n",
      "\n",
      "\n",
      "\n",
      "'''\n",
      "Part 5\n",
      "'''\n",
      "\n",
      "print '-------'\n",
      "print '''Summary stats for Player 1 (never bust)'''\n",
      "print '-------'\n",
      "Size,  Range, Mean, variance, skewness, kurtosis = describe(list1)\n",
      "print 'Number of observations: ', Size\n",
      "print 'Mean: ',  Mean\n",
      "print 'Min to Max: ', Range\n",
      "print 'Variance: ', variance\n",
      "print 'Standard Dev.: ', sqrt(variance)\n",
      "print 'Skewness: ', skewness\n",
      "print 'Kurtosis: ', kurtosis\n",
      "print '-------'\n",
      "print '-------'\n",
      "\n",
      "print ' '\n",
      "print ' '\n",
      "print ' '\n",
      "\n",
      "Size,  Range, Mean, variance, skewness, kurtosis = describe(list2)\n",
      "print 'Summary stats for Player 2 (copy dealer)'\n",
      "print '-------'\n",
      "print 'Number of observations: ', Size\n",
      "print 'Mean: ',  Mean\n",
      "print 'Min to Max: ', Range\n",
      "print 'Variance: ', variance\n",
      "print 'Standard Dev.: ', sqrt(variance)\n",
      "print 'Skewness: ', skewness\n",
      "print 'Kurtosis: ', kurtosis\n",
      "print '-------'\n",
      "print '-------'\n",
      "print ' '\n",
      "print ' '\n",
      "print ' '\n",
      "\n",
      "Size,  Range, Mean, variance, skewness, kurtosis = describe(list3)\n",
      "print 'Summary stats for Player 3 (basic strategy)'\n",
      "print '-------'\n",
      "print 'Number of observations: ', Size\n",
      "print 'Mean: ',  Mean\n",
      "print 'Min to Max: ', Range\n",
      "print 'Variance: ', variance\n",
      "print 'Standard Dev.: ', sqrt(variance)\n",
      "print 'Skewness: ', skewness\n",
      "print 'Kurtosis: ', kurtosis\n",
      "print 'Summary stats for Player 2'\n",
      "print '-------'\n",
      "print ' '\n",
      "print ' '\n",
      "print ' '"
     ],
     "language": "python",
     "metadata": {},
     "outputs": [
      {
       "output_type": "stream",
       "stream": "stdout",
       "text": [
        "Player 1 outcomes:\n",
        "[74, 171, 77, 150, 127, 117, 87, 149, 162, 172, 118, 108, 153, 218, 106, 79, 127, 192, 90, 40, 113, 89, 162, 114, 102, 144, 67, 142, 149, 109, 122, 135, 80, 132, 163, 59, 91, 145, 113, 108, 148, 120, 114, 119, 103, 132, 121, 98, 173, 80, 124, 47, 104, 139, 144, 75, 120, 93, 125, 123, 171, 146, 131, 73, 80, 115, 113, 53, 59, 109, 82, 137, 130, 110, 112, 90, 155, 153, 61, 94, 116, 160, 112, 149, 95, 132, 74, 62, 77, 72, 141, 118, 98, 93, 112, 92, 98, 103, 155, 82]\n",
        "-----\n",
        " \n",
        " \n",
        "Player 2 outcomes:\n",
        "[32, 100, 20, 70, 48, 36, 72, 88, 86, 64, 63, 11, 58, 35, 48, 29, 45, 76, 6, 3, -7, 69, 72, 81, 9, 62, 15, 59, 69, 2, 57, 27, 9, 54, 95, 20, 59, -11, 27, 42, 29, 27, 34, 46, 19, -2, -14, -6, 94, 21, 21, -13, 5, -9, 8, 27, 76, 29, 76, -14, 62, 44, 42, 39, 17, 33, 41, -15, 14, -35, 27, 45, 45, 24, 4, -10, 17, 19, 6, 34, 28, 75, -1, 80, -34, 35, 24, 25, 9, -5, 46, 46, 32, 17, 37, 75, 7, -11, 69, 78]\n",
        "-----\n",
        " \n",
        " \n",
        "Player 3 outcomes:\n",
        "[101, 199, 99, 117, 88, 87, 90, 146, 126, 179, 116, 91, 156, 160, 117, 71, 162, 160, 93, 69, 109, 88, 176, 151, 93, 124, 63, 174, 147, 111, 107, 145, 74, 139, 133, 70, 140, 139, 109, 72, 124, 130, 113, 138, 86, 131, 108, 106, 185, 98, 122, 69, 74, 139, 124, 117, 101, 96, 121, 149, 176, 121, 146, 78, 94, 107, 135, 56, 84, 84, 51, 126, 147, 142, 102, 80, 141, 121, 76, 130, 126, 155, 117, 162, 122, 163, 55, 89, 59, 65, 148, 94, 102, 118, 103, 121, 128, 133, 137, 128]\n",
        "-----\n",
        "-----\n",
        " \n",
        " \n",
        " \n",
        " \n",
        "Expected return for P playing never bust:  0.11473\n",
        "Expected return for P2 copying the dealer:  0.03339\n",
        "Expected return for P3 playing basic strategy:  0.11644\n",
        " \n",
        " \n",
        " \n",
        " \n",
        "-------"
       ]
      },
      {
       "output_type": "stream",
       "stream": "stdout",
       "text": [
        "\n",
        "Summary stats for Player 1 (never bust)\n",
        "-------\n",
        "Number of observations:  100\n",
        "Mean:  114.73\n",
        "Min to Max:  (40, 218)\n",
        "Variance:  1140.27989899\n",
        "Standard Dev.:  33.7680307242\n",
        "Skewness:  0.212489284595\n",
        "Kurtosis:  -0.0903909345351\n",
        "-------\n",
        "-------\n",
        " \n",
        " \n",
        " \n",
        "Summary stats for Player 2 (copy dealer)\n",
        "-------\n",
        "Number of observations:  100\n",
        "Mean:  33.39\n",
        "Min to Max:  (-35, 100)\n",
        "Variance:  948.684747475\n",
        "Standard Dev.:  30.8007264115\n",
        "Skewness:  0.100720276928\n",
        "Kurtosis:  -0.680806767636\n",
        "-------\n",
        "-------\n",
        " \n",
        " \n",
        " \n",
        "Summary stats for Player 3 (basic strategy)\n",
        "-------\n",
        "Number of observations:  100\n",
        "Mean:  116.44\n",
        "Min to Max:  (51, 199)\n",
        "Variance:  1059.2589899\n",
        "Standard Dev.:  32.5462592305\n",
        "Skewness:  0.101010223792\n",
        "Kurtosis:  -0.528373718938\n",
        "Summary stats for Player 2\n",
        "-------\n",
        " \n",
        " \n",
        " \n"
       ]
      },
      {
       "metadata": {},
       "output_type": "display_data",
       "png": "[encoded data removed]",
       "text": [
        "<matplotlib.figure.Figure at 0x10874ea50>"
       ]
      }
     ],
     "prompt_number": 13
    }
   ],
   "metadata": {}
  }
 ]
}