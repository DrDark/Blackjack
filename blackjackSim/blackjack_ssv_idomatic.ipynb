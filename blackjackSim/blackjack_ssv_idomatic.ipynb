{
 "metadata": {
  "name": ""
 },
 "nbformat": 3,
 "nbformat_minor": 0,
 "worksheets": [
  {
   "cells": [
    {
     "cell_type": "heading",
     "level": 2,
     "metadata": {},
     "source": [
      "A Blackjack Simulator - in idomatic form"
     ]
    },
    {
     "cell_type": "markdown",
     "metadata": {},
     "source": [
      "Below is my best effort to render what you have done in idiomatic form.  That is, using idiomatic IPython and Python. Well, to the best of my ability anyway :-)"
     ]
    },
    {
     "cell_type": "markdown",
     "metadata": {},
     "source": [
      "pylab has issues... as I understand, pylab, at one time, was intended to be a transition tool but now, by some measures, seems to have outlived its usefulness.  Today, imports such as 'from numpy import *' are frowned upon and considered poor practice yet this is what pylab does.  Worse, when pylab is invoked at the command line or from an IPython startup script such namespace polluting is even more concealed.  Bottom line... just say no to pylab.  For more information see... http://carreau.github.io/posts/10-No-PyLab-Thanks.ipynb.html"
     ]
    },
    {
     "cell_type": "markdown",
     "metadata": {},
     "source": [
      "The broader issue of practice is actually rather interesting as these conventions are not only socially constructed but in constant flux.  Reading someone's code indicates 1) whether they are aware of the social conventions and 2) whether they are reinforcing good practice in the artifacts they produce and share.  When we post our code we are potentially revealing quite a bit. This is why items such as GitHub accounts and open sourced content are requested of interviewees."
     ]
    },
    {
     "cell_type": "code",
     "collapsed": false,
     "input": [
      "# Enable IPython's matplotlib mode and specify the 'inline' backend for the notebook environment\n",
      "% matplotlib inline"
     ],
     "language": "python",
     "metadata": {},
     "outputs": []
    },
    {
     "cell_type": "code",
     "collapsed": false,
     "input": [
      "# Import numpy and pandas using the standard abbreviations\n",
      "import numpy as np\n",
      "import pandas as pd "
     ],
     "language": "python",
     "metadata": {},
     "outputs": []
    },
    {
     "cell_type": "code",
     "collapsed": false,
     "input": [
      "# Import specific commands using standard abbreviations\n",
      "import matplotlib.pyplot as plt\n",
      "from pandas import DataFrame"
     ],
     "language": "python",
     "metadata": {},
     "outputs": []
    },
    {
     "cell_type": "code",
     "collapsed": false,
     "input": [
      "# Alternatively, individual functions can be assigned to a name in the current namespace\n",
      "randn = np.random.randn"
     ],
     "language": "python",
     "metadata": {},
     "outputs": []
    },
    {
     "cell_type": "heading",
     "level": 3,
     "metadata": {},
     "source": [
      "Basics: Cards, Decks, and Shuffling"
     ]
    },
    {
     "cell_type": "heading",
     "level": 4,
     "metadata": {},
     "source": [
      "Cards and Decks"
     ]
    },
    {
     "cell_type": "markdown",
     "metadata": {},
     "source": [
      "Lists and dictionaries seem well suited (pun intended) as appropriate data structures for the task."
     ]
    },
    {
     "cell_type": "code",
     "collapsed": false,
     "input": [
      "# As a dictionary\n",
      "cards = {\n",
      "         'ace': 4,\n",
      "         'two': 4,\n",
      "         'three': 4,\n",
      "         'four': 4,\n",
      "         'five': 4,\n",
      "         'six': 4,\n",
      "         'seven': 4,\n",
      "         'eight': 4,\n",
      "         'nine': 4,\n",
      "         'ten':16\n",
      "         }\n",
      "\n",
      "cards['ace']"
     ],
     "language": "python",
     "metadata": {},
     "outputs": []
    },
    {
     "cell_type": "code",
     "collapsed": false,
     "input": [
      "# Create the same dict from two lists using zip()\n",
      "card_ranks = ['ace', 'two', 'three', 'four', 'five', 'six', 'seven', 'eight', 'nine', 'ten']\n",
      "card_counts = [4, 4, 4, 4, 4, 4, 4, 4, 4, 16]\n",
      "\n",
      "cards = dict(zip(card_ranks,card_counts))\n",
      "\n",
      "cards.get('five', None)"
     ],
     "language": "python",
     "metadata": {},
     "outputs": []
    },
    {
     "cell_type": "code",
     "collapsed": false,
     "input": [
      "# Using the get() method above, would return a value of None if the key 'five' were not found in cards\n",
      "# For example, alternately compare the two statements...\n",
      "\n",
      "cards.get('eleven', None)\n",
      "#cards['eleven']"
     ],
     "language": "python",
     "metadata": {},
     "outputs": []
    },
    {
     "cell_type": "markdown",
     "metadata": {},
     "source": [
      "A dictionary may be a convenient data structure for passing around an arbitrary collection of cards, but whether or not it is effienct will depend on the computational tasks at hand."
     ]
    },
    {
     "cell_type": "heading",
     "level": 4,
     "metadata": {},
     "source": [
      "Decks"
     ]
    },
    {
     "cell_type": "markdown",
     "metadata": {},
     "source": [
      "A deck may be defined as a sequence of card ranks"
     ]
    },
    {
     "cell_type": "code",
     "collapsed": false,
     "input": [
      "# Generating a deck with a list comprehension form the cards dictionary is quite compact\n",
      "deck = [rank for rank in cards for count in range(cards[rank])]\n",
      "\n",
      "#deck.sort()\n",
      "deck"
     ],
     "language": "python",
     "metadata": {},
     "outputs": []
    },
    {
     "cell_type": "code",
     "collapsed": false,
     "input": [
      "# A numerically (integer) valued alternative with aces labeled as '1'\n",
      "card_ranks = ['1', '2', '3', '4', '5', '6', '7', '8', '9', '10']\n",
      "card_counts = [4, 4, 4, 4, 4, 4, 4, 4, 4, 16]\n",
      "\n",
      "cards = dict(zip(card_ranks,card_counts))  # Very compact\n",
      "\n",
      "# A slight modification to the previous list comprehension produces the list of integers\n",
      "deck = [ int(rank) for rank in cards for count in range(cards[rank])]\n",
      "\n",
      "deck.sort()\n",
      "\n",
      "cards"
     ],
     "language": "python",
     "metadata": {},
     "outputs": []
    },
    {
     "cell_type": "code",
     "collapsed": false,
     "input": [
      "# A function that builds decks from lists of ranks and counts\n",
      "# Providing a doc string supports introspection!\n",
      "def deck_from_lists(ranks, counts, n_decks=1, shuffled=True):\n",
      "    '''Returns a new deck of cards from ranks and counts\n",
      "    Takes a list of ranks as integers and enumerates them by the integer\n",
      "    values in the list counts to return a list of integer values representing\n",
      "    a sequence of cards: the deck. The integer n_decks is the number of,\n",
      "    for example, 52 card decks to be generated. For the boolean shuffled,\n",
      "    True indicates a random card order. False preserves the order in \n",
      "    the list ranks.\n",
      "    \n",
      "    Requirements\n",
      "    - numpy imported as np\n",
      "    \n",
      "    '''\n",
      "    deck = [card for (i, card) in enumerate(ranks) for count in range(counts[i])] * n_decks\n",
      "    \n",
      "    if shuffled:\n",
      "        np.random.shuffle(deck)\n",
      "\n",
      "    return deck"
     ],
     "language": "python",
     "metadata": {},
     "outputs": []
    },
    {
     "cell_type": "code",
     "collapsed": false,
     "input": [
      "ranks = [1, 2, 3, 4, 5, 6, 7, 8, 9, 10]\n",
      "counts = [4, 4, 4, 4, 4, 4, 4, 4, 4, 16]\n",
      "\n",
      "deck = deck_from_lists(ranks, counts)\n",
      "deck"
     ],
     "language": "python",
     "metadata": {},
     "outputs": []
    },
    {
     "cell_type": "markdown",
     "metadata": {},
     "source": [
      "In the previous implementation of the function int_deck() it's important that the two lists, ranks and counts, are the same length.  The function could (and probably should) be enhanced to check for this.\n",
      "\n",
      "An alternative is to create a similar function that takes a dict of cards as input rather than two separate lists."
     ]
    },
    {
     "cell_type": "code",
     "collapsed": false,
     "input": [
      "# A function that builds decks from a dict of cards\n",
      "# Since the keys in a dictionary are unordered, the order of the ranks\n",
      "# in an unshuffled deck is unpredictable\n",
      "def deck_from_dict(cards, n_decks=1, shuffled=True):\n",
      "    '''Returns a new deck of cards from the dict cards\n",
      "    Takes a dict of cards with key:value pairs ranks:counts to return a list \n",
      "    of integer values representing a sequence of cards: the deck. The keys are\n",
      "    of the form '1', '2', etc. representing the card rank. The values are integers\n",
      "    (2, 4, or 10 for example) that represent the count of the particular key. The \n",
      "    key:value pair 'five':4 would indicate four cards of rank five.  The integer \n",
      "    n_decks is the number of, for example, 52 card decks to be generated. For the \n",
      "    boolean shuffled, True indicates a random card order. False preserves the \n",
      "    unspecified order of the keys in the dictionary.\n",
      "    \n",
      "    Requirements\n",
      "    - numpy imported as np\n",
      "    \n",
      "    '''\n",
      "    deck = [int(rank) for rank in cards for count in range(cards[rank])] * n_decks\n",
      "    \n",
      "    if shuffled:\n",
      "        np.random.shuffle(deck)\n",
      "\n",
      "    return deck"
     ],
     "language": "python",
     "metadata": {},
     "outputs": []
    },
    {
     "cell_type": "code",
     "collapsed": false,
     "input": [
      "# I copied the output from the cards dict above hence the goofy order :-)\n",
      "cards = {'1': 4,\n",
      "         '10': 16,\n",
      "         '2': 4,\n",
      "         '3': 4,\n",
      "         '4': 4,\n",
      "         '5': 4,\n",
      "         '6': 4,\n",
      "         '7': 4,\n",
      "         '8': 4,\n",
      "         '9': 4\n",
      "         }\n",
      "\n",
      "deck = deck_from_dict(cards)\n",
      "deck"
     ],
     "language": "python",
     "metadata": {},
     "outputs": []
    },
    {
     "cell_type": "code",
     "collapsed": false,
     "input": [
      "# It's probably worth it to have a function to directly generate\n",
      "# multiples of a standard deck?\n",
      "\n",
      "def std_deck(n_decks=1, shuffled=True):\n",
      "    '''Returns a standard (52 card) deck of cards\n",
      "    The integer n_decks is the number of 52 card decks to be returned. \n",
      "    For the boolean shuffled, True indicates a random card order. False returns \n",
      "    the cards in rank order.\n",
      "    \n",
      "    Requirements\n",
      "    - numpy imported as np\n",
      "    \n",
      "    '''\n",
      "    ranks = [1, 2, 3, 4, 5, 6, 7, 8, 9, 10]\n",
      "    counts = [4, 4, 4, 4, 4, 4, 4, 4, 4, 16]\n",
      "    \n",
      "    deck = [card for (i, card) in enumerate(ranks) for count in range(counts[i])] * n_decks\n",
      "    \n",
      "    if shuffled:\n",
      "        np.random.shuffle(deck)\n",
      "\n",
      "    return deck"
     ],
     "language": "python",
     "metadata": {},
     "outputs": [],
     "prompt_number": 118
    },
    {
     "cell_type": "code",
     "collapsed": false,
     "input": [
      "deck = std_deck(shuffled=False)\n",
      "deck"
     ],
     "language": "python",
     "metadata": {},
     "outputs": [
      {
       "metadata": {},
       "output_type": "pyout",
       "prompt_number": 124,
       "text": [
        "[1,\n",
        " 1,\n",
        " 1,\n",
        " 1,\n",
        " 2,\n",
        " 2,\n",
        " 2,\n",
        " 2,\n",
        " 3,\n",
        " 3,\n",
        " 3,\n",
        " 3,\n",
        " 4,\n",
        " 4,\n",
        " 4,\n",
        " 4,\n",
        " 5,\n",
        " 5,\n",
        " 5,\n",
        " 5,\n",
        " 6,\n",
        " 6,\n",
        " 6,\n",
        " 6,\n",
        " 7,\n",
        " 7,\n",
        " 7,\n",
        " 7,\n",
        " 8,\n",
        " 8,\n",
        " 8,\n",
        " 8,\n",
        " 9,\n",
        " 9,\n",
        " 9,\n",
        " 9,\n",
        " 10,\n",
        " 10,\n",
        " 10,\n",
        " 10,\n",
        " 10,\n",
        " 10,\n",
        " 10,\n",
        " 10,\n",
        " 10,\n",
        " 10,\n",
        " 10,\n",
        " 10,\n",
        " 10,\n",
        " 10,\n",
        " 10,\n",
        " 10]"
       ]
      }
     ],
     "prompt_number": 124
    },
    {
     "cell_type": "markdown",
     "metadata": {},
     "source": [
      "Now we have three alternate methods, deck_from_lists() deck_from_dict() std_deck(), of generating shuffled decks of arbitrary (multiple) size"
     ]
    },
    {
     "cell_type": "heading",
     "level": 4,
     "metadata": {},
     "source": [
      "Deck shuffling version 1: shuffle and draw without replacement"
     ]
    },
    {
     "cell_type": "code",
     "collapsed": false,
     "input": [
      "# Shuffling a deck in place\n",
      "np.random.shuffle(deck)"
     ],
     "language": "python",
     "metadata": {},
     "outputs": []
    },
    {
     "cell_type": "markdown",
     "metadata": {},
     "source": [
      "Drako, I see why you are interested in using classes... it would be nice to do something like deck.shuffle(), or card.rank()\n",
      "\n",
      "But, then again, switching to objects might have the side effect of burdening computation/simulation efforts?"
     ]
    },
    {
     "cell_type": "code",
     "collapsed": false,
     "input": [
      "# Drawing a card from a the end of the deck (no replacement)\n",
      "\n",
      "new_deck = list(deck)\n",
      "\n",
      "for card in deck:\n",
      "    print new_deck.pop()\n",
      "    \n",
      "# Why does the following code return only half the cards in the deck?\n",
      "'''\n",
      "new_deck = deck\n",
      "\n",
      "for card in deck:\n",
      "    print new_deck.pop()\n",
      "'''    "
     ],
     "language": "python",
     "metadata": {},
     "outputs": []
    },
    {
     "cell_type": "heading",
     "level": 4,
     "metadata": {},
     "source": [
      "Shuffle and draw with replacement: a continuous shuffle"
     ]
    },
    {
     "cell_type": "markdown",
     "metadata": {},
     "source": [
      "Again, with classes, something like deck.rdraw() might return a random draw from deck (with or without replacement)"
     ]
    },
    {
     "cell_type": "code",
     "collapsed": false,
     "input": [
      "# Draw 10 random cards from deck without replacement\n",
      "\n",
      "for i in range(10):\n",
      "    print deck[np.random.choice(len(deck))]"
     ],
     "language": "python",
     "metadata": {},
     "outputs": []
    },
    {
     "cell_type": "code",
     "collapsed": false,
     "input": [
      "# Draw 10 random cards from deck with replacement\n",
      "\n",
      "for i in range(10):\n",
      "    print deck[np.random.choice(len(deck), replace=True)]"
     ],
     "language": "python",
     "metadata": {},
     "outputs": []
    },
    {
     "cell_type": "heading",
     "level": 3,
     "metadata": {},
     "source": [
      "Card counting"
     ]
    },
    {
     "cell_type": "code",
     "collapsed": false,
     "input": [
      "# Given their small size, maybe it's better to enumerate directly rather than using range()?\n",
      "# Since these short collections are immutable it may be advantageous to use a tuple?\n",
      "# It's frowned upon to differentiate variable names by case alone... \n",
      "# very easy to introduce a difficult to find bug!\n",
      "\n",
      "# 'Old' card counting bins\n",
      "low = (2, 3, 4, 5, 6)  # total of 20 per deck\n",
      "neutral = (7, 8, 9)    # total of 12 per deck\n",
      "high = (1, 10)         # Aces and 10s, total of 20 per deck"
     ],
     "language": "python",
     "metadata": {},
     "outputs": []
    },
    {
     "cell_type": "code",
     "collapsed": false,
     "input": [
      "# 'New' card counting bins\n",
      "low_new = (2, 3, 4, 5, 6, 7) # total of 24 per deck\n",
      "high_new = (8, 9, 10)        # total of 24 per deck\n",
      "neutral_new = (1)            # Aces, total of 4 per deck"
     ],
     "language": "python",
     "metadata": {},
     "outputs": []
    },
    {
     "cell_type": "code",
     "collapsed": false,
     "input": [
      "# Maybe you had other plans, but looking ahead it seems that cardCount is always passed a value\n",
      "# of 0 for count.  Better as a simpler binning function?\n",
      "# Since the bins seem to be fixed, maybe code them directly in the function?\n",
      "# My understanding is that it's better practice to put the return on the next line... I think\n",
      "# it makes it a bit easier to read\n",
      "\n",
      "# Good to order the conditionals from highest to lowest probability :-)\n",
      "\n",
      "def card_count_rank(card):\n",
      "    '''Return a card's count rank as an integer (1, 0, -1)\n",
      "    card in (2, 3, 4, 5, 6) return 1\n",
      "    card in (7, 8, 9) return 0\n",
      "    card in (1, 10) return -1\n",
      "    \n",
      "    '''\n",
      "    if card in (2, 3, 4, 5, 6):\n",
      "        return 1\n",
      "    elif card in (7, 8, 9):\n",
      "        return 0\n",
      "    elif card in (1, 10):\n",
      "        return -1"
     ],
     "language": "python",
     "metadata": {},
     "outputs": [],
     "prompt_number": 113
    },
    {
     "cell_type": "code",
     "collapsed": false,
     "input": [
      "card = 10\n",
      "card_count_rank(card)"
     ],
     "language": "python",
     "metadata": {},
     "outputs": [
      {
       "metadata": {},
       "output_type": "pyout",
       "prompt_number": 117,
       "text": [
        "-1"
       ]
      }
     ],
     "prompt_number": 117
    },
    {
     "cell_type": "code",
     "collapsed": false,
     "input": [
      "# The division 'count / d' could be either real or integer division depending on the value of d?\n",
      "# So trueCount may return an integer or a real value?\n",
      "# Is that what you intended?\n",
      "\n",
      "# Also, I'm left wondering where max() comes from - Python or numpy? They each have one :-/\n",
      "\n",
      "def trueCount(count, len_deck):\n",
      "    d = max(1, len_deck/52.) # The number of decks remaining\n",
      "    return count / d"
     ],
     "language": "python",
     "metadata": {},
     "outputs": []
    },
    {
     "cell_type": "code",
     "collapsed": false,
     "input": [
      "# It's always better to use descriptive words - code is read many more times than it is typed :-)\n",
      "\n",
      "n_decks = 5\n",
      "\n",
      "print 'Testing card counting function over a %d deck(s)' % (n_decks)\n",
      "print '--------------------'\n",
      "deck = std_deck(n_decks)\n",
      "counts = [card_count_rank(card) for card in deck]\n",
      "counts_cs = np.cumsum(counts)\n",
      "print 'The max count :', np.max(counts_cs)\n",
      "print 'The min count :', np.min(counts_cs)\n",
      "print 'The mean count :', np.mean(counts_cs)\n",
      "print 'The median count :', np.median(counts_cs)\n",
      "print 'The count of the final card ought to be 0 and it is:', counts_cs[-1]\n",
      "plt.figure(1)\n",
      "plt.plot(range(len(counts_cs)), counts_cs, 'k-', lw = 1.5)\n",
      "plt.figure(2)\n",
      "plt.hist(counts_cs, color = 'red', alpha = .5);"
     ],
     "language": "python",
     "metadata": {},
     "outputs": [
      {
       "output_type": "stream",
       "stream": "stdout",
       "text": [
        "Testing card counting function over a 5 deck(s)\n",
        "--------------------\n",
        "The max count : 6\n",
        "The min count : -10\n",
        "The mean count : -2.92692307692\n",
        "The median count : -3.0\n",
        "The count of the final card ought to be 0 and it is: 0\n"
       ]
      },
      {
       "metadata": {},
       "output_type": "display_data",
       "png": "[encoded data removed]",
       "text": [
        "<matplotlib.figure.Figure at 0x1079ef3d0>"
       ]
      },
      {
       "metadata": {},
       "output_type": "display_data",
       "png": "[encoded data removed]",
       "text": [
        "<matplotlib.figure.Figure at 0x1079efd50>"
       ]
      }
     ],
     "prompt_number": 168
    },
    {
     "cell_type": "code",
     "collapsed": false,
     "input": [
      "# Let us quickly look at true count as well: \n",
      "T = [trueCount(k, (len(B)-i)) for i, k in enumerate(B)]\n",
      "plt.figure(1)\n",
      "plot(range(len(B)), B, 'k-', lw = 1.5)\n",
      "plot(T, 'r--',lw = 1.5); "
     ],
     "language": "python",
     "metadata": {},
     "outputs": []
    },
    {
     "cell_type": "raw",
     "metadata": {},
     "source": [
      "For kicks, we count cards over 1000 deck shuffle: "
     ]
    },
    {
     "cell_type": "code",
     "collapsed": false,
     "input": [
      "print 'Testing card counting function over 1000 decks'\n",
      "print '--------------------'\n",
      "D = deckShuffle(1000)\n",
      "A = [cardCount(d, 0) for d in D]\n",
      "B = cumsum(A)\n",
      "print 'The max count :', max(B)\n",
      "print 'The min count :', min(B)\n",
      "print 'The mean count :', mean(B)\n",
      "print 'The median count :', median(B)\n",
      "print 'The count of the final card ought to be 0 and it is:', B[-1]\n",
      "plt.figure(1)\n",
      "plt.subplot(211)\n",
      "plot(range(len(B)), B, 'k-', lw = .3)\n",
      "plt.subplot(212)\n",
      "hist(B, color = 'red', alpha = .5);"
     ],
     "language": "python",
     "metadata": {},
     "outputs": []
    },
    {
     "cell_type": "code",
     "collapsed": false,
     "input": [
      "# We can see that as expected in such a large deck, the true count is essentially 0 until just\n",
      "# before the very end of the deck. \n",
      "T = [trueCount(k, (len(B)-i)) for i, k in enumerate(B)]\n",
      "plt.figure(1)\n",
      "plot(range(len(B)), B, 'k-', lw = .5)\n",
      "plot(T, 'g-',lw = .5, alpha = .75); "
     ],
     "language": "python",
     "metadata": {},
     "outputs": []
    },
    {
     "cell_type": "raw",
     "metadata": {},
     "source": [
      "Let us look at a 3 deck nontrivial example of true count. The current and true count converge as we get closer to the end of the dealing shoe. "
     ]
    },
    {
     "cell_type": "code",
     "collapsed": false,
     "input": [
      "print 'Testing card counting function over three decks'\n",
      "print '--------------------'\n",
      "D = deckShuffle(3)\n",
      "A = [cardCount(d, 0) for d in D]\n",
      "B = cumsum(A)\n",
      "print 'The max count :', max(B)\n",
      "print 'The min count :', min(B)\n",
      "print 'The mean count :', mean(B)\n",
      "print 'The median count :', median(B)\n",
      "print 'The count of the final card ought to be 0 and it is:', B[-1]\n",
      "plt.figure(1)\n",
      "plot(range(len(B)), B, 'k-', lw = 1.5)\n",
      "plt.figure(2)\n",
      "hist(B, color = 'red', alpha = .5)\n",
      "T = [trueCount(k, (len(B)-i)) for i, k in enumerate(B)]\n",
      "plt.figure(3)\n",
      "plot(range(len(B)), B, 'k-', lw = 1.5)\n",
      "plot(T, 'r-',lw = 1.5); "
     ],
     "language": "python",
     "metadata": {},
     "outputs": []
    },
    {
     "cell_type": "raw",
     "metadata": {},
     "source": [
      "On a continuous shuffle, the patterns are similar. The main difference is that there is no guarantee that the count will revert to 0. This makes developing card counting techniques much harder if not impossible. As the cards are drawn with replacement, a large number of 10s does not even suggest let alone guarantee a dry spell for 10s. The present and the future 10s are almost wholy independent. Any counting like strategy would have to rely on something more sophisticated than what is essentially a pigeon hole principle."
     ]
    },
    {
     "cell_type": "code",
     "collapsed": false,
     "input": [
      "print 'Testing card counting function over 52 cards (a deck) from a continuous shuffle'\n",
      "print '--------------------'\n",
      "D = [drawCont() for i in range(52)]\n",
      "A = [cardCount(d, 0) for d in D]\n",
      "B = cumsum(A)\n",
      "print 'The max count :', max(B)\n",
      "print 'The min count :', min(B)\n",
      "print 'The mean count :', mean(B)\n",
      "print 'The median count :', median(B)\n",
      "print 'The count of the final card (expected value is 0):', B[-1]\n",
      "plt.figure(1)\n",
      "plot(range(len(B)), B, 'k-', lw = 1.5)\n",
      "plt.figure(2)\n",
      "hist(B, color = 'red', alpha = .5);"
     ],
     "language": "python",
     "metadata": {},
     "outputs": []
    },
    {
     "cell_type": "heading",
     "level": 3,
     "metadata": {},
     "source": [
      "Periodic draw and perdiodic shuffle"
     ]
    },
    {
     "cell_type": "raw",
     "metadata": {},
     "source": [
      "It has been observed that a) one way to keep the count useless is to artificially keep it close to 0 at all times, b) that a shuffle that does so seems to favor the dealer. "
     ]
    },
    {
     "cell_type": "raw",
     "metadata": {},
     "source": [
      "Periodic shuffle ensures that cards are drawn periodically from low and high\n",
      "cards. For instance one can insist that no more than two low and two high cards are drawn in sequence. Periodicity of course drastically reduces the number of possible shuffles thus very likely changing outcomes. Designed right, these periodic shuffles may appear more random to a naked eye. "
     ]
    },
    {
     "cell_type": "raw",
     "metadata": {},
     "source": [
      "As before, we define both functions periodic draw and periodic shuffle. Periodic draw utilizes card counting and ensures that the count stays within some predefined count limit [-n, n]. countLimit set to 1 ensures that you never see more than two low or two high cards in an unbroken sequence, but it also ensures that the difference between the number of high and low cards drawn is never higher than |1|. As we increase countLimit we get sequences of cards that resemble true randomness. Notice taht the cards with a low limit may appear `more` random to a naked eye, but are definitely not so. A sequence of 5 consecutive 10s in a six deck card shuffle would be a near certainty, and yet impossible if the countLimit regime is |2|."
     ]
    },
    {
     "cell_type": "code",
     "collapsed": false,
     "input": [
      "def drawPeriodic(count, period, Deck=deckShuffle()):\n",
      "    i = random.choice(len(Deck))\n",
      "    if Deck[i] == 'A': \n",
      "        return cardCount(Deck[i], 0) + count, Deck.pop(i)\n",
      "    else:     \n",
      "        while (abs(cardCount(Deck[i], count)) > period) or (Deck[i]=='A'):\n",
      "            i = random.choice(len(Deck))\n",
      "    return cardCount(Deck[i], 0) + count, Deck.pop(i)    "
     ],
     "language": "python",
     "metadata": {},
     "outputs": []
    },
    {
     "cell_type": "raw",
     "metadata": {},
     "source": [
      "Procedure for creating a periodic deck of predetermined number of decks and predetermined period. Below, the count period is 3, the number of decks is 10. The new periodically shuffled deck is stored in the list `periodDeck`."
     ]
    },
    {
     "cell_type": "code",
     "collapsed": false,
     "input": [
      "def periodShuffle(period, deckSize=6):\n",
      "    deck = deckShuffle(deckSize)\n",
      "    Count = 0\n",
      "    periodDeck = []\n",
      "    countList = []\n",
      "    for j in range(len(deck)):\n",
      "        Count, i = drawPeriodic(Count, period = period, Deck=deck)\n",
      "        periodDeck.append(i)\n",
      "        countList.append(Count)\n",
      "    return periodDeck "
     ],
     "language": "python",
     "metadata": {},
     "outputs": []
    },
    {
     "cell_type": "raw",
     "metadata": {},
     "source": [
      "Some values from periodDeck"
     ]
    },
    {
     "cell_type": "code",
     "collapsed": false,
     "input": [
      "D = periodShuffle(2, 1)\n",
      "print D[:52]\n",
      "len(D)"
     ],
     "language": "python",
     "metadata": {},
     "outputs": []
    },
    {
     "cell_type": "raw",
     "metadata": {},
     "source": [
      "We look at a deck created by the procedure above:"
     ]
    },
    {
     "cell_type": "code",
     "collapsed": false,
     "input": [
      "print 'Testing periodic draw'\n",
      "print '--------------------'\n",
      "A = [cardCount(d, 0) for d in D]\n",
      "B = cumsum(A)\n",
      "print 'The max count :', max(B)\n",
      "print 'The min count :', min(B)\n",
      "print 'The mean count :', mean(B)\n",
      "print 'The median count :', median(B)\n",
      "print 'The count of the final card ought to be 0 and it is:', B[-1]\n",
      "plt.figure(1)\n",
      "plot(range(len(B)), B, 'k-', lw = .5)\n",
      "plt.figure(2)\n",
      "hist(B, color = 'red', alpha = .5);"
     ],
     "language": "python",
     "metadata": {},
     "outputs": []
    },
    {
     "cell_type": "raw",
     "metadata": {},
     "source": [
      "Draw in order from a list:"
     ]
    },
    {
     "cell_type": "raw",
     "metadata": {},
     "source": [
      "Another card drawing procedure. This one simply draws the first card in from a list. "
     ]
    },
    {
     "cell_type": "code",
     "collapsed": false,
     "input": [
      "def orderedDraw(deck = deckShuffle()):\n",
      "    return deck.pop(0)"
     ],
     "language": "python",
     "metadata": {},
     "outputs": []
    },
    {
     "cell_type": "code",
     "collapsed": false,
     "input": [
      "Deck = sorted(deckShuffle(1))\n",
      "for j in xrange(6):\n",
      "    print [orderedDraw(Deck) for i in range(8)]\n",
      "Deck    "
     ],
     "language": "python",
     "metadata": {},
     "outputs": []
    },
    {
     "cell_type": "code",
     "collapsed": false,
     "input": [
      "len(Deck)"
     ],
     "language": "python",
     "metadata": {},
     "outputs": []
    },
    {
     "cell_type": "heading",
     "level": 3,
     "metadata": {},
     "source": [
      "Finding card totals:"
     ]
    },
    {
     "cell_type": "raw",
     "metadata": {},
     "source": [
      "Adding cards in blackjack is complicated by the presece of aces and the fact that all face cards count as 10. The latter difficulty is easily overcome, for the former we introduce the functions below. "
     ]
    },
    {
     "cell_type": "raw",
     "metadata": {},
     "source": [
      "Adding with an Ace: what complicates the simulation of a game of blackjack is\n",
      "the distinction between `soft` and `hard` hands. The aces are responsible.\n",
      "Below we figure out how to add an ace to a card or a total. Say you have a 5 and an ace. Their total value is not a single number but a choice between 6 and 16. We treat this as an numpy array [6, 16]. This introduces a number of necessary complications in the code below. Given the function below, the array is never longer than 2. If its lenght is 1, it is converted back to an inger. If it is empty, the hand has busted. "
     ]
    },
    {
     "cell_type": "code",
     "collapsed": false,
     "input": [
      "def AddAce(card):\n",
      "    if card == 'A': return AddAce(array([1, 11])) # Both cards aces\n",
      "    else: \n",
      "        result = array([card + 1, card + 11]) \n",
      "        result = result.flatten()[result.flatten()<22] # Flatten and keep values < 22 only\n",
      "        if len(unique(result))==1: return int(result) # Array of length 1 to int\n",
      "        else: return unique(result)    # Remove repeting values"
     ],
     "language": "python",
     "metadata": {},
     "outputs": []
    },
    {
     "cell_type": "raw",
     "metadata": {},
     "source": [
      "To figure out the value of a dealt hand, we need to add up the cards. Once again\n",
      "aces complicate the picture, but with the function AddAce() we are set to go:"
     ]
    },
    {
     "cell_type": "code",
     "collapsed": false,
     "input": [
      "# Adding a card to a total:\n",
      "def AddCards(cards, card):\n",
      "    if cards == 'A': return AddAce(card)\n",
      "    elif card == 'A': return AddAce(cards)\n",
      "    elif isinstance(cards + card, int): return cards + card\n",
      "    else: \n",
      "        result = cards + card \n",
      "        result = result.flatten()[result.flatten()<22]\n",
      "        if len(unique(result))==1: return int(result)\n",
      "        else: return unique(result)"
     ],
     "language": "python",
     "metadata": {},
     "outputs": []
    },
    {
     "cell_type": "raw",
     "metadata": {},
     "source": [
      "Defining bust condition: one has busted if one either ends up with an empty\n",
      "numpy array or a card total higher than 21."
     ]
    },
    {
     "cell_type": "code",
     "collapsed": false,
     "input": [
      "def Bust(cards):\n",
      "    if isinstance(cards, int):\n",
      "        if cards > 21: return True\n",
      "    elif not isinstance(cards, int): \n",
      "        if len(cards) == 0: return True\n",
      "    else: return False"
     ],
     "language": "python",
     "metadata": {},
     "outputs": []
    },
    {
     "cell_type": "heading",
     "level": 3,
     "metadata": {},
     "source": [
      "House rules and dealer strategies:"
     ]
    },
    {
     "cell_type": "raw",
     "metadata": {},
     "source": [
      "There are numerous variances of blackjack. We define a basic dealer strategy below where the dealer hits on 16 and below only. One can easily modify this to have the dealer hit on hard or soft 17 or any other combo. "
     ]
    },
    {
     "cell_type": "raw",
     "metadata": {},
     "source": [
      "House strategy: Hit < hard = 17 and < soft = 17 are defaults that can be changed. The function seems more complicated than it is, mostly because of the aces. On default settings, it draws on soft and hard 16 (but this can be easily changed). The process is completely deterministic. One can use it to determine the expected number of outcomes, given dealer's fist card. For instance, \"given an Ace, what is the expected % of a house blackjack?\" or \"Given a deler's 5, what is the chance that the outcome will be 19 or lower. It returns a tripple: the total, the number of cards drawn, the list of cards. For example:\n",
      "    ('BJ', 2, ['A', 10]) represents a house blackjack\n",
      "    (22, 4, ['A','A', 10, 10]), a house bust."
     ]
    },
    {
     "cell_type": "code",
     "collapsed": false,
     "input": [
      "def dealerPlay(dealer, deck, hard = 17, soft = 17):\n",
      "    lst =[dealer]\n",
      "    card = orderedDraw(deck)\n",
      "    lst.append(card) \n",
      "    dealer = AddCards(dealer, card)\n",
      "    count = 2\n",
      "    if (not isinstance(dealer, int) and dealer[1] == 21): return 'BJ', count, lst\n",
      "\n",
      "    while not Bust(dealer) and ((isinstance(dealer, int) and dealer < hard) \n",
      "                                or(not isinstance(dealer, int) and dealer[1] < soft)):\n",
      "            count = count + 1\n",
      "            card = orderedDraw(deck)\n",
      "            lst.append(card) \n",
      "            dealer = AddCards(dealer, card)\n",
      "    if isinstance(dealer, int): \n",
      "            if dealer > 21: return 'Bust', count, lst\n",
      "            else: return dealer, count, lst\n",
      "    else: \n",
      "            if len(dealer) == 2: return int(dealer[1]), count, lst\n",
      "            else: return 'Bust', count, lst"
     ],
     "language": "python",
     "metadata": {},
     "outputs": []
    },
    {
     "cell_type": "heading",
     "level": 3,
     "metadata": {},
     "source": [
      "Player strategies:"
     ]
    },
    {
     "cell_type": "raw",
     "metadata": {},
     "source": [
      "There is virtually infinitely many player strategies. We define some basic ones and some used for testing both against various house rules and biases. The goal is to understand what strategy works best under what shuffling and rule regimes. For instance, we can explore questions like what is the best strategy in hand dealt five decks game and how does the strategy change with five deck continuous shuffle. "
     ]
    },
    {
     "cell_type": "raw",
     "metadata": {},
     "source": [
      "Basic Player Strategy"
     ]
    },
    {
     "cell_type": "code",
     "collapsed": false,
     "input": [
      "def playerStrategy(dealer, card1, card2, deck):\n",
      "    player = [card1, card2]\n",
      "    total = AddCards(card1, card2)\n",
      "    count = 2\n",
      "    if (not isinstance(total, int) and total[1] == 21): \n",
      "        return 'BJ', count, player\n",
      "    \n",
      "    while not Bust(total) and ((not isinstance(total, int) and ((dealer in [9, 10, 'A'] and total[1] < 19) or (dealer not in [9, 10, 'A'] and total[1] < 18))) or  \n",
      "            (isinstance(total, int) and ((total < 17 and dealer in [7, 8, 9, 10, 'A']) or  (total < 13 and dealer in [2, 3, 4, 5, 6]) and not (total == 12 and dealer in [4, 5, 6])))): \n",
      "                 count = count + 1\n",
      "                 card = orderedDraw(deck)\n",
      "                 player = player + [card]\n",
      "                 total = AddCards(total, card)\n",
      "    if isinstance(total, int): \n",
      "            if total > 21: return 'Bust', count, player\n",
      "            else: return total, count, player\n",
      "    else: \n",
      "            if len(total) == 2: return int(total[1]), count, player\n",
      "            else: return 'Bust', count, player"
     ],
     "language": "python",
     "metadata": {},
     "outputs": []
    },
    {
     "cell_type": "raw",
     "metadata": {},
     "source": [
      "New strategy:"
     ]
    },
    {
     "cell_type": "code",
     "collapsed": false,
     "input": [
      "def playerStrategy(dealer, card1, card2, deck):\n",
      "    player = [card1, card2]\n",
      "    total = AddCards(card1, card2)\n",
      "    count = 2\n",
      "    if (not isinstance(total, int) and total[1] == 21): return 'BJ', count, player\n",
      "    else:\n",
      "        while not Bust(total) and ((not isinstance(total, int) and ((dealer in [9, 10, 'A'] and total[1] < 19) or (dealer not in [9, 10, 'A'] and total[1] < 18))) or  \n",
      "            (isinstance(total, int) and ((total < 18)))):# and dealer in [7, 8, 9, 10, 'A']) or  (total < 15 and dealer in [2, 3]))): #or , 4, 5, 6]) and not (total == 12 and dealer in [4, 5, 6])))): \n",
      "                 count = count + 1\n",
      "                 card = orderedDraw(deck)\n",
      "                 player = player + [card]\n",
      "                 total = AddCards(total, card)\n",
      "        if isinstance(total, int): \n",
      "            if total > 21: return 'Bust', count, player\n",
      "            else: return total, count, player\n",
      "        else: \n",
      "            if len(total) == 2: return int(total[1]), count, player\n",
      "            else: return 'Bust', count, player"
     ],
     "language": "python",
     "metadata": {},
     "outputs": []
    },
    {
     "cell_type": "heading",
     "level": 3,
     "metadata": {},
     "source": [
      "Determining the winner:"
     ]
    },
    {
     "cell_type": "raw",
     "metadata": {},
     "source": [
      "The function to determine if the player won/lost/pushed"
     ]
    },
    {
     "cell_type": "code",
     "collapsed": false,
     "input": [
      "def playerWin(dealer, player, blackjack = 1.5):\n",
      "    if dealer == 'BJ':\n",
      "        if player == 'BJ': return 0, 'Push'\n",
      "        else: return -1, 'Loss'\n",
      "    if player == 'BJ':\n",
      "        if dealer == 'BJ': return 0, 'Push'\n",
      "        else: return blackjack, 'Win'\n",
      "    elif dealer == 'Bust'and player != 'Bust': return 1, 'Win'\n",
      "    elif player == 'Bust': return -1, 'Loss'\n",
      "    elif player > dealer: return 1, 'Win' \n",
      "    elif player < dealer: return -1, 'Loss'\n",
      "    else: return 0, 'Push'\n",
      "        "
     ],
     "language": "python",
     "metadata": {},
     "outputs": []
    },
    {
     "cell_type": "heading",
     "level": 3,
     "metadata": {},
     "source": [
      "Counting cards and player strategies"
     ]
    },
    {
     "cell_type": "code",
     "collapsed": false,
     "input": [
      "playerStrategy(4, 2, 10, ['A', 3, 'A', 4])"
     ],
     "language": "python",
     "metadata": {},
     "outputs": []
    },
    {
     "cell_type": "raw",
     "metadata": {},
     "source": [
      "fixedDeck =  periodShuffle(2, 1)\n",
      "fixedCount = [cardCount(d, 0) for d in fixedDeck]\n",
      "fixedDeck = array(fixedDeck)\n",
      "fixedCount = array(fixedCount)\n",
      "dict1 = {'fixedDeck':fixedDeck, 'fixedCount' : fixedCount}\n",
      "dataFixed = DataFrame(dict1)\n",
      "dataFixed['Current Count'] = cumsum(dataFixed['fixedCount'])\n",
      "dataFixed['True Count'] = last 10 "
     ]
    },
    {
     "cell_type": "raw",
     "metadata": {},
     "source": [
      "dataFixed.head(10) \n",
      "dataFixed.tail(20)"
     ]
    },
    {
     "cell_type": "raw",
     "metadata": {},
     "source": [
      "#dataFixed['Dealer'] = [[]]*624 \n",
      "#dataFixed['Player'] = [[]]*624\n",
      "#dataFixed['Wins'] = [[]]*624"
     ]
    },
    {
     "cell_type": "raw",
     "metadata": {},
     "source": [
      "#dataFixed['Player'][0]=[dataFixed['fixedDeck'][0]]\n",
      "dataFixed['Dealer'][1]=[dataFixed['fixedDeck'][1]]\n",
      "dataFixed['Player'][1]=dataFixed['Player'][0]\n",
      "\n",
      "dataFixed['Player'][2]= dataFixed['Player'][1] +  [dataFixed['fixedDeck'][2]]\n",
      "dataFixed['Dealer'][2]=dataFixed['Dealer'][1]"
     ]
    },
    {
     "cell_type": "raw",
     "metadata": {},
     "source": [
      "print dataFixed.ix[[0, 1, 2]][[3,4]]\n",
      "dataFixed['Player'][0:3]"
     ]
    },
    {
     "cell_type": "heading",
     "level": 3,
     "metadata": {},
     "source": [
      "Testing"
     ]
    },
    {
     "cell_type": "code",
     "collapsed": false,
     "input": [
      "# Initiate shuffle\n",
      "ShDck = periodShuffle(2, 6) # Shuffle 6 decks with period 2"
     ],
     "language": "python",
     "metadata": {},
     "outputs": []
    },
    {
     "cell_type": "raw",
     "metadata": {},
     "source": [
      "A single hand played with all 7 players on the table. It can be played repeatedly and reshuffles automatically when deck size falls below 30. "
     ]
    },
    {
     "cell_type": "code",
     "collapsed": false,
     "input": [
      "card1 = [orderedDraw(ShDck) for i in range(7)]\n",
      "dealer = orderedDraw(ShDck)\n",
      "card2 = [orderedDraw(ShDck) for i in range(7)]\n",
      "Player1 = playerStrategy(dealer, card1[0], card2[0], ShDck)\n",
      "Player2 = playerStrategy(dealer, card1[1], card2[1], ShDck)\n",
      "Player3 = playerStrategy(dealer, card1[2], card2[2], ShDck)\n",
      "Player4 = playerStrategy(dealer, card1[3], card2[3], ShDck)\n",
      "Player5 = playerStrategy(dealer, card1[4], card2[4], ShDck)\n",
      "Player6 = playerStrategy(dealer, card1[5], card2[5], ShDck)\n",
      "Player7 = playerStrategy(dealer, card1[6], card2[6], ShDck)\n",
      "Dealer = dealerPlay(dealer, ShDck)\n",
      "print 'Cards remaining: ', len(ShDck)\n",
      "print '-------------------'\n",
      "print 'Dealer: ', Dealer\n",
      "print '-------------------'\n",
      "print 'Player 1: ', Player1\n",
      "print 'Player 2: ', Player2\n",
      "print 'Player 3: ', Player3\n",
      "print 'Player 4: ', Player4\n",
      "print 'Player 5: ', Player5\n",
      "print 'Player 6: ', Player6\n",
      "print 'Player 7: ', Player7\n",
      "if len(ShDck) < 30: ShDck = periodShuffle(2, 6) # Shuffle"
     ],
     "language": "python",
     "metadata": {},
     "outputs": []
    },
    {
     "cell_type": "raw",
     "metadata": {},
     "source": [
      "Playing 1000 (or any number) of consecutive games with 5 decks, counting \n",
      "dealer's BJs, players' joint total BJs and dealer's busts. Thre is inded a player\n",
      "BJ every 21 hands or so, but that is for `some` player. A run of 1,000,000 hands yielded a BJ for the dealer  47,290 times or one about 4.73% of the time\n",
      "Dealer Busted  281,920 or 28.2% of the time, a single player had a BJ 332,847, 33.3% of the hands so each player got BJ 4.757% of the time. All these numbers are roughly as expected from the probability tables. "
     ]
    },
    {
     "cell_type": "code",
     "collapsed": false,
     "input": [
      "DealBJ = 0\n",
      "DealBust = 0\n",
      "PlayBJ = 0\n",
      "for k in range(1000):\n",
      "   card1 = [orderedDraw(ShDck) for i in range(7)]\n",
      "   dealer = orderedDraw(ShDck)\n",
      "   card2 = [orderedDraw(ShDck) for i in range(7)]     \n",
      "   Player1 = playerStrategy(dealer, card1[0], card2[0], ShDck)\n",
      "   if Player1[0] == 'BJ': PlayBJ = PlayBJ +1         \n",
      "   Player2 = playerStrategy(dealer, card1[1], card2[1], ShDck)\n",
      "   if Player2[0] == 'BJ': PlayBJ = PlayBJ +1             \n",
      "   Player3 = playerStrategy(dealer, card1[2], card2[2], ShDck)\n",
      "   if Player3[0] == 'BJ': PlayBJ = PlayBJ +1                 \n",
      "   Player4 = playerStrategy(dealer, card1[3], card2[3], ShDck)\n",
      "   if Player4[0] == 'BJ': PlayBJ = PlayBJ +1                     \n",
      "   Player5 = playerStrategy(dealer, card1[4], card2[4], ShDck)\n",
      "   if Player5[0] == 'BJ': PlayBJ = PlayBJ +1                         \n",
      "   Player6 = playerStrategy(dealer, card1[5], card2[5], ShDck)\n",
      "   if Player6[0] == 'BJ': PlayBJ = PlayBJ +1                             \n",
      "   Player7 = playerStrategy(dealer, card1[6], card2[6], ShDck)\n",
      "   if Player7[0] == 'BJ': PlayBJ = PlayBJ +1  \n",
      "   Dealer = dealerPlay(dealer, ShDck)\n",
      "   if Dealer[0] == 'BJ': DealBJ = DealBJ +1 \n",
      "   if Dealer[0] == 'Bust': DealBust = DealBust +1                             \n",
      "   #print 'Cards remaining: ', len(ShDck)\n",
      "   #print '-------------------'\n",
      "   #print 'Dealer: ', Dealer\n",
      "   #print '-------------------'\n",
      "   #print 'Player 1: ', Player1\n",
      "   #print 'Player 2: ', Player2\n",
      "   #print 'Player 3: ', Player3\n",
      "   #print 'Player 4: ', Player4\n",
      "   #print 'Player 5: ', Player5\n",
      "   #print 'Player 6: ', Player6\n",
      "   #print 'Player 7: ', Player7\n",
      "   if len(ShDck) < 30: ShDck = periodShuffle(1, 6) # Shuffle\n",
      "print 'Dealer BJ: ',  DealBJ\n",
      "print 'Dealer Busts: ', DealBust\n",
      "print 'Player BJ: ', PlayBJ"
     ],
     "language": "python",
     "metadata": {},
     "outputs": []
    },
    {
     "cell_type": "raw",
     "metadata": {},
     "source": [
      "Individual players busts and BJs:"
     ]
    },
    {
     "cell_type": "code",
     "collapsed": false,
     "input": [
      "ShDck = periodShuffle(5, 6)\n",
      "DealBJ = 0; DealBust = 0; Play1BJ = 0; P1Bust = 0\n",
      "Play2BJ = 0; P2Bust = 0; Play3BJ = 0; P3Bust = 0\n",
      "Play4BJ = 0; P4Bust = 0; Play5BJ = 0; P5Bust = 0\n",
      "Play6BJ = 0; P6Bust = 0; Play7BJ = 0; P7Bust = 0\n",
      "p1=0; p2=0; p3=0; p4=0; p5=0; p6=0; p7=0\n",
      "\n",
      "for k in range(100000):\n",
      "   card1 = [orderedDraw(ShDck) for i in range(7)]\n",
      "   dealer = orderedDraw(ShDck)\n",
      "   card2 = [orderedDraw(ShDck) for i in range(7)]\n",
      "   Player1 = playerStrategy(dealer, card1[0], card2[0], ShDck)\n",
      "   if Player1[0] == 'BJ': Play1BJ = Play1BJ +1\n",
      "   if Player1[0] == 'Bust': P1Bust = P1Bust +1\n",
      "                 \n",
      "   Player2 = playerStrategy(dealer, card1[1], card2[1], ShDck)\n",
      "   if Player2[0] == 'BJ': Play2BJ = Play2BJ +1\n",
      "   if Player2[0] == 'Bust': P2Bust = P2Bust +1\n",
      "                            \n",
      "   Player3 = playerStrategy(dealer, card1[2], card2[2], ShDck)\n",
      "   if Player3[0] == 'BJ': Play3BJ = Play3BJ +1\n",
      "   if Player3[0] == 'Bust': P3Bust = P3Bust +1\n",
      "                                    \n",
      "   Player4 = playerStrategy(dealer, card1[3], card2[3], ShDck)\n",
      "   if Player4[0] == 'BJ': Play4BJ = Play4BJ +1\n",
      "   if Player4[0] == 'Bust': P4Bust = P4Bust +1\n",
      "                                            \n",
      "   Player5 = playerStrategy(dealer, card1[4], card2[4], ShDck)\n",
      "   if Player5[0] == 'BJ': Play5BJ = Play5BJ +1\n",
      "   if Player5[0] == 'Bust': P5Bust = P5Bust +1\n",
      "   \n",
      "                                            \n",
      "   Player6 = playerStrategy(dealer, card1[5], card2[5], ShDck)\n",
      "   if Player6[0] == 'BJ': Play6BJ = Play6BJ +1\n",
      "   if Player6[0] == 'Bust': P6Bust = P6Bust +1\n",
      "                                                            \n",
      "   Player7 = playerStrategy(dealer, card1[6], card2[6], ShDck)\n",
      "   if Player7[0] == 'BJ': Play7BJ = Play7BJ +1\n",
      "   if Player7[0] == 'Bust': P7Bust = P7Bust +1\n",
      "   \n",
      "   Dealer = dealerPlay(dealer, ShDck)   \n",
      "   if Dealer[0] == 'BJ': DealBJ = DealBJ +1 \n",
      "   if Dealer[0] == 'Bust': DealBust = DealBust +1 \n",
      "                                                                        \n",
      "                                                                        \n",
      "   p7 = p7 + playerWin(Dealer[0], Player7[0])[0]\n",
      "   p1 = p1 + playerWin(Dealer[0], Player1[0])[0]                                                                     \n",
      "   p2 = p2 + playerWin(Dealer[0], Player2[0])[0]\n",
      "   p3 = p3 + playerWin(Dealer[0], Player3[0])[0]\n",
      "   p4 = p4 + playerWin(Dealer[0], Player4[0])[0]\n",
      "   p5 = p5 + playerWin(Dealer[0], Player5[0])[0]                                                                     \n",
      "   p6 = p6 + playerWin(Dealer[0], Player6[0])[0]                                                                     \n",
      "   if len(ShDck) < 40: ShDck = periodShuffle(5, 6) # Shuffle\n",
      "print 'Dealer BJ: ',  DealBJ\n",
      "print 'Dealer Busts: ', DealBust\n",
      "print '--------------------'\n",
      "print 'Player BJs in order: ', Play1BJ, Play2BJ, Play3BJ, Play4BJ, Play5BJ, Play6BJ, Play7BJ \n",
      "print 'Player Busts in order: ',P1Bust, P2Bust, P3Bust, P4Bust, P5Bust, P6Bust, P7Bust\n",
      "print 'Total loss by player: ', p1, p2, p3, p4, p5, p6, p7"
     ],
     "language": "python",
     "metadata": {},
     "outputs": []
    },
    {
     "cell_type": "code",
     "collapsed": false,
     "input": [
      "(-2541.5 -2674.5 -2099.5 -2108.5 -2331.5 -2273.0 -1975.0)/7000 # limit 200, 6 decks"
     ],
     "language": "python",
     "metadata": {},
     "outputs": []
    },
    {
     "cell_type": "code",
     "collapsed": false,
     "input": [
      "(-2030.5 -1941.0 -2518.5 -2634.0 -2651.5 -2373.5 -2509.5)/7000 # limit 20, 6 decks"
     ],
     "language": "python",
     "metadata": {},
     "outputs": []
    },
    {
     "cell_type": "code",
     "collapsed": false,
     "input": [
      "(-2367.0 -2226.0 -2686.5 -2116.0 -1825.5 -2108.5 -2502.0)/7000 # limit 20, 6 decks"
     ],
     "language": "python",
     "metadata": {},
     "outputs": []
    },
    {
     "cell_type": "code",
     "collapsed": false,
     "input": [
      "(-3145.0 -2908.5 -3041.5 -2780.0 -2619.0 -2236.0 -2766.0)/7000 # limit 3, 6 decks"
     ],
     "language": "python",
     "metadata": {},
     "outputs": []
    },
    {
     "cell_type": "code",
     "collapsed": false,
     "input": [
      "(-3286.5 -2714.0 -2720.5 -2382.5 -2456.5 -2656.5 -2776.0)/7000 # limit 3, 6 decks"
     ],
     "language": "python",
     "metadata": {},
     "outputs": []
    },
    {
     "cell_type": "code",
     "collapsed": false,
     "input": [
      "(-4854.5 -3844.0 -3732.5 -3699.0 -3653.5 -3777.5 -3760.0)/7000 # limit 2, 6 decks"
     ],
     "language": "python",
     "metadata": {},
     "outputs": []
    },
    {
     "cell_type": "code",
     "collapsed": false,
     "input": [
      "(-4587.5 -3053.5 -3513.0 -3504.5 -3175.5 -3339.0 -3867.0)/7000 # limit 2, 6 decks"
     ],
     "language": "python",
     "metadata": {},
     "outputs": []
    },
    {
     "cell_type": "code",
     "collapsed": false,
     "input": [
      "(-6462.0 -4303.0 -3796.5 -3639.0 -3441.0 -3832.5 -5167.5)/7000 # limit 1, 6 decks"
     ],
     "language": "python",
     "metadata": {},
     "outputs": []
    },
    {
     "cell_type": "code",
     "collapsed": false,
     "input": [
      "(-6271.5 -4329.0 -4415.5 -3678.0 -4113.0 -3967.0 -4788.5)/7000  # limit 1, 6 decks"
     ],
     "language": "python",
     "metadata": {},
     "outputs": []
    },
    {
     "cell_type": "heading",
     "level": 3,
     "metadata": {},
     "source": [
      "Overal bad news for too few highs and too many lows:"
     ]
    },
    {
     "cell_type": "raw",
     "metadata": {},
     "source": [
      "A million hand run yields -2.22% loss over that many games for the even [deckShuffle(5,5,5,5)]\n",
      "(-22379.0 -23244.0 -22135.0 -19938.5 -22193.5 -22376.5 -23323.0)/7\n",
      "In detail:\n",
      "Dealer BJ:  47331\n",
      "Dealer Busts:  282351\n",
      "--------------------\n",
      "Player BJs in order:  47592 47240 48001 47914 47673 47622 47519\n",
      "Player Busts in order:  183141 183695 182399 182897 182667 182869 183702\n",
      "Total loss by player:  -22379.0 -23244.0 -22135.0 -19938.5 -22193.5 -22376.5 -23323.0"
     ]
    },
    {
     "cell_type": "raw",
     "metadata": {},
     "source": [
      "A million runs for [deckShuffle(6,6,5,5)] yields:\n",
      "Dealer BJ:  37710 /lower\n",
      "Dealer Busts:  280263 /same\n",
      "--------------------\n",
      "Player BJs in order:  37810 37846 37969 37553 37500 37695 37587 / lower\n",
      "Player Busts in order:  174940 174814 174496 174912 175022 174631 173925 /1% lower\n",
      "Total loss by player:  -38937.5 -39921.5 -38660.5 -40492.5 -39488.5 -39416.5 -38244.0 \n",
      "    /close to 2 x higher"
     ]
    },
    {
     "cell_type": "raw",
     "metadata": {},
     "source": [
      "A million hand run yields 4.3% loss over that many games for    \n",
      "[deckShuffle(5,5,4,4)]\n",
      "(-42976.5 -42732.0 -42911.0 -43799.0 -42922.5 -43417.5 -42547.5)/7. = -43044\n",
      "Removing 4 aces and 16 tens from 5 decks, almost doubles house's advantage from 2.22% to 4.3%.\n",
      "Fuller picture for a million hands at [deckShuffle(5,5,4,4)]:\n",
      "Dealer BJ:  35408\n",
      "Dealer Busts:  281052\n",
      "--------------------\n",
      "Player BJs in order:  35437 35754 35688 35773 35774 35663 35519\n",
      "Player Busts in order:  172913 173001 173085 172667 173620 173274 173543\n",
      "Total loss by player:  -42976.5 -42732.0 -42911.0 -43799.0 -42922.5 -43417.5 -42547.5\n",
      "Fewer BJs but not a high difference in Busts. BJs go from 4.75 to 3.57%, and that somehow influences the outcome."
     ]
    },
    {
     "cell_type": "raw",
     "metadata": {},
     "source": [
      "[DeckShuffle(5, 5, 5, 5)]\n",
      "# Dealer BJ:  4671\n",
      "# Dealer Busts:  28135\n",
      "# --------------------\n",
      "# Player BJs in order:  4727 4669 4818 4820 4614 4805 4801\n",
      "# Player Busts in order:  18315 18439 18387 18489 18214 18253 18394\n",
      "# The average player + dealer BJ percentage for one 100,000 run of hands\n",
      "print (4727 + 4669 + 4818 + 4820 + 4614 + 4805 + 4801 + 4671)/8000.\n",
      "# Average player percentage of busts for the same 100,000 run\n",
      "print (18315 + 18439 + 18387 + 18489 + 18214 + 18253 + 18394)/7000."
     ]
    },
    {
     "cell_type": "raw",
     "metadata": {},
     "source": [
      "The number of neutral cards, however, seems to have little influence on the \n",
      "final outcomes, although it affacts both the number of BJs (upwards) and the \n",
      "number of Busts (downwards). \n",
      "for DeckShuffle(5, 0, 5, 5)\n",
      "Dealer BJ:  7974 \\ more dealer BJs\n",
      "Dealer Busts:  30009 \\ More dealer busts\n",
      "--------------------\n",
      "Player BJs in order:  7967 8165 7976 8013 8017 8021 8053 \\More player BJs\n",
      "Player Busts in order:  16275 16149 16339 16213 16102 16301 16037 \\ Fewer busts\n",
      "Total loss by player:  -2722.5 -2279.0 -2728.0 -2503.0 -2122.0 -3126.0 -2482.0                                               \\ little higher house advantage\n",
      "\n",
      "(-2722.5 -2279.0 -2728.0 -2503.0 -2122.0 -3126.0 -2482.0)/7. \n",
      "is on the order of 2500"
     ]
    },
    {
     "cell_type": "heading",
     "level": 4,
     "metadata": {},
     "source": [
      "Testing fixed initial hands using continuous shuffle"
     ]
    },
    {
     "cell_type": "raw",
     "metadata": {},
     "source": [
      "Next test fixes the initial draw for all players and dealer's first card, and \n",
      "plays n hands under that setting. "
     ]
    },
    {
     "cell_type": "raw",
     "metadata": {},
     "source": [
      "We can draw the initial deal from the deck, or more informatively, we can\n",
      "fix the initial 15 cards by hand, and run n hands to gauge what happens. Here\n",
      "we fix dealer's card to 10, and players totals to hard 12 to 18. (We could also\n",
      "do Ace and soft 12 to 18 or whatever we fancy.)"
     ]
    },
    {
     "cell_type": "raw",
     "metadata": {},
     "source": [
      "We crucially use the following construction for drawing from a continuously shuffled deck. Each hand, for each player a mini list `[drawCont() for i in range(6)]`  is drawn which is then used to draw additional cards if they are needed. This is justified by the fact that in a continuous shuffle, each card has the unchanging probability of being drawn and thus _when_ we draw a card makes no statistical difference. "
     ]
    },
    {
     "cell_type": "code",
     "collapsed": false,
     "input": [
      "# Example of using the list [drawCont() for i in range(6)]\n",
      "# Here, player's 12 draws against 2 and 3 but stays against 4 and 5 \n",
      "print playerStrategy(9, 'A', 7, [drawCont() for i in range(6)])\n",
      "print playerStrategy(3, 'A', 4, [drawCont() for i in range(6)])  \n",
      "print playerStrategy(4, 'A', 5, [drawCont() for i in range(6)]) \n",
      "print playerStrategy(5, 'A', 6, [drawCont() for i in range(6)])"
     ],
     "language": "python",
     "metadata": {},
     "outputs": []
    },
    {
     "cell_type": "code",
     "collapsed": false,
     "input": [
      "# We start by fixing the initial hand. Two cards are drawn for the players\n",
      "# and one for the dealer. All the following moves are made against this set-up. \n",
      "# ShDck = deckShuffle()\n",
      "# card1 = [drawACard(ShDck) for i in range(7)] # Fix by hand if necessary\n",
      "# dealer = drawACard(ShDck)                    # Fix by hand if necessary\n",
      "# card2 = [drawACard(ShDck) for i in range(7)] # Fix by hand if necessary\n",
      "card1 = [10]*7 # Each player gets a 10\n",
      "dealer = 10 # Dealer get a 10\n",
      "card2 = range(2, 9) # Player1 gets a two, ..., Player7 gets an eight\n",
      "\n",
      "# Display the initial hand\n",
      "play = ['Player1', 'Player2', 'Player3', 'Player4', 'Player5', 'Player6', 'Player7']\n",
      "hand = zip(play, card1, card2)\n",
      "print 'Dealer: ', dealer \n",
      "print '----------'\n",
      "for i, j, k in hand: print i, [j, k]"
     ],
     "language": "python",
     "metadata": {},
     "outputs": []
    },
    {
     "cell_type": "raw",
     "metadata": {},
     "source": [
      "Next, 10000 hands are completed as a dictionary and converted into a Pandas DataFrame. "
     ]
    },
    {
     "cell_type": "code",
     "collapsed": false,
     "input": [
      "n = 10000 # Determine the number of hands to play\n",
      "dic1={} # Create and fill the dictionary with lists of n plays for each player, given the intial hand\n",
      "dic1['Player1'] = [playerStrategy(dealer, card1[0], card2[0], [drawCont() for i in range(6)])[0] for i in range(n)]\n",
      "dic1['Player2'] = [playerStrategy(dealer, card1[1], card2[1], [drawCont() for i in range(6)])[0] for i in range(n)]\n",
      "dic1['Player3'] = [playerStrategy(dealer, card1[2], card2[2], [drawCont() for i in range(6)])[0] for i in range(n)]\n",
      "dic1['Player4'] = [playerStrategy(dealer, card1[3], card2[3], [drawCont() for i in range(6)])[0] for i in range(n)]\n",
      "dic1['Player5'] = [playerStrategy(dealer, card1[4], card2[4], [drawCont() for i in range(6)])[0] for i in range(n)]\n",
      "dic1['Player6'] = [playerStrategy(dealer, card1[5], card2[5], [drawCont() for i in range(6)])[0] for i in range(n)]\n",
      "dic1['Player7'] = [playerStrategy(dealer, card1[6], card2[6], [drawCont() for i in range(6)])[0] for i in range(n)]\n",
      "dic1['Dealer'] = [dealerPlay(dealer, [drawCont() for i in range(6)])[0] for i in range(n)]\n",
      "data = DataFrame(dic1) # Transform the dictionary into a DataFrame\n"
     ],
     "language": "python",
     "metadata": {},
     "outputs": []
    },
    {
     "cell_type": "raw",
     "metadata": {},
     "source": [
      "Determine wins and losses: Add separate columns that for each player enter 1.5 for a BJ win, 1 for a regular win, 0 for push, and -1 for a loss. The sum of this column determines the winnings/losses for each player. The percentage won/lost for each player can be determined as this sum over n. "
     ]
    },
    {
     "cell_type": "code",
     "collapsed": false,
     "input": [
      "# Add columns to sum up wins and losses: 1, 1.5, 0, -1, -1\n",
      "for j in range(len(play)): \n",
      "    st0 = 'P'+ str(j+1) +' Wins'\n",
      "    st1 = 'Player'+ str(j+1)\n",
      "    data[st0] =[playerWin(data['Dealer'][i], data[st1][i])[0] for i in range(n)]\n"
     ],
     "language": "python",
     "metadata": {},
     "outputs": []
    },
    {
     "cell_type": "code",
     "collapsed": false,
     "input": [
      "# print data.ix[:30, 0:15]\n",
      "print data.ix[:, 8:15].sum(axis = 0)\n",
      "# print \"As percentage: \", data.ix[:, 8:15].sum(axis = 0)/(n*1.)"
     ],
     "language": "python",
     "metadata": {},
     "outputs": []
    },
    {
     "cell_type": "raw",
     "metadata": {},
     "source": [
      "(What follows is based on a single 10000 game run. There is a fair bit of variance from set to set so the numbers ought to be taken with `tolerance` of +/- $150 or so.)\n",
      "In words, if you played 10,000 one dollar hands against dealer's 10, then if you start with:\n",
      "10, 2 you would loose around $4,330\n",
      "10, 3 you would loose around $4,660\n",
      "10, 4 you would loose around $5,100\n",
      "10, 5 you would loose around $5,400\n",
      "10, 6 you would loose around $5,600\n",
      "10, 7 you would loose around $4,600\n",
      "10, 8 you would loose around $2,300\n",
      "This may seem like a lot, but these are among the worst hand combinations a player can have. We can also see that 15 and 16 definitely justify a surrender while 14 may do so too. "
     ]
    },
    {
     "cell_type": "code",
     "collapsed": false,
     "input": [
      "# Add columns to name wins and losses: Win, Win, Push, Loss, Loss, etc.   \n",
      "for j in range(len(play)): \n",
      "    st0 = 'P'+ str(j+1) +' Status'\n",
      "    st1 = 'Player'+ str(j+1)\n",
      "    data[st0] =[playerWin(data['Dealer'][i], data[st1][i])[1] for i in range(n)]"
     ],
     "language": "python",
     "metadata": {},
     "outputs": []
    },
    {
     "cell_type": "code",
     "collapsed": false,
     "input": [
      "data.shape"
     ],
     "language": "python",
     "metadata": {},
     "outputs": []
    },
    {
     "cell_type": "heading",
     "level": 4,
     "metadata": {},
     "source": [
      "For further comparison, lets look at the same player hands agains dealer's 5"
     ]
    },
    {
     "cell_type": "code",
     "collapsed": false,
     "input": [
      "card1 = [10]*7 # Each player gets a 10\n",
      "dealer = 5 # Dealer get a 5\n",
      "card2 = range(2, 9) # Player1 gets a two, ..., Player7 gets an eight\n",
      "\n",
      "# Display the initial hand\n",
      "play = ['Player1', 'Player2', 'Player3', 'Player4', 'Player5', 'Player6', 'Player7']\n",
      "hand = zip(play, card1, card2)\n",
      "print 'Dealer: ', dealer \n",
      "print '----------'\n",
      "for i, j, k in hand: print i, [j, k]\n",
      "    \n",
      "# Generate data    \n",
      "n = 10000 \n",
      "dic1={} \n",
      "dic1['Player1'] = [playerStrategy(dealer, card1[0], card2[0], [drawCont() for i in range(6)])[0] for i in range(n)]\n",
      "dic1['Player2'] = [playerStrategy(dealer, card1[1], card2[1], [drawCont() for i in range(6)])[0] for i in range(n)]\n",
      "dic1['Player3'] = [playerStrategy(dealer, card1[2], card2[2], [drawCont() for i in range(6)])[0] for i in range(n)]\n",
      "dic1['Player4'] = [playerStrategy(dealer, card1[3], card2[3], [drawCont() for i in range(6)])[0] for i in range(n)]\n",
      "dic1['Player5'] = [playerStrategy(dealer, card1[4], card2[4], [drawCont() for i in range(6)])[0] for i in range(n)]\n",
      "dic1['Player6'] = [playerStrategy(dealer, card1[5], card2[5], [drawCont() for i in range(6)])[0] for i in range(n)]\n",
      "dic1['Player7'] = [playerStrategy(dealer, card1[6], card2[6], [drawCont() for i in range(6)])[0] for i in range(n)]\n",
      "dic1['Dealer'] = [dealerPlay(dealer, [drawCont() for i in range(6)])[0] for i in range(n)]\n",
      "data = DataFrame(dic1)\n",
      "\n",
      "for j in range(len(play)): \n",
      "    st0 = 'Player'+ str(j+1) +' Wins'\n",
      "    st1 = 'Player'+ str(j+1)\n",
      "    data[st0] =[playerWin(data['Dealer'][i], data[st1][i])[0] for i in range(n)]\n",
      "\n",
      "for j in range(len(play)): \n",
      "    st0 = 'P'+ str(j+1) +' Status'\n",
      "    st1 = 'Player'+ str(j+1)\n",
      "    data[st0] =[playerWin(data['Dealer'][i], data[st1][i])[1] for i in range(n)]    \n",
      "#print data.ix[:30, 0:15]\n",
      "print '--------------------'\n",
      "print \"The outcome against \", dealer    \n",
      "print data.ix[:, 8:15].sum(axis = 0)    "
     ],
     "language": "python",
     "metadata": {},
     "outputs": []
    },
    {
     "cell_type": "heading",
     "level": 4,
     "metadata": {},
     "source": [
      "...and dealer's ace"
     ]
    },
    {
     "cell_type": "markdown",
     "metadata": {},
     "source": [
      "Note: with all the aces in the above two sets we had to increase the number in `range()` of the function `[drawCont() for i in range(8)]` from 6 to 8. Perhaps 10 is an overall safe choice and there was never any guarantee that 6 would work although in practice one almost never sees a player drawing more than 5 cards. That is 2 + 5. "
     ]
    },
    {
     "cell_type": "raw",
     "metadata": {},
     "source": [
      "The only change required is to swap the dealer's 5 with an ace."
     ]
    },
    {
     "cell_type": "code",
     "collapsed": false,
     "input": [
      "card1 = [10]*7 \n",
      "dealer = 'A' \n",
      "card2 = range(2, 9) \n",
      "\n",
      "# Display the initial hand\n",
      "play = ['Player1', 'Player2', 'Player3', 'Player4', 'Player5', 'Player6', 'Player7']\n",
      "hand = zip(play, card1, card2)\n",
      "print 'Dealer: ', dealer \n",
      "print '----------'\n",
      "for i, j, k in hand: print i, [j, k]\n",
      "    \n",
      "# Generate data    \n",
      "n = 10000 \n",
      "dic1={} \n",
      "dic1['Player1'] = [playerStrategy(dealer, card1[0], card2[0], [drawCont() for i in range(8)])[0] for i in range(n)]\n",
      "dic1['Player2'] = [playerStrategy(dealer, card1[1], card2[1], [drawCont() for i in range(8)])[0] for i in range(n)]\n",
      "dic1['Player3'] = [playerStrategy(dealer, card1[2], card2[2], [drawCont() for i in range(8)])[0] for i in range(n)]\n",
      "dic1['Player4'] = [playerStrategy(dealer, card1[3], card2[3], [drawCont() for i in range(8)])[0] for i in range(n)]\n",
      "dic1['Player5'] = [playerStrategy(dealer, card1[4], card2[4], [drawCont() for i in range(8)])[0] for i in range(n)]\n",
      "dic1['Player6'] = [playerStrategy(dealer, card1[5], card2[5], [drawCont() for i in range(8)])[0] for i in range(n)]\n",
      "dic1['Player7'] = [playerStrategy(dealer, card1[6], card2[6], [drawCont() for i in range(8)])[0] for i in range(n)]\n",
      "dic1['Dealer'] = [dealerPlay(dealer, [drawCont() for i in range(8)])[0] for i in range(n)]\n",
      "data = DataFrame(dic1)\n",
      "\n",
      "for j in range(len(play)): \n",
      "    st0 = 'Player'+ str(j+1) +' Wins'\n",
      "    st1 = 'Player'+ str(j+1)\n",
      "    data[st0] =[playerWin(data['Dealer'][i], data[st1][i])[0] for i in range(n)]\n",
      "\n",
      "for j in range(len(play)): \n",
      "    st0 = 'P'+ str(j+1) +' Status'\n",
      "    st1 = 'Player'+ str(j+1)\n",
      "    data[st0] =[playerWin(data['Dealer'][i], data[st1][i])[1] for i in range(n)]    \n",
      "#print data.ix[:30, 0:15]\n",
      "print '--------------------'\n",
      "print \"The outcome against \", dealer    \n",
      "print data.ix[:, 8:15].sum(axis = 0) "
     ],
     "language": "python",
     "metadata": {},
     "outputs": []
    },
    {
     "cell_type": "heading",
     "level": 4,
     "metadata": {},
     "source": [
      "... or an ace against soft 13 to 19"
     ]
    },
    {
     "cell_type": "code",
     "collapsed": false,
     "input": [
      "card1 = ['A']*7 \n",
      "dealer = 'A' \n",
      "card2 = range(2, 9) \n",
      "\n",
      "# Display the initial hand\n",
      "play = ['Player1', 'Player2', 'Player3', 'Player4', 'Player5', 'Player6', 'Player7']\n",
      "hand = zip(play, card1, card2)\n",
      "print 'Dealer: ', dealer \n",
      "print '----------'\n",
      "for i, j, k in hand: print i, [j, k]\n",
      "    \n",
      "# Generate data    \n",
      "n = 10000 \n",
      "dic1={} \n",
      "dic1['Player1'] = [playerStrategy(dealer, card1[0], card2[0], [drawCont() for i in range(8)])[0] for i in range(n)]\n",
      "dic1['Player2'] = [playerStrategy(dealer, card1[1], card2[1], [drawCont() for i in range(8)])[0] for i in range(n)]\n",
      "dic1['Player3'] = [playerStrategy(dealer, card1[2], card2[2], [drawCont() for i in range(8)])[0] for i in range(n)]\n",
      "dic1['Player4'] = [playerStrategy(dealer, card1[3], card2[3], [drawCont() for i in range(8)])[0] for i in range(n)]\n",
      "dic1['Player5'] = [playerStrategy(dealer, card1[4], card2[4], [drawCont() for i in range(8)])[0] for i in range(n)]\n",
      "dic1['Player6'] = [playerStrategy(dealer, card1[5], card2[5], [drawCont() for i in range(8)])[0] for i in range(n)]\n",
      "dic1['Player7'] = [playerStrategy(dealer, card1[6], card2[6], [drawCont() for i in range(8)])[0] for i in range(n)]\n",
      "dic1['Dealer'] = [dealerPlay(dealer, [drawCont() for i in range(8)])[0] for i in range(n)]\n",
      "data = DataFrame(dic1)\n",
      "\n",
      "for j in range(len(play)): \n",
      "    st0 = 'Player'+ str(j+1) +' Wins'\n",
      "    st1 = 'Player'+ str(j+1)\n",
      "    data[st0] =[playerWin(data['Dealer'][i], data[st1][i])[0] for i in range(n)]\n",
      "\n",
      "for j in range(len(play)): \n",
      "    st0 = 'P'+ str(j+1) +' Status'\n",
      "    st1 = 'Player'+ str(j+1)\n",
      "    data[st0] =[playerWin(data['Dealer'][i], data[st1][i])[1] for i in range(n)]    \n",
      "#print data.ix[:30, 0:15]\n",
      "print '--------------------'\n",
      "print \"The outcome against \", dealer    \n",
      "print data.ix[:, 8:15].sum(axis = 0) "
     ],
     "language": "python",
     "metadata": {},
     "outputs": []
    },
    {
     "cell_type": "heading",
     "level": 4,
     "metadata": {},
     "source": [
      "Finally, the `softs` against a five (an actual winning combo!)"
     ]
    },
    {
     "cell_type": "code",
     "collapsed": false,
     "input": [
      "card1 = ['A']*7 \n",
      "dealer = 5 \n",
      "card2 = range(2, 9) \n",
      "\n",
      "# Display the initial hand\n",
      "play = ['Player1', 'Player2', 'Player3', 'Player4', 'Player5', 'Player6', 'Player7']\n",
      "hand = zip(play, card1, card2)\n",
      "print 'Dealer: ', dealer \n",
      "print '----------'\n",
      "for i, j, k in hand: print i, [j, k]\n",
      "    \n",
      "# Generate data    \n",
      "n = 10000 \n",
      "dic1={} \n",
      "dic1['Player1'] = [playerStrategy(dealer, card1[0], card2[0], [drawCont() for i in range(8)])[0] for i in range(n)]\n",
      "dic1['Player2'] = [playerStrategy(dealer, card1[1], card2[1], [drawCont() for i in range(8)])[0] for i in range(n)]\n",
      "dic1['Player3'] = [playerStrategy(dealer, card1[2], card2[2], [drawCont() for i in range(8)])[0] for i in range(n)]\n",
      "dic1['Player4'] = [playerStrategy(dealer, card1[3], card2[3], [drawCont() for i in range(8)])[0] for i in range(n)]\n",
      "dic1['Player5'] = [playerStrategy(dealer, card1[4], card2[4], [drawCont() for i in range(8)])[0] for i in range(n)]\n",
      "dic1['Player6'] = [playerStrategy(dealer, card1[5], card2[5], [drawCont() for i in range(8)])[0] for i in range(n)]\n",
      "dic1['Player7'] = [playerStrategy(dealer, card1[6], card2[6], [drawCont() for i in range(8)])[0] for i in range(n)]\n",
      "dic1['Dealer'] = [dealerPlay(dealer, [drawCont() for i in range(8)])[0] for i in range(n)]\n",
      "data = DataFrame(dic1)\n",
      "\n",
      "for j in range(len(play)): \n",
      "    st0 = 'Player'+ str(j+1) +' Wins'\n",
      "    st1 = 'Player'+ str(j+1)\n",
      "    data[st0] =[playerWin(data['Dealer'][i], data[st1][i])[0] for i in range(n)]\n",
      "\n",
      "for j in range(len(play)): \n",
      "    st0 = 'P'+ str(j+1) +' Status'\n",
      "    st1 = 'Player'+ str(j+1)\n",
      "    data[st0] =[playerWin(data['Dealer'][i], data[st1][i])[1] for i in range(n)]    \n",
      "\n",
      "print '--------------------'\n",
      "print \"The outcome against \", dealer    \n",
      "print data.ix[:, 8:15].sum(axis = 0) "
     ],
     "language": "python",
     "metadata": {},
     "outputs": []
    },
    {
     "cell_type": "heading",
     "level": 3,
     "metadata": {},
     "source": [
      "Some further simulations"
     ]
    },
    {
     "cell_type": "raw",
     "metadata": {},
     "source": [
      "We can simulate the overall percentages for various dealer's first cards. That is, given that a dealer has a five, what are the chances of dealer's total ending as 17, 18, ..., BJ, Bust? As it turn out, we can model this in a single simulation."
     ]
    },
    {
     "cell_type": "raw",
     "metadata": {},
     "source": [
      "We can simulate 10,000 hands to see the distribution of dealer outcomes given\n",
      "the first card: "
     ]
    },
    {
     "cell_type": "code",
     "collapsed": false,
     "input": [
      "deck1 = deckShuffle(20000)\n",
      "ls1 = range(2, 11) + ['A']\n",
      "lsLst = [[]]*len(ls1)\n",
      "for i, l in enumerate(ls1):\n",
      "    lsLst[i] = [dealerPlay(l, deck1)[0] for k in range(10000)]   \n",
      "dict1 = {}\n",
      "for k in range(17, 22)+['BJ', 'Bust']:\n",
      "    dict2 = {}\n",
      "    for i, l in enumerate(ls1):\n",
      "       dict2[l] = lsLst[i].count(k)\n",
      "    dict1[k] = dict2 \n",
      "data = DataFrame(dict1)\n",
      "data = data/100.    "
     ],
     "language": "python",
     "metadata": {},
     "outputs": []
    },
    {
     "cell_type": "raw",
     "metadata": {},
     "source": [
      "Probability of a dealer outcome (column) given the dealer's \n",
      "first card (row) as a %:"
     ]
    },
    {
     "cell_type": "code",
     "collapsed": false,
     "input": [
      "print data"
     ],
     "language": "python",
     "metadata": {},
     "outputs": []
    },
    {
     "cell_type": "heading",
     "level": 3,
     "metadata": {},
     "source": [
      "Changing relative freqeuncies of low and high cards (ratio high/low):"
     ]
    },
    {
     "cell_type": "code",
     "collapsed": false,
     "input": [
      "ls2 = range(2, 11) + ['A']\n",
      "lsLst = [[]]*len(ls2)\n",
      "for n in range(17):\n",
      "    deck = singleDeck(tens = n)\n",
      "    deck1 = deckShuffle(1, decks = deck)\n",
      "    for i, l in enumerate(ls2):\n",
      "      lsLst[i] = [dealerPlay(l, [drawCont(deck1) for i in range(8)])[0] for k in range(1000)]\n",
      "      dict1 = {}\n",
      "      for k in range(17, 22)+['BJ', 'Bust']:\n",
      "         dict2 = {}\n",
      "         for i, l in enumerate(ls2):\n",
      "                 dict2[l] = lsLst[i].count(k)\n",
      "         dict1[k] = dict2        \n",
      "    data = DataFrame(dict1)\n",
      "    data = data/10.\n",
      "    print \"Dealer outcome given the first card and the high/low ratio of: \", n/2000.\n",
      "    print '----------------------------------------------'\n",
      "    print data\n",
      "    print '----------------------------------------------'\n",
      "    print \"The mean bust % across the data: \", data['Bust'].mean()\n",
      "    print '----------------------------------------------'\n",
      "    print ' '"
     ],
     "language": "python",
     "metadata": {},
     "outputs": []
    },
    {
     "cell_type": "raw",
     "metadata": {},
     "source": [
      "'''Note: the numbers need to be adjusted for fewer 10s in circulations, so take them as they are with a grain of salt. For instance, when there are no 10 there are no BJ's either, so under 10 all columns should be empty for 0/2000 ratio. The average number of busts should be weighted to tak this into account.'''\n",
      "The mean bust % increases in the data from 18.5% to close to 30%\n",
      "as we increase the ratio of high/low from 0 to near 1. For a dealer facing a 6, it goes from around 18% to 43% as we even the number of high and low cards."
     ]
    },
    {
     "cell_type": "raw",
     "metadata": {},
     "source": [
      "for loop here to explore the data under varied settings, discover an already \n",
      "known regression: the ratio of low to high cards affects the house's advantage. "
     ]
    },
    {
     "cell_type": "raw",
     "metadata": {},
     "source": [
      "A single player against house\n",
      "Can you start basic and learn?\n",
      "\n",
      "What if you change ratio of small and large?\n",
      "How that affects learning/strategy?\n",
      "\n",
      "Strategy when you have 14, 15 16, 17 if ratio not even?\n",
      "\n",
      "Clumps and basic strategy?\n",
      "\n",
      "Different clumping regiments?\n",
      "\n",
      "How does it affect busting rate?\n",
      "\n",
      "--------------\n",
      "Ideas March 21, 2014\n",
      "-------------\n",
      "\n",
      "counting and strategy:\n",
      "\n",
      "reverse: if the number is low and deck is biased try betting hi\n",
      "\n",
      "can counting reveal imbalance? is average count is smaller and bigger than 0\n",
      "\n",
      "we use blackjacks to reveal the biased deck\n",
      "\n",
      "play with bet sizes in experiments. \n",
      "\n",
      "what would you do to counter the basic strategy? keeping the mean count near 0. "
     ]
    },
    {
     "cell_type": "raw",
     "metadata": {},
     "source": [
      "Algo for increasing the bet with the card count:\n",
      "\n",
      "(lets say): 3-6 increase bet to 150%\n",
      " 7 - 10 increase to 200%\n",
      " above 10 increase to 250%\n",
      " \n"
     ]
    },
    {
     "cell_type": "code",
     "collapsed": false,
     "input": [
      "playerStrag(dealer, players_cards_so_far, [size of bet], card_count)\n",
      "\n",
      "return everything + size of bet as %, card_count "
     ],
     "language": "python",
     "metadata": {},
     "outputs": []
    },
    {
     "cell_type": "raw",
     "metadata": {},
     "source": [
      "different counting strategy that also adds up to 0:\n",
      "2 to 7 are low, 8, 9 10 are high and Ace is neutral"
     ]
    },
    {
     "cell_type": "code",
     "collapsed": false,
     "input": [],
     "language": "python",
     "metadata": {},
     "outputs": []
    },
    {
     "cell_type": "code",
     "collapsed": false,
     "input": [
      "deck = singleDeck(tens = 16)\n",
      "deck1 = deckShuffle(1, decks = deck)\n",
      "[drawCont(deck1) for i in range(8)]"
     ],
     "language": "python",
     "metadata": {},
     "outputs": []
    },
    {
     "cell_type": "code",
     "collapsed": false,
     "input": [
      "[[drawCont(deck1) for i in range(13)] for i in range(16)]"
     ],
     "language": "python",
     "metadata": {},
     "outputs": []
    },
    {
     "cell_type": "code",
     "collapsed": false,
     "input": [
      "A = [drawCont(deck1) for i in range(52)]\n",
      "B = sorted(A)\n",
      "print B"
     ],
     "language": "python",
     "metadata": {},
     "outputs": []
    },
    {
     "cell_type": "code",
     "collapsed": false,
     "input": [
      "ls2 = range(2, 11) + ['A']\n",
      "lsLst = [[]]*len(ls2)"
     ],
     "language": "python",
     "metadata": {},
     "outputs": []
    },
    {
     "cell_type": "code",
     "collapsed": false,
     "input": [
      "ls2"
     ],
     "language": "python",
     "metadata": {},
     "outputs": []
    },
    {
     "cell_type": "code",
     "collapsed": false,
     "input": [
      "def addACard(total, deck = deckShuffle()):\n",
      "    card = drawCont(deck)\n",
      "    # player = [total, card]\n",
      "    total = AddCards(total, card)\n",
      "    if isinstance(total, int): \n",
      "        if total > 21: return 'Bust'#, player\n",
      "        else: return total#, player\n",
      "    else: \n",
      "        if len(total) == 2: return int(total[1])#, player\n",
      "        else: return 'Bust'#, player\n",
      "    "
     ],
     "language": "python",
     "metadata": {},
     "outputs": []
    },
    {
     "cell_type": "code",
     "collapsed": false,
     "input": [
      "'''One million hands, dealing a single card each to 12 - 17. We are interested in other values too, but we are particularly interested in the chance of busting having drawn a single card (on a hand that adds up to the column value): \n",
      "           12       13       14       15       16       17\n",
      "17     7.7144   7.7001   7.7385   7.7110   7.6987   0.0000\n",
      "18     7.6948   7.6964   7.6980   7.6802   7.6481   7.7636\n",
      "19     7.6592   7.7279   7.6868   7.6600   7.6938   7.7198\n",
      "20     7.6664   7.6650   7.6462   7.6777   7.6910   7.6535\n",
      "21     7.6994   7.7055   7.6652   7.6552   7.7063   7.6648\n",
      "Bust  30.7351  38.4574  46.1760  53.8238  61.5410  69.1775\n",
      "Chances of bust if you play dealer's strategy: hit until you reach 16 or bust:\n",
      "Bust  48.4300  52.1100\t56.5400\t 58.7500  61.3700  no value\n",
      "Difference: -17.7, -13.65, -10.36 ,  -5.,   0.\n",
      "\n",
      "Analytically, the first set of numbers, after a single card, should be:\n",
      "Bust at 4/13, 5/13, 6/13, 7/13, 8/13, 9/13\n",
      "\n",
      "30.76, 38.46, 46.15, 53.84, 61.53,  69.23, pretty close. \n",
      "Notice finally that the columns for 12, 13, etc. don't add up to 100%. \n",
      "This is clearly the result of the possiblilty of drawing a single card \n",
      "and obtaining less than 17 total. This possibility starts at 0% at 16, \n",
      "and increases by 1/13 with each card as it reaches 12. \n",
      "\n",
      "Chance < 17:\n",
      "00.00% when starting with 16\n",
      "07.70% with 15\n",
      "15.40% with 14\n",
      "23.08% with 13 and\n",
      "30.77% with 12\n",
      "\n",
      "The differences nicely account for the increased busts as one chases 16 \n",
      "to stop taking cards. '''"
     ],
     "language": "python",
     "metadata": {},
     "outputs": []
    },
    {
     "cell_type": "code",
     "collapsed": false,
     "input": [
      "#Single card draw vs. going all the way to 16:\n",
      "array([30.7351,  38.4574,  46.1760,  53.8238,  61.5410])- array([48.4300,  52.1100,\t56.5400,\t 58.7500,  61.3700])\n",
      "\n",
      "#Analytically determining the same (assuming continuous shuffle):\n",
      "4/13., 5/13., 6/13., 7/13., 8/13., 9/13.\n",
      "print 1/13. # at 15\n",
      "print 2/13. # at 14\n",
      "print 3/13. # at 13\n",
      "print 4/13. # at 12\n",
      "\n",
      "#Chance of busting upon drawing a second card: \n",
      "-17.7/(4/13.), -13.65/(3/13.), -10.36/(2/13.),  -5./(1/13.)\n",
      "dictA={}\n",
      "# ----- the crux function for bust determination. Goes for a million round\n",
      "# spin. Takes a while, but much less than a previous version.\n",
      "for i in range(12, 18):\n",
      "    dictA[i]={k:[addACard(i) for j in range(10000)].count(k) for k in range(17, 22)+['Bust']}\n",
      "dat1 = DataFrame(dictA)/10000.\n",
      "print dat1"
     ],
     "language": "python",
     "metadata": {},
     "outputs": []
    },
    {
     "cell_type": "code",
     "collapsed": false,
     "input": [
      "# dictA\n",
      "dat1 = DataFrame(dictA)/100.\n",
      "print dat1"
     ],
     "language": "python",
     "metadata": {},
     "outputs": []
    },
    {
     "cell_type": "code",
     "collapsed": false,
     "input": [
      "AA = [dealerPlay(13, [drawCont() for i in range(8)])[0] for i in range(10000)]\n",
      "dict1 = {}\n",
      "for k in range(17, 22)+['BJ', 'Bust']:\n",
      "    # dict2 = {}\n",
      "    for i, l in enumerate(AA):\n",
      "       dict1[k] = AA.count(k)\n",
      "    #dict1[k] = dict2 "
     ],
     "language": "python",
     "metadata": {},
     "outputs": []
    },
    {
     "cell_type": "code",
     "collapsed": false,
     "input": [
      "dict1"
     ],
     "language": "python",
     "metadata": {},
     "outputs": []
    },
    {
     "cell_type": "code",
     "collapsed": false,
     "input": [
      "#dict2 = {}\n",
      "dict2[13] = dict1"
     ],
     "language": "python",
     "metadata": {},
     "outputs": []
    },
    {
     "cell_type": "code",
     "collapsed": false,
     "input": [
      "dict2"
     ],
     "language": "python",
     "metadata": {},
     "outputs": []
    },
    {
     "cell_type": "code",
     "collapsed": false,
     "input": [
      "dat = DataFrame(dict2)\n",
      "dat/100."
     ],
     "language": "python",
     "metadata": {},
     "outputs": []
    },
    {
     "cell_type": "code",
     "collapsed": false,
     "input": [
      "[drawCont() for i in xrange(8)]"
     ],
     "language": "python",
     "metadata": {},
     "outputs": []
    },
    {
     "cell_type": "code",
     "collapsed": false,
     "input": [],
     "language": "python",
     "metadata": {},
     "outputs": []
    }
   ],
   "metadata": {}
  }
 ]
}