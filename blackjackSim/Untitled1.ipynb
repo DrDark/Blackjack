{
 "metadata": {
  "name": ""
 },
 "nbformat": 3,
 "nbformat_minor": 0,
 "worksheets": [
  {
   "cells": [
    {
     "cell_type": "heading",
     "level": 2,
     "metadata": {},
     "source": [
      "Calculating Expected Utilities "
     ]
    },
    {
     "cell_type": "markdown",
     "metadata": {},
     "source": [
      "The cell that follows contains all the needed bacground functions such as shuffle, dealer's and player's strategies, and the function that determines the winner. These can all be run together."
     ]
    },
    {
     "cell_type": "code",
     "collapsed": false,
     "input": [
      "from basicFunctions import *\n",
      "from pandas import DataFrame \n",
      "from scipy.stats import describe\n",
      "from numpy.random import shuffle\n",
      "%matplotlib inline\n"
     ],
     "language": "python",
     "metadata": {},
     "outputs": [],
     "prompt_number": 1
    },
    {
     "cell_type": "code",
     "collapsed": false,
     "input": [
      "# Basic strategy: \n",
      "def basicStrategy(dealer, card1, card2, deck):\n",
      "    player = [card1, card2]\n",
      "    total = AddCards(card1, card2)\n",
      "    count = 2\n",
      "    if (not isinstance(total, int) and total[1] == 21): return 'BJ', count, player\n",
      "    while not Bust(total) and ((not isinstance(total, int) and ((dealer in [9, 10, 'A'] and total[1] < 19) or (dealer not in [9, 10, 'A'] and total[1] < 18))) or  \n",
      "            (isinstance(total, int) and ((total < 17 and dealer in [7, 8, 9, 10, 'A']) or  (total < 13 and dealer in [2, 3, 4, 5, 6]) and not (total == 12 and dealer in [4, 5, 6])))): \n",
      "        count = count + 1\n",
      "        if len(deck) == 0:\n",
      "            deck = deckShuffle()\n",
      "        card = drawACard(deck)\n",
      "        player = player + [card]\n",
      "        total = AddCards(total, card)\n",
      "    if isinstance(total, int): \n",
      "        if total > 21: return 'Bust', count, player\n",
      "        else: return total, count, player\n",
      "    else: \n",
      "        if len(total) == 2: return int(total[1]), count, player\n",
      "        else: return 'Bust', count, player\n",
      "        \n",
      "        \n",
      " "
     ],
     "language": "python",
     "metadata": {},
     "outputs": [],
     "prompt_number": 40
    },
    {
     "cell_type": "code",
     "collapsed": false,
     "input": [
      "# Player never hits a hard 12, and thus never busts, but otherwise plays basic strategy. \n",
      "def playerStrategy(dealer, card1, card2, deck):\n",
      "    player = [card1, card2]\n",
      "    total = AddCards(card1, card2)\n",
      "    count = 2\n",
      "    if (not isinstance(total, int) and total[1] == 21): return 'BJ', count, player\n",
      "    while not Bust(total) and ((not isinstance(total, int) and ((dealer in [9, 10, 'A'] and total[1] < 19) or (dealer not in [9, 10, 'A'] and total[1] < 18))) or  (isinstance(total, int) and ((total < 12)))): \n",
      "        count = count + 1\n",
      "        if len(deck) == 0:\n",
      "            deck = deckShuffle()\n",
      "        card = drawACard(deck)\n",
      "        player = player + [card]\n",
      "        total = AddCards(total, card)\n",
      "    if isinstance(total, int): \n",
      "        if total > 21: return 'Bust', count, player\n",
      "        else: return total, count, player\n",
      "    else: \n",
      "        if len(total) == 2: return int(total[1]), count, player\n",
      "        else: return 'Bust', count, player"
     ],
     "language": "python",
     "metadata": {},
     "outputs": [],
     "prompt_number": 41
    },
    {
     "cell_type": "code",
     "collapsed": false,
     "input": [
      "# Player mirrors dealer's strategy\n",
      "def copyDealer(card1, card2, deck):\n",
      "    player = [card1, card2]\n",
      "    total = AddCards(card1, card2)\n",
      "    count = 2\n",
      "    if (not isinstance(total, int) and total[1] == 21): return 'BJ', count, player\n",
      "    while not Bust(total) and ((isinstance(total, int) and total < 17) \n",
      "                                or(not isinstance(total, int) and total[1] < 17)):\n",
      "        count = count + 1\n",
      "        if len(deck) == 0:\n",
      "            deck = deckShuffle()\n",
      "        card = drawACard(deck)\n",
      "        player = player + [card]\n",
      "        total = AddCards(total, card)\n",
      "    if isinstance(total, int): \n",
      "        if total > 21: return 'Bust', count, player\n",
      "        else: return total, count, player\n",
      "    else: \n",
      "        if len(total) == 2: return int(total[1]), count, player\n",
      "        else: return 'Bust', count, player"
     ],
     "language": "python",
     "metadata": {},
     "outputs": [],
     "prompt_number": 58
    },
    {
     "cell_type": "heading",
     "level": 3,
     "metadata": {},
     "source": [
      "Monte Carlo simulation for calculating and comparing the expected utilities"
     ]
    },
    {
     "cell_type": "markdown",
     "metadata": {},
     "source": [
      "We wish to know if out hand totals to 5, and the dealer's first card is also a 5, what is out expected utility if we play the `strategy of never busting` (always stay on a hard 12) and otherwise copying the basic strategy for soft cards. We will later also add the `basic strategy` and `copy the dealer` approach and compare the three. "
     ]
    },
    {
     "cell_type": "markdown",
     "metadata": {},
     "source": [
      "We want to compare a series of scenarios like the following: "
     ]
    },
    {
     "cell_type": "code",
     "collapsed": false,
     "input": [
      "deck = deckShuffle()\n",
      "P = playerStrategy(5, 2, 3, deck)\n",
      "D = dealerPlay(5, deck) \n",
      "print 'Player: ', P\n",
      "print 'Dealer: ', D\n",
      "print \"Player's \", playerWin(D[0], P[0])[1]"
     ],
     "language": "python",
     "metadata": {},
     "outputs": [
      {
       "output_type": "stream",
       "stream": "stdout",
       "text": [
        "Player:  (17, 4, [2, 3, 2, 10])\n",
        "Dealer:  (19, 3, [5, 9, 5])\n",
        "Player's  Loss\n"
       ]
      }
     ],
     "prompt_number": 43
    },
    {
     "cell_type": "markdown",
     "metadata": {},
     "source": [
      "We want to repeat a number of such plays and estimate the expected outcomes:"
     ]
    },
    {
     "cell_type": "code",
     "collapsed": false,
     "input": [
      "for i in range(10): \n",
      "    P = playerStrategy(5, 2, 3, deck)\n",
      "    D = dealerPlay(5, deck) \n",
      "    print 'Player: ', P\n",
      "    print 'Dealer: ', D\n",
      "    print \"Player's \", playerWin(D[0], P[0])[1]\n",
      "    print ' '"
     ],
     "language": "python",
     "metadata": {},
     "outputs": [
      {
       "output_type": "stream",
       "stream": "stdout",
       "text": [
        "Player:  (15, 3, [2, 3, 10])\n",
        "Dealer:  (19, 3, [5, 7, 7])\n",
        "Player's  Loss\n",
        " \n",
        "Player:  (13, 4, [2, 3, 6, 2])\n",
        "Dealer:  ('Bust', 3, [5, 10, 10])\n",
        "Player's  Win\n",
        " \n",
        "Player:  (15, 4, [2, 3, 6, 4])\n",
        "Dealer:  ('Bust', 3, [5, 8, 10])\n",
        "Player's  Win\n",
        " \n",
        "Player:  (13, 4, [2, 3, 4, 4])\n",
        "Dealer:  (18, 3, [5, 5, 8])\n",
        "Player's  Loss\n",
        " \n",
        "Player:  (16, 4, [2, 3, 'A', 10])\n",
        "Dealer:  ('Bust', 4, [5, 5, 5, 9])\n",
        "Player's  Win\n",
        " \n",
        "Player:  (13, 3, [2, 3, 8])\n",
        "Dealer:  ('Bust', 3, [5, 10, 10])\n",
        "Player's  Win\n",
        " \n",
        "Player:  (15, 4, [2, 3, 'A', 9])\n",
        "Dealer:  (20, 3, [5, 10, 5])\n",
        "Player's  Loss\n",
        " \n",
        "Player:  (13, 4, [2, 3, 5, 3])\n",
        "Dealer:  (17, 3, [5, 3, 9])\n",
        "Player's  Loss\n",
        " \n",
        "Player:  (12, 3, [2, 3, 7])\n",
        "Dealer:  ('Bust', 3, [5, 10, 10])\n",
        "Player's  Win\n",
        " \n",
        "Player:  (17, 5, [2, 3, 3, 3, 6])\n",
        "Dealer:  (18, 3, [5, 10, 3])\n",
        "Player's  Loss\n",
        " \n"
       ]
      }
     ],
     "prompt_number": 44
    },
    {
     "cell_type": "markdown",
     "metadata": {},
     "source": [
      "We count loss as -1, win as 1 (unless it is a 'BJ', then 1.5) and push as 0. We are interested in total count over some number of plays. Here is the idea for 10 plays:"
     ]
    },
    {
     "cell_type": "code",
     "collapsed": false,
     "input": [
      "count = 0\n",
      "for i in range(10): \n",
      "    P = playerStrategy(10, 11, 10, deck)\n",
      "    D = dealerPlay(10, deck) \n",
      "    print 'Player: ', P\n",
      "    print 'Dealer: ', D\n",
      "    print \"Player's \", playerWin(D[0], P[0])[1]\n",
      "    count += playerWin(D[0], P[0])[0]\n",
      "    print ' '\n",
      "print 'In ten rounds, the player lost/won: $',count    "
     ],
     "language": "python",
     "metadata": {},
     "outputs": [
      {
       "output_type": "stream",
       "stream": "stdout",
       "text": [
        "Player:  (21, 2, [11, 10])\n",
        "Dealer:  (18, 4, [10, 3, 'A', 4])\n",
        "Player's  Win\n",
        " \n",
        "Player:  (21, 2, [11, 10])\n",
        "Dealer:  (20, 2, [10, 10])\n",
        "Player's  Win\n",
        " \n",
        "Player:  (21, 2, [11, 10])\n",
        "Dealer:  (20, 2, [10, 10])\n",
        "Player's  Win\n",
        " \n",
        "Player:  (21, 2, [11, 10])\n",
        "Dealer:  (20, 2, [10, 10])\n",
        "Player's  Win\n",
        " \n",
        "Player:  (21, 2, [11, 10])\n",
        "Dealer:  (19, 2, [10, 9])\n",
        "Player's  Win\n",
        " \n",
        "Player:  (21, 2, [11, 10])\n",
        "Dealer:  (20, 3, [10, 6, 4])\n",
        "Player's  Win\n",
        " \n",
        "Player:  (21, 2, [11, 10])\n",
        "Dealer:  ('Bust', 3, [10, 2, 10])\n",
        "Player's  Win\n",
        " \n",
        "Player:  (21, 2, [11, 10])\n",
        "Dealer:  (20, 2, [10, 10])\n",
        "Player's  Win\n",
        " \n",
        "Player:  (21, 2, [11, 10])\n",
        "Dealer:  ('BJ', 2, [10, 'A'])\n",
        "Player's  Loss\n",
        " \n",
        "Player:  (21, 2, [11, 10])\n",
        "Dealer:  (17, 3, [10, 2, 5])\n",
        "Player's  Win\n",
        " \n",
        "In ten rounds, the player lost/won: $ 8\n"
       ]
      }
     ],
     "prompt_number": 80
    },
    {
     "cell_type": "markdown",
     "metadata": {},
     "source": [
      "In fact, we want to know the count for a much larger number of games for it to have any statistical significance. We pick 10000 rounds, but rather than printing all the games, keep track of count only:"
     ]
    },
    {
     "cell_type": "code",
     "collapsed": false,
     "input": [
      "deck = deckShuffle()\n",
      "count = 0\n",
      "for i in range(10000): \n",
      "    P = playerStrategy(5, 2, 3, deck)\n",
      "    D = dealerPlay(5, deck) \n",
      "    count += playerWin(D[0], P[0])[0]\n",
      "    if len(deck)<10: deck = deckShuffle() \n",
      "print 'In 10,000 rounds, the player lost/won: $',count "
     ],
     "language": "python",
     "metadata": {},
     "outputs": [
      {
       "output_type": "stream",
       "stream": "stdout",
       "text": [
        "In 10,000 rounds, the player lost/won: $ -168\n"
       ]
      }
     ],
     "prompt_number": 48
    },
    {
     "cell_type": "markdown",
     "metadata": {},
     "source": [
      "We could then figure out what percentage of 10,000 is the outcome and claim that as an estimate of expected utility, but since this number will tend to vary quite a bit even with 10,000 rounds, a more prudent approach is to pick a smaller number, say 1,000 rounds, and obtain a hundred results over 1,000 rounds and then average them out to get an estimate of expected utility. This, it turns out, gives us a pretty reliable estimate. "
     ]
    },
    {
     "cell_type": "markdown",
     "metadata": {},
     "source": [
      "Player plays 1000 rounds against the dealer. He does this 100 times. The results are averaged, and the expected return is found to be around -2.5%. By visually inspecting the list1, one sees that the player loses about 25 more times than he wins."
     ]
    },
    {
     "cell_type": "code",
     "collapsed": false,
     "input": [
      "deck = deckShuffle()\n",
      "list1=[]\n",
      "for j in range(100):\n",
      "  count = 0\n",
      "  for i in range(1000):\n",
      "      P = playerStrategy(5, 2, 3, deck)\n",
      "      D = dealerPlay(5, deck) \n",
      "      count += playerWin(D[0], P[0])[0] \n",
      "      if len(deck)<10: deck = deckShuffle()  \n",
      "  list1.append(count)\n",
      "print list1 "
     ],
     "language": "python",
     "metadata": {},
     "outputs": [
      {
       "output_type": "stream",
       "stream": "stdout",
       "text": [
        "[-24, 12, 15, 13, -39, -36, -6, -71, -46, 9, -25, -53, -26, -45, -13, -85, 15, -45, -69, 5, -74, -15, -31, 13, -13, -105, -59, -53, -12, 22, -32, -76, -37, -75, -52, -36, -45, 19, -26, 21, -79, -24, 25, -1, -34, -45, -31, -12, 19, 25, -45, -10, 6, -15, -45, -6, -6, -34, -10, -86, -22, -4, -8, -20, -44, -57, -28, -37, 7, -80, -11, 1, -10, -3, -9, -40, -26, 18, -83, -82, -38, -22, -25, -25, -64, 6, -16, -45, -13, 12, -31, -48, -58, -41, -46, -3, -23, -29, -52, 24]\n"
       ]
      }
     ],
     "prompt_number": 49
    },
    {
     "cell_type": "markdown",
     "metadata": {},
     "source": [
      "We average out the expected outcomes of 1000 hands played 100 times to get a good approximation of expected utility"
     ]
    },
    {
     "cell_type": "code",
     "collapsed": false,
     "input": [
      "l = 0\n",
      "for i in list1:\n",
      "  l = l + i/1000.\n",
      "print l/100."
     ],
     "language": "python",
     "metadata": {},
     "outputs": [
      {
       "output_type": "stream",
       "stream": "stdout",
       "text": [
        "-0.02663\n"
       ]
      }
     ],
     "prompt_number": 50
    },
    {
     "cell_type": "markdown",
     "metadata": {},
     "source": [
      "Plot the variance. See that the mean is somewhere around -25 but it varies from one set of 1000  hands to another."
     ]
    },
    {
     "cell_type": "code",
     "collapsed": false,
     "input": [
      "figsize(6,4)\n",
      "hist(list1, color='k', alpha = .15);"
     ],
     "language": "python",
     "metadata": {},
     "outputs": [
      {
       "metadata": {},
       "output_type": "display_data",
       "png": "[encoded data removed]",
       "text": [
        "<matplotlib.figure.Figure at 0x108100ad0>"
       ]
      }
     ],
     "prompt_number": 51
    },
    {
     "cell_type": "code",
     "collapsed": false,
     "input": [
      "print '-------'\n",
      "print '''Summary stats for Player 1 (never bust)'''\n",
      "print '-------'\n",
      "Size,  Range, Mean, variance, skewness, kurtosis = describe(list1)\n",
      "print 'Number of observations: ', Size\n",
      "print 'Mean: ',  Mean\n",
      "print 'Min to Max: ', Range\n",
      "print 'Variance: ', variance\n",
      "print 'Standard Dev.: ', sqrt(variance)\n",
      "print 'Skewness: ', skewness\n",
      "print 'Kurtosis: ', kurtosis\n",
      "print '-------'\n",
      "print '-------'"
     ],
     "language": "python",
     "metadata": {},
     "outputs": [
      {
       "output_type": "stream",
       "stream": "stdout",
       "text": [
        "-------\n",
        "Summary stats for Player 1 (never bust)\n",
        "-------\n",
        "Number of observations:  100\n",
        "Mean:  -26.63\n",
        "Min to Max:  (-105, 25)\n",
        "Variance:  901.104141414\n",
        "Standard Dev.:  30.0183967162\n",
        "Skewness:  -0.267293354916\n",
        "Kurtosis:  -0.517728314358\n",
        "-------\n",
        "-------\n"
       ]
      }
     ],
     "prompt_number": 52
    },
    {
     "cell_type": "markdown",
     "metadata": {},
     "source": [
      "We can ask more ambitious questions. Given two other player strategies, `copy dealer` and `basic`, which one has the highest expected return? A small extension of our method does just that."
     ]
    },
    {
     "cell_type": "code",
     "collapsed": false,
     "input": [
      "deck = deckShuffle()\n",
      "list1=[]\n",
      "list2=[]\n",
      "list3=[]\n",
      "\n",
      "player1 = 2\n",
      "dealer = 5\n",
      "player2 = 3\n",
      "\n",
      "for j in range(100):\n",
      "  count = 0\n",
      "  count1 = 0\n",
      "  count2 = 0  \n",
      "  for i in range(1000):\n",
      "      P = playerStrategy(dealer, player1, player2, deck)\n",
      "      P2 = copyDealer(player1, player2, deck) # Player 2 plays copy the dealer strategy \n",
      "      P3 = basicStrategy(dealer, player1, player2, deck)  # Player 3 plays basic strategy  \n",
      "      D = dealerPlay(dealer, deck) \n",
      "      count += playerWin(D[0], P[0])[0]\n",
      "      count1 += playerWin(D[0], P2[0])[0] \n",
      "      count2 += playerWin(D[0], P3[0])[0]\n",
      "      if len(deck)<10: deck = deckShuffle()  \n",
      "  list1.append(count)\n",
      "  list2.append(count1)\n",
      "  list3.append(count2) \n",
      "        \n",
      "\n",
      "ls = zip(list1, list2, list3)\n",
      "l = 0\n",
      "l2 = 0\n",
      "l3 = 0\n",
      "for i, j, k in ls:\n",
      "  l = l + i/1000.\n",
      "  l2 = l2 + j/1000.\n",
      "  l3 = l3 + k/1000.  \n",
      "print 'Expected return for P playing never bust: ', l/100.\n",
      "print 'Expected return for P2 copying the dealer: ', l2/100.\n",
      "print 'Expected return for P3 playing basic strategy: ', l3/100.        "
     ],
     "language": "python",
     "metadata": {},
     "outputs": [
      {
       "output_type": "stream",
       "stream": "stdout",
       "text": [
        "Expected return for P playing never bust:  -0.02547\n",
        "Expected return for P2 copying the dealer:  -0.17318\n",
        "Expected return for P3 playing basic strategy:  -0.02128\n"
       ]
      }
     ],
     "prompt_number": 59
    },
    {
     "cell_type": "markdown",
     "metadata": {},
     "source": [
      "We can plot the three strategies and see that `basic` (blue) and `never bust` (gray) are more or less the same on this problem, and average close to -0.025, but the third strategy, `copy dealer`, does much worse at around -0.17."
     ]
    },
    {
     "cell_type": "code",
     "collapsed": false,
     "input": [
      "figsize(14, 5)\n",
      "hist(list1, color = 'k', alpha = .1)\n",
      "hist(list2, color = 'r', alpha = .1)\n",
      "hist(list3, color = 'b', alpha = .1);"
     ],
     "language": "python",
     "metadata": {},
     "outputs": [
      {
       "metadata": {},
       "output_type": "display_data",
       "png": "[encoded data removed]",
       "text": [
        "<matplotlib.figure.Figure at 0x108179610>"
       ]
      }
     ],
     "prompt_number": 60
    },
    {
     "cell_type": "markdown",
     "metadata": {},
     "source": [
      "We next put all the insights together into a single model. To compare the three strategy given the player's initial two cards\n",
      "\n",
      "`player1 = 2`\n",
      "\n",
      "and\n",
      "\n",
      "`player = 3`\n",
      "\n",
      "and dealer's first card \n",
      "\n",
      "`dealer = 5`\n",
      "\n",
      "we simply substitute `n, m` and `k` for 2, 3 and 5 in the model below and run it. We run it for `x` and `y` below."
     ]
    },
    {
     "cell_type": "heading",
     "level": 3,
     "metadata": {},
     "source": [
      "Calculating the expected utility of player's hard total of `n` against the dealer's first card `m`"
     ]
    },
    {
     "cell_type": "code",
     "collapsed": false,
     "input": [
      "'''\n",
      "Part 1: Enter the player's hard total n and dealer's card m for which you want \n",
      "to see the expected utility:\n",
      "'''\n",
      "\n",
      "player1 = 10\n",
      "player2 = 11\n",
      "dealer = 10\n",
      "\n",
      "'''\n",
      "Part 2: Simulate 100 times 1000 rounds of play. Three players representing three strategies:\n",
      "P: never bust\n",
      "P2: play like the dealer (stay on soft and hard 17)\n",
      "P3: basic strategy\n",
      "Return results as three lists of final outcomes. Each list has 100 elements, each of which is\n",
      "a number between -1000 and 1000 (perhaps a bit more if 'BJ' is possible)\n",
      "if you bet a dollar in each round, than this number would simply represent the extra dollars\n",
      "in your pocket after 1000 rounds (with negative numbers representing dollars lost).\n",
      "so -236 means that you lost 236 dollars over 1000 rounds, so your realized utility is -23.6% \n",
      "or -0.236. In Part 3, these numbers are averaged out to obtain an estimate of expected utility.\n",
      "100 such numbers are added for each strategy and the total divided by 100. \n",
      "Expected utility should strictly speaking be represented in $ but here we can represent it as\n",
      "a percentage of the bet size since it scales linearly.\n",
      "'''\n",
      "\n",
      "deck = deckShuffle()\n",
      "list1=[]\n",
      "list2=[]\n",
      "list3=[]\n",
      "for j in range(100):\n",
      "  count = 0\n",
      "  count1 = 0\n",
      "  count2 = 0  \n",
      "  for i in range(1000):\n",
      "      P = playerStrategy(dealer, player1, player2, deck)\n",
      "      P2 = copyDealer(player1, player2, deck) # Player 2 plays copy the dealer strategy \n",
      "      P3 = basicStrategy(dealer, player1, player2, deck)  # Player 3 plays basic strategy  \n",
      "      D = dealerPlay(dealer, deck) \n",
      "      count += playerWin(D[0], P[0])[0]\n",
      "      count1 += playerWin(D[0], P2[0])[0] \n",
      "      count2 += playerWin(D[0], P3[0])[0]\n",
      "      if len(deck)<10: deck = deckShuffle()  \n",
      "  list1.append(count)\n",
      "  list2.append(count1)\n",
      "  list3.append(count2)      \n",
      "print 'Player 1 outcomes:'\n",
      "print list1\n",
      "print '-----'\n",
      "print ' '\n",
      "print ' '\n",
      "print 'Player 2 outcomes:'\n",
      "print list2\n",
      "print '-----'\n",
      "print ' '\n",
      "print ' '\n",
      "print 'Player 3 outcomes:'\n",
      "print list3\n",
      "print '-----'\n",
      "print '-----'\n",
      "print ' '\n",
      "print ' '\n",
      "print ' '\n",
      "print ' '\n",
      "\n",
      "\n",
      "'''\n",
      "Part 3\n",
      "Calculate the expected utility\n",
      "'''\n",
      "\n",
      "ls = zip(list1, list2, list3)\n",
      "l = 0\n",
      "l2 = 0\n",
      "l3 = 0\n",
      "for i, j, k in ls:\n",
      "  l = l + i/1000.\n",
      "  l2 = l2 + j/1000.\n",
      "  l3 = l3 + k/1000.  \n",
      "print 'Expected return for P playing never bust: ', l/100.\n",
      "print 'Expected return for P2 copying the dealer: ', l2/100.\n",
      "print 'Expected return for P3 playing basic strategy: ', l3/100.\n",
      "print ' '\n",
      "print ' '\n",
      "print ' '\n",
      "print ' '\n",
      "\n",
      "\n",
      "\n",
      "'''\n",
      "Part 4: Plot the variance of returns: to see that a distribution of your \n",
      "outcomes over 100 attempts of playing 1000 hands. The plot captures the frequency of \n",
      "various realized outcomes over 100 runs on y-axis, and their magnitudes on x-axis. If at\n",
      "x of -100 the y is around 20, then about 20 times out of 100 you lost $100. \n",
      "'''\n",
      "figsize(14, 5)\n",
      "figure(1)\n",
      "title(\"P1 (never bust) in gray, P2 (copy the dealer) in pink, P3 (basic strategy) in blue\")\n",
      "xlabel(\"Magnitude of a return (could in principle range from -1000 to 1000)\")\n",
      "ylabel(\"Frequency of a return (out of 100)\")\n",
      "hist(list1, color = 'k', alpha = .1)\n",
      "hist(list2, color = 'r', alpha = .1)\n",
      "hist(list3, color = 'b', alpha = .1);\n",
      "\n",
      "\n",
      "\n",
      "'''\n",
      "Part 5\n",
      "'''\n",
      "\n",
      "print '-------'\n",
      "print '''Summary stats for Player 1 (never bust)'''\n",
      "print '-------'\n",
      "Size,  Range, Mean, variance, skewness, kurtosis = describe(list1)\n",
      "print 'Number of observations: ', Size\n",
      "print 'Mean: ',  Mean\n",
      "print 'Min to Max: ', Range\n",
      "print 'Variance: ', variance\n",
      "print 'Standard Dev.: ', sqrt(variance)\n",
      "print 'Skewness: ', skewness\n",
      "print 'Kurtosis: ', kurtosis\n",
      "print '-------'\n",
      "print '-------'\n",
      "\n",
      "print ' '\n",
      "print ' '\n",
      "print ' '\n",
      "\n",
      "Size,  Range, Mean, variance, skewness, kurtosis = describe(list2)\n",
      "print 'Summary stats for Player 2 (copy dealer)'\n",
      "print '-------'\n",
      "print 'Number of observations: ', Size\n",
      "print 'Mean: ',  Mean\n",
      "print 'Min to Max: ', Range\n",
      "print 'Variance: ', variance\n",
      "print 'Standard Dev.: ', sqrt(variance)\n",
      "print 'Skewness: ', skewness\n",
      "print 'Kurtosis: ', kurtosis\n",
      "print '-------'\n",
      "print '-------'\n",
      "print ' '\n",
      "print ' '\n",
      "print ' '\n",
      "\n",
      "Size,  Range, Mean, variance, skewness, kurtosis = describe(list3)\n",
      "print 'Summary stats for Player 3 (basic strategy)'\n",
      "print '-------'\n",
      "print 'Number of observations: ', Size\n",
      "print 'Mean: ',  Mean\n",
      "print 'Min to Max: ', Range\n",
      "print 'Variance: ', variance\n",
      "print 'Standard Dev.: ', sqrt(variance)\n",
      "print 'Skewness: ', skewness\n",
      "print 'Kurtosis: ', kurtosis\n",
      "print 'Summary stats for Player 2'\n",
      "print '-------'\n",
      "print ' '\n",
      "print ' '\n",
      "print ' '"
     ],
     "language": "python",
     "metadata": {},
     "outputs": [
      {
       "output_type": "stream",
       "stream": "stdout",
       "text": [
        "Player 1 outcomes:\n",
        "[823, 806, 807, 820, 808, 830, 806, 812, 816, 796, 803, 827, 816, 821, 813, 825, 805, 812, 812, 811, 820, 805, 815, 811, 814, 820, 810, 807, 822, 829, 810, 804, 809, 797, 818, 808, 831, 814, 812, 815, 812, 812, 823, 823, 818, 791, 802, 814, 826, 832, 815, 831, 821, 789, 793, 834, 811, 817, 814, 812, 802, 794, 825, 800, 831, 799, 805, 807, 803, 803, 797, 803, 811, 809, 807, 802, 814, 826, 807, 788, 815, 803, 799, 800, 807, 820, 807, 837, 814, 817, 817, 810, 789, 826, 803, 810, 809, 807, 816, 804]\n",
        "-----\n",
        " \n",
        " \n",
        "Player 2 outcomes:\n",
        "[823, 806, 807, 820, 808, 830, 806, 812, 816, 796, 803, 827, 816, 821, 813, 825, 805, 812, 812, 811, 820, 805, 815, 811, 814, 820, 810, 807, 822, 829, 810, 804, 809, 797, 818, 808, 831, 814, 812, 815, 812, 812, 823, 823, 818, 791, 802, 814, 826, 832, 815, 831, 821, 789, 793, 834, 811, 817, 814, 812, 802, 794, 825, 800, 831, 799, 805, 807, 803, 803, 797, 803, 811, 809, 807, 802, 814, 826, 807, 788, 815, 803, 799, 800, 807, 820, 807, 837, 814, 817, 817, 810, 789, 826, 803, 810, 809, 807, 816, 804]\n",
        "-----\n",
        " \n",
        " \n",
        "Player 3 outcomes:\n",
        "[823, 806, 807, 820, 808, 830, 806, 812, 816, 796, 803, 827, 816, 821, 813, 825, 805, 812, 812, 811, 820, 805, 815, 811, 814, 820, 810, 807, 822, 829, 810, 804, 809, 797, 818, 808, 831, 814, 812, 815, 812, 812, 823, 823, 818, 791, 802, 814, 826, 832, 815, 831, 821, 789, 793, 834, 811, 817, 814, 812, 802, 794, 825, 800, 831, 799, 805, 807, 803, 803, 797, 803, 811, 809, 807, 802, 814, 826, 807, 788, 815, 803, 799, 800, 807, 820, 807, 837, 814, 817, 817, 810, 789, 826, 803, 810, 809, 807, 816, 804]\n",
        "-----\n",
        "-----\n",
        " \n",
        " \n",
        " \n",
        " \n",
        "Expected return for P playing never bust:  0.81173\n",
        "Expected return for P2 copying the dealer:  0.81173\n",
        "Expected return for P3 playing basic strategy:  0.81173\n",
        " \n",
        " \n",
        " \n",
        " \n",
        "-------"
       ]
      },
      {
       "output_type": "stream",
       "stream": "stdout",
       "text": [
        "\n",
        "Summary stats for Player 1 (never bust)\n",
        "-------\n",
        "Number of observations:  100\n",
        "Mean:  811.73\n",
        "Min to Max:  (788, 837)\n",
        "Variance:  111.007171717\n",
        "Standard Dev.:  10.535994102\n",
        "Skewness:  0.0889236075991\n",
        "Kurtosis:  -0.215892985943\n",
        "-------\n",
        "-------\n",
        " \n",
        " \n",
        " \n",
        "Summary stats for Player 2 (copy dealer)\n",
        "-------\n",
        "Number of observations:  100\n",
        "Mean:  811.73\n",
        "Min to Max:  (788, 837)\n",
        "Variance:  111.007171717\n",
        "Standard Dev.:  10.535994102\n",
        "Skewness:  0.0889236075991\n",
        "Kurtosis:  -0.215892985943\n",
        "-------\n",
        "-------\n",
        " \n",
        " \n",
        " \n",
        "Summary stats for Player 3 (basic strategy)\n",
        "-------\n",
        "Number of observations:  100\n",
        "Mean:  811.73\n",
        "Min to Max:  (788, 837)\n",
        "Variance:  111.007171717\n",
        "Standard Dev.:  10.535994102\n",
        "Skewness:  0.0889236075991\n",
        "Kurtosis:  -0.215892985943\n",
        "Summary stats for Player 2\n",
        "-------\n",
        " \n",
        " \n",
        " \n"
       ]
      },
      {
       "metadata": {},
       "output_type": "display_data",
       "png": "[encoded data removed]",
       "text": [
        "<matplotlib.figure.Figure at 0x107caf250>"
       ]
      }
     ],
     "prompt_number": 75
    },
    {
     "cell_type": "code",
     "collapsed": false,
     "input": [],
     "language": "python",
     "metadata": {},
     "outputs": []
    }
   ],
   "metadata": {}
  }
 ]
}