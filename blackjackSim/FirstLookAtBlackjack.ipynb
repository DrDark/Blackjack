{
 "metadata": {
  "name": ""
 },
 "nbformat": 3,
 "nbformat_minor": 0,
 "worksheets": [
  {
   "cells": [
    {
     "cell_type": "code",
     "collapsed": false,
     "input": [
      "from numpy import random"
     ],
     "language": "python",
     "metadata": {},
     "outputs": [],
     "prompt_number": 1
    },
    {
     "cell_type": "raw",
     "metadata": {},
     "source": [
      "Ace -- 2, 3, 4, 5, 6 -- 7, 8, 9 -- 10, 10, 10, 10"
     ]
    },
    {
     "cell_type": "raw",
     "metadata": {},
     "source": [
      "A 6000-deck game of B"
     ]
    },
    {
     "cell_type": "code",
     "collapsed": false,
     "input": [
      "low = [2, 3, 4, 5, 6]*4*6000\n",
      "neutral = [7, 8, 9]*4*6000\n",
      "high = [10, 10, 10, 10]*4*6000\n",
      "highAce = ['A']*4*6000\n",
      "cardDeck = low + neutral + high + highAce"
     ],
     "language": "python",
     "metadata": {},
     "outputs": [],
     "prompt_number": 142
    },
    {
     "cell_type": "code",
     "collapsed": false,
     "input": [
      "len(cardDeck)"
     ],
     "language": "python",
     "metadata": {},
     "outputs": [
      {
       "metadata": {},
       "output_type": "pyout",
       "prompt_number": 143,
       "text": [
        "312000"
       ]
      }
     ],
     "prompt_number": 143
    },
    {
     "cell_type": "code",
     "collapsed": false,
     "input": [
      "def drawACard(cardDeck=cardDeck):\n",
      "    x = len(cardDeck)\n",
      "    return cardDeck.pop(random.choice(len(cardDeck)))"
     ],
     "language": "python",
     "metadata": {},
     "outputs": [],
     "prompt_number": 144
    },
    {
     "cell_type": "code",
     "collapsed": false,
     "input": [
      "drawACard()"
     ],
     "language": "python",
     "metadata": {},
     "outputs": [
      {
       "metadata": {},
       "output_type": "pyout",
       "prompt_number": 135,
       "text": [
        "7"
       ]
      }
     ],
     "prompt_number": 135
    },
    {
     "cell_type": "code",
     "collapsed": false,
     "input": [
      "[drawACard(cardDeck) for i in range(100)]"
     ],
     "language": "python",
     "metadata": {},
     "outputs": [
      {
       "metadata": {},
       "output_type": "pyout",
       "prompt_number": 146,
       "text": [
        "[9,\n",
        " 6,\n",
        " 'A',\n",
        " 7,\n",
        " 'A',\n",
        " 10,\n",
        " 10,\n",
        " 6,\n",
        " 8,\n",
        " 10,\n",
        " 6,\n",
        " 5,\n",
        " 5,\n",
        " 4,\n",
        " 8,\n",
        " 7,\n",
        " 10,\n",
        " 4,\n",
        " 3,\n",
        " 'A',\n",
        " 9,\n",
        " 10,\n",
        " 10,\n",
        " 10,\n",
        " 3,\n",
        " 10,\n",
        " 7,\n",
        " 10,\n",
        " 'A',\n",
        " 9,\n",
        " 10,\n",
        " 5,\n",
        " 5,\n",
        " 10,\n",
        " 9,\n",
        " 10,\n",
        " 8,\n",
        " 'A',\n",
        " 9,\n",
        " 5,\n",
        " 5,\n",
        " 7,\n",
        " 9,\n",
        " 10,\n",
        " 5,\n",
        " 5,\n",
        " 5,\n",
        " 3,\n",
        " 2,\n",
        " 6,\n",
        " 4,\n",
        " 10,\n",
        " 10,\n",
        " 2,\n",
        " 10,\n",
        " 10,\n",
        " 6,\n",
        " 6,\n",
        " 9,\n",
        " 9,\n",
        " 10,\n",
        " 2,\n",
        " 'A',\n",
        " 3,\n",
        " 5,\n",
        " 3,\n",
        " 3,\n",
        " 6,\n",
        " 10,\n",
        " 'A',\n",
        " 7,\n",
        " 2,\n",
        " 7,\n",
        " 7,\n",
        " 'A',\n",
        " 7,\n",
        " 10,\n",
        " 10,\n",
        " 7,\n",
        " 10,\n",
        " 4,\n",
        " 4,\n",
        " 'A',\n",
        " 10,\n",
        " 10,\n",
        " 10,\n",
        " 'A',\n",
        " 2,\n",
        " 5,\n",
        " 10,\n",
        " 'A',\n",
        " 7,\n",
        " 6,\n",
        " 7,\n",
        " 6,\n",
        " 8,\n",
        " 'A',\n",
        " 10,\n",
        " 9,\n",
        " 8]"
       ]
      }
     ],
     "prompt_number": 146
    },
    {
     "cell_type": "code",
     "collapsed": false,
     "input": [
      "len(cardDeck)"
     ],
     "language": "python",
     "metadata": {},
     "outputs": [
      {
       "metadata": {},
       "output_type": "pyout",
       "prompt_number": 124,
       "text": [
        "263999"
       ]
      }
     ],
     "prompt_number": 124
    },
    {
     "cell_type": "code",
     "collapsed": false,
     "input": [
      "#def drawCard(low=low, neutral=neutral, high = high, highAce=highAce):\n",
      " #   no = random.randint(1, high = 14)\n",
      "  #  if no == 1 and len(highAce)>0: return highAce.pop(0)\n",
      "   # elif no in [2, 3, 4, 5, 6] and len(low)>0: return low.pop(random.choice(len(low)))\n",
      " #   elif no in [7, 8, 9] and len(neutral)>0: return neutral.pop(random.choice(len(neutral)))\n",
      " #   elif no in [10, 11, 12, 13] and len(high)>0: return high.pop(random.choice(len(high)))\n",
      " #   else: drawCard()\n",
      "    "
     ],
     "language": "python",
     "metadata": {},
     "outputs": [],
     "prompt_number": 55
    },
    {
     "cell_type": "code",
     "collapsed": false,
     "input": [
      "players = ['ONE  ', 'TWO  ', 'THREE', 'FOUR ', 'FIVE ', 'SIX  ', 'SEVEN']"
     ],
     "language": "python",
     "metadata": {},
     "outputs": [],
     "prompt_number": 4
    },
    {
     "cell_type": "code",
     "collapsed": false,
     "input": [
      "# Adding with ace:\n",
      "def AddAce(card):\n",
      "    if card == 'A': return AddAce(array([1, 11]))\n",
      "    else: \n",
      "        result = array([card + 1, card + 11]) \n",
      "        result = result.flatten()[result.flatten()<22]\n",
      "        if len(result)==1: return int(result)\n",
      "        else: return unique(result)"
     ],
     "language": "python",
     "metadata": {},
     "outputs": [
      {
       "output_type": "stream",
       "stream": "stdout",
       "text": [
        "\n"
       ]
      }
     ],
     "prompt_number": 6
    },
    {
     "cell_type": "code",
     "collapsed": false,
     "input": [
      "# Adding a card to a total:\n",
      "def AddCards(cards, card):\n",
      "    if cards == 'A': return AddAce(card)\n",
      "    elif card == 'A': return AddAce(cards)\n",
      "    elif isinstance(cards + card, int): return cards + card\n",
      "    else: \n",
      "        result = cards + card \n",
      "        result = result.flatten()[result.flatten()<22]\n",
      "        if len(result)==1: return int(result)\n",
      "        else: return unique(result)"
     ],
     "language": "python",
     "metadata": {},
     "outputs": [],
     "prompt_number": 7
    },
    {
     "cell_type": "code",
     "collapsed": false,
     "input": [
      "def Bust(cards):\n",
      "    if isinstance(cards, int):\n",
      "        if cards > 21: return True\n",
      "    elif not isinstance(cards, int): \n",
      "        if len(cards) == 0: return True\n",
      "    else: return False"
     ],
     "language": "python",
     "metadata": {},
     "outputs": [],
     "prompt_number": 8
    },
    {
     "cell_type": "code",
     "collapsed": false,
     "input": [
      "card1 = [drawACard() for i in players]\n",
      "dealer = drawACard()\n",
      "card2 = [drawACard() for i in players]\n",
      "hand = zip(players, card1, card2)\n",
      "for (i, j, k) in hand: print 'Player ', i, ' holds: ', [j, k], '=', AddCards(j, k)\n",
      "print '-------'\n",
      "print \"Dealer's hand: \", dealer\n",
      "\n"
     ],
     "language": "python",
     "metadata": {},
     "outputs": [
      {
       "output_type": "stream",
       "stream": "stdout",
       "text": [
        "Player  ONE    holds:  [10, 5] = 15\n",
        "Player  TWO    holds:  [10, 10] = 20\n",
        "Player  THREE  holds:  [9, 10] = 19\n",
        "Player  FOUR   holds:  [9, 6] = 15\n",
        "Player  FIVE   holds:  [10, 8] = 18\n",
        "Player  SIX    holds:  [5, 2] = 7\n",
        "Player  SEVEN  holds:  [4, 'A'] = [ 5 15]\n",
        "-------\n",
        "Dealer's hand:  10\n"
       ]
      }
     ],
     "prompt_number": 83
    },
    {
     "cell_type": "code",
     "collapsed": false,
     "input": [
      "def dealerPlay(dealer):\n",
      "    ''' Hit < hard 16 and < soft 17. The function seems more complicated \n",
      "    than it is, mostly because of the aces. It just draws soft but not hard\n",
      "    16. This is completely deterministic. One can use it to determine the expected\n",
      "    number of outcomes, given dealer's fist card. For instance, \"given an Ace, what is\n",
      "    the expected % of a dealer blackjack?\" or \"Given a deler's 5, what is the\n",
      "    chance that the outcome will be 19 or lower. It returns a tripple:\n",
      "    number of cards drawn total, the value, list of cards. For example:\n",
      "    (2, 21, ['A', 10]) means the dealer had a blackjack. (4, 22, ['A','A', 10, 10]): \n",
      "    the dealer busted.'''\n",
      "    lst =[dealer]\n",
      "    card = drawACard()\n",
      "    lst.append(card) \n",
      "    dealer = AddCards(dealer, card)\n",
      "    count = 2\n",
      "    while not Bust(dealer) and ((isinstance(dealer, int) and dealer < 17) \n",
      "                                or(not isinstance(dealer, int) and dealer[1] < 17)):\n",
      "        count = count + 1\n",
      "        card = drawACard()\n",
      "        lst.append(card) \n",
      "        dealer = AddCards(dealer, card)\n",
      "    if isinstance(dealer, int): return dealer, count, lst\n",
      "    else: return int(dealer[1]), count, lst"
     ],
     "language": "python",
     "metadata": {},
     "outputs": [],
     "prompt_number": 136
    },
    {
     "cell_type": "code",
     "collapsed": false,
     "input": [
      "# Trying it for a single draw:\n",
      "print 'Dealer has a 5: ',dealerPlay(5)\n",
      "# Ace has to be enclosed in '':\n",
      "print 'Dealer has an Ace: ', dealerPlay('A')"
     ],
     "language": "python",
     "metadata": {},
     "outputs": [
      {
       "output_type": "stream",
       "stream": "stdout",
       "text": [
        "Dealer has a 5:  (22, 3, [5, 7, 10])\n",
        "Dealer has an Ace:  (20, 2, ['A', 9])\n"
       ]
      }
     ],
     "prompt_number": 126
    },
    {
     "cell_type": "raw",
     "metadata": {},
     "source": [
      "We can simulate 10000 hands to see the distribution of dealer outcomes given\n",
      "the first card: "
     ]
    },
    {
     "cell_type": "code",
     "collapsed": false,
     "input": [
      "list1=[]\n",
      "for i in range(10000):\n",
      "    list1.append(dealerPlay(6)[0])"
     ],
     "language": "python",
     "metadata": {},
     "outputs": [],
     "prompt_number": 137
    },
    {
     "cell_type": "code",
     "collapsed": false,
     "input": [
      "list1.sort()\n",
      "j=0\n",
      "print \"Hand/  No Draws/  Cum No Draws/  Card Remaining/  Expected %\"\n",
      "for i in range(16, 22):\n",
      "    j = list1.count(i) + j\n",
      "    print i, '     ', list1.count(i), '       ', j,'       ', len(list1)-j, '     ', ((list1.count(i)*1.)/len(list1))*100, '%'\n",
      "print 'The expected % of dealer busts: ',   ((len(list1)-j*1.)/len(list1))*100, '%'   \n",
      "    "
     ],
     "language": "python",
     "metadata": {},
     "outputs": [
      {
       "output_type": "stream",
       "stream": "stdout",
       "text": [
        "Hand/  No Draws/  Cum No Draws/  Card Remaining/  Expected %\n",
        "16       0         0         10000       0.0 %\n",
        "17       1770         1770         8230       17.7 %\n",
        "18       719         2489         7511       7.19 %\n",
        "19       751         3240         6760       7.51 %\n",
        "20       791         4031         5969       7.91 %\n",
        "21       754         4785         5215       7.54 %\n",
        "The expected % of dealer busts:  52.15 %\n"
       ]
      }
     ],
     "prompt_number": 138
    },
    {
     "cell_type": "raw",
     "metadata": {},
     "source": [
      "Ace: "
     ]
    },
    {
     "cell_type": "code",
     "collapsed": false,
     "input": [
      "list1=[]\n",
      "for i in range(3000):\n",
      "    list1.append(dealerPlay('A')[0])\n",
      "list1.sort()\n",
      "j=0\n",
      "print \"Hand/  No Draws/  Cum No Draws/  Card Remaining/  Expected %\"\n",
      "for i in range(16, 22):\n",
      "    j = list1.count(i) + j\n",
      "    print i, '     ', list1.count(i), '       ', j,'       ', len(list1)-j, '     ', ((list1.count(i)*1.)/len(list1))*100, '%'\n",
      "print 'The expected % of dealer busts: ',   ((len(list1)-j*1.)/len(list1))*100, '%'   \n",
      "        "
     ],
     "language": "python",
     "metadata": {},
     "outputs": [
      {
       "output_type": "stream",
       "stream": "stdout",
       "text": [
        "Hand/  No Draws/  Cum No Draws/  Card Remaining/  Expected %\n",
        "16       0         0         3000       0.0 %\n",
        "17       234         234         2766       7.8 %\n",
        "18       378         612         2388       12.6 %\n",
        "19       390         1002         1998       13.0 %\n",
        "20       417         1419         1581       13.9 %\n",
        "21       1247         2666         334       41.5666666667 %\n",
        "The expected % of dealer busts:  11.1333333333 %\n"
       ]
      }
     ],
     "prompt_number": 139
    },
    {
     "cell_type": "raw",
     "metadata": {},
     "source": [
      "A five: "
     ]
    },
    {
     "cell_type": "code",
     "collapsed": false,
     "input": [
      "list1=[]\n",
      "for i in range(10000):\n",
      "    list1.append(dealerPlay(7)[0])\n",
      "list1.sort()\n",
      "j=0\n",
      "print \"Hand/  No Draws/  Cum No Draws/  Card Remaining/  Expected %\"\n",
      "for i in range(16, 22):\n",
      "    j = list1.count(i) + j\n",
      "    print i, '     ', list1.count(i), '       ', j,'       ', len(list1)-j, '     ', ((list1.count(i)*1.)/len(list1))*100, '%'\n",
      "print 'The expected % of dealer busts: ',   ((len(list1)-j*1.)/len(list1))*100, '%'   \n",
      "        "
     ],
     "language": "python",
     "metadata": {},
     "outputs": [
      {
       "output_type": "stream",
       "stream": "stdout",
       "text": [
        "Hand/  No Draws/  Cum No Draws/  Card Remaining/  Expected %\n",
        "16       0         0         10000       0.0 %\n",
        "17       4183         4183         5817       41.83 %\n",
        "18       1289         5472         4528       12.89 %\n",
        "19       550         6022         3978       5.5 %\n",
        "20       556         6578         3422       5.56 %\n",
        "21       553         7131         2869       5.53 %\n",
        "The expected % of dealer busts:  28.69 %\n"
       ]
      }
     ],
     "prompt_number": 141
    },
    {
     "cell_type": "code",
     "collapsed": false,
     "input": [
      "# Not yet implemented \n",
      "def playerStrategy(??):\n",
      "    '''Hit less < 12, stay on 18, 19, 20, 21,....'''"
     ],
     "language": "python",
     "metadata": {},
     "outputs": []
    },
    {
     "cell_type": "raw",
     "metadata": {},
     "source": [
      "The regular number of cards:"
     ]
    },
    {
     "cell_type": "code",
     "collapsed": false,
     "input": [
      "list1=[]\n",
      "for i in range(10000):\n",
      "    list1.append(dealerPlay(9)[0])\n",
      "list1.sort()\n",
      "j=0\n",
      "print \"Hand/  No Draws/  Cum No Draws/  Card Remaining/  Expected %\"\n",
      "for i in range(16, 22):\n",
      "    j = list1.count(i) + j\n",
      "    print i, '     ', list1.count(i), '       ', j,'       ', len(list1)-j, '     ', ((list1.count(i)*1.)/len(list1))*100, '%'\n",
      "print 'The expected % of dealer busts: ',   ((len(list1)-j*1.)/len(list1))*100, '%'   \n",
      " "
     ],
     "language": "python",
     "metadata": {},
     "outputs": [
      {
       "output_type": "stream",
       "stream": "stdout",
       "text": [
        "Hand/  No Draws/  Cum No Draws/  Card Remaining/  Expected %\n",
        "16       0         0         10000       0.0 %\n",
        "17       1193         1193         8807       11.93 %\n",
        "18       1197         2390         7610       11.97 %\n",
        "19       3518         5908         4092       35.18 %\n",
        "20       1218         7126         2874       12.18 %\n",
        "21       602         7728         2272       6.02 %\n",
        "The expected % of dealer busts:  22.72 %\n"
       ]
      }
     ],
     "prompt_number": 47
    },
    {
     "cell_type": "code",
     "collapsed": false,
     "input": [
      "list1=[]\n",
      "for i in range(10000):\n",
      "    list1.append(dealerPlay(9)[0])\n",
      "list1.sort()\n",
      "j=0\n",
      "print \"Hand/  No Draws/  Cum No Draws/  Card Remaining/  Expected %\"\n",
      "for i in range(16, 22):\n",
      "    j = list1.count(i) + j\n",
      "    print i, '     ', list1.count(i), '       ', j,'       ', len(list1)-j, '     ', ((list1.count(i)*1.)/len(list1))*100, '%'\n",
      "print 'The expected % of dealer busts: ',   ((len(list1)-j*1.)/len(list1))*100, '%'   \n",
      " "
     ],
     "language": "python",
     "metadata": {},
     "outputs": [
      {
       "output_type": "stream",
       "stream": "stdout",
       "text": [
        "Hand/  No Draws/  Cum No Draws/  Card Remaining/  Expected %\n",
        "16       0         0         10000       0.0 %\n",
        "17       1226         1226         8774       12.26 %\n",
        "18       1194         2420         7580       11.94 %\n",
        "19       3548         5968         4032       35.48 %\n",
        "20       1177         7145         2855       11.77 %\n",
        "21       604         7749         2251       6.04 %\n",
        "The expected % of dealer busts:  22.51 %\n"
       ]
      }
     ],
     "prompt_number": 48
    },
    {
     "cell_type": "code",
     "collapsed": false,
     "input": [
      "list1=[]\n",
      "for i in range(10000):\n",
      "    list1.append(dealerPlay(9)[0])\n",
      "list1.sort()\n",
      "j=0\n",
      "print \"Hand/  No Draws/  Cum No Draws/  Card Remaining/  Expected %\"\n",
      "for i in range(16, 22):\n",
      "    j = list1.count(i) + j\n",
      "    print i, '     ', list1.count(i), '       ', j,'       ', len(list1)-j, '     ', ((list1.count(i)*1.)/len(list1))*100, '%'\n",
      "print 'The expected % of dealer busts: ',   ((len(list1)-j*1.)/len(list1))*100, '%'   \n",
      " "
     ],
     "language": "python",
     "metadata": {},
     "outputs": [
      {
       "output_type": "stream",
       "stream": "stdout",
       "text": [
        "Hand/  No Draws/  Cum No Draws/  Card Remaining/  Expected %\n",
        "16       0         0         10000       0.0 %\n",
        "17       1271         1271         8729       12.71 %\n",
        "18       1239         2510         7490       12.39 %\n",
        "19       3511         6021         3979       35.11 %\n",
        "20       1164         7185         2815       11.64 %\n",
        "21       608         7793         2207       6.08 %\n",
        "The expected % of dealer busts:  22.07 %\n"
       ]
      }
     ],
     "prompt_number": 49
    },
    {
     "cell_type": "code",
     "collapsed": false,
     "input": [
      "Half the large cards, nine:"
     ],
     "language": "python",
     "metadata": {},
     "outputs": []
    },
    {
     "cell_type": "code",
     "collapsed": false,
     "input": [
      "list1=[]\n",
      "for i in range(10000):\n",
      "    list1.append(dealerPlay(9)[0])\n",
      "list1.sort()\n",
      "j=0\n",
      "print \"Hand/  No Draws/  Cum No Draws/  Card Remaining/  Expected %\"\n",
      "for i in range(16, 22):\n",
      "    j = list1.count(i) + j\n",
      "    print i, '     ', list1.count(i), '       ', j,'       ', len(list1)-j, '     ', ((list1.count(i)*1.)/len(list1))*100, '%'\n",
      "print 'The expected % of dealer busts: ',   ((len(list1)-j*1.)/len(list1))*100, '%'   \n",
      " "
     ],
     "language": "python",
     "metadata": {},
     "outputs": [
      {
       "output_type": "stream",
       "stream": "stdout",
       "text": [
        "Hand/  No Draws/  Cum No Draws/  Card Remaining/  Expected %\n",
        "16       0         0         10000       0.0 %\n",
        "17       1189         1189         8811       11.89 %\n",
        "18       1207         2396         7604       12.07 %\n",
        "19       3484         5880         4120       34.84 %\n",
        "20       1219         7099         2901       12.19 %\n",
        "21       589         7688         2312       5.89 %\n",
        "The expected % of dealer busts:  23.12 %\n"
       ]
      }
     ],
     "prompt_number": 56
    },
    {
     "cell_type": "code",
     "collapsed": false,
     "input": [
      "list1=[]\n",
      "for i in range(10000):\n",
      "    list1.append(dealerPlay(9)[0])\n",
      "list1.sort()\n",
      "j=0\n",
      "print \"Hand/  No Draws/  Cum No Draws/  Card Remaining/  Expected %\"\n",
      "for i in range(16, 22):\n",
      "    j = list1.count(i) + j\n",
      "    print i, '     ', list1.count(i), '       ', j,'       ', len(list1)-j, '     ', ((list1.count(i)*1.)/len(list1))*100, '%'\n",
      "print 'The expected % of dealer busts: ',   ((len(list1)-j*1.)/len(list1))*100, '%'   \n",
      " "
     ],
     "language": "python",
     "metadata": {},
     "outputs": [
      {
       "output_type": "stream",
       "stream": "stdout",
       "text": [
        "Hand/  No Draws/  Cum No Draws/  Card Remaining/  Expected %\n",
        "16       0         0         10000       0.0 %\n",
        "17       1275         1275         8725       12.75 %\n",
        "18       1128         2403         7597       11.28 %\n",
        "19       3564         5967         4033       35.64 %\n",
        "20       1147         7114         2886       11.47 %\n",
        "21       584         7698         2302       5.84 %\n",
        "The expected % of dealer busts:  23.02 %\n"
       ]
      }
     ],
     "prompt_number": 57
    },
    {
     "cell_type": "code",
     "collapsed": false,
     "input": [
      "list1=[]\n",
      "for i in range(10000):\n",
      "    list1.append(dealerPlay(9)[0])\n",
      "list1.sort()\n",
      "j=0\n",
      "print \"Hand/  No Draws/  Cum No Draws/  Card Remaining/  Expected %\"\n",
      "for i in range(16, 22):\n",
      "    j = list1.count(i) + j\n",
      "    print i, '     ', list1.count(i), '       ', j,'       ', len(list1)-j, '     ', ((list1.count(i)*1.)/len(list1))*100, '%'\n",
      "print 'The expected % of dealer busts: ',   ((len(list1)-j*1.)/len(list1))*100, '%'   \n",
      " "
     ],
     "language": "python",
     "metadata": {},
     "outputs": [
      {
       "output_type": "stream",
       "stream": "stdout",
       "text": [
        "Hand/  No Draws/  Cum No Draws/  Card Remaining/  Expected %\n",
        "16       0         0         10000       0.0 %\n",
        "17       1206         1206         8794       12.06 %\n",
        "18       1193         2399         7601       11.93 %\n",
        "19       3554         5953         4047       35.54 %\n",
        "20       1155         7108         2892       11.55 %\n",
        "21       603         7711         2289       6.03 %\n",
        "The expected % of dealer busts:  22.89 %\n"
       ]
      }
     ],
     "prompt_number": 58
    },
    {
     "cell_type": "raw",
     "metadata": {},
     "source": [
      "Six under regular:"
     ]
    },
    {
     "cell_type": "code",
     "collapsed": false,
     "input": [
      "list1=[]\n",
      "for i in range(10000):\n",
      "    list1.append(dealerPlay(6)[0])\n",
      "list1.sort()\n",
      "j=0\n",
      "print \"Hand/  No Draws/  Cum No Draws/  Card Remaining/  Expected %\"\n",
      "for i in range(16, 22):\n",
      "    j = list1.count(i) + j\n",
      "    print i, '     ', list1.count(i), '       ', j,'       ', len(list1)-j, '     ', ((list1.count(i)*1.)/len(list1))*100, '%'\n",
      "print 'The expected % of dealer busts: ',   ((len(list1)-j*1.)/len(list1))*100, '%'   \n",
      " "
     ],
     "language": "python",
     "metadata": {},
     "outputs": [
      {
       "output_type": "stream",
       "stream": "stdout",
       "text": [
        "Hand/  No Draws/  Cum No Draws/  Card Remaining/  Expected %\n",
        "16       0         0         10000       0.0 %\n",
        "17       1702         1702         8298       17.02 %\n",
        "18       1017         2719         7281       10.17 %\n",
        "19       1075         3794         6206       10.75 %\n",
        "20       1059         4853         5147       10.59 %\n",
        "21       934         5787         4213       9.34 %\n",
        "The expected % of dealer busts:  42.13 %\n"
       ]
      }
     ],
     "prompt_number": 50
    },
    {
     "cell_type": "code",
     "collapsed": false,
     "input": [
      "list1=[]\n",
      "for i in range(10000):\n",
      "    list1.append(dealerPlay(6)[0])\n",
      "list1.sort()\n",
      "j=0\n",
      "print \"Hand/  No Draws/  Cum No Draws/  Card Remaining/  Expected %\"\n",
      "for i in range(16, 22):\n",
      "    j = list1.count(i) + j\n",
      "    print i, '     ', list1.count(i), '       ', j,'       ', len(list1)-j, '     ', ((list1.count(i)*1.)/len(list1))*100, '%'\n",
      "print 'The expected % of dealer busts: ',   ((len(list1)-j*1.)/len(list1))*100, '%'   \n",
      " "
     ],
     "language": "python",
     "metadata": {},
     "outputs": [
      {
       "output_type": "stream",
       "stream": "stdout",
       "text": [
        "Hand/  No Draws/  Cum No Draws/  Card Remaining/  Expected %\n",
        "16       0         0         10000       0.0 %\n",
        "17       1694         1694         8306       16.94 %\n",
        "18       1079         2773         7227       10.79 %\n",
        "19       1065         3838         6162       10.65 %\n",
        "20       996         4834         5166       9.96 %\n",
        "21       1009         5843         4157       10.09 %\n",
        "The expected % of dealer busts:  41.57 %\n"
       ]
      }
     ],
     "prompt_number": 51
    },
    {
     "cell_type": "code",
     "collapsed": false,
     "input": [
      "With Half the Bigs Cards"
     ],
     "language": "python",
     "metadata": {},
     "outputs": []
    },
    {
     "cell_type": "code",
     "collapsed": false,
     "input": [
      "list1=[]\n",
      "for i in range(10000):\n",
      "    list1.append(dealerPlay(6)[0])\n",
      "list1.sort()\n",
      "j=0\n",
      "print \"Hand/  No Draws/  Cum No Draws/  Card Remaining/  Expected %\"\n",
      "for i in range(16, 22):\n",
      "    j = list1.count(i) + j\n",
      "    print i, '     ', list1.count(i), '       ', j,'       ', len(list1)-j, '     ', ((list1.count(i)*1.)/len(list1))*100, '%'\n",
      "print 'The expected % of dealer busts: ',   ((len(list1)-j*1.)/len(list1))*100, '%'   \n",
      " "
     ],
     "language": "python",
     "metadata": {},
     "outputs": [
      {
       "output_type": "stream",
       "stream": "stdout",
       "text": [
        "Hand/  No Draws/  Cum No Draws/  Card Remaining/  Expected %\n",
        "16       0         0         10000       0.0 %\n",
        "17       1680         1680         8320       16.8 %\n",
        "18       1116         2796         7204       11.16 %\n",
        "19       1026         3822         6178       10.26 %\n",
        "20       990         4812         5188       9.9 %\n",
        "21       957         5769         4231       9.57 %\n",
        "The expected % of dealer busts:  42.31 %\n"
       ]
      }
     ],
     "prompt_number": 60
    },
    {
     "cell_type": "code",
     "collapsed": false,
     "input": [],
     "language": "python",
     "metadata": {},
     "outputs": []
    },
    {
     "cell_type": "raw",
     "metadata": {},
     "source": [
      "Ten"
     ]
    },
    {
     "cell_type": "code",
     "collapsed": false,
     "input": [
      "list1=[]\n",
      "for i in range(10000):\n",
      "    list1.append(dealerPlay(10)[0])\n",
      "list1.sort()\n",
      "j=0\n",
      "print \"Hand/  No Draws/  Cum No Draws/  Card Remaining/  Expected %\"\n",
      "for i in range(16, 22):\n",
      "    j = list1.count(i) + j\n",
      "    print i, '     ', list1.count(i), '       ', j,'       ', len(list1)-j, '     ', ((list1.count(i)*1.)/len(list1))*100, '%'\n",
      "print 'The expected % of dealer busts: ',   ((len(list1)-j*1.)/len(list1))*100, '%'   \n",
      " "
     ],
     "language": "python",
     "metadata": {},
     "outputs": [
      {
       "output_type": "stream",
       "stream": "stdout",
       "text": [
        "Hand/  No Draws/  Cum No Draws/  Card Remaining/  Expected %\n",
        "16       0         0         10000       0.0 %\n",
        "17       1137         1137         8863       11.37 %\n",
        "18       1090         2227         7773       10.9 %\n",
        "19       1102         3329         6671       11.02 %\n",
        "20       3495         6824         3176       34.95 %\n",
        "21       1086         7910         2090       10.86 %\n",
        "The expected % of dealer busts:  20.9 %\n"
       ]
      }
     ],
     "prompt_number": 52
    },
    {
     "cell_type": "code",
     "collapsed": false,
     "input": [
      "list1=[]\n",
      "for i in range(10000):\n",
      "    list1.append(dealerPlay(10)[0])\n",
      "list1.sort()\n",
      "j=0\n",
      "print \"Hand/  No Draws/  Cum No Draws/  Card Remaining/  Expected %\"\n",
      "for i in range(16, 22):\n",
      "    j = list1.count(i) + j\n",
      "    print i, '     ', list1.count(i), '       ', j,'       ', len(list1)-j, '     ', ((list1.count(i)*1.)/len(list1))*100, '%'\n",
      "print 'The expected % of dealer busts: ',   ((len(list1)-j*1.)/len(list1))*100, '%'   \n",
      " "
     ],
     "language": "python",
     "metadata": {},
     "outputs": [
      {
       "output_type": "stream",
       "stream": "stdout",
       "text": [
        "Hand/  No Draws/  Cum No Draws/  Card Remaining/  Expected %\n",
        "16       0         0         10000       0.0 %\n",
        "17       1176         1176         8824       11.76 %\n",
        "18       1154         2330         7670       11.54 %\n",
        "19       1183         3513         6487       11.83 %\n",
        "20       3326         6839         3161       33.26 %\n",
        "21       1114         7953         2047       11.14 %\n",
        "The expected % of dealer busts:  20.47 %\n"
       ]
      }
     ],
     "prompt_number": 53
    },
    {
     "cell_type": "raw",
     "metadata": {},
     "source": [
      "A single player against house\n",
      "Can you start basic and learn?\n",
      "\n",
      "What if you change ratio of small and large?\n",
      "How that affects learning/strategy?\n",
      "\n",
      "Strategy when you have 14, 15 16, 17 if ratio not even?\n",
      "\n",
      "Clumps and basic strategy?\n",
      "\n",
      "Different clumping regiments?\n",
      "\n",
      "How does it affect busting rate?"
     ]
    }
   ],
   "metadata": {}
  }
 ]
}