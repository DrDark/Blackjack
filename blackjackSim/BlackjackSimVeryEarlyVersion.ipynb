{
 "metadata": {
  "name": ""
 },
 "nbformat": 3,
 "nbformat_minor": 0,
 "worksheets": [
  {
   "cells": [
    {
     "cell_type": "heading",
     "level": 2,
     "metadata": {},
     "source": [
      "A Blackjack Simulator"
     ]
    },
    {
     "cell_type": "markdown",
     "metadata": {},
     "source": [
      "We explore usefulness of a Blackjack simulator as a means for \n",
      "teaching and learning Bayesian approaches to synthetic data generation. On the flipside, we explore teaching and learning Bayesian simulation based models for exploring properties of Blackjack. "
     ]
    },
    {
     "cell_type": "code",
     "collapsed": false,
     "input": [
      "# Randomness for numpies\n",
      "from numpy import random"
     ],
     "language": "python",
     "metadata": {},
     "outputs": [],
     "prompt_number": 1
    },
    {
     "cell_type": "raw",
     "metadata": {},
     "source": [
      "Our simplified deck consists of four basic types of cards: Ace (1 or 11) -- 2, 3, 4, 5, 6 -- 7, 8, 9 -- 10, 10, 10, 10. Each deck, as per norm, consists of 4 sets of 13 cards of the four types for a total of 52:"
     ]
    },
    {
     "cell_type": "code",
     "collapsed": false,
     "input": [
      "low = range(2, 7)*4          # `Low` face value cards\n",
      "neutral = range(7, 10)*4     # `Neutral` face value cards\n",
      "high = [10]*16               # 16 10's and faces all valued at 10 in BJ\n",
      "highAce = ['A']*4            # 4 Aces valued 1 or 11. \n",
      "# DeckSuffle() has a single balanced deck as a default, but any number\n",
      "# of decks are possible. One can also create unbalanced decks with more\n",
      "# high or low cards.\n",
      "def deckShuffle(no_l=1, no_n=1, no_h=1, no_A=1, low = low, neutral = neutral, high = high, highAce = highAce):\n",
      "    Low =low*no_l\n",
      "    Neut = neutral*no_n\n",
      "    High = high*no_h\n",
      "    Ace = highAce*no_A\n",
      "    All = Low+Neut+High+Ace\n",
      "    shuffle(All)\n",
      "    return All"
     ],
     "language": "python",
     "metadata": {},
     "outputs": [],
     "prompt_number": 4
    },
    {
     "cell_type": "code",
     "collapsed": false,
     "input": [
      "def drawACard(Deck):\n",
      "    x = len(Deck)\n",
      "    return Deck.pop(random.choice(len(Deck)))"
     ],
     "language": "python",
     "metadata": {},
     "outputs": [],
     "prompt_number": 6
    },
    {
     "cell_type": "raw",
     "metadata": {},
     "source": [
      "Example: shuffle 5 decks of cards; check the total number of cards; draw\n",
      "13 cards 16 times; check the remaining total to see that you have 52 cards left. "
     ]
    },
    {
     "cell_type": "code",
     "collapsed": false,
     "input": [
      "ShDck = deckShuffle(5,5,5,5)\n",
      "print len(ShDck)\n",
      "for j in range(16):\n",
      "     print [drawACard(ShDck) for i in range(13)]\n",
      "     print len(ShDck)"
     ],
     "language": "python",
     "metadata": {},
     "outputs": [
      {
       "output_type": "stream",
       "stream": "stdout",
       "text": [
        "260\n",
        "[3, 5, 5, 4, 7, 5, 10, 5, 10, 7, 7, 2, 5]\n",
        "247\n",
        "[10, 10, 2, 7, 4, 10, 'A', 10, 4, 10, 4, 8, 7]\n",
        "234\n",
        "[9, 9, 10, 2, 3, 'A', 3, 2, 6, 10, 10, 10, 10]\n",
        "221\n",
        "[6, 7, 5, 9, 7, 10, 10, 'A', 10, 9, 10, 6, 10]\n",
        "208\n",
        "[4, 7, 3, 4, 10, 10, 7, 5, 'A', 3, 10, 10, 6]\n",
        "195\n",
        "[8, 6, 2, 2, 6, 8, 'A', 10, 10, 10, 2, 9, 7]\n",
        "182\n",
        "[5, 10, 10, 4, 8, 8, 'A', 10, 9, 8, 10, 10, 9]\n",
        "169\n",
        "[2, 10, 7, 10, 4, 3, 9, 9, 7, 'A', 9, 'A', 9]\n",
        "156\n",
        "[2, 10, 10, 8, 8, 4, 3, 7, 10, 'A', 6, 4, 10]\n",
        "143\n",
        "[8, 4, 'A', 3, 10, 2, 8, 3, 10, 6, 8, 2, 10]\n",
        "130\n",
        "[2, 'A', 5, 3, 9, 6, 6, 8, 7, 7, 2, 10, 10]\n",
        "117\n",
        "[8, 10, 4, 6, 10, 10, 10, 10, 4, 'A', 4, 8, 5]\n",
        "104\n",
        "[10, 10, 7, 9, 3, 6, 5, 6, 8, 10, 10, 4, 10]\n",
        "91\n",
        "[3, 5, 10, 6, 2, 10, 3, 10, 7, 10, 9, 10, 'A']\n",
        "78\n",
        "[5, 10, 10, 10, 10, 10, 7, 7, 5, 2, 9, 3, 10]\n",
        "65\n",
        "[10, 3, 10, 2, 4, 6, 5, 10, 2, 9, 10, 10, 6]\n",
        "52\n"
       ]
      }
     ],
     "prompt_number": 120
    },
    {
     "cell_type": "raw",
     "metadata": {},
     "source": [
      "We would not expect our particular remaining 52 cards to look exactly like a full\n",
      "deck (4 twos, 4 threes, ... , 4 Aces), but the expected value of many such \n",
      "52 card remainders is the full deck (that is, the mean deck is the full deck) but there is a lot of variance. If we didn't expect the full deck on average, there would be something amiss with our randomization procedure. We will explore a variety of shuffling methods that introduce a bias here. For instance, if you can have a shuffle that leaves more high cards at the end, the house's advantage would grow. (More about this later.)"
     ]
    },
    {
     "cell_type": "code",
     "collapsed": false,
     "input": [
      "ShDck.sort()\n",
      "print ShDck"
     ],
     "language": "python",
     "metadata": {},
     "outputs": [
      {
       "output_type": "stream",
       "stream": "stdout",
       "text": [
        "[2, 2, 2, 3, 3, 3, 3, 3, 4, 4, 4, 4, 5, 5, 5, 5, 5, 6, 6, 6, 6, 7, 8, 8, 8, 8, 8, 9, 9, 9, 9, 10, 10, 10, 10, 10, 10, 10, 10, 10, 10, 10, 10, 10, 10, 'A', 'A', 'A', 'A', 'A', 'A', 'A']\n"
       ]
      }
     ],
     "prompt_number": 121
    },
    {
     "cell_type": "raw",
     "metadata": {},
     "source": [
      "Adding with an Ace: what complicates the simulation of a game of blackjack is\n",
      "the distinction between `soft` and `hard` hands. The aces are responsible.\n",
      "Below we figure out how to add an ace to a card or a total. Say you have a 5 and an ace. Their total value is not a single number but a choice between 6 and 16. We treat this as an numpy array [6, 16]. This introduces a number of necessary complications in the code below. Given the function below, the array is never longer than 2. If its lenght is 1, it is converted back to an inger. If it is empty, the hand has busted. "
     ]
    },
    {
     "cell_type": "code",
     "collapsed": false,
     "input": [
      "def AddAce(card):\n",
      "    if card == 'A': return AddAce(array([1, 11])) # Both cards aces\n",
      "    else: \n",
      "        result = array([card + 1, card + 11]) \n",
      "        result = result.flatten()[result.flatten()<22] # Flatten and keep values < 22 only\n",
      "        if len(unique(result))==1: return int(result) # Array of length 1 to int\n",
      "        else: return unique(result)    # Remove repeting values"
     ],
     "language": "python",
     "metadata": {},
     "outputs": [],
     "prompt_number": 26
    },
    {
     "cell_type": "raw",
     "metadata": {},
     "source": [
      "To figure out the value of our hand, we need to add up our cards. Once again\n",
      "aces complicate the picture, but with the function AddAce() we are set to go:"
     ]
    },
    {
     "cell_type": "code",
     "collapsed": false,
     "input": [
      "# Adding a card to a total:\n",
      "def AddCards(cards, card):\n",
      "    if cards == 'A': return AddAce(card)\n",
      "    elif card == 'A': return AddAce(cards)\n",
      "    elif isinstance(cards + card, int): return cards + card\n",
      "    else: \n",
      "        result = cards + card \n",
      "        result = result.flatten()[result.flatten()<22]\n",
      "        if len(unique(result))==1: return int(result)\n",
      "        else: return unique(result)"
     ],
     "language": "python",
     "metadata": {},
     "outputs": [],
     "prompt_number": 33
    },
    {
     "cell_type": "code",
     "collapsed": false,
     "input": [
      "def Bust(cards):\n",
      "    if isinstance(cards, int):\n",
      "        if cards > 21: return True\n",
      "    elif not isinstance(cards, int): \n",
      "        if len(cards) == 0: return True\n",
      "    else: return False"
     ],
     "language": "python",
     "metadata": {},
     "outputs": [],
     "prompt_number": 34
    },
    {
     "cell_type": "code",
     "collapsed": false,
     "input": [
      "players = ['ONE  ', 'TWO  ', 'THREE', 'FOUR ', 'FIVE ', 'SIX  ', 'SEVEN']"
     ],
     "language": "python",
     "metadata": {},
     "outputs": [],
     "prompt_number": 35
    },
    {
     "cell_type": "code",
     "collapsed": false,
     "input": [
      "card1 = [drawACard(ShDck) for i in players]\n",
      "dealer = drawACard(ShDck)\n",
      "card2 = [drawACard(ShDck) for i in players]\n",
      "hand = zip(players, card1, card2)\n",
      "for (i, j, k) in hand: print 'Player ', i, ' holds: ', [j, k], '=', AddCards(j, k)\n",
      "print '-------'\n",
      "print \"Dealer's hand: \", dealer"
     ],
     "language": "python",
     "metadata": {},
     "outputs": [
      {
       "output_type": "stream",
       "stream": "stdout",
       "text": [
        "Player  ONE    holds:  [10, 5] = 15\n",
        "Player  TWO    holds:  [10, 3] = 13\n",
        "Player  THREE  holds:  [10, 2] = 12\n",
        "Player  FOUR   holds:  [10, 6] = 16\n",
        "Player  FIVE   holds:  [3, 5] = 8\n",
        "Player  SIX    holds:  [5, 7] = 12\n",
        "Player  SEVEN  holds:  [10, 5] = 15\n",
        "-------\n",
        "Dealer's hand:  10\n"
       ]
      }
     ],
     "prompt_number": 36
    },
    {
     "cell_type": "raw",
     "metadata": {},
     "source": [
      "Hit < hard 17 and < soft 17: The function seems more complicated \n",
      "than it is, mostly because of the aces. It draws on soft and hard\n",
      "16 (but this can be easily changed). The process is completely deterministic. One can use it to determine the expected number of outcomes, given dealer's fist card. For instance, \"given an Ace, what is the expected % of a house blackjack?\" or \"Given a deler's 5, what is the chance that the outcome will be 19 or lower. It returns a tripple: the total, the number of cards drawn, the list of cards. For example:\n",
      "    (21, 2, ['A', 10]) represents a house blackjack\n",
      "    (22, 4, ['A','A', 10, 10]), a house bust."
     ]
    },
    {
     "cell_type": "code",
     "collapsed": false,
     "input": [
      "def dealerPlay(dealer, deck):\n",
      "    lst =[dealer]\n",
      "    card = drawACard(deck)\n",
      "    lst.append(card) \n",
      "    dealer = AddCards(dealer, card)\n",
      "    count = 2\n",
      "    if (not isinstance(dealer, int) and dealer[1] == 21): return 'BJ', count, lst\n",
      "    else: \n",
      "        while not Bust(dealer) and ((isinstance(dealer, int) and dealer < 17) \n",
      "                                or(not isinstance(dealer, int) and dealer[1] < 17)):\n",
      "            count = count + 1\n",
      "            card = drawACard(deck)\n",
      "            lst.append(card) \n",
      "            dealer = AddCards(dealer, card)\n",
      "        if isinstance(dealer, int): return dealer, count, lst\n",
      "        else: return int(dealer[1]), count, lst"
     ],
     "language": "python",
     "metadata": {},
     "outputs": [
      {
       "output_type": "stream",
       "stream": "stdout",
       "text": [
        "\n"
       ]
      }
     ],
     "prompt_number": 39
    },
    {
     "cell_type": "code",
     "collapsed": false,
     "input": [
      "def playerStrategy1(dealer, card1, card2, deck):\n",
      "    player = [card1, card2]\n",
      "    total = AddCards(card1, card2)\n",
      "    count = 2\n",
      "    if (not isinstance(total, int) and total[1] == 21): return 'BJ', count, player\n",
      "    else:\n",
      "        while not Bust(total) and ((not isinstance(total, int) and ((dealer in [9, 10, 'A'] and total[1] < 19) or (dealer not in [9, 10, 'A'] and total[1] < 18))) or  \n",
      "            (isinstance(total, int) and ((total < 17 and dealer in [7, 8, 9, 10, 'A']) or  (total < 13 and dealer in [2, 3, 4, 5, 6]) and not (total == 12 and dealer in [4, 5, 6])))): \n",
      "                 count = count + 1\n",
      "                 card = drawACard(deck)\n",
      "                 player = player + [card]\n",
      "                 total = AddCards(total, card)\n",
      "        if isinstance(total, int): return total, count, player  \n",
      "        else: return int(total[1]), count, player"
     ],
     "language": "python",
     "metadata": {},
     "outputs": [],
     "prompt_number": 136
    },
    {
     "cell_type": "raw",
     "metadata": {},
     "source": [
      "def playerStrategy(dealer, card1, card2, deck):\n",
      "    '''Standard strategy.'''\n",
      "    player = [card1, card2]\n",
      "    total = AddCards(card1, card2)\n",
      "    while not Bust(total) and (isinstance(total, int) and (total < 17 and dealer in [7, 8, 9, 10, 'A']) or  and (nonints :\n",
      "    \n",
      "    if card1 == 'A' or card2 == 'A':  \n",
      "        if AddCards(card1, card2)[0] < 7:\n",
      "            card = drawACard(deck)\n",
      "            player = player + [card]\n",
      "            total = AddCards(total, card)\n",
      "        elif (dealer == 10 or dealer == 'A') and (AddCards(card1, card2)[0]==8):\n",
      "            card = drawACard(deck)\n",
      "            player = player + [card]\n",
      "            total = AddCards(total, card)       \n",
      "        #else: done    \n",
      "    if dealer in range(2, 7) and  total < 12: \n",
      "            card = drawACard(deck)\n",
      "            player = player + [card]\n",
      "            total = AddCards(total, card) \n",
      "    elif (dealer == 2 and total ==12):\n",
      "            card = drawACard(deck)\n",
      "            player = player + [card]\n",
      "            total = AddCards(total, card) \n",
      "    elif dealer in [7, 8, 9, 10, 'A'] and  total < 17: \n",
      "            card = drawACard(deck)\n",
      "            player = player + [card]\n",
      "            total = AddCards(total, card) \n",
      "    if total < 17: go to line 10        \n",
      "    return([total, player])\n",
      "        "
     ]
    },
    {
     "cell_type": "code",
     "collapsed": false,
     "input": [
      "[playerStrategy1(2, 10, 2, deck1)[0] for i in range(10)]"
     ],
     "language": "python",
     "metadata": {},
     "outputs": [
      {
       "metadata": {},
       "output_type": "pyout",
       "prompt_number": 156,
       "text": [
        "[19, 22, 20, 13, 18, 15, 22, 19, 21, 15]"
       ]
      }
     ],
     "prompt_number": 156
    },
    {
     "cell_type": "code",
     "collapsed": false,
     "input": [
      "[dealerPlay(3, deck1)[0] for i in range(10)]"
     ],
     "language": "python",
     "metadata": {},
     "outputs": [
      {
       "metadata": {},
       "output_type": "pyout",
       "prompt_number": 157,
       "text": [
        "[21, 18, 25, 18, 21, 25, 21, 23, 23, 22]"
       ]
      }
     ],
     "prompt_number": 157
    },
    {
     "cell_type": "code",
     "collapsed": false,
     "input": [
      "# Trying it for a single draw:\n",
      "print 'Dealer has a 2: ',dealerPlay(9, deck1)\n",
      "# Ace has to be enclosed in '':\n",
      "print 'Dealer has an 10: ', dealerPlay(9, deck1)"
     ],
     "language": "python",
     "metadata": {},
     "outputs": [
      {
       "output_type": "stream",
       "stream": "stdout",
       "text": [
        "Dealer has a 2:  (20, 3, [9, 4, 7])\n",
        "Dealer has an 10:  (19, 2, [9, 10])\n"
       ]
      }
     ],
     "prompt_number": 158
    },
    {
     "cell_type": "raw",
     "metadata": {},
     "source": [
      "Decide on the number of decks for the simulation:"
     ]
    },
    {
     "cell_type": "code",
     "collapsed": false,
     "input": [
      "deck1 = deckShuffle(20000,20000,20000,20000)\n",
      "print \"The number of decks: \", len(deck1)/52"
     ],
     "language": "python",
     "metadata": {},
     "outputs": [
      {
       "output_type": "stream",
       "stream": "stdout",
       "text": [
        "The number of decks:  20000\n"
       ]
      }
     ],
     "prompt_number": 130
    },
    {
     "cell_type": "raw",
     "metadata": {},
     "source": [
      "We can simulate 100,000 hands to see the distribution of dealer outcomes given\n",
      "the first card (10 in this example): "
     ]
    },
    {
     "cell_type": "code",
     "collapsed": false,
     "input": [
      "list1=[]\n",
      "for i in range(100000):\n",
      "    list1.append(dealerPlay(10, deck1)[0])\n",
      "list1.sort()\n",
      "j=0\n",
      "print \"Hand/  No Draws/  Cum No Draws/  Card Remaining/  Expected %\"\n",
      "for i in range(17, 22)+['BJ']:\n",
      "    j = list1.count(i) + j\n",
      "    print i, '     ', list1.count(i), '       ', j,'       ', len(list1)-j, '     ', ((list1.count(i)*1.)/len(list1))*100, '%'\n",
      "print 'The expected % of dealer busts: ',   ((len(list1)-j*1.)/len(list1))*100, '%'   \n",
      "    "
     ],
     "language": "python",
     "metadata": {},
     "outputs": [
      {
       "output_type": "stream",
       "stream": "stdout",
       "text": [
        "Hand/  No Draws/  Cum No Draws/  Card Remaining/  Expected %\n",
        "17       11227         11227         88773       11.227 %\n",
        "18       11184         22411         77589       11.184 %\n",
        "19       11095         33506         66494       11.095 %\n",
        "20       34234         67740         32260       34.234 %\n",
        "21       3350         71090         28910       3.35 %\n",
        "BJ       7565         78655         21345       7.565 %\n",
        "The expected % of dealer busts:  21.345 %\n"
       ]
      }
     ],
     "prompt_number": 76
    },
    {
     "cell_type": "raw",
     "metadata": {},
     "source": [
      "Ace 10,000 times: "
     ]
    },
    {
     "cell_type": "code",
     "collapsed": false,
     "input": [
      "list1=[]\n",
      "for i in range(10000):\n",
      "    list1.append(dealerPlay('A', deck1)[0])\n",
      "list1.sort()\n",
      "j=0\n",
      "print \"Hand/  No Draws/  Cum No Draws/  Card Remaining/  Expected %\"\n",
      "for i in range(17, 22)+['BJ']:\n",
      "    j = list1.count(i) + j\n",
      "    print i, '     ', list1.count(i), '       ', j,'       ', len(list1)-j, '     ', ((list1.count(i)*1.)/len(list1))*100, '%'\n",
      "print 'The expected % of dealer busts: ',   ((len(list1)-j*1.)/len(list1))*100, '%'   \n",
      "        "
     ],
     "language": "python",
     "metadata": {},
     "outputs": [
      {
       "output_type": "stream",
       "stream": "stdout",
       "text": [
        "Hand/  No Draws/  Cum No Draws/  Card Remaining/  Expected %\n",
        "17       1368         1368         8632       13.68 %\n",
        "18       1234         2602         7398       12.34 %\n",
        "19       1261         3863         6137       12.61 %\n",
        "20       1299         5162         4838       12.99 %\n",
        "21       522         5684         4316       5.22 %\n",
        "BJ       3132         8816         1184       31.32 %\n",
        "The expected % of dealer busts:  11.84 %\n"
       ]
      }
     ],
     "prompt_number": 77
    },
    {
     "cell_type": "raw",
     "metadata": {},
     "source": [
      "More generally:"
     ]
    },
    {
     "cell_type": "code",
     "collapsed": false,
     "input": [
      "ls1 = range(2, 11) + ['A']\n",
      "lsLst = [[]]*len(ls1)\n",
      "for i, l in enumerate(ls1):\n",
      "    lsLst[i] = [dealerPlay(l, deck1)[0] for k in range(10000)]   "
     ],
     "language": "python",
     "metadata": {},
     "outputs": [],
     "prompt_number": 78
    },
    {
     "cell_type": "code",
     "collapsed": false,
     "input": [
      "dict1 = {}\n",
      "for k in range(17, 22)+['BJ']:\n",
      "    dict2 = {}\n",
      "    for i, l in enumerate(ls1):\n",
      "       dict2[l] = lsLst[i].count(k)\n",
      "    dict1[k] = dict2       "
     ],
     "language": "python",
     "metadata": {},
     "outputs": [],
     "prompt_number": 79
    },
    {
     "cell_type": "code",
     "collapsed": false,
     "input": [
      "from pandas import DataFrame\n",
      "data = DataFrame(dict1)\n",
      "data = data/100.\n",
      "data['Bust'] = 100 - data[17] - data[18] - data[19] - data[20] - data[21]- data['BJ']"
     ],
     "language": "python",
     "metadata": {},
     "outputs": [],
     "prompt_number": 85
    },
    {
     "cell_type": "raw",
     "metadata": {},
     "source": [
      "Probability of a dealer outcome (column) given the dealer's first card (row) as a %:"
     ]
    },
    {
     "cell_type": "code",
     "collapsed": false,
     "input": [
      "print data"
     ],
     "language": "python",
     "metadata": {},
     "outputs": [
      {
       "output_type": "stream",
       "stream": "stdout",
       "text": [
        "      17    18    19    20    21    BJ  Bust\n",
        "2   13.9  14.0  12.7  10.9  12.9   0.0  35.6\n",
        "3   13.1  14.6  13.5  11.4  10.6   0.0  36.8\n",
        "4   13.5  13.8  13.2  10.2  12.7   0.0  36.6\n",
        "5   11.1  15.6  10.0  12.9  10.2   0.0  40.2\n",
        "6   17.3  10.9  11.2   8.3   8.9   0.0  43.4\n",
        "7   34.2  16.0   7.5   6.6   8.1   0.0  27.6\n",
        "8   14.2  34.5  14.0   6.4   6.8   0.0  24.1\n",
        "9   11.6  13.1  31.7  11.7   6.2   0.0  25.7\n",
        "10  10.7  11.2  11.9  30.6   2.7   8.8  24.1\n",
        "A   11.0  12.5  16.6  12.7   6.5  28.8  11.9\n"
       ]
      }
     ],
     "prompt_number": 86
    },
    {
     "cell_type": "heading",
     "level": 3,
     "metadata": {},
     "source": [
      "Changing relative freqeuncies of low and high cards (ratio high/low):"
     ]
    },
    {
     "cell_type": "code",
     "collapsed": false,
     "input": [
      "ls2 = range(2, 11) + ['A']\n",
      "lsLst = [[]]*len(ls2)\n",
      "for n in range(0, 2001, 100):\n",
      "    deck1 = deckShuffle(2000,2000,n ,2000)\n",
      "    for i, l in enumerate(ls2):\n",
      "      lsLst[i] = [dealerPlay(l, deck1)[0] for k in range(1000)]\n",
      "      dict1 = {}\n",
      "      for k in range(17, 22)+['BJ']:\n",
      "         dict2 = {}\n",
      "         for i, l in enumerate(ls2):\n",
      "                 dict2[l] = lsLst[i].count(k)\n",
      "         dict1[k] = dict2        \n",
      "    data = DataFrame(dict1)\n",
      "    data = data/10.\n",
      "    data['Bust'] = 100 - data[17] - data[18] - data[19] - data[20] - data[21]- data['BJ']\n",
      "    print \"Dealer outcome given the first card and the high/low ratio of: \", n/2000.\n",
      "    print '----------------------------------------------'\n",
      "    print data\n",
      "    print '----------------------------------------------'\n",
      "    print \"The mean bust % across the data: \", data['Bust'].mean()\n",
      "    print '----------------------------------------------'\n",
      "    print ' '"
     ],
     "language": "python",
     "metadata": {},
     "outputs": [
      {
       "output_type": "stream",
       "stream": "stdout",
       "text": [
        "Dealer outcome given the first card and the high/low ratio of:  0.0\n",
        "----------------------------------------------\n",
        "      17    18    19    20    21  BJ  Bust\n",
        "2   20.3  17.8  18.1  15.4  10.8   0  17.6\n",
        "3   19.6  19.0  15.9  16.0  14.0   0  15.5\n",
        "4   19.3  17.2  15.9  15.9  13.9   0  17.8\n",
        "5   17.8  19.9  15.3  14.1  12.3   0  20.6\n",
        "6   27.1  16.1  13.8  11.0  11.3   0  20.7\n",
        "7   12.3  25.1  15.9  13.4  10.6   0  22.7\n",
        "8   22.7  11.4  23.1   9.4  12.1   0  21.3\n",
        "9   21.1  22.1  11.4  20.7   7.5   0  17.2\n",
        "10  18.8  19.8  16.6   9.3   8.5  11  16.0\n",
        "A   21.6  23.0  21.2  20.3  10.1   0   3.8\n",
        "----------------------------------------------\n",
        "The mean bust % across the data:  17.32\n",
        "----------------------------------------------\n",
        " \n",
        "Dealer outcome given the first card and the high/low ratio of: "
       ]
      },
      {
       "output_type": "stream",
       "stream": "stdout",
       "text": [
        " 0.05\n",
        "----------------------------------------------\n",
        "      17    18    19    20    21    BJ  Bust\n",
        "2   18.8  19.1  15.4  16.5  12.4   0.0  17.8\n",
        "3   19.6  16.9  14.7  14.9  14.2   0.0  19.7\n",
        "4   20.1  17.1  15.5  13.5  12.7   0.0  21.1\n",
        "5   16.0  16.4  17.7  14.8  12.6   0.0  22.5\n",
        "6   24.2  13.9  12.0  14.3  11.9   0.0  23.7\n",
        "7   14.4  24.8  11.3  13.4  10.9   0.0  25.2\n",
        "8   21.5  15.2  21.1  10.4  10.9   0.0  20.9\n",
        "9   18.3  20.7  12.1  19.6   9.7   0.0  19.6\n",
        "10  18.5  18.1  17.6   9.7   7.2  12.5  16.4\n",
        "A   22.0  19.6  21.7  18.5  10.2   2.0   6.0\n",
        "----------------------------------------------\n",
        "The mean bust % across the data:  19.29\n",
        "----------------------------------------------\n",
        " \n",
        "Dealer outcome given the first card and the high/low ratio of: "
       ]
      },
      {
       "output_type": "stream",
       "stream": "stdout",
       "text": [
        " 0.1\n",
        "----------------------------------------------\n",
        "      17    18    19    20    21    BJ  Bust\n",
        "2   20.2  20.1  15.4  14.5  12.9   0.0  16.9\n",
        "3   18.2  18.5  16.1  14.5  13.1   0.0  19.6\n",
        "4   17.2  16.2  17.4  13.5  14.7   0.0  21.0\n",
        "5   14.5  18.9  15.5  14.1  12.7   0.0  24.3\n",
        "6   25.7  14.0  12.3  13.1  10.7   0.0  24.2\n",
        "7   16.1  23.4  10.6  13.1   9.7   0.0  27.1\n",
        "8   21.6  14.5  22.4  10.2  10.0   0.0  21.3\n",
        "9   21.7  16.7  11.4  20.7   8.8   0.0  20.7\n",
        "10  18.0  18.1  16.2  13.1   7.0  10.0  17.6\n",
        "A   22.4  19.3  20.0  21.4  10.4   3.7   2.8\n",
        "----------------------------------------------\n",
        "The mean bust % across the data:  19.55\n",
        "----------------------------------------------\n",
        " \n",
        "Dealer outcome given the first card and the high/low ratio of: "
       ]
      },
      {
       "output_type": "stream",
       "stream": "stdout",
       "text": [
        " 0.15\n",
        "----------------------------------------------\n",
        "      17    18    19    20    21   BJ  Bust\n",
        "2   18.2  15.3  15.6  16.0  13.4  0.0  21.5\n",
        "3   19.0  17.4  16.8  13.7  13.9  0.0  19.2\n",
        "4   20.0  15.8  14.5  13.8  13.6  0.0  22.3\n",
        "5   16.7  16.1  13.3  14.5  13.4  0.0  26.0\n",
        "6   24.6  13.8  12.8  13.1  12.1  0.0  23.6\n",
        "7   14.0  23.4  12.1  10.7  11.7  0.0  28.1\n",
        "8   20.1  15.1  24.3  10.8   8.8  0.0  20.9\n",
        "9   21.8  18.5  14.6  17.8   8.3  0.0  19.0\n",
        "10  15.5  18.7  16.6  12.7   5.9  9.5  21.1\n",
        "A   21.5  18.7  17.2  20.6   9.6  6.0   6.4\n",
        "----------------------------------------------\n",
        "The mean bust % across the data:  20.81\n",
        "----------------------------------------------\n",
        " \n",
        "Dealer outcome given the first card and the high/low ratio of: "
       ]
      },
      {
       "output_type": "stream",
       "stream": "stdout",
       "text": [
        " 0.2\n",
        "----------------------------------------------\n",
        "      17    18    19    20    21    BJ  Bust\n",
        "2   19.5  16.5  14.4  15.5  10.5   0.0  23.6\n",
        "3   18.5  16.5  14.5  13.9  13.9   0.0  22.7\n",
        "4   18.3  18.4  14.4  11.9  13.3   0.0  23.7\n",
        "5   14.5  16.4  17.2  14.5  12.0   0.0  25.4\n",
        "6   24.7  13.4  12.7  10.0  11.8   0.0  27.4\n",
        "7   18.7  21.8  12.8  12.4  10.4   0.0  23.9\n",
        "8   18.6  19.9  20.9   9.9   9.0   0.0  21.7\n",
        "9   16.3  19.2  16.3  19.7   6.3   0.0  22.2\n",
        "10  15.9  16.3  18.4  13.8   6.7  10.6  18.3\n",
        "A   17.3  18.6  20.6  16.3   9.8   9.0   8.4\n",
        "----------------------------------------------\n",
        "The mean bust % across the data:  21.73\n",
        "----------------------------------------------\n",
        " \n",
        "Dealer outcome given the first card and the high/low ratio of: "
       ]
      },
      {
       "output_type": "stream",
       "stream": "stdout",
       "text": [
        " 0.25\n",
        "----------------------------------------------\n",
        "      17    18    19    20    21   BJ  Bust\n",
        "2   20.0  16.2  15.4  13.5  13.6  0.0  21.3\n",
        "3   17.8  17.8  15.2  13.5  11.7  0.0  24.0\n",
        "4   18.4  16.1  15.1  14.0  11.9  0.0  24.5\n",
        "5   14.4  15.0  14.6  13.6  12.4  0.0  30.0\n",
        "6   24.7  13.2  11.4  10.8  12.2  0.0  27.7\n",
        "7   21.9  22.4   9.3  11.8  10.5  0.0  24.1\n",
        "8   18.5  21.7  20.0   7.5   8.4  0.0  23.9\n",
        "9   17.3  17.5  17.3  18.0   7.1  0.0  22.8\n",
        "10  16.0  16.4  16.0  16.4   7.3  9.9  18.0\n",
        "A   18.3  20.6  17.6  17.5   9.8  9.5   6.7\n",
        "----------------------------------------------\n",
        "The mean bust % across the data:  22.3\n",
        "----------------------------------------------\n",
        " \n",
        "Dealer outcome given the first card and the high/low ratio of: "
       ]
      },
      {
       "output_type": "stream",
       "stream": "stdout",
       "text": [
        " 0.3\n",
        "----------------------------------------------\n",
        "      17    18    19    20    21    BJ  Bust\n",
        "2   18.8  15.8  15.1  13.5  12.3   0.0  24.5\n",
        "3   17.1  17.2  15.1  15.2  11.0   0.0  24.4\n",
        "4   17.6  13.9  13.4  14.2  13.4   0.0  27.5\n",
        "5   15.2  15.8  13.7  13.5  13.1   0.0  28.7\n",
        "6   22.8  11.8  13.7  13.4  11.4   0.0  26.9\n",
        "7   22.8  21.0  10.7  11.1   9.6   0.0  24.8\n",
        "8   17.4  22.4  19.9   9.8   7.3   0.0  23.2\n",
        "9   17.4  18.4  19.2  16.7   7.3   0.0  21.0\n",
        "10  13.7  17.4  16.1  17.1   6.0   9.3  20.4\n",
        "A   17.5  16.9  19.1  18.2  10.1  11.6   6.6\n",
        "----------------------------------------------\n",
        "The mean bust % across the data:  22.8\n",
        "----------------------------------------------\n",
        " \n",
        "Dealer outcome given the first card and the high/low ratio of: "
       ]
      },
      {
       "output_type": "stream",
       "stream": "stdout",
       "text": [
        " 0.35\n",
        "----------------------------------------------\n",
        "      17    18    19    20    21    BJ  Bust\n",
        "2   18.7  17.8  16.1  12.4  11.7   0.0  23.3\n",
        "3   15.6  15.5  13.5  13.7  13.4   0.0  28.3\n",
        "4   16.1  13.2  17.3  12.2  12.7   0.0  28.5\n",
        "5   16.4  14.9  14.5  14.0  11.9   0.0  28.3\n",
        "6   21.9  14.0  12.0  13.2  10.0   0.0  28.9\n",
        "7   23.3  18.8  11.0  10.4  10.9   0.0  25.6\n",
        "8   16.9  21.3  17.3   9.4   9.6   0.0  25.5\n",
        "9   14.3  17.9  23.1  14.4   8.3   0.0  22.0\n",
        "10  16.4  15.7  14.1  19.7   4.4  10.2  19.5\n",
        "A   20.6  16.6  16.5  17.4   6.7  14.9   7.3\n",
        "----------------------------------------------\n",
        "The mean bust % across the data:  23.72\n",
        "----------------------------------------------\n",
        " \n",
        "Dealer outcome given the first card and the high/low ratio of: "
       ]
      },
      {
       "output_type": "stream",
       "stream": "stdout",
       "text": [
        " 0.4\n",
        "----------------------------------------------\n",
        "      17    18    19    20    21    BJ  Bust\n",
        "2   18.9  15.4  16.3  14.9  10.3   0.0  24.2\n",
        "3   15.6  15.6  14.3  14.8  12.9   0.0  26.8\n",
        "4   17.2  14.5  14.6  14.3  12.8   0.0  26.6\n",
        "5   16.1  15.4  14.6  12.1  11.1   0.0  30.7\n",
        "6   21.1  11.9  13.7  11.6  11.0   0.0  30.7\n",
        "7   24.5  20.0  10.0  10.5   9.7   0.0  25.3\n",
        "8   17.1  24.0  15.9   9.6   9.0   0.0  24.4\n",
        "9   17.1  14.4  23.5  15.7   7.6   0.0  21.7\n",
        "10  14.3  15.1  14.1  19.8   5.1   9.6  22.0\n",
        "A   16.5  16.5  16.9  17.0   7.8  16.1   9.2\n",
        "----------------------------------------------\n",
        "The mean bust % across the data:  24.16\n",
        "----------------------------------------------\n",
        " \n",
        "Dealer outcome given the first card and the high/low ratio of: "
       ]
      },
      {
       "output_type": "stream",
       "stream": "stdout",
       "text": [
        " 0.45\n",
        "----------------------------------------------\n",
        "      17    18    19    20    21    BJ  Bust\n",
        "2   13.9  17.0  15.5  15.8  12.2   0.0  25.6\n",
        "3   16.4  16.4  14.7  15.8  10.6   0.0  26.1\n",
        "4   18.6  13.4  15.9  12.1  11.1   0.0  28.9\n",
        "5   13.9  13.7  14.3  13.3  12.5   0.0  32.3\n",
        "6   22.2  11.4  11.7  13.2  11.6   0.0  29.9\n",
        "7   27.4  16.7  10.7  10.4  10.2   0.0  24.6\n",
        "8   18.4  23.1  16.1   9.4  10.3   0.0  22.7\n",
        "9   14.5  15.7  24.3  15.7   6.8   0.0  23.0\n",
        "10  14.1  16.1  16.8  20.0   5.0   8.0  20.0\n",
        "A   19.2  17.4  15.6  16.2   6.1  16.9   8.6\n",
        "----------------------------------------------\n",
        "The mean bust % across the data:  24.17\n",
        "----------------------------------------------\n",
        " \n",
        "Dealer outcome given the first card and the high/low ratio of: "
       ]
      },
      {
       "output_type": "stream",
       "stream": "stdout",
       "text": [
        " 0.5\n",
        "----------------------------------------------\n",
        "      17    18    19    20    21    BJ  Bust\n",
        "2   18.4  11.3  14.7  13.7  12.9   0.0  29.0\n",
        "3   15.7  16.4  14.4  15.2  10.9   0.0  27.4\n",
        "4   15.2  15.6  13.0  12.7  12.7   0.0  30.8\n",
        "5   14.7  14.2  13.9  13.3  12.5   0.0  31.4\n",
        "6   19.6  12.9  12.2  10.7   9.5   0.0  35.1\n",
        "7   27.8  17.4  10.8   7.8   9.3   0.0  26.9\n",
        "8   17.5  24.8  16.0   9.2   8.0   0.0  24.5\n",
        "9   15.1  16.2  24.7  14.1   6.1   0.0  23.8\n",
        "10  14.5  15.5  13.3  25.2   3.3   7.7  20.5\n",
        "A   17.1  15.2  17.5  14.4   6.7  18.3  10.8\n",
        "----------------------------------------------\n",
        "The mean bust % across the data:  26.02\n",
        "----------------------------------------------\n",
        " \n",
        "Dealer outcome given the first card and the high/low ratio of: "
       ]
      },
      {
       "output_type": "stream",
       "stream": "stdout",
       "text": [
        " 0.55\n",
        "----------------------------------------------\n",
        "      17    18    19    20    21    BJ  Bust\n",
        "2   16.7  15.8  14.4  15.2  11.9   0.0  26.0\n",
        "3   15.2  14.5  15.4  14.5  11.1   0.0  29.3\n",
        "4   14.6  12.3  14.1  14.6  11.7   0.0  32.7\n",
        "5   13.0  14.3  13.5  14.7  11.6   0.0  32.9\n",
        "6   19.1  13.0  12.0  10.7   9.6   0.0  35.6\n",
        "7   27.6  18.4   8.3   8.6   9.6   0.0  27.5\n",
        "8   15.8  26.5  17.4   8.5   7.5   0.0  24.3\n",
        "9   15.5  13.7  26.6  14.0   7.4   0.0  22.8\n",
        "10  14.3  12.5  14.2  22.4   5.5   9.8  21.3\n",
        "A   17.3  18.1  13.5  16.9   7.5  18.2   8.5\n",
        "----------------------------------------------\n",
        "The mean bust % across the data:  26.09\n",
        "----------------------------------------------\n",
        " \n",
        "Dealer outcome given the first card and the high/low ratio of: "
       ]
      },
      {
       "output_type": "stream",
       "stream": "stdout",
       "text": [
        " 0.6\n",
        "----------------------------------------------\n",
        "      17    18    19    20    21    BJ  Bust\n",
        "2   16.6  15.8  14.8  12.6  11.9   0.0  28.3\n",
        "3   16.9  13.1  14.8  13.7  12.6   0.0  28.9\n",
        "4   16.3  14.2  13.6  12.8  11.8   0.0  31.3\n",
        "5   15.7  13.6  14.3  11.9  11.8   0.0  32.7\n",
        "6   17.5  12.1  12.7  10.3  11.7   0.0  35.7\n",
        "7   27.4  16.9   9.7   9.7   9.5   0.0  26.8\n",
        "8   15.8  27.2  16.2   7.0   7.8   0.0  26.0\n",
        "9   13.1  17.3  26.2  13.0   6.3   0.0  24.1\n",
        "10  13.9  12.2  12.8  25.6   4.2   9.2  22.1\n",
        "A   19.3  14.6  13.8  16.5   6.1  20.0   9.7\n",
        "----------------------------------------------\n",
        "The mean bust % across the data:  26.56\n",
        "----------------------------------------------\n",
        " \n",
        "Dealer outcome given the first card and the high/low ratio of: "
       ]
      },
      {
       "output_type": "stream",
       "stream": "stdout",
       "text": [
        " 0.65\n",
        "----------------------------------------------\n",
        "      17    18    19    20    21    BJ  Bust\n",
        "2   15.4  14.9  14.9  11.3  14.4   0.0  29.1\n",
        "3   13.7  13.6  13.9  13.3  11.5   0.0  34.0\n",
        "4   12.5  15.0  12.0  13.3  11.0   0.0  36.2\n",
        "5   13.6  13.2  12.4  13.1  11.6   0.0  36.1\n",
        "6   17.6  13.8  11.5  10.9  11.9   0.0  34.3\n",
        "7   30.6  13.2   9.8   9.1  10.3   0.0  27.0\n",
        "8   14.5  30.3  15.4   8.8   7.6   0.0  23.4\n",
        "9   13.5  14.3  28.1  12.1   6.6   0.0  25.4\n",
        "10  11.6  14.5  13.5  28.3   4.2   8.6  19.3\n",
        "A   15.6  15.6  17.2  15.2   6.8  20.4   9.2\n",
        "----------------------------------------------\n",
        "The mean bust % across the data:  27.4\n",
        "----------------------------------------------\n",
        " \n",
        "Dealer outcome given the first card and the high/low ratio of: "
       ]
      },
      {
       "output_type": "stream",
       "stream": "stdout",
       "text": [
        " 0.7\n",
        "----------------------------------------------\n",
        "      17    18    19    20    21    BJ  Bust\n",
        "2   14.2  16.5  13.8  11.4  12.6   0.0  31.5\n",
        "3   13.1  12.5  14.9  13.8  14.2   0.0  31.5\n",
        "4   13.4  15.1  13.2  11.6  12.4   0.0  34.3\n",
        "5   13.1  14.5  12.5  12.3  11.2   0.0  36.4\n",
        "6   16.8  11.5  11.0  10.0  10.5   0.0  40.2\n",
        "7   32.0  13.5   8.7   7.6  10.0   0.0  28.2\n",
        "8   12.8  31.3  16.2   7.5   5.8   0.0  26.4\n",
        "9   14.0  15.8  29.5  12.3   5.9   0.0  22.5\n",
        "10  14.8  11.7  12.5  26.5   5.2   7.4  21.9\n",
        "A   14.2  13.0  15.3  14.8   7.1  24.6  11.0\n",
        "----------------------------------------------\n",
        "The mean bust % across the data:  28.39\n",
        "----------------------------------------------\n",
        " \n",
        "Dealer outcome given the first card and the high/low ratio of: "
       ]
      },
      {
       "output_type": "stream",
       "stream": "stdout",
       "text": [
        " 0.75\n",
        "----------------------------------------------\n",
        "      17    18    19    20    21    BJ  Bust\n",
        "2   13.4  14.6  14.9  14.4  11.3   0.0  31.4\n",
        "3   16.1  12.5  12.8  13.6  12.2   0.0  32.8\n",
        "4   14.4  14.3  12.4  12.2  12.4   0.0  34.3\n",
        "5   12.7  14.7  10.8  11.9  11.7   0.0  38.2\n",
        "6   16.6  10.3  11.9  11.0   8.8   0.0  41.4\n",
        "7   31.7  14.7   8.7   9.4   8.1   0.0  27.4\n",
        "8   14.3  30.4  14.1   7.2   8.8   0.0  25.2\n",
        "9   14.8  16.1  27.4  13.6   4.9   0.0  23.2\n",
        "10  11.5  12.4  12.1  28.5   3.5   7.5  24.5\n",
        "A   14.3  14.8  15.1  13.9   6.2  25.1  10.6\n",
        "----------------------------------------------\n",
        "The mean bust % across the data:  28.9\n",
        "----------------------------------------------\n",
        " \n",
        "Dealer outcome given the first card and the high/low ratio of: "
       ]
      },
      {
       "output_type": "stream",
       "stream": "stdout",
       "text": [
        " 0.8\n",
        "----------------------------------------------\n",
        "      17    18    19    20    21    BJ  Bust\n",
        "2   12.6  14.9  13.0  12.9  12.6   0.0  34.0\n",
        "3   14.6  14.9  11.8  11.8  12.6   0.0  34.3\n",
        "4   14.3  13.4  11.5  13.9  11.2   0.0  35.7\n",
        "5   14.0  13.1  11.8  10.8  13.0   0.0  37.3\n",
        "6   18.9  11.8  11.3  10.8   9.3   0.0  37.9\n",
        "7   33.1  14.9   8.9   9.3   8.9   0.0  24.9\n",
        "8   14.5  31.9  12.7   7.8   6.3   0.0  26.8\n",
        "9   13.6  13.9  31.0  14.6   5.1   0.0  21.8\n",
        "10  12.0  11.6  14.1  28.0   3.4   7.8  23.1\n",
        "A   13.8  14.8  14.0  15.6   6.2  25.5  10.1\n",
        "----------------------------------------------\n",
        "The mean bust % across the data:  28.59\n",
        "----------------------------------------------\n",
        " \n",
        "Dealer outcome given the first card and the high/low ratio of: "
       ]
      },
      {
       "output_type": "stream",
       "stream": "stdout",
       "text": [
        " 0.85\n",
        "----------------------------------------------\n",
        "      17    18    19    20    21    BJ  Bust\n",
        "2   14.2  14.8  14.4  12.7  10.5   0.0  33.4\n",
        "3   14.2  14.8  13.0  12.9  11.7   0.0  33.4\n",
        "4   13.4  14.1  13.8  12.4   8.6   0.0  37.7\n",
        "5   13.6  11.9  13.6  12.0  10.3   0.0  38.6\n",
        "6   16.7  11.4  10.7  10.3  10.0   0.0  40.9\n",
        "7   34.4  15.1   7.6   8.3   6.9   0.0  27.7\n",
        "8   14.8  33.9  12.6   7.2   6.8   0.0  24.7\n",
        "9   13.4  14.0  32.1  11.2   7.8   0.0  21.5\n",
        "10  10.4  11.0  13.2  31.8   3.9   9.1  20.6\n",
        "A   14.5  13.9  13.7  12.1   6.2  27.3  12.3\n",
        "----------------------------------------------\n",
        "The mean bust % across the data:  29.08\n",
        "----------------------------------------------\n",
        " \n",
        "Dealer outcome given the first card and the high/low ratio of: "
       ]
      },
      {
       "output_type": "stream",
       "stream": "stdout",
       "text": [
        " 0.9\n",
        "----------------------------------------------\n",
        "      17    18    19    20    21    BJ  Bust\n",
        "2   15.1  13.3  14.2  12.5  11.6   0.0  33.3\n",
        "3   12.9  15.2  11.7  11.1  10.9   0.0  38.2\n",
        "4   14.6  12.1  13.7  11.8   9.4   0.0  38.4\n",
        "5   13.9  11.9  10.1  11.1  10.1   0.0  42.9\n",
        "6   17.7  10.9  10.8  10.7   7.0   0.0  42.9\n",
        "7   34.8  14.7   8.3   7.0   7.0   0.0  28.2\n",
        "8   15.3  32.5  14.0   7.9   7.6   0.0  22.7\n",
        "9   12.0  13.8  31.7  11.6   6.2   0.0  24.7\n",
        "10  12.7   9.3  12.5  34.2   3.0   6.9  21.4\n",
        "A   11.3  12.8  15.1  13.6   5.5  30.2  11.5\n",
        "----------------------------------------------\n",
        "The mean bust % across the data:  30.42\n",
        "----------------------------------------------\n",
        " \n",
        "Dealer outcome given the first card and the high/low ratio of: "
       ]
      },
      {
       "output_type": "stream",
       "stream": "stdout",
       "text": [
        " 0.95\n",
        "----------------------------------------------\n",
        "      17    18    19    20    21    BJ  Bust\n",
        "2   12.5  12.8  14.9  14.4  11.1   0.0  34.3\n",
        "3   12.7  14.0  12.9  13.4  12.1   0.0  34.9\n",
        "4   13.0  11.4  11.2  11.9  11.7   0.0  40.8\n",
        "5   14.1  11.9  10.6  11.4  11.4   0.0  40.6\n",
        "6   16.9   9.8  11.5  10.2  10.2   0.0  41.4\n",
        "7   38.1  13.2   8.5   7.9   6.4   0.0  25.9\n",
        "8   14.7  33.1  12.5   6.5   7.7   0.0  25.5\n",
        "9   11.7  14.0  34.5  10.8   6.6   0.0  22.4\n",
        "10   9.7  12.1  11.2  34.0   3.4   8.7  20.9\n",
        "A   13.7  14.4  12.3  11.9   5.7  30.2  11.8\n",
        "----------------------------------------------\n",
        "The mean bust % across the data:  29.85\n",
        "----------------------------------------------\n",
        " \n",
        "Dealer outcome given the first card and the high/low ratio of: "
       ]
      },
      {
       "output_type": "stream",
       "stream": "stdout",
       "text": [
        " 1.0\n",
        "----------------------------------------------\n",
        "      17    18    19    20    21    BJ  Bust\n",
        "2   14.6  13.0  12.7  13.0  11.3   0.0  35.4\n",
        "3   12.8  12.2  13.3  13.5   9.7   0.0  38.5\n",
        "4   13.1  12.7  10.3  11.3  12.9   0.0  39.7\n",
        "5   12.7  14.1  12.3   8.8  10.4   0.0  41.7\n",
        "6   18.7  12.8  10.1   9.1   9.9   0.0  39.4\n",
        "7   35.9  13.1   7.8   9.5   8.4   0.0  25.3\n",
        "8   12.9  35.2  14.2   6.7   7.0   0.0  24.0\n",
        "9   10.7  11.8  36.5  11.4   5.8   0.0  23.8\n",
        "10  10.2  10.0  12.9  34.2   2.3   8.1  22.3\n",
        "A   11.4  12.8  13.1  13.1   6.9  31.0  11.7\n",
        "----------------------------------------------\n",
        "The mean bust % across the data:  30.18\n",
        "----------------------------------------------\n",
        " \n"
       ]
      }
     ],
     "prompt_number": 88
    },
    {
     "cell_type": "raw",
     "metadata": {},
     "source": [
      "'''Note: the numbers need to be adjusted for fewer 10s in circulations, so take them as they are with a grain of salt. For instance, when there are no 10 there are no BJ's either, so under 10 all columns should be empty for 0/2000 ratio. The average number of busts should be weighted to tak this into account.'''\n",
      "The mean bust % increases in the data from 18.5% to close to 30%\n",
      "as we increase the ratio of high/low from 0 to near 1. For a dealer facing a 6, it goes from around 18% to 43% as we even the number of high and low cards."
     ]
    },
    {
     "cell_type": "raw",
     "metadata": {},
     "source": [
      "for loop here to explore the data under varied settings, discover an already \n",
      "known regression: the ratio of low to high cards affects the house's advantage. "
     ]
    },
    {
     "cell_type": "raw",
     "metadata": {},
     "source": [
      "A single player against house\n",
      "Can you start basic and learn?\n",
      "\n",
      "What if you change ratio of small and large?\n",
      "How that affects learning/strategy?\n",
      "\n",
      "Strategy when you have 14, 15 16, 17 if ratio not even?\n",
      "\n",
      "Clumps and basic strategy?\n",
      "\n",
      "Different clumping regiments?\n",
      "\n",
      "How does it affect busting rate?"
     ]
    },
    {
     "cell_type": "code",
     "collapsed": false,
     "input": [
      "import pandas as pd\n",
      "RuleVars = pd.read_csv('RuleVariations.txt', sep = ',')"
     ],
     "language": "python",
     "metadata": {},
     "outputs": [],
     "prompt_number": 20
    },
    {
     "cell_type": "code",
     "collapsed": false,
     "input": [
      "RuleVars"
     ],
     "language": "python",
     "metadata": {},
     "outputs": [
      {
       "html": [
        "<div style=\"max-height:1000px;max-width:1500px;overflow:auto;\">\n",
        "<table border=\"1\" class=\"dataframe\">\n",
        "  <thead>\n",
        "    <tr style=\"text-align: right;\">\n",
        "      <th></th>\n",
        "      <th>Rule</th>\n",
        "      <th>                                            Effect</th>\n",
        "    </tr>\n",
        "  </thead>\n",
        "  <tbody>\n",
        "    <tr>\n",
        "      <th>0 </th>\n",
        "      <td>                              \u2018Single deck\u2019</td>\n",
        "      <td> 0.48</td>\n",
        "    </tr>\n",
        "    <tr>\n",
        "      <th>1 </th>\n",
        "      <td>              \u2018Early surrender against ten\u2019</td>\n",
        "      <td> 0.24</td>\n",
        "    </tr>\n",
        "    <tr>\n",
        "      <th>2 </th>\n",
        "      <td> \u2018Player may double on any number of cards\u2019</td>\n",
        "      <td> 0.23</td>\n",
        "    </tr>\n",
        "    <tr>\n",
        "      <th>3 </th>\n",
        "      <td>                              \u2018Double deck\u2019</td>\n",
        "      <td> 0.19</td>\n",
        "    </tr>\n",
        "    <tr>\n",
        "      <th>4 </th>\n",
        "      <td>            \u2018Player may draw to split aces\u2019</td>\n",
        "      <td> 0.19</td>\n",
        "    </tr>\n",
        "    <tr>\n",
        "      <th>5 </th>\n",
        "      <td>                         \u2018Six-card Charlie\u2019</td>\n",
        "      <td> 0.16</td>\n",
        "    </tr>\n",
        "    <tr>\n",
        "      <th>6 </th>\n",
        "      <td>                  \u2018Player may resplit aces\u2019</td>\n",
        "      <td> 0.08</td>\n",
        "    </tr>\n",
        "    <tr>\n",
        "      <th>7 </th>\n",
        "      <td>                           \u2018Late surrender\u2019</td>\n",
        "      <td> 0.08</td>\n",
        "    </tr>\n",
        "    <tr>\n",
        "      <th>8 </th>\n",
        "      <td>                               \u2018Four decks\u2019</td>\n",
        "      <td> 0.06</td>\n",
        "    </tr>\n",
        "    <tr>\n",
        "      <th>9 </th>\n",
        "      <td>                               \u2018Five decks\u2019</td>\n",
        "      <td> 0.03</td>\n",
        "    </tr>\n",
        "    <tr>\n",
        "      <th>10</th>\n",
        "      <td>                                \u2018Six decks\u2019</td>\n",
        "      <td> 0.02</td>\n",
        "    </tr>\n",
        "    <tr>\n",
        "      <th>11</th>\n",
        "      <td>                    \u2018Split to only 3 hands\u2019</td>\n",
        "      <td>-0.01</td>\n",
        "    </tr>\n",
        "    <tr>\n",
        "      <th>12</th>\n",
        "      <td>           \u2018Player may double on 9-11 only\u2019</td>\n",
        "      <td>-0.09</td>\n",
        "    </tr>\n",
        "    <tr>\n",
        "      <th>13</th>\n",
        "      <td>                    \u2018Split to only 2 hands\u2019</td>\n",
        "      <td>-0.10</td>\n",
        "    </tr>\n",
        "    <tr>\n",
        "      <th>14</th>\n",
        "      <td>                    \u2018European no hole card\u2019</td>\n",
        "      <td>-0.11</td>\n",
        "    </tr>\n",
        "    <tr>\n",
        "      <th>15</th>\n",
        "      <td>    \u2018Player may not double after splitting\u2019</td>\n",
        "      <td>-0.14</td>\n",
        "    </tr>\n",
        "    <tr>\n",
        "      <th>16</th>\n",
        "      <td>          \u2018Player may double on 10;11 only\u2019</td>\n",
        "      <td>-0.18</td>\n",
        "    </tr>\n",
        "    <tr>\n",
        "      <th>17</th>\n",
        "      <td>                   \u2018Dealer hits on soft 17\u2019</td>\n",
        "      <td>-0.22</td>\n",
        "    </tr>\n",
        "    <tr>\n",
        "      <th>18</th>\n",
        "      <td>                       \u2018Blackjack pays 7-5\u2019</td>\n",
        "      <td>-0.45</td>\n",
        "    </tr>\n",
        "    <tr>\n",
        "      <th>19</th>\n",
        "      <td>                       \u2018Blackjack pays 6-5\u2019</td>\n",
        "      <td>-1.39</td>\n",
        "    </tr>\n",
        "    <tr>\n",
        "      <th>20</th>\n",
        "      <td>                    \u2018Blackjacks pay 1 to 1\u2019</td>\n",
        "      <td>-2.27</td>\n",
        "    </tr>\n",
        "  </tbody>\n",
        "</table>\n",
        "</div>"
       ],
       "metadata": {},
       "output_type": "pyout",
       "prompt_number": 21,
       "text": [
        "                                          Rule                                              Effect\n",
        "0                                \u2018Single deck\u2019                                               0.48 \n",
        "1                \u2018Early surrender against ten\u2019                                               0.24 \n",
        "2   \u2018Player may double on any number of cards\u2019                                               0.23 \n",
        "3                                \u2018Double deck\u2019                                               0.19 \n",
        "4              \u2018Player may draw to split aces\u2019                                               0.19 \n",
        "5                           \u2018Six-card Charlie\u2019                                               0.16 \n",
        "6                    \u2018Player may resplit aces\u2019                                               0.08 \n",
        "7                             \u2018Late surrender\u2019                                               0.08 \n",
        "8                                 \u2018Four decks\u2019                                               0.06 \n",
        "9                                 \u2018Five decks\u2019                                               0.03 \n",
        "10                                 \u2018Six decks\u2019                                               0.02 \n",
        "11                     \u2018Split to only 3 hands\u2019                                              -0.01 \n",
        "12            \u2018Player may double on 9-11 only\u2019                                              -0.09 \n",
        "13                     \u2018Split to only 2 hands\u2019                                              -0.10 \n",
        "14                     \u2018European no hole card\u2019                                              -0.11 \n",
        "15     \u2018Player may not double after splitting\u2019                                              -0.14 \n",
        "16           \u2018Player may double on 10;11 only\u2019                                              -0.18 \n",
        "17                    \u2018Dealer hits on soft 17\u2019                                              -0.22 \n",
        "18                        \u2018Blackjack pays 7-5\u2019                                              -0.45 \n",
        "19                        \u2018Blackjack pays 6-5\u2019                                              -1.39 \n",
        "20                     \u2018Blackjacks pay 1 to 1\u2019                                              -2.27 "
       ]
      }
     ],
     "prompt_number": 21
    },
    {
     "cell_type": "code",
     "collapsed": false,
     "input": [],
     "language": "python",
     "metadata": {},
     "outputs": []
    }
   ],
   "metadata": {}
  }
 ]
}