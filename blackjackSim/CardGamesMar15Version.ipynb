{
 "metadata": {
  "name": ""
 },
 "nbformat": 3,
 "nbformat_minor": 0,
 "worksheets": [
  {
   "cells": [
    {
     "cell_type": "heading",
     "level": 2,
     "metadata": {},
     "source": [
      "A BJ Simulator"
     ]
    },
    {
     "cell_type": "markdown",
     "metadata": {},
     "source": [
      "We explore usefulness of a Blackjack simulator as a means for \n",
      "teaching and learning Bayesian approaches to synthetic data generation. Can we teach features of stochastic processes and their fundation in random number generation or even more sophisticated simulation\n",
      "strategies such as Bayesian MCMC simulations by building a Blackjack strategy explorer? What amount of\n",
      "machine learning theory and practice relevant to finance can be grasped via such an openly gamely approach. The central question--fundamental to the modern finance and the more general stochastic process analyses--is whether an artificial data simulator can be built and understood while learning the\n",
      "relevant techniques that preserve the uncertainty necessary for the real world\n",
      "applicability both in finance and elsewhere?  "
     ]
    },
    {
     "cell_type": "code",
     "collapsed": false,
     "input": [
      "# Randomness for numpies\n",
      "from numpy import random"
     ],
     "language": "python",
     "metadata": {},
     "outputs": []
    },
    {
     "cell_type": "raw",
     "metadata": {},
     "source": [
      "Finance and BJ: Building the deck from cards"
     ]
    },
    {
     "cell_type": "raw",
     "metadata": {},
     "source": [
      "Our simplified deck consists of four basic types of cards: Ace (1 or 11) -- 2, 3, 4, 5, 6 -- 7, 8, 9 -- 10, 10, 10, 10. Each deck, as per norm, consists of 4 sets of 13 cards of the four types for a total of 52:"
     ]
    },
    {
     "cell_type": "code",
     "collapsed": false,
     "input": [
      "low = [2, 3, 4, 5, 6]*4   # Low face value cards\n",
      "neutral = [7, 8, 9]*4     # Neutral face value cards\n",
      "high = [10, 10, 10, 10]*4 # 10's and faces all valued at 10 in BJ\n",
      "highAce = ['A']*4         # Aces valued 1 or 11. \n",
      "def deckShuffle(no_l=1, no_n=1, no_h=1, no_A=1, low = low, neutral = neutral, high = high, highAce = highAce):\n",
      "    Low =low*no_l\n",
      "    Neut = neutral*no_n\n",
      "    High = high*no_h\n",
      "    Ace = highAce*no_A\n",
      "    return Low+Neut+High+Ace"
     ],
     "language": "python",
     "metadata": {},
     "outputs": []
    },
    {
     "cell_type": "code",
     "collapsed": false,
     "input": [
      "A = deckShuffle(20,20,20,20)"
     ],
     "language": "python",
     "metadata": {},
     "outputs": []
    },
    {
     "cell_type": "code",
     "collapsed": false,
     "input": [
      "def drawACard(Deck):\n",
      "    x = len(Deck)\n",
      "    return Deck.pop(random.choice(len(Deck)))"
     ],
     "language": "python",
     "metadata": {},
     "outputs": []
    },
    {
     "cell_type": "code",
     "collapsed": false,
     "input": [
      "# Adding with ace:\n",
      "def AddAce(card):\n",
      "    if card == 'A': return AddAce(array([1, 11]))\n",
      "    else: \n",
      "        result = array([card + 1, card + 11]) \n",
      "        result = result.flatten()[result.flatten()<22]\n",
      "        if len(result)==1: return int(result)\n",
      "        else: return unique(result)"
     ],
     "language": "python",
     "metadata": {},
     "outputs": []
    },
    {
     "cell_type": "code",
     "collapsed": false,
     "input": [
      "# Adding a card to a total:\n",
      "def AddCards(cards, card):\n",
      "    if cards == 'A': return AddAce(card)\n",
      "    elif card == 'A': return AddAce(cards)\n",
      "    elif isinstance(cards + card, int): return cards + card\n",
      "    else: \n",
      "        result = cards + card \n",
      "        result = result.flatten()[result.flatten()<22]\n",
      "        if len(result)==1: return int(result)\n",
      "        else: return unique(result)"
     ],
     "language": "python",
     "metadata": {},
     "outputs": []
    },
    {
     "cell_type": "code",
     "collapsed": false,
     "input": [
      "def Bust(cards):\n",
      "    if isinstance(cards, int):\n",
      "        if cards > 21: return True\n",
      "    elif not isinstance(cards, int): \n",
      "        if len(cards) == 0: return True\n",
      "    else: return False"
     ],
     "language": "python",
     "metadata": {},
     "outputs": []
    },
    {
     "cell_type": "code",
     "collapsed": false,
     "input": [
      "players = ['ONE  ', 'TWO  ', 'THREE', 'FOUR ', 'FIVE ', 'SIX  ', 'SEVEN']"
     ],
     "language": "python",
     "metadata": {},
     "outputs": []
    },
    {
     "cell_type": "code",
     "collapsed": false,
     "input": [
      "card1 = [drawACard(A) for i in players]\n",
      "dealer = drawACard(A)\n",
      "card2 = [drawACard(A) for i in players]\n",
      "hand = zip(players, card1, card2)\n",
      "for (i, j, k) in hand: print 'Player ', i, ' holds: ', [j, k], '=', AddCards(j, k)\n",
      "print '-------'\n",
      "print \"Dealer's hand: \", dealer"
     ],
     "language": "python",
     "metadata": {},
     "outputs": []
    },
    {
     "cell_type": "code",
     "collapsed": false,
     "input": [
      "def playerStrategy(??):\n",
      "    '''Hit less < 12, stay on 18, 19, 20, 21,....'''"
     ],
     "language": "python",
     "metadata": {},
     "outputs": []
    },
    {
     "cell_type": "code",
     "collapsed": false,
     "input": [
      "def dealerPlay(dealer, deck):\n",
      "    ''' Hit < hard 17 and < soft 17. The function seems more complicated \n",
      "    than it is, mostly because of the aces. It just draws soft but not hard\n",
      "    16. This is completely deterministic. One can use it to determine the expected\n",
      "    number of outcomes, given dealer's fist card. For instance, \"given an Ace, what is\n",
      "    the expected % of a dealer blackjack?\" or \"Given a deler's 5, what is the\n",
      "    chance that the outcome will be 19 or lower. It returns a tripple:\n",
      "    number of cards drawn total, the value, list of cards. For example:\n",
      "    (2, 21, ['A', 10]) means the dealer had a blackjack. (4, 22, ['A','A', 10, 10]): \n",
      "    the dealer busted.'''\n",
      "    lst =[dealer]\n",
      "    card = drawACard(deck)\n",
      "    lst.append(card) \n",
      "    dealer = AddCards(dealer, card)\n",
      "    count = 2\n",
      "    while not Bust(dealer) and ((isinstance(dealer, int) and dealer < 17) \n",
      "                                or(not isinstance(dealer, int) and dealer[1] < 17)):\n",
      "        count = count + 1\n",
      "        card = drawACard(deck)\n",
      "        lst.append(card) \n",
      "        dealer = AddCards(dealer, card)\n",
      "    if isinstance(dealer, int): return dealer, count, lst\n",
      "    else: return int(dealer[1]), count, lst"
     ],
     "language": "python",
     "metadata": {},
     "outputs": []
    },
    {
     "cell_type": "code",
     "collapsed": false,
     "input": [
      "# Trying it for a single draw:\n",
      "print 'Dealer has a 5: ',dealerPlay(5, A)\n",
      "# Ace has to be enclosed in '':\n",
      "print 'Dealer has an Ace: ', dealerPlay('A', A)"
     ],
     "language": "python",
     "metadata": {},
     "outputs": []
    },
    {
     "cell_type": "raw",
     "metadata": {},
     "source": [
      "Decide on the number of decks for the simulation:"
     ]
    },
    {
     "cell_type": "code",
     "collapsed": false,
     "input": [
      "deck1 = deckShuffle(20000,20000,20000,20000)\n",
      "len(deck1)/52."
     ],
     "language": "python",
     "metadata": {},
     "outputs": []
    },
    {
     "cell_type": "raw",
     "metadata": {},
     "source": [
      "We can simulate 100,000 hands to see the distribution of dealer outcomes given\n",
      "the first card (7 in this case): "
     ]
    },
    {
     "cell_type": "code",
     "collapsed": false,
     "input": [
      "list1=[]\n",
      "for i in range(100000):\n",
      "    list1.append(dealerPlay(7, deck1)[0])\n",
      "list1.sort()\n",
      "j=0\n",
      "print \"Hand/  No Draws/  Cum No Draws/  Card Remaining/  Expected %\"\n",
      "for i in range(17, 22):\n",
      "    j = list1.count(i) + j\n",
      "    print i, '     ', list1.count(i), '       ', j,'       ', len(list1)-j, '     ', ((list1.count(i)*1.)/len(list1))*100, '%'\n",
      "print 'The expected % of dealer busts: ',   ((len(list1)-j*1.)/len(list1))*100, '%'   \n",
      "    "
     ],
     "language": "python",
     "metadata": {},
     "outputs": []
    },
    {
     "cell_type": "raw",
     "metadata": {},
     "source": [
      "Ace 100,000 times: "
     ]
    },
    {
     "cell_type": "code",
     "collapsed": false,
     "input": [
      "list1=[]\n",
      "for i in range(100000):\n",
      "    list1.append(dealerPlay('A', deck1)[0])\n",
      "list1.sort()\n",
      "j=0\n",
      "print \"Hand/  No Draws/  Cum No Draws/  Card Remaining/  Expected %\"\n",
      "for i in range(17, 22):\n",
      "    j = list1.count(i) + j\n",
      "    print i, '     ', list1.count(i), '       ', j,'       ', len(list1)-j, '     ', ((list1.count(i)*1.)/len(list1))*100, '%'\n",
      "print 'The expected % of dealer busts: ',   ((len(list1)-j*1.)/len(list1))*100, '%'   \n",
      "        "
     ],
     "language": "python",
     "metadata": {},
     "outputs": []
    },
    {
     "cell_type": "raw",
     "metadata": {},
     "source": [
      "A five 10,000 times: "
     ]
    },
    {
     "cell_type": "code",
     "collapsed": false,
     "input": [
      "list1=[]\n",
      "for i in range(10000):\n",
      "    list1.append(dealerPlay(5, deck1)[0])\n",
      "list1.sort()\n",
      "j=0\n",
      "print \"Hand/  No Draws/  Cum No Draws/  Card Remaining/  Expected %\"\n",
      "for i in range(17, 22):\n",
      "    j = list1.count(i) + j\n",
      "    print i, '     ', list1.count(i), '       ', j,'       ', len(list1)-j, '     ', ((list1.count(i)*1.)/len(list1))*100, '%'\n",
      "print 'The expected % of dealer busts: ',   ((len(list1)-j*1.)/len(list1))*100, '%'   \n",
      "        "
     ],
     "language": "python",
     "metadata": {},
     "outputs": []
    },
    {
     "cell_type": "raw",
     "metadata": {},
     "source": [
      "The regular number of cards:"
     ]
    },
    {
     "cell_type": "code",
     "collapsed": false,
     "input": [
      "deck1 = deckShuffle(20000,20000,20000,20000)"
     ],
     "language": "python",
     "metadata": {},
     "outputs": []
    },
    {
     "cell_type": "code",
     "collapsed": false,
     "input": [
      "# Starting with a 9\n",
      "list1=[]\n",
      "for i in range(10000):\n",
      "    list1.append(dealerPlay(9, deck1)[0])\n",
      "list1.sort()\n",
      "j=0\n",
      "print \"Hand/  No Draws/  Cum No Draws/  Card Remaining/  Expected %\"\n",
      "for i in range(17, 22):\n",
      "    j = list1.count(i) + j\n",
      "    print i, '     ', list1.count(i), '       ', j,'       ', len(list1)-j, '     ', ((list1.count(i)*1.)/len(list1))*100, '%'\n",
      "print 'The expected % of dealer busts: ',   ((len(list1)-j*1.)/len(list1))*100, '%'   \n",
      " "
     ],
     "language": "python",
     "metadata": {},
     "outputs": []
    },
    {
     "cell_type": "code",
     "collapsed": false,
     "input": [
      "list1=[]\n",
      "for i in range(10000):\n",
      "    list1.append(dealerPlay(9, deck1)[0])\n",
      "list1.sort()\n",
      "j=0\n",
      "print \"Hand/  No Draws/  Cum No Draws/  Card Remaining/  Expected %\"\n",
      "for i in range(17, 22):\n",
      "    j = list1.count(i) + j\n",
      "    print i, '     ', list1.count(i), '       ', j,'       ', len(list1)-j, '     ', ((list1.count(i)*1.)/len(list1))*100, '%'\n",
      "print 'The expected % of dealer busts: ',   ((len(list1)-j*1.)/len(list1))*100, '%'   \n",
      " "
     ],
     "language": "python",
     "metadata": {},
     "outputs": []
    },
    {
     "cell_type": "code",
     "collapsed": false,
     "input": [
      "list1=[]\n",
      "for i in range(10000):\n",
      "    list1.append(dealerPlay(9, deck1)[0])\n",
      "list1.sort()\n",
      "j=0\n",
      "print \"Hand/  No Draws/  Cum No Draws/  Card Remaining/  Expected %\"\n",
      "for i in range(17, 22):\n",
      "    j = list1.count(i) + j\n",
      "    print i, '     ', list1.count(i), '       ', j,'       ', len(list1)-j, '     ', ((list1.count(i)*1.)/len(list1))*100, '%'\n",
      "print 'The expected % of dealer busts: ',   ((len(list1)-j*1.)/len(list1))*100, '%'   \n",
      " "
     ],
     "language": "python",
     "metadata": {},
     "outputs": []
    },
    {
     "cell_type": "code",
     "collapsed": false,
     "input": [
      "list1=[]\n",
      "for i in range(10000):\n",
      "    list1.append(dealerPlay(9)[0])\n",
      "list1.sort()\n",
      "j=0\n",
      "print \"Hand/  No Draws/  Cum No Draws/  Card Remaining/  Expected %\"\n",
      "for i in range(16, 22):\n",
      "    j = list1.count(i) + j\n",
      "    print i, '     ', list1.count(i), '       ', j,'       ', len(list1)-j, '     ', ((list1.count(i)*1.)/len(list1))*100, '%'\n",
      "print 'The expected % of dealer busts: ',   ((len(list1)-j*1.)/len(list1))*100, '%'   \n",
      " "
     ],
     "language": "python",
     "metadata": {},
     "outputs": []
    },
    {
     "cell_type": "code",
     "collapsed": false,
     "input": [
      "list1=[]\n",
      "for i in range(10000):\n",
      "    list1.append(dealerPlay(9)[0])\n",
      "list1.sort()\n",
      "j=0\n",
      "print \"Hand/  No Draws/  Cum No Draws/  Card Remaining/  Expected %\"\n",
      "for i in range(16, 22):\n",
      "    j = list1.count(i) + j\n",
      "    print i, '     ', list1.count(i), '       ', j,'       ', len(list1)-j, '     ', ((list1.count(i)*1.)/len(list1))*100, '%'\n",
      "print 'The expected % of dealer busts: ',   ((len(list1)-j*1.)/len(list1))*100, '%'   \n",
      " "
     ],
     "language": "python",
     "metadata": {},
     "outputs": []
    },
    {
     "cell_type": "code",
     "collapsed": false,
     "input": [
      "list1=[]\n",
      "for i in range(10000):\n",
      "    list1.append(dealerPlay(9)[0])\n",
      "list1.sort()\n",
      "j=0\n",
      "print \"Hand/  No Draws/  Cum No Draws/  Card Remaining/  Expected %\"\n",
      "for i in range(16, 22):\n",
      "    j = list1.count(i) + j\n",
      "    print i, '     ', list1.count(i), '       ', j,'       ', len(list1)-j, '     ', ((list1.count(i)*1.)/len(list1))*100, '%'\n",
      "print 'The expected % of dealer busts: ',   ((len(list1)-j*1.)/len(list1))*100, '%'   \n",
      " "
     ],
     "language": "python",
     "metadata": {},
     "outputs": []
    },
    {
     "cell_type": "code",
     "collapsed": false,
     "input": [
      "list1=[]\n",
      "for i in range(10000):\n",
      "    list1.append(dealerPlay(6)[0])\n",
      "list1.sort()\n",
      "j=0\n",
      "print \"Hand/  No Draws/  Cum No Draws/  Card Remaining/  Expected %\"\n",
      "for i in range(16, 22):\n",
      "    j = list1.count(i) + j\n",
      "    print i, '     ', list1.count(i), '       ', j,'       ', len(list1)-j, '     ', ((list1.count(i)*1.)/len(list1))*100, '%'\n",
      "print 'The expected % of dealer busts: ',   ((len(list1)-j*1.)/len(list1))*100, '%'   \n",
      " "
     ],
     "language": "python",
     "metadata": {},
     "outputs": []
    },
    {
     "cell_type": "code",
     "collapsed": false,
     "input": [
      "list1=[]\n",
      "for i in range(10000):\n",
      "    list1.append(dealerPlay(6)[0])\n",
      "list1.sort()\n",
      "j=0\n",
      "print \"Hand/  No Draws/  Cum No Draws/  Card Remaining/  Expected %\"\n",
      "for i in range(16, 22):\n",
      "    j = list1.count(i) + j\n",
      "    print i, '     ', list1.count(i), '       ', j,'       ', len(list1)-j, '     ', ((list1.count(i)*1.)/len(list1))*100, '%'\n",
      "print 'The expected % of dealer busts: ',   ((len(list1)-j*1.)/len(list1))*100, '%'   \n",
      " "
     ],
     "language": "python",
     "metadata": {},
     "outputs": []
    },
    {
     "cell_type": "code",
     "collapsed": false,
     "input": [
      "With Half the Bigs Cards"
     ],
     "language": "python",
     "metadata": {},
     "outputs": []
    },
    {
     "cell_type": "code",
     "collapsed": false,
     "input": [
      "Half the large cards, nine:"
     ],
     "language": "python",
     "metadata": {},
     "outputs": []
    },
    {
     "cell_type": "code",
     "collapsed": false,
     "input": [
      "list1=[]\n",
      "for i in range(10000):\n",
      "    list1.append(dealerPlay(6)[0])\n",
      "list1.sort()\n",
      "j=0\n",
      "print \"Hand/  No Draws/  Cum No Draws/  Card Remaining/  Expected %\"\n",
      "for i in range(16, 22):\n",
      "    j = list1.count(i) + j\n",
      "    print i, '     ', list1.count(i), '       ', j,'       ', len(list1)-j, '     ', ((list1.count(i)*1.)/len(list1))*100, '%'\n",
      "print 'The expected % of dealer busts: ',   ((len(list1)-j*1.)/len(list1))*100, '%'   \n",
      " "
     ],
     "language": "python",
     "metadata": {},
     "outputs": []
    },
    {
     "cell_type": "raw",
     "metadata": {},
     "source": [
      "Ten"
     ]
    },
    {
     "cell_type": "code",
     "collapsed": false,
     "input": [
      "list1=[]\n",
      "for i in range(10000):\n",
      "    list1.append(dealerPlay(10)[0])\n",
      "list1.sort()\n",
      "j=0\n",
      "print \"Hand/  No Draws/  Cum No Draws/  Card Remaining/  Expected %\"\n",
      "for i in range(16, 22):\n",
      "    j = list1.count(i) + j\n",
      "    print i, '     ', list1.count(i), '       ', j,'       ', len(list1)-j, '     ', ((list1.count(i)*1.)/len(list1))*100, '%'\n",
      "print 'The expected % of dealer busts: ',   ((len(list1)-j*1.)/len(list1))*100, '%'   \n",
      " "
     ],
     "language": "python",
     "metadata": {},
     "outputs": []
    },
    {
     "cell_type": "code",
     "collapsed": false,
     "input": [
      "list1=[]\n",
      "for i in range(10000):\n",
      "    list1.append(dealerPlay(10)[0])\n",
      "list1.sort()\n",
      "j=0\n",
      "print \"Hand/  No Draws/  Cum No Draws/  Card Remaining/  Expected %\"\n",
      "for i in range(16, 22):\n",
      "    j = list1.count(i) + j\n",
      "    print i, '     ', list1.count(i), '       ', j,'       ', len(list1)-j, '     ', ((list1.count(i)*1.)/len(list1))*100, '%'\n",
      "print 'The expected % of dealer busts: ',   ((len(list1)-j*1.)/len(list1))*100, '%'   \n",
      " "
     ],
     "language": "python",
     "metadata": {},
     "outputs": []
    },
    {
     "cell_type": "raw",
     "metadata": {},
     "source": [
      "A single player against house\n",
      "Can you start basic and learn?\n",
      "\n",
      "What if you change ratio of small and large?\n",
      "How that affects learning/strategy?\n",
      "\n",
      "Strategy when you have 14, 15 16, 17 if ratio not even?\n",
      "\n",
      "Clumps and basic strategy?\n",
      "\n",
      "Different clumping regiments?\n",
      "\n",
      "How does it affect busting rate?"
     ]
    }
   ],
   "metadata": {}
  }
 ]
}