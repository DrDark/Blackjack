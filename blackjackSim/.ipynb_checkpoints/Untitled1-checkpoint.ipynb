{
 "metadata": {
  "name": ""
 },
 "nbformat": 3,
 "nbformat_minor": 0,
 "worksheets": [
  {
   "cells": [
    {
     "cell_type": "code",
     "collapsed": false,
     "input": [
      "from numpy import random \n",
      "from pandas import DataFrame \n",
      "%matplotlib inline"
     ],
     "language": "python",
     "metadata": {},
     "outputs": [],
     "prompt_number": 1
    },
    {
     "cell_type": "code",
     "collapsed": false,
     "input": [
      "def singleDeck(twos = 4, threes = 4, fours = 4, fives = 4, sixes = 4,\n",
      "               sevens = 4, eights = 4, nines = 4, tens = 16, aces = 4):\n",
      "    return [2]*twos + [3]*threes + [4]*fours + [5]*fives + [6]*sixes +[7]*sevens + [8]*eights + [9]*nines + [10]*tens + ['A']*aces"
     ],
     "language": "python",
     "metadata": {},
     "outputs": [],
     "prompt_number": 2
    },
    {
     "cell_type": "code",
     "collapsed": false,
     "input": [
      "def deckShuffle(NDecks = 6, decks = singleDeck()):\n",
      "    A = decks * NDecks\n",
      "    shuffle(A) # numpy.random function shuffle modifies the deck in place\n",
      "    return A"
     ],
     "language": "python",
     "metadata": {},
     "outputs": [],
     "prompt_number": 3
    },
    {
     "cell_type": "code",
     "collapsed": false,
     "input": [
      "def drawACard(deck):\n",
      "    x = random.choice(len(deck)) # Sellect a random card's index \n",
      "    return deck.pop(x) # Return the card removing it from the deck"
     ],
     "language": "python",
     "metadata": {},
     "outputs": [],
     "prompt_number": 4
    },
    {
     "cell_type": "code",
     "collapsed": false,
     "input": [
      "def AddAce(card):\n",
      "    if card == 'A': return AddAce(array([1, 11])) # Both cards aces\n",
      "    else: \n",
      "        result = array([card + 1, card + 11]) \n",
      "        result = result.flatten()[result.flatten()<22] # Flatten and keep values < 22 only\n",
      "        if len(unique(result))==1: return int(result) # Array of length 1 to int\n",
      "        else: return unique(result)    # Remove repeting values"
     ],
     "language": "python",
     "metadata": {},
     "outputs": [],
     "prompt_number": 5
    },
    {
     "cell_type": "code",
     "collapsed": false,
     "input": [
      "# Adding a card to a total:\n",
      "def AddCards(cards, card):\n",
      "    if cards == 'A': return AddAce(card)\n",
      "    elif card == 'A': return AddAce(cards)\n",
      "    elif isinstance(cards + card, int): return cards + card\n",
      "    else: \n",
      "        result = cards + card \n",
      "        result = result.flatten()[result.flatten()<22]\n",
      "        if len(unique(result))==1: return int(result)\n",
      "        else: return unique(result)"
     ],
     "language": "python",
     "metadata": {},
     "outputs": [],
     "prompt_number": 6
    },
    {
     "cell_type": "code",
     "collapsed": false,
     "input": [
      "def Bust(cards):\n",
      "    if isinstance(cards, int):\n",
      "        if cards > 21: return True\n",
      "    elif not isinstance(cards, int): \n",
      "        if len(cards) == 0: return True\n",
      "    else: return False"
     ],
     "language": "python",
     "metadata": {},
     "outputs": [],
     "prompt_number": 7
    },
    {
     "cell_type": "code",
     "collapsed": false,
     "input": [
      "def playerWin(dealer, player, blackjack = 1.5):\n",
      "    if dealer == 'BJ':\n",
      "        if player == 'BJ': return 0, 'Push'\n",
      "        else: return -1, 'Loss'\n",
      "    if player == 'BJ':\n",
      "        if dealer == 'BJ': return 0, 'Push'\n",
      "        else: return blackjack, 'Win'\n",
      "    elif dealer == 'Bust'and player != 'Bust': return 1, 'Win'\n",
      "    elif player == 'Bust': return -1, 'Loss'\n",
      "    elif player > dealer: return 1, 'Win' \n",
      "    elif player < dealer: return -1, 'Loss'\n",
      "    else: return 0, 'Push'"
     ],
     "language": "python",
     "metadata": {},
     "outputs": [],
     "prompt_number": 10
    },
    {
     "cell_type": "markdown",
     "metadata": {},
     "source": [
      "Dealer plays the usual strategy:"
     ]
    },
    {
     "cell_type": "code",
     "collapsed": false,
     "input": [
      "def dealerPlay(dealer, deck, hard = 17, soft = 17):\n",
      "    lst =[dealer]\n",
      "    if len(deck) == 0: deck = deckShuffle()\n",
      "    card = drawACard(deck)\n",
      "    lst.append(card) \n",
      "    dealer = AddCards(dealer, card)\n",
      "    count = 2\n",
      "    if (not isinstance(dealer, int) and dealer[1] == 21): return 'BJ', count, lst\n",
      "\n",
      "    while not Bust(dealer) and ((isinstance(dealer, int) and dealer < hard) \n",
      "                                or(not isinstance(dealer, int) and dealer[1] < soft)):\n",
      "            count = count + 1\n",
      "            if len(deck) == 0:\n",
      "                 deck = deckShuffle()\n",
      "            card = drawACard(deck)\n",
      "            lst.append(card) \n",
      "            dealer = AddCards(dealer, card)\n",
      "    if isinstance(dealer, int): \n",
      "            if dealer > 21: return 'Bust', count, lst\n",
      "            else: return dealer, count, lst\n",
      "    else: \n",
      "            if len(dealer) == 2: return int(dealer[1]), count, lst\n",
      "            else: return 'Bust', count, lst"
     ],
     "language": "python",
     "metadata": {},
     "outputs": [],
     "prompt_number": 8
    },
    {
     "cell_type": "markdown",
     "metadata": {},
     "source": [
      "Basic strategy: "
     ]
    },
    {
     "cell_type": "code",
     "collapsed": false,
     "input": [
      "def basicStrategy(dealer, card1, deck):\n",
      "    player = [card1]\n",
      "    if len(deck) == 0: deck = deckShuffle(1)\n",
      "    card2 = drawACard(deck)\n",
      "    player.append(card2)\n",
      "    total = AddCards(card1, card2)\n",
      "    count = 2\n",
      "    if (not isinstance(total, int) and total[1] == 21): return 'BJ', count, player\n",
      "    while not Bust(total) and ((not isinstance(total, int) and \n",
      "                                ((dealer in [9, 10, 'A'] and total[1] < 19) or \n",
      "                                 (dealer not in [9, 10, 'A'] and total[1] < 18))) or\n",
      "                               (isinstance(total, int) and ((total < 12)))): \n",
      "        count = count + 1\n",
      "        if len(deck) == 0:\n",
      "            deck = deckShuffle(1)\n",
      "        card = drawACard(deck)\n",
      "        player = player + [card]\n",
      "        total = AddCards(total, card)\n",
      "    if isinstance(total, int): \n",
      "        if total > 21: return 'Bust', count, player\n",
      "        else: return total, count, player\n",
      "    else: \n",
      "        if len(total) == 2: return int(total[1]), count, player\n",
      "        else: return 'Bust', count, player"
     ],
     "language": "python",
     "metadata": {},
     "outputs": [],
     "prompt_number": 85
    },
    {
     "cell_type": "markdown",
     "metadata": {},
     "source": [
      "Player never hits a hard 12, and thus never busts, but otherwise plays basic strategy. "
     ]
    },
    {
     "cell_type": "code",
     "collapsed": false,
     "input": [
      "def playerStrategy(dealer, card1, deck):\n",
      "    player = [card1]\n",
      "    if len(deck) == 0: deck = deckShuffle(1)\n",
      "    card2 = drawACard(deck)\n",
      "    player.append(card2)\n",
      "    total = AddCards(card1, card2)\n",
      "    count = 2\n",
      "    if (not isinstance(total, int) and total[1] == 21): return 'BJ', count, player\n",
      "    while not Bust(total) and ((not isinstance(total, int) and ((dealer in [9, 10, 'A'] and total[1] < 19) or (dealer not in [9, 10, 'A'] and total[1] < 18))) or  (isinstance(total, int) and ((total < 12)))): \n",
      "        count = count + 1\n",
      "        if len(deck) == 0:\n",
      "            deck = deckShuffle(1)\n",
      "        card = drawACard(deck)\n",
      "        player = player + [card]\n",
      "        total = AddCards(total, card)\n",
      "    if isinstance(total, int): \n",
      "        if total > 21: return 'Bust', count, player\n",
      "        else: return total, count, player\n",
      "    else: \n",
      "        if len(total) == 2: return int(total[1]), count, player\n",
      "        else: return 'Bust', count, player"
     ],
     "language": "python",
     "metadata": {},
     "outputs": [],
     "prompt_number": 11
    },
    {
     "cell_type": "markdown",
     "metadata": {},
     "source": [
      "Player plays 1000 rounds against the dealer. He does this 100 times. The results are averaged, and the expected return is found to be around -2.5%. By visually inspecting the list1, one sees that the player loses about 25 more times than he wins."
     ]
    },
    {
     "cell_type": "code",
     "collapsed": false,
     "input": [
      "deck = []\n",
      "list1=[]\n",
      "for j in range(100):\n",
      "  count = 0\n",
      "  for i in range(1000):\n",
      "      P = playerStrategy(5, 5, deck)\n",
      "      D = dealerPlay(5, deck) \n",
      "      #print P\n",
      "      #print D\n",
      "      #print playerWin(D[0], P[0])[0]\n",
      "      count += playerWin(D[0], P[0])[0]\n",
      "      #print '--------' \n",
      "  list1.append(count)\n",
      "print list1 "
     ],
     "language": "python",
     "metadata": {},
     "outputs": [
      {
       "output_type": "stream",
       "stream": "stdout",
       "text": [
        "[-66, 13, -34, -15, -33, -10, 51, -39, 23, -97, -73, -51, -61, -23, -34, -27, 10, -31, -36, 5, -73, 4, -57, -60, -19, -1, -15, -23, -28, -3, -31, -28, -55, -14, -36, -13, -13, 8, -25, 11, -4, -62, -11, 35, -6, 15, -31, -7, -18, -77, -21, 16, -34, 12, -50, -28, 38, 8, -54, -8, 12, -18, -53, -19, 17, -7, 20, -53, -38, -24, -12, -64, 15, 20, 27, -31, -8, -44, 2, -38, 2, -30, -29, -1, -6, -35, -18, -22, -30, -27, -24, 5, -12, 11, -41, -44, -30, -70, -16, -4]\n"
       ]
      }
     ],
     "prompt_number": 22
    },
    {
     "cell_type": "markdown",
     "metadata": {},
     "source": [
      "We average out the expected outcomes of 1000 hands played 100 times to get a good approximation of expected utility"
     ]
    },
    {
     "cell_type": "code",
     "collapsed": false,
     "input": [
      "l = 0\n",
      "for i in list1:\n",
      "  l = l + i/1000.\n",
      "print l/100."
     ],
     "language": "python",
     "metadata": {},
     "outputs": [
      {
       "output_type": "stream",
       "stream": "stdout",
       "text": [
        "-0.02003\n"
       ]
      }
     ],
     "prompt_number": 23
    },
    {
     "cell_type": "markdown",
     "metadata": {},
     "source": [
      "Plot the variance. See that the mean is somewhere around -25 but it varies from one set of 1000  hands to another."
     ]
    },
    {
     "cell_type": "code",
     "collapsed": false,
     "input": [
      "hist(list1, alpha = .5);"
     ],
     "language": "python",
     "metadata": {},
     "outputs": [
      {
       "metadata": {},
       "output_type": "display_data",
       "png": "[encoded data removed]",
       "text": [
        "<matplotlib.figure.Figure at 0x1070c8c50>"
       ]
      }
     ],
     "prompt_number": 24
    },
    {
     "cell_type": "markdown",
     "metadata": {},
     "source": [
      "Enter the player's hard total and dealer's card for which you want to see the expected utility:"
     ]
    },
    {
     "cell_type": "code",
     "collapsed": false,
     "input": [
      "dealer = 7\n",
      "player = 10"
     ],
     "language": "python",
     "metadata": {},
     "outputs": [],
     "prompt_number": 78
    },
    {
     "cell_type": "code",
     "collapsed": false,
     "input": [
      "# Model 100 times 1000 rounds \n",
      "deck = []\n",
      "list1=[]\n",
      "list2=[]\n",
      "list3=[]\n",
      "for j in range(100):\n",
      "  count = 0\n",
      "  count1 = 0\n",
      "  count2 = 0  \n",
      "  for i in range(1000):\n",
      "      P = playerStrategy(dealer, player, deck)\n",
      "      P2 = dealerPlay(dealer, deck) # Player 2 plays copy the dealer strategy \n",
      "      P3 = basicStrategy(dealer, deck)   \n",
      "      D = dealerPlay(dealer, deck) \n",
      "      #print P\n",
      "      #print D\n",
      "      #print playerWin(D[0], P[0])[0]\n",
      "      count += playerWin(D[0], P[0])[0]\n",
      "      count1 += playerWin(D[0], P2[0])[0] \n",
      "      count2 += playerWin(D[0], P3[0])[0]  \n",
      "      #print '--------' \n",
      "  list1.append(count)\n",
      "  list2.append(count1)\n",
      "  list3.append(count2)      \n",
      "print list1\n",
      "print '-----'\n",
      "print list2"
     ],
     "language": "python",
     "metadata": {},
     "outputs": [
      {
       "output_type": "stream",
       "stream": "stdout",
       "text": [
        "[179.0, 227.5, 209.0, 147.0, 219.0, 239.0, 232.0, 180.5, 274.0, 251.5, 197.0, 273.0, 221.0, 311.5, 247.0, 218.0, 254.0, 237.0, 310.5, 189.5, 226.0, 232.5, 246.5, 241.0, 250.5, 155.0, 222.5, 240.0, 180.0, 222.5, 261.0, 262.5, 241.0, 248.0, 224.5, 226.0, 195.5, 266.0, 213.0, 289.0, 230.0, 274.0, 243.5, 240.0, 213.0, 233.0, 257.0, 294.0, 193.0, 255.5, 256.5, 220.0, 275.0, 222.5, 187.0, 226.0, 216.0, 251.5, 242.0, 302.5, 265.5, 209.0, 216.5, 234.0, 248.0, 252.0, 196.5, 251.0, 230.0, 265.0, 250.5, 286.0, 282.5, 203.5, 214.5, 249.5, 231.5, 250.0, 270.5, 218.0, 229.0, 155.5, 253.5, 272.5, 219.0, 212.0, 273.5, 238.0, 237.0, 249.0, 275.5, 256.5, 250.0, 270.0, 249.0, 223.5, 253.5, 265.0, 279.5, 233.5]\n",
        "-----\n",
        "[-48, -94, -80, -65, -59, -35, -74, -54, -51, -94, -104, -39, -72, -54, -61, -71, -102, -94, -48, -64, -99, -90, -34, -93, -43, -90, -32, -66, -50, -87, -51, -105, -108, -51, -80, -57, -82, -94, -38, -36, -72, -4, -109, -99, -68, -42, -43, -65, -56, -85, -44, -65, -37, -95, -52, -45, -103, -137, -4, -68, -87, -56, -48, -54, -90, -72, -70, -72, -79, -68, -123, -104, -46, -40, -78, -89, -95, -84, -64, -84, -49, -63, -35, -23, -65, -123, -49, -32, -124, -78, -39, -84, -64, -39, -45, -41, -85, -29, -73, -51]\n"
       ]
      }
     ],
     "prompt_number": 79
    },
    {
     "cell_type": "code",
     "collapsed": false,
     "input": [
      "# Find the expected value\n",
      "ls = zip(list1, list2)\n",
      "l = 0\n",
      "l2 = 0\n",
      "for i, j in ls:\n",
      "  l = l + i/1000.\n",
      "  l2 = l2 + j/1000.  \n",
      "print 'Expected return for P: ', l/100.\n",
      "print 'Expected return for P2: ', l2/100."
     ],
     "language": "python",
     "metadata": {},
     "outputs": [
      {
       "output_type": "stream",
       "stream": "stdout",
       "text": [
        "Expected return for P:  0.23811\n",
        "Expected return for P2:  -0.06736\n"
       ]
      }
     ],
     "prompt_number": 80
    },
    {
     "cell_type": "markdown",
     "metadata": {},
     "source": [
      "Plot the variance of returns: to see that a distribution of your outcomes over 100 attempts of playing 1000 hands."
     ]
    },
    {
     "cell_type": "code",
     "collapsed": false,
     "input": [
      "figure(1)\n",
      "hist(list1, color = 'k', alpha = .1)\n",
      "hist(list2, color = 'r', alpha = .1)\n",
      "figure(3)\n",
      "plot(list1, list2, 'ro', alpha =.5);"
     ],
     "language": "python",
     "metadata": {},
     "outputs": [
      {
       "metadata": {},
       "output_type": "display_data",
       "png": "[encoded data removed]",
       "text": [
        "<matplotlib.figure.Figure at 0x107c68650>"
       ]
      },
      {
       "metadata": {},
       "output_type": "display_data",
       "png": "[encoded data removed]",
       "text": [
        "<matplotlib.figure.Figure at 0x108dee650>"
       ]
      }
     ],
     "prompt_number": 81
    },
    {
     "cell_type": "code",
     "collapsed": false,
     "input": [
      "from scipy.stats import describe"
     ],
     "language": "python",
     "metadata": {},
     "outputs": [],
     "prompt_number": 82
    },
    {
     "cell_type": "markdown",
     "metadata": {},
     "source": [
      "Summary stats for Player 1's outcome after playing 1000 hands"
     ]
    },
    {
     "cell_type": "code",
     "collapsed": false,
     "input": [
      "Size,  Range, Mean, variance, skewness, kurtosis = describe(list1)\n",
      "print 'Number of observations: ', Size\n",
      "print 'Mean: ',  Mean\n",
      "print 'Min to Max: ', Range\n",
      "print 'Variance: ', variance\n",
      "print 'Standard Dev.: ', sqrt(variance)\n",
      "print 'Skewness: ', skewness\n",
      "print 'Kurtosis: ', kurtosis"
     ],
     "language": "python",
     "metadata": {},
     "outputs": [
      {
       "output_type": "stream",
       "stream": "stdout",
       "text": [
        "Number of observations:  100\n",
        "Mean:  238.11\n",
        "Min to Max:  (147.0, 311.5)\n",
        "Variance:  1018.32111111\n",
        "Standard Dev.:  31.9111439957\n",
        "Skewness:  -0.348739766459\n",
        "Kurtosis:  0.436109864511\n"
       ]
      }
     ],
     "prompt_number": 83
    },
    {
     "cell_type": "markdown",
     "metadata": {},
     "source": [
      "Summary stats for Player 2"
     ]
    },
    {
     "cell_type": "code",
     "collapsed": false,
     "input": [
      "Size,  Range, Mean, variance, skewness, kurtosis = describe(list2)\n",
      "print 'Number of observations: ', Size\n",
      "print 'Mean: ',  Mean\n",
      "print 'Min to Max: ', Range\n",
      "print 'Variance: ', variance\n",
      "print 'Standard Dev.: ', sqrt(variance)\n",
      "print 'Skewness: ', skewness\n",
      "print 'Kurtosis: ', kurtosis"
     ],
     "language": "python",
     "metadata": {},
     "outputs": [
      {
       "output_type": "stream",
       "stream": "stdout",
       "text": [
        "Number of observations:  100\n",
        "Mean:  -67.36\n",
        "Min to Max:  (-137, -4)\n",
        "Variance:  693.626666667\n",
        "Standard Dev.:  26.3367930217\n",
        "Skewness:  -0.187195792043\n",
        "Kurtosis:  -0.272844814225\n"
       ]
      }
     ],
     "prompt_number": 84
    },
    {
     "cell_type": "code",
     "collapsed": false,
     "input": [],
     "language": "python",
     "metadata": {},
     "outputs": []
    }
   ],
   "metadata": {}
  }
 ]
}