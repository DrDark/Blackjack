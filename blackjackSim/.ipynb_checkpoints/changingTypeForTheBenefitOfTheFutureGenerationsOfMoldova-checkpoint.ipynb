{
 "metadata": {
  "name": ""
 },
 "nbformat": 3,
 "nbformat_minor": 0,
 "worksheets": [
  {
   "cells": [
    {
     "cell_type": "code",
     "collapsed": false,
     "input": [
      "# Bulid the basic type 'cards'. I ordered these so that 0 is 10, 1 is ace, 2 is 2 etc. \n",
      "top = array([10]+range(1, 11) + 2*[10])\n",
      "bottom = array([10]+[11]+range(2, 11)+2*[10])\n",
      "cards = numpy.vstack((top, bottom)).T\n",
      "cards"
     ],
     "language": "python",
     "metadata": {},
     "outputs": []
    },
    {
     "cell_type": "code",
     "collapsed": false,
     "input": [
      "deck = tile(cards, (4, 1))\n",
      "print deck[-20:]"
     ],
     "language": "python",
     "metadata": {},
     "outputs": []
    },
    {
     "cell_type": "code",
     "collapsed": false,
     "input": [
      "%%timeit\n",
      "n = 5 # compare for loop and tile for speed\n",
      "nDecks = deck\n",
      "for i in xrange(1, n):\n",
      "    nDecks = vstack((nDecks, deck))"
     ],
     "language": "python",
     "metadata": {},
     "outputs": []
    },
    {
     "cell_type": "code",
     "collapsed": false,
     "input": [
      "%%timeit\n",
      "nDecks = tile(deck, (6, 1))"
     ],
     "language": "python",
     "metadata": {},
     "outputs": []
    },
    {
     "cell_type": "code",
     "collapsed": false,
     "input": [
      "nDecks = tile(deck, (6, 1))\n",
      "len(nDecks)"
     ],
     "language": "python",
     "metadata": {},
     "outputs": []
    },
    {
     "cell_type": "code",
     "collapsed": false,
     "input": [
      "# Shuffle a la Mike. Either:\n",
      "random.shuffle(nDecks) # or\n",
      "nDecks = nDecks[random.choice(len(nDecks), len(nDecks), replace = True)]\n"
     ],
     "language": "python",
     "metadata": {},
     "outputs": []
    },
    {
     "cell_type": "code",
     "collapsed": false,
     "input": [
      "# distinguish soft and hard hand\n",
      "def soft_hard(card):\n",
      "    return where(card[0]<card[1], 'soft', 'hard')"
     ],
     "language": "python",
     "metadata": {},
     "outputs": []
    },
    {
     "cell_type": "code",
     "collapsed": false,
     "input": [
      "# random test\n",
      "C = nDecks[13]+nDecks[17]+ cards[1]\n",
      "soft_hard(C)"
     ],
     "language": "python",
     "metadata": {},
     "outputs": []
    },
    {
     "cell_type": "code",
     "collapsed": false,
     "input": [
      "# define bust\n",
      "def Bust(total):\n",
      "    if total[1]>21:\n",
      "        total[1]=total[0]\n",
      "    if total[1]>21:\n",
      "        return True\n",
      "    else:\n",
      "        return False"
     ],
     "language": "python",
     "metadata": {},
     "outputs": []
    },
    {
     "cell_type": "code",
     "collapsed": false,
     "input": [
      "# test\n",
      "A = array([22,22])\n",
      "print Bust(A)\n",
      "print Bust(C+cards[2])\n",
      "C"
     ],
     "language": "python",
     "metadata": {},
     "outputs": []
    },
    {
     "cell_type": "code",
     "collapsed": false,
     "input": [
      "# add a new card to a total\n",
      "def total(total, card):\n",
      "    if soft_hard(total) == 'hard' and total[0] < 11 and soft_hard(card) == 'soft':\n",
      "        return total + card\n",
      "    else: \n",
      "        return total + card[0]     "
     ],
     "language": "python",
     "metadata": {},
     "outputs": []
    },
    {
     "cell_type": "code",
     "collapsed": false,
     "input": [
      "#lazy test\n",
      "A = cards[0] + cards[2]; B=cards[1]\n",
      "print total(A, B)\n",
      "A = cards[1]+cards[9]; B= cards[1]\n",
      "print total(A, B)\n",
      "A = cards[1]; B= cards[1]\n",
      "print total(A, B)\n",
      "A = cards[4]; B= cards[6]\n",
      "print total(A, B)"
     ],
     "language": "python",
     "metadata": {},
     "outputs": []
    },
    {
     "cell_type": "code",
     "collapsed": false,
     "input": [
      "# Now the while loop for the dealer is simply\n",
      "# while not Bust(dealer) and dealer[1]<17: do blah blah"
     ],
     "language": "python",
     "metadata": {},
     "outputs": []
    }
   ],
   "metadata": {}
  }
 ]
}