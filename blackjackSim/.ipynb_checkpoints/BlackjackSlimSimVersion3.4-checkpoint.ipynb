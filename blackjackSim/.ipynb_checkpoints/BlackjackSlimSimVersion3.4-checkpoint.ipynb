{
 "metadata": {
  "name": ""
 },
 "nbformat": 3,
 "nbformat_minor": 0,
 "worksheets": [
  {
   "cells": [
    {
     "cell_type": "heading",
     "level": 2,
     "metadata": {},
     "source": [
      "A Blackjack Simulator"
     ]
    },
    {
     "cell_type": "raw",
     "metadata": {},
     "source": [
      "Our goal in this model is to explore a number of features of the card game Blackjack (BJ for short henceforth) that relate the number of cards, ratio of cards in different card classes (low, hi, neutral cards under different definitions), deliberate imbalances in shuffles, periodic features of shuffles and related phenomena and develop a model that enables us to study these phenomena systematically. The concepts of `clumping`, `removal effects`, deliberate biasing will all be touched upon. We will examine varios playing strategies under these scenarios starting with now classic `basic strategy` and ultimately attempt to understand how one adjusts the playing responses to patterns in card decks. We will concern ourselves mostly with a rather standard six deck game that sometimes goes under the name soft 16 as the house adopt the straightforward strategy of `staying` on both the soft (e.g. A, 6) and hard (e.g. 9, 8) 17. We will examine both the standard hand dealt and shuffled and continuously shuffled machine games that utilize Continuous Shuffling Machines. In looking at some card counting strategies, we would like to know if any such strategy is preserved into the realm of continuosly shuffled game. Our prefered modus operandi will be game simulation, often even in cases when an analytic alternative is easily available or even easier to work with. This way we preserve not only the consistency of the model, but also keep the required statistical and mathematical background to a minimum. We will also often rely on precomputed probability and expected utility tables. There is no need to reinvent the wheel here, especially as there is no shortage of reliable computations freely available on-line. We will try to attribute credit when appropriate. Our main inspiration is the work of Stanford Wong from his BJ21.com. We will refer to other sources where appropriate. "
     ]
    },
    {
     "cell_type": "raw",
     "metadata": {},
     "source": [
      "The notebook runs in pylab mode and freely uses packages standardly available in IPython without much commentary, unless an unusual library or routine is used. "
     ]
    },
    {
     "cell_type": "code",
     "collapsed": false,
     "input": [
      "from numpy import random # numpy's library random makes the basis of much of the work\n",
      "from pandas import DataFrame # pandas DataFrames are used excessivelly to record and anlyse data\n",
      "%matplotlib inline # and matplotlib plots are kept inline for the ease of reading. We at least try to make the code as\n",
      "# self explanatory as possible"
     ],
     "language": "python",
     "metadata": {},
     "outputs": [],
     "prompt_number": "*"
    },
    {
     "cell_type": "heading",
     "level": 3,
     "metadata": {},
     "source": [
      "Basics: cards, decks, and shuffling"
     ]
    },
    {
     "cell_type": "raw",
     "metadata": {},
     "source": [
      "Our simplified deck consists of four basic types of cards: Ace (1 or 11) -- 2, 3, 4, 5, 6 -- 7, 8, 9 -- 10, 10, 10, 10. Each deck, as per norm, consists of 4 sets of 13 cards of the four types for a total of 52:"
     ]
    },
    {
     "cell_type": "heading",
     "level": 5,
     "metadata": {},
     "source": [
      "Create a deck"
     ]
    },
    {
     "cell_type": "raw",
     "metadata": {},
     "source": [
      "The function singleDeck below enables us to vary the number of cards in a deck. The defaults are 4 of each for total of 52 cards. Changing the numbers and ratios of cards in a single deck will enable us perform a variety of simulated experiments to examined claims made on behalf of various card counting systems and other features of blackjack. "
     ]
    },
    {
     "cell_type": "code",
     "collapsed": false,
     "input": [
      "def singleDeck(twos = 4, threes = 4, fours = 4, fives = 4, sixes = 4,\n",
      "               sevens = 4, eights = 4, nines = 4, tens = 16, aces = 4):\n",
      "    return [2]*twos + [3]*threes + [4]*fours + [5]*fives + [6]*sixes +[7]*sevens + [8]*eights + [9]*nines + [10]*tens + ['A']*aces"
     ],
     "language": "python",
     "metadata": {},
     "outputs": [],
     "prompt_number": 2
    },
    {
     "cell_type": "heading",
     "level": 5,
     "metadata": {},
     "source": [
      "Deck shuffling (quick)"
     ]
    },
    {
     "cell_type": "raw",
     "metadata": {},
     "source": [
      "The function deckShuffle shuffles 6 decks of cards. The default six decks can be changed using kwarg NDecks, and the kind of deck using decks (one can bias the deck first, say giving it fewer 10s or extra low cards.)"
     ]
    },
    {
     "cell_type": "code",
     "collapsed": false,
     "input": [
      "def deckShuffle(NDecks = 6, decks = singleDeck()):\n",
      "    A = decks * NDecks\n",
      "    shuffle(A)\n",
      "    return A"
     ],
     "language": "python",
     "metadata": {},
     "outputs": [],
     "prompt_number": 3
    },
    {
     "cell_type": "raw",
     "metadata": {},
     "source": [
      "Draw a random card from a given deck [drawACard()]. Returns the drawn card and reduces the deck's length by one."
     ]
    },
    {
     "cell_type": "code",
     "collapsed": false,
     "input": [
      "def drawACard(deck):\n",
      "    x = len(deck)\n",
      "    return deck.pop(random.choice(len(deck)))"
     ],
     "language": "python",
     "metadata": {},
     "outputs": [],
     "prompt_number": 4
    },
    {
     "cell_type": "heading",
     "level": 4,
     "metadata": {},
     "source": [
      "Drawing from continuous shuffles"
     ]
    },
    {
     "cell_type": "raw",
     "metadata": {},
     "source": [
      "The function drawCont simulates draws from a continuous shuffle. One still feeds in the deck so that biased decks can be passed on, but the deck remains unchanged. It is given standard six decks as a default. "
     ]
    },
    {
     "cell_type": "code",
     "collapsed": false,
     "input": [
      "def drawCont(Deck=deckShuffle()):\n",
      "    return Deck[random.choice(len(Deck))]"
     ],
     "language": "python",
     "metadata": {},
     "outputs": [],
     "prompt_number": 5
    },
    {
     "cell_type": "heading",
     "level": 3,
     "metadata": {},
     "source": [
      "Card counting"
     ]
    },
    {
     "cell_type": "raw",
     "metadata": {},
     "source": [
      "We define variables `low`, `high` and `neutral` for purposes of simple card counting"
     ]
    },
    {
     "cell_type": "code",
     "collapsed": false,
     "input": [
      "# 'New' Card Count\n",
      "low = range(2, 8)         # `Low`: 2 to 7, total 6x4 per deck\n",
      "high = range(8, 11)     # `High`:  8, 9, and 10, total 6x4 per deck\n",
      "neutral = ['A']     #  `Neutral`: Aces, total 1x4 per deck"
     ],
     "language": "python",
     "metadata": {},
     "outputs": [],
     "prompt_number": 6
    },
    {
     "cell_type": "raw",
     "metadata": {},
     "source": [
      "Card counting function. It takes a card and a count and returns a new count. "
     ]
    },
    {
     "cell_type": "code",
     "collapsed": false,
     "input": [
      "def cardCount(card, count):\n",
      "    if card in low: return count - 1\n",
      "    elif card in neutral: return count\n",
      "    elif card in high: return count + 1"
     ],
     "language": "python",
     "metadata": {},
     "outputs": [],
     "prompt_number": 7
    },
    {
     "cell_type": "raw",
     "metadata": {},
     "source": [
      "The card counts should be roughly normally distributed around 0. The variance \n",
      "depends on the number of decks involved. The count variable itself is a Markov chain in that its next value only depends on its present value (and the next card). The usefulness of card counting is based on mean regression: the value of the count has to end up at 0 so any offset can be statistically exploited by the players. "
     ]
    },
    {
     "cell_type": "raw",
     "metadata": {},
     "source": [
      "Next we explore the way the function works. By changing the value of D, one can experiment with larger or smaller decks [for example, D = deckShuffle(10) gives us 10 decks to count over]. The function A records the behavior of the Markov chain at that point while B sums the card count at a point thus giving the ability to graph or explore the count. The count plotted starts at 0 and returns to 0. In hand dealt decks, the usefulness of the count changes over time and this is an interesting property to study. At the start of a 6 deck game, the count of -3 tells you roughly that there are 3 extra high cards in the remaining 300+ cards. Not very useful or precise. Having the count of 10 and only 50 cards left to deal contains a lot more information. It tells you that the there are 10 more low cards over the next 50 cards than one would expect. By chance alone, one would expect 20 or so, and there really are 30. This in turn tells you that there are only 10 `high` cards.    "
     ]
    },
    {
     "cell_type": "code",
     "collapsed": false,
     "input": [
      "print 'Testing card counting function over a deck'\n",
      "print '--------------------'\n",
      "D = deckShuffle(1)\n",
      "A = [cardCount(d, 0) for d in D]\n",
      "B = cumsum(A)\n",
      "print 'The max count :', max(B)\n",
      "print 'The min count :', min(B)\n",
      "print 'The mean count :', mean(B)\n",
      "print 'The median count :', median(B)\n",
      "print 'The count of the final card ought to be 0 and it is:', B[-1]\n",
      "plt.figure(1)\n",
      "plot(range(len(B)), B, 'k-', lw = 1.5)\n",
      "plt.figure(2)\n",
      "hist(B, color = 'red', alpha = .5);"
     ],
     "language": "python",
     "metadata": {},
     "outputs": [
      {
       "output_type": "stream",
       "stream": "stdout",
       "text": [
        "Testing card counting function over a deck\n",
        "--------------------\n",
        "The max count : 4\n",
        "The min count : -7\n",
        "The mean count : -0.788461538462\n",
        "The median count : 0.0\n",
        "The count of the final card ought to be 0 and it is: 0\n"
       ]
      },
      {
       "metadata": {},
       "output_type": "display_data",
       "png": "[encoded data removed]",
       "text": [
        "<matplotlib.figure.Figure at 0x1072cf910>"
       ]
      },
      {
       "metadata": {},
       "output_type": "display_data",
       "png": "[encoded data removed]",
       "text": [
        "<matplotlib.figure.Figure at 0x1072cf250>"
       ]
      }
     ],
     "prompt_number": 18
    },
    {
     "cell_type": "raw",
     "metadata": {},
     "source": [
      "For kicks, we count cards over 1000 deck shuffle: "
     ]
    },
    {
     "cell_type": "code",
     "collapsed": false,
     "input": [
      "print 'Testing card counting function over 1000 decks'\n",
      "print '--------------------'\n",
      "D = deckShuffle(1000)\n",
      "A = [cardCount(d, 0) for d in D]\n",
      "B = cumsum(A)\n",
      "print 'The max count :', max(B)\n",
      "print 'The min count :', min(B)\n",
      "print 'The mean count :', mean(B)\n",
      "print 'The median count :', median(B)\n",
      "print 'The count of the final card ought to be 0 and it is:', B[-1]\n",
      "plt.figure(1)\n",
      "plt.subplot(211)\n",
      "plot(range(len(B)), B, 'k-', lw = .3)\n",
      "plt.subplot(212)\n",
      "hist(B, color = 'red', alpha = .5);"
     ],
     "language": "python",
     "metadata": {},
     "outputs": [
      {
       "output_type": "stream",
       "stream": "stdout",
       "text": [
        "Testing card counting function over 1000 decks\n",
        "--------------------\n",
        "The max count :"
       ]
      },
      {
       "output_type": "stream",
       "stream": "stdout",
       "text": [
        " 153\n",
        "The min count : -89\n",
        "The mean count : 49.0172884615\n",
        "The median count : 60.0\n",
        "The count of the final card ought to be 0 and it is: 0\n"
       ]
      },
      {
       "metadata": {},
       "output_type": "display_data",
       "png": "[encoded data removed]",
       "text": [
        "<matplotlib.figure.Figure at 0x1072d0790>"
       ]
      }
     ],
     "prompt_number": 19
    },
    {
     "cell_type": "raw",
     "metadata": {},
     "source": [
      "On a continuous shuffle, the patterns are similar. The main difference is that there is no guarantee that the count will revert to 0. This makes developing card counting techniques much harder if not impossible. "
     ]
    },
    {
     "cell_type": "code",
     "collapsed": false,
     "input": [
      "print 'Testing card counting function over 52 cards (a deck) from a continuous shuffle'\n",
      "print '--------------------'\n",
      "D = [drawCont() for i in range(52)]\n",
      "A = [cardCount(d, 0) for d in D]\n",
      "B = cumsum(A)\n",
      "print 'The max count :', max(B)\n",
      "print 'The min count :', min(B)\n",
      "print 'The mean count :', mean(B)\n",
      "print 'The median count :', median(B)\n",
      "print 'The count of the final card (expected value is 0):', B[-1]\n",
      "plt.figure(1)\n",
      "plot(range(len(B)), B, 'k-', lw = 1.5)\n",
      "plt.figure(2)\n",
      "hist(B, color = 'red', alpha = .5);"
     ],
     "language": "python",
     "metadata": {},
     "outputs": [
      {
       "output_type": "stream",
       "stream": "stdout",
       "text": [
        "Testing card counting function over 52 cards (a deck) from a continuous shuffle\n",
        "--------------------\n",
        "The max count : 11\n",
        "The min count : -3\n",
        "The mean count : 2.25\n",
        "The median count : 2.0\n",
        "The count of the final card (expected value is 0): 11\n"
       ]
      },
      {
       "metadata": {},
       "output_type": "display_data",
       "png": "[encoded data removed]",
       "text": [
        "<matplotlib.figure.Figure at 0x1072b6ed0>"
       ]
      },
      {
       "metadata": {},
       "output_type": "display_data",
       "png": "[encoded data removed]",
       "text": [
        "<matplotlib.figure.Figure at 0x107208810>"
       ]
      }
     ],
     "prompt_number": 26
    },
    {
     "cell_type": "heading",
     "level": 3,
     "metadata": {},
     "source": [
      "Periodic draw and perdiodic shuffle"
     ]
    },
    {
     "cell_type": "raw",
     "metadata": {},
     "source": [
      "Periodic shuffle ensures that cards are drawn periodically from low and high\n",
      "cards. For instance one can insist that no more than two low and two high cards are drawn in sequence. Periodicity of course drastically reduces the number of possible shuffles thus very likely changing outcomes. Designed right, these periodic shuffles may appear more random. "
     ]
    },
    {
     "cell_type": "raw",
     "metadata": {},
     "source": [
      "We define both functions periodic draw and periodic shuffle. Periodic draw uses card counting and ensures that the count stays within some predefined count limit [-n, n]. countLimit set to 1 ensures that you never see more than two low or two high cards in an unbroken sequence, but it also ensures that there is difference between high and low cards drawn is never higher than 1. As we increase countLimit we get sequences of cards that resemble true randomness. Notice taht the cards with a low limit may appear `more` random to a naked eye. There is no long sequences of 10s or 5s or what have you. "
     ]
    },
    {
     "cell_type": "code",
     "collapsed": false,
     "input": [
      "def drawPeriodic(count, countLimit, Deck=deckShuffle()):\n",
      "    i = random.choice(len(Deck))\n",
      "    if Deck[i] == 'A': \n",
      "        return cardCount(Deck[i], 0) + count, Deck.pop(i)\n",
      "    else:     \n",
      "        while (abs(cardCount(Deck[i], count)) > countLimit) or (Deck[i]=='A'):\n",
      "            i = random.choice(len(Deck))\n",
      "    return cardCount(Deck[i], 0) + count, Deck.pop(i)    "
     ],
     "language": "python",
     "metadata": {},
     "outputs": [],
     "prompt_number": 27
    },
    {
     "cell_type": "raw",
     "metadata": {},
     "source": [
      "Procedure for creating a periodic deck of predetermined number of decks and predetermined count limit. Below, the count limit is 3, the number of decks is 10. The new periodically shuffled deck is stored in "
     ]
    },
    {
     "cell_type": "code",
     "collapsed": false,
     "input": [
      "def periodShuffle(CountLimit, deckSize=6):\n",
      "    deck = deckShuffle(deckSize)\n",
      "    Count = 0\n",
      "    periodDeck = []\n",
      "    countList = []\n",
      "    for j in range(len(deck)):\n",
      "        Count, i = drawPeriodic(Count, countLimit = CountLimit, Deck=deck)\n",
      "        periodDeck.append(i)\n",
      "        countList.append(Count)\n",
      "    return periodDeck "
     ],
     "language": "python",
     "metadata": {},
     "outputs": [],
     "prompt_number": 28
    },
    {
     "cell_type": "raw",
     "metadata": {},
     "source": [
      "Some values from periodDeck"
     ]
    },
    {
     "cell_type": "code",
     "collapsed": false,
     "input": [
      "D = periodShuffle(2, 1)\n",
      "print D[:52]\n",
      "len(D)"
     ],
     "language": "python",
     "metadata": {},
     "outputs": [
      {
       "output_type": "stream",
       "stream": "stdout",
       "text": [
        "[10, 10, 'A', 5, 'A', 4, 3, 10, 'A', 10, 3, 7, 6, 10, 4, 9, 3, 10, 5, 10, 9, 10, 9, 5, 10, 5, 2, 6, 10, 6, 7, 10, 10, 6, 2, 8, 8, 2, 3, 10, 'A', 10, 8, 10, 7, 4, 9, 7, 10, 2, 8, 4]\n"
       ]
      },
      {
       "metadata": {},
       "output_type": "pyout",
       "prompt_number": 29,
       "text": [
        "52"
       ]
      }
     ],
     "prompt_number": 29
    },
    {
     "cell_type": "raw",
     "metadata": {},
     "source": [
      "We look at a deck created by the procedure above:"
     ]
    },
    {
     "cell_type": "code",
     "collapsed": false,
     "input": [
      "print 'Testing periodic draw'\n",
      "print '--------------------'\n",
      "A = [cardCount(d, 0) for d in D]\n",
      "B = cumsum(A)\n",
      "print 'The max count :', max(B)\n",
      "print 'The min count :', min(B)\n",
      "print 'The mean count :', mean(B)\n",
      "print 'The median count :', median(B)\n",
      "print 'The count of the final card ought to be 0 and it is:', B[-1]\n",
      "plt.figure(1)\n",
      "plot(range(len(B)), B, 'k-', lw = .5)\n",
      "plt.figure(2)\n",
      "hist(B, color = 'red', alpha = .5);"
     ],
     "language": "python",
     "metadata": {},
     "outputs": [
      {
       "output_type": "stream",
       "stream": "stdout",
       "text": [
        "Testing periodic draw\n",
        "--------------------\n",
        "The max count : 2\n",
        "The min count : -2\n",
        "The mean count : -0.115384615385\n",
        "The median count : 0.0\n",
        "The count of the final card ought to be 0 and it is: 0\n"
       ]
      },
      {
       "metadata": {},
       "output_type": "display_data",
       "png": "[encoded data removed]",
       "text": [
        "<matplotlib.figure.Figure at 0x1071fa2d0>"
       ]
      },
      {
       "metadata": {},
       "output_type": "display_data",
       "png": "[encoded data removed]",
       "text": [
        "<matplotlib.figure.Figure at 0x1071ea590>"
       ]
      }
     ],
     "prompt_number": 30
    },
    {
     "cell_type": "raw",
     "metadata": {},
     "source": [
      "Another card drawing procedure. This one simply draws the first card in from a list. "
     ]
    },
    {
     "cell_type": "code",
     "collapsed": false,
     "input": [
      "def orderedDraw(deck = deckShuffle()):\n",
      "    return deck.pop(0)"
     ],
     "language": "python",
     "metadata": {},
     "outputs": [],
     "prompt_number": 31
    },
    {
     "cell_type": "code",
     "collapsed": false,
     "input": [
      "Deck = sorted(deckShuffle(1))\n",
      "for j in xrange(6):\n",
      "    print [orderedDraw(Deck) for i in range(8)]\n",
      "Deck    "
     ],
     "language": "python",
     "metadata": {},
     "outputs": [
      {
       "output_type": "stream",
       "stream": "stdout",
       "text": [
        "[2, 2, 2, 2, 3, 3, 3, 3]\n",
        "[4, 4, 4, 4, 5, 5, 5, 5]\n",
        "[6, 6, 6, 6, 7, 7, 7, 7]\n",
        "[8, 8, 8, 8, 9, 9, 9, 9]\n",
        "[10, 10, 10, 10, 10, 10, 10, 10]\n",
        "[10, 10, 10, 10, 10, 10, 10, 10]\n"
       ]
      },
      {
       "metadata": {},
       "output_type": "pyout",
       "prompt_number": 32,
       "text": [
        "['A', 'A', 'A', 'A']"
       ]
      }
     ],
     "prompt_number": 32
    },
    {
     "cell_type": "code",
     "collapsed": false,
     "input": [
      "len(Deck)"
     ],
     "language": "python",
     "metadata": {},
     "outputs": [
      {
       "metadata": {},
       "output_type": "pyout",
       "prompt_number": 33,
       "text": [
        "4"
       ]
      }
     ],
     "prompt_number": 33
    },
    {
     "cell_type": "heading",
     "level": 3,
     "metadata": {},
     "source": [
      "Finding card totals:"
     ]
    },
    {
     "cell_type": "raw",
     "metadata": {},
     "source": [
      "Adding cards in blackjack is complicated by the presece of aces and the fact that all face cards count as 10. The latter difficulty is easily overcome, for the former we introduce the functions below. "
     ]
    },
    {
     "cell_type": "raw",
     "metadata": {},
     "source": [
      "Adding with an Ace: what complicates the simulation of a game of blackjack is\n",
      "the distinction between `soft` and `hard` hands. The aces are responsible.\n",
      "Below we figure out how to add an ace to a card or a total. Say you have a 5 and an ace. Their total value is not a single number but a choice between 6 and 16. We treat this as an numpy array [6, 16]. This introduces a number of necessary complications in the code below. Given the function below, the array is never longer than 2. If its lenght is 1, it is converted back to an inger. If it is empty, the hand has busted. "
     ]
    },
    {
     "cell_type": "code",
     "collapsed": false,
     "input": [
      "def AddAce(card):\n",
      "    if card == 'A': return AddAce(array([1, 11])) # Both cards aces\n",
      "    else: \n",
      "        result = array([card + 1, card + 11]) \n",
      "        result = result.flatten()[result.flatten()<22] # Flatten and keep values < 22 only\n",
      "        if len(unique(result))==1: return int(result) # Array of length 1 to int\n",
      "        else: return unique(result)    # Remove repeting values"
     ],
     "language": "python",
     "metadata": {},
     "outputs": [],
     "prompt_number": 34
    },
    {
     "cell_type": "raw",
     "metadata": {},
     "source": [
      "To figure out the value of a dealt hand, we need to add up the cards. Once again\n",
      "aces complicate the picture, but with the function AddAce() we are set to go:"
     ]
    },
    {
     "cell_type": "code",
     "collapsed": false,
     "input": [
      "# Adding a card to a total:\n",
      "def AddCards(cards, card):\n",
      "    if cards == 'A': return AddAce(card)\n",
      "    elif card == 'A': return AddAce(cards)\n",
      "    elif isinstance(cards + card, int): return cards + card\n",
      "    else: \n",
      "        result = cards + card \n",
      "        result = result.flatten()[result.flatten()<22]\n",
      "        if len(unique(result))==1: return int(result)\n",
      "        else: return unique(result)"
     ],
     "language": "python",
     "metadata": {},
     "outputs": [],
     "prompt_number": 35
    },
    {
     "cell_type": "raw",
     "metadata": {},
     "source": [
      "Defining bust condition: one has busted if one either ends up with an empty\n",
      "numpy array or a card total higher than 21."
     ]
    },
    {
     "cell_type": "code",
     "collapsed": false,
     "input": [
      "def Bust(cards):\n",
      "    if isinstance(cards, int):\n",
      "        if cards > 21: return True\n",
      "    elif not isinstance(cards, int): \n",
      "        if len(cards) == 0: return True\n",
      "    else: return False"
     ],
     "language": "python",
     "metadata": {},
     "outputs": [],
     "prompt_number": 36
    },
    {
     "cell_type": "heading",
     "level": 3,
     "metadata": {},
     "source": [
      "House rules and dealer strategies:"
     ]
    },
    {
     "cell_type": "raw",
     "metadata": {},
     "source": [
      "There are numerous variances of blackjack. We define a basic dealer strategy below where the dealer hits on 16 and below only. One can easily modify this to have the dealer hit on hard or soft 17 or any other combo. "
     ]
    },
    {
     "cell_type": "raw",
     "metadata": {},
     "source": [
      "House strategy: Hit < hard = 17 and < soft = 17 are defaults that can be changed. The function seems more complicated than it is, mostly because of the aces. On default settings, it draws on soft and hard 16 (but this can be easily changed). The process is completely deterministic. One can use it to determine the expected number of outcomes, given dealer's fist card. For instance, \"given an Ace, what is the expected % of a house blackjack?\" or \"Given a deler's 5, what is the chance that the outcome will be 19 or lower. It returns a tripple: the total, the number of cards drawn, the list of cards. For example:\n",
      "    ('BJ', 2, ['A', 10]) represents a house blackjack\n",
      "    (22, 4, ['A','A', 10, 10]), a house bust."
     ]
    },
    {
     "cell_type": "code",
     "collapsed": false,
     "input": [
      "def dealerPlay(dealer, deck, hard = 17, soft = 17):\n",
      "    lst =[dealer]\n",
      "    card = orderedDraw(deck)\n",
      "    lst.append(card) \n",
      "    dealer = AddCards(dealer, card)\n",
      "    count = 2\n",
      "    if (not isinstance(dealer, int) and dealer[1] == 21): return 'BJ', count, lst\n",
      "    else: \n",
      "        while not Bust(dealer) and ((isinstance(dealer, int) and dealer < hard) \n",
      "                                or(not isinstance(dealer, int) and dealer[1] < soft)):\n",
      "            count = count + 1\n",
      "            card = orderedDraw(deck)\n",
      "            lst.append(card) \n",
      "            dealer = AddCards(dealer, card)\n",
      "        if isinstance(dealer, int): \n",
      "            if dealer > 21: return 'Bust', count, lst\n",
      "            else: return dealer, count, lst\n",
      "        else: \n",
      "            if len(dealer) == 2: return int(dealer[1]), count, lst\n",
      "            else: return 'Bust', count, lst"
     ],
     "language": "python",
     "metadata": {},
     "outputs": [],
     "prompt_number": 37
    },
    {
     "cell_type": "heading",
     "level": 3,
     "metadata": {},
     "source": [
      "Player strategies:"
     ]
    },
    {
     "cell_type": "raw",
     "metadata": {},
     "source": [
      "There is virtually infinitely many player strategies. We define some basic ones and some used for testing both against various house rules and biases. The goal is to understand what strategy works best under what shuffling and rule regimes. For instance, we can explore questions like what is the best strategy in hand dealt five decks game and how does the strategy change with five deck continuous shuffle. "
     ]
    },
    {
     "cell_type": "raw",
     "metadata": {},
     "source": [
      "Basic Player Strategy"
     ]
    },
    {
     "cell_type": "code",
     "collapsed": false,
     "input": [
      "def playerStrategy(dealer, card1, card2, deck):\n",
      "    player = [card1, card2]\n",
      "    total = AddCards(card1, card2)\n",
      "    count = 2\n",
      "    if (not isinstance(total, int) and total[1] == 21): return 'BJ', count, player\n",
      "    else:\n",
      "        while not Bust(total) and ((not isinstance(total, int) and ((dealer in [9, 10, 'A'] and total[1] < 19) or (dealer not in [9, 10, 'A'] and total[1] < 18))) or  \n",
      "            (isinstance(total, int) and ((total < 17 and dealer in [7, 8, 9, 10, 'A']) or  (total < 13 and dealer in [2, 3, 4, 5, 6]) and not (total == 12 and dealer in [4, 5, 6])))): \n",
      "                 count = count + 1\n",
      "                 card = orderedDraw(deck)\n",
      "                 player = player + [card]\n",
      "                 total = AddCards(total, card)\n",
      "        if isinstance(total, int): \n",
      "            if total > 21: return 'Bust', count, player\n",
      "            else: return total, count, player\n",
      "        else: \n",
      "            if len(total) == 2: return int(total[1]), count, player\n",
      "            else: return 'Bust', count, player"
     ],
     "language": "python",
     "metadata": {},
     "outputs": [],
     "prompt_number": 57
    },
    {
     "cell_type": "raw",
     "metadata": {},
     "source": [
      "New strategy:"
     ]
    },
    {
     "cell_type": "code",
     "collapsed": false,
     "input": [
      "def playerStrategy(dealer, card1, card2, deck):\n",
      "    player = [card1, card2]\n",
      "    total = AddCards(card1, card2)\n",
      "    count = 2\n",
      "    if (not isinstance(total, int) and total[1] == 21): return 'BJ', count, player\n",
      "    else:\n",
      "        while not Bust(total) and ((not isinstance(total, int) and ((dealer in [9, 10, 'A'] and total[1] < 19) or (dealer not in [9, 10, 'A'] and total[1] < 18))) or  \n",
      "            (isinstance(total, int) and ((total < 18)))):# and dealer in [7, 8, 9, 10, 'A']) or  (total < 15 and dealer in [2, 3]))): #or , 4, 5, 6]) and not (total == 12 and dealer in [4, 5, 6])))): \n",
      "                 count = count + 1\n",
      "                 card = orderedDraw(deck)\n",
      "                 player = player + [card]\n",
      "                 total = AddCards(total, card)\n",
      "        if isinstance(total, int): \n",
      "            if total > 21: return 'Bust', count, player\n",
      "            else: return total, count, player\n",
      "        else: \n",
      "            if len(total) == 2: return int(total[1]), count, player\n",
      "            else: return 'Bust', count, player"
     ],
     "language": "python",
     "metadata": {},
     "outputs": [],
     "prompt_number": 86
    },
    {
     "cell_type": "heading",
     "level": 3,
     "metadata": {},
     "source": [
      "Determining the winner:"
     ]
    },
    {
     "cell_type": "raw",
     "metadata": {},
     "source": [
      "The function to determine if the player won/lost/pushed"
     ]
    },
    {
     "cell_type": "code",
     "collapsed": false,
     "input": [
      "def playerWin(dealer, player, blackjack = 1.5):\n",
      "    if dealer == 'BJ':\n",
      "        if player == 'BJ': return 0, 'Push'\n",
      "        else: return -1, 'Loss'\n",
      "    if player == 'BJ':\n",
      "        if dealer == 'BJ': return 0, 'Push'\n",
      "        else: return blackjack, 'Win'\n",
      "    elif dealer == 'Bust'and player != 'Bust': return 1, 'Win'\n",
      "    elif player == 'Bust': return -1, 'Loss'\n",
      "    elif player > dealer: return 1, 'Win' \n",
      "    elif player < dealer: return -1, 'Loss'\n",
      "    else: return 0, 'Push'\n",
      "        "
     ],
     "language": "python",
     "metadata": {},
     "outputs": [],
     "prompt_number": 39
    },
    {
     "cell_type": "heading",
     "level": 3,
     "metadata": {},
     "source": [
      "Counting cards and player strategies"
     ]
    },
    {
     "cell_type": "code",
     "collapsed": false,
     "input": [
      "playerStrategy(4, 2, 10, ['A', 3, 'A', 4])"
     ],
     "language": "python",
     "metadata": {},
     "outputs": [
      {
       "metadata": {},
       "output_type": "pyout",
       "prompt_number": 88,
       "text": [
        "(21, 6, [2, 10, 'A', 3, 'A', 4])"
       ]
      }
     ],
     "prompt_number": 88
    },
    {
     "cell_type": "code",
     "collapsed": false,
     "input": [
      "fixedDeck =  periodShuffle(2, 1)\n",
      "fixedCount = [cardCount(d, 0) for d in fixedDeck]\n",
      "fixedDeck = array(fixedDeck)\n",
      "fixedCount = array(fixedCount)\n",
      "dict1 = {'fixedDeck':fixedDeck, 'fixedCount' : fixedCount}\n",
      "dataFixed = DataFrame(dict1)\n",
      "dataFixed['Current Count'] = cumsum(dataFixed['fixedCount'])\n",
      "dataFixed['True Count'] = last 10 "
     ],
     "language": "python",
     "metadata": {},
     "outputs": [],
     "prompt_number": 43
    },
    {
     "cell_type": "code",
     "collapsed": false,
     "input": [
      "dataFixed.head(10) \n",
      "dataFixed.tail(20)"
     ],
     "language": "python",
     "metadata": {},
     "outputs": [
      {
       "html": [
        "<div style=\"max-height:1000px;max-width:1500px;overflow:auto;\">\n",
        "<table border=\"1\" class=\"dataframe\">\n",
        "  <thead>\n",
        "    <tr style=\"text-align: right;\">\n",
        "      <th></th>\n",
        "      <th>fixedCount</th>\n",
        "      <th>fixedDeck</th>\n",
        "      <th>Current Count</th>\n",
        "    </tr>\n",
        "  </thead>\n",
        "  <tbody>\n",
        "    <tr>\n",
        "      <th>32</th>\n",
        "      <td>-1</td>\n",
        "      <td>  6</td>\n",
        "      <td>-1</td>\n",
        "    </tr>\n",
        "    <tr>\n",
        "      <th>33</th>\n",
        "      <td> 1</td>\n",
        "      <td>  9</td>\n",
        "      <td> 0</td>\n",
        "    </tr>\n",
        "    <tr>\n",
        "      <th>34</th>\n",
        "      <td> 1</td>\n",
        "      <td>  9</td>\n",
        "      <td> 1</td>\n",
        "    </tr>\n",
        "    <tr>\n",
        "      <th>35</th>\n",
        "      <td> 1</td>\n",
        "      <td> 10</td>\n",
        "      <td> 2</td>\n",
        "    </tr>\n",
        "    <tr>\n",
        "      <th>36</th>\n",
        "      <td>-1</td>\n",
        "      <td>  2</td>\n",
        "      <td> 1</td>\n",
        "    </tr>\n",
        "    <tr>\n",
        "      <th>37</th>\n",
        "      <td> 1</td>\n",
        "      <td>  9</td>\n",
        "      <td> 2</td>\n",
        "    </tr>\n",
        "    <tr>\n",
        "      <th>38</th>\n",
        "      <td>-1</td>\n",
        "      <td>  3</td>\n",
        "      <td> 1</td>\n",
        "    </tr>\n",
        "    <tr>\n",
        "      <th>39</th>\n",
        "      <td> 1</td>\n",
        "      <td>  8</td>\n",
        "      <td> 2</td>\n",
        "    </tr>\n",
        "    <tr>\n",
        "      <th>40</th>\n",
        "      <td>-1</td>\n",
        "      <td>  4</td>\n",
        "      <td> 1</td>\n",
        "    </tr>\n",
        "    <tr>\n",
        "      <th>41</th>\n",
        "      <td>-1</td>\n",
        "      <td>  6</td>\n",
        "      <td> 0</td>\n",
        "    </tr>\n",
        "    <tr>\n",
        "      <th>42</th>\n",
        "      <td>-1</td>\n",
        "      <td>  2</td>\n",
        "      <td>-1</td>\n",
        "    </tr>\n",
        "    <tr>\n",
        "      <th>43</th>\n",
        "      <td> 1</td>\n",
        "      <td> 10</td>\n",
        "      <td> 0</td>\n",
        "    </tr>\n",
        "    <tr>\n",
        "      <th>44</th>\n",
        "      <td> 1</td>\n",
        "      <td> 10</td>\n",
        "      <td> 1</td>\n",
        "    </tr>\n",
        "    <tr>\n",
        "      <th>45</th>\n",
        "      <td>-1</td>\n",
        "      <td>  2</td>\n",
        "      <td> 0</td>\n",
        "    </tr>\n",
        "    <tr>\n",
        "      <th>46</th>\n",
        "      <td>-1</td>\n",
        "      <td>  3</td>\n",
        "      <td>-1</td>\n",
        "    </tr>\n",
        "    <tr>\n",
        "      <th>47</th>\n",
        "      <td> 1</td>\n",
        "      <td> 10</td>\n",
        "      <td> 0</td>\n",
        "    </tr>\n",
        "    <tr>\n",
        "      <th>48</th>\n",
        "      <td> 1</td>\n",
        "      <td> 10</td>\n",
        "      <td> 1</td>\n",
        "    </tr>\n",
        "    <tr>\n",
        "      <th>49</th>\n",
        "      <td>-1</td>\n",
        "      <td>  7</td>\n",
        "      <td> 0</td>\n",
        "    </tr>\n",
        "    <tr>\n",
        "      <th>50</th>\n",
        "      <td>-1</td>\n",
        "      <td>  2</td>\n",
        "      <td>-1</td>\n",
        "    </tr>\n",
        "    <tr>\n",
        "      <th>51</th>\n",
        "      <td> 1</td>\n",
        "      <td> 10</td>\n",
        "      <td> 0</td>\n",
        "    </tr>\n",
        "  </tbody>\n",
        "</table>\n",
        "</div>"
       ],
       "metadata": {},
       "output_type": "pyout",
       "prompt_number": 46,
       "text": [
        "    fixedCount fixedDeck  Current Count\n",
        "32          -1         6             -1\n",
        "33           1         9              0\n",
        "34           1         9              1\n",
        "35           1        10              2\n",
        "36          -1         2              1\n",
        "37           1         9              2\n",
        "38          -1         3              1\n",
        "39           1         8              2\n",
        "40          -1         4              1\n",
        "41          -1         6              0\n",
        "42          -1         2             -1\n",
        "43           1        10              0\n",
        "44           1        10              1\n",
        "45          -1         2              0\n",
        "46          -1         3             -1\n",
        "47           1        10              0\n",
        "48           1        10              1\n",
        "49          -1         7              0\n",
        "50          -1         2             -1\n",
        "51           1        10              0"
       ]
      }
     ],
     "prompt_number": 46
    },
    {
     "cell_type": "raw",
     "metadata": {},
     "source": [
      "#dataFixed['Dealer'] = [[]]*624 \n",
      "#dataFixed['Player'] = [[]]*624\n",
      "#dataFixed['Wins'] = [[]]*624"
     ]
    },
    {
     "cell_type": "raw",
     "metadata": {},
     "source": [
      "#dataFixed['Player'][0]=[dataFixed['fixedDeck'][0]]\n",
      "dataFixed['Dealer'][1]=[dataFixed['fixedDeck'][1]]\n",
      "dataFixed['Player'][1]=dataFixed['Player'][0]\n",
      "\n",
      "dataFixed['Player'][2]= dataFixed['Player'][1] +  [dataFixed['fixedDeck'][2]]\n",
      "dataFixed['Dealer'][2]=dataFixed['Dealer'][1]"
     ]
    },
    {
     "cell_type": "raw",
     "metadata": {},
     "source": [
      "print dataFixed.ix[[0, 1, 2]][[3,4]]\n",
      "dataFixed['Player'][0:3]"
     ]
    },
    {
     "cell_type": "heading",
     "level": 3,
     "metadata": {},
     "source": [
      "Testing"
     ]
    },
    {
     "cell_type": "code",
     "collapsed": false,
     "input": [
      "# Initiate shuffle\n",
      "ShDck = periodShuffle(2, 6) # Shuffle 6 decks with period 2"
     ],
     "language": "python",
     "metadata": {},
     "outputs": [],
     "prompt_number": 27
    },
    {
     "cell_type": "raw",
     "metadata": {},
     "source": [
      "A single hand played with all 7 players on the table. It can be played repeatedly and reshuffles automatically when deck size falls below 30. "
     ]
    },
    {
     "cell_type": "code",
     "collapsed": false,
     "input": [
      "card1 = [orderedDraw(ShDck) for i in range(7)]\n",
      "dealer = orderedDraw(ShDck)\n",
      "card2 = [orderedDraw(ShDck) for i in range(7)]\n",
      "Player1 = playerStrategy(dealer, card1[0], card2[0], ShDck)\n",
      "Player2 = playerStrategy(dealer, card1[1], card2[1], ShDck)\n",
      "Player3 = playerStrategy(dealer, card1[2], card2[2], ShDck)\n",
      "Player4 = playerStrategy(dealer, card1[3], card2[3], ShDck)\n",
      "Player5 = playerStrategy(dealer, card1[4], card2[4], ShDck)\n",
      "Player6 = playerStrategy(dealer, card1[5], card2[5], ShDck)\n",
      "Player7 = playerStrategy(dealer, card1[6], card2[6], ShDck)\n",
      "Dealer = dealerPlay(dealer, ShDck)\n",
      "print 'Cards remaining: ', len(ShDck)\n",
      "print '-------------------'\n",
      "print 'Dealer: ', Dealer\n",
      "print '-------------------'\n",
      "print 'Player 1: ', Player1\n",
      "print 'Player 2: ', Player2\n",
      "print 'Player 3: ', Player3\n",
      "print 'Player 4: ', Player4\n",
      "print 'Player 5: ', Player5\n",
      "print 'Player 6: ', Player6\n",
      "print 'Player 7: ', Player7\n",
      "if len(ShDck) < 30: ShDck = periodShuffle(2, 6) # Shuffle"
     ],
     "language": "python",
     "metadata": {},
     "outputs": [
      {
       "output_type": "stream",
       "stream": "stdout",
       "text": [
        "Cards remaining:  119\n",
        "-------------------\n",
        "Dealer:  (17, 2, [10, 7])\n",
        "-------------------\n",
        "Player 1:  (21, 6, [3, 9, 'A', 'A', 3, 4])\n",
        "Player 2:  (20, 2, [10, 10])\n",
        "Player 3:  (21, 3, [10, 3, 8])\n",
        "Player 4:  ('Bust', 3, [6, 8, 9])\n",
        "Player 5:  ('Bust', 3, [2, 10, 10])\n",
        "Player 6:  ('BJ', 2, ['A', 10])\n",
        "Player 7:  ('Bust', 3, [10, 5, 10])\n"
       ]
      }
     ],
     "prompt_number": 92
    },
    {
     "cell_type": "raw",
     "metadata": {},
     "source": [
      "Playing 1000 (or any number) of consecutive games with 5 decks, counting \n",
      "dealer's BJs, players' joint total BJs and dealer's busts. Thre is inded a player\n",
      "BJ every 21 hands or so, but that is for `some` player. A run of 1,000,000 hands yielded a BJ for the dealer  47,290 times or one about 4.73% of the time\n",
      "Dealer Busted  281,920 or 28.2% of the time, a single player had a BJ 332,847, 33.3% of the hands so each player got BJ 4.757% of the time. All these numbers are roughly as expected from the probability tables. "
     ]
    },
    {
     "cell_type": "code",
     "collapsed": false,
     "input": [
      "DealBJ = 0\n",
      "DealBust = 0\n",
      "PlayBJ = 0\n",
      "for k in range(1000):\n",
      "   card1 = [orderedDraw(ShDck) for i in range(7)]\n",
      "   dealer = orderedDraw(ShDck)\n",
      "   card2 = [orderedDraw(ShDck) for i in range(7)]     \n",
      "   Player1 = playerStrategy(dealer, card1[0], card2[0], ShDck)\n",
      "   if Player1[0] == 'BJ': PlayBJ = PlayBJ +1         \n",
      "   Player2 = playerStrategy(dealer, card1[1], card2[1], ShDck)\n",
      "   if Player2[0] == 'BJ': PlayBJ = PlayBJ +1             \n",
      "   Player3 = playerStrategy(dealer, card1[2], card2[2], ShDck)\n",
      "   if Player3[0] == 'BJ': PlayBJ = PlayBJ +1                 \n",
      "   Player4 = playerStrategy(dealer, card1[3], card2[3], ShDck)\n",
      "   if Player4[0] == 'BJ': PlayBJ = PlayBJ +1                     \n",
      "   Player5 = playerStrategy(dealer, card1[4], card2[4], ShDck)\n",
      "   if Player5[0] == 'BJ': PlayBJ = PlayBJ +1                         \n",
      "   Player6 = playerStrategy(dealer, card1[5], card2[5], ShDck)\n",
      "   if Player6[0] == 'BJ': PlayBJ = PlayBJ +1                             \n",
      "   Player7 = playerStrategy(dealer, card1[6], card2[6], ShDck)\n",
      "   if Player7[0] == 'BJ': PlayBJ = PlayBJ +1  \n",
      "   Dealer = dealerPlay(dealer, ShDck)\n",
      "   if Dealer[0] == 'BJ': DealBJ = DealBJ +1 \n",
      "   if Dealer[0] == 'Bust': DealBust = DealBust +1                             \n",
      "   #print 'Cards remaining: ', len(ShDck)\n",
      "   #print '-------------------'\n",
      "   #print 'Dealer: ', Dealer\n",
      "   #print '-------------------'\n",
      "   #print 'Player 1: ', Player1\n",
      "   #print 'Player 2: ', Player2\n",
      "   #print 'Player 3: ', Player3\n",
      "   #print 'Player 4: ', Player4\n",
      "   #print 'Player 5: ', Player5\n",
      "   #print 'Player 6: ', Player6\n",
      "   #print 'Player 7: ', Player7\n",
      "   if len(ShDck) < 30: ShDck = periodShuffle(1, 6) # Shuffle\n",
      "print 'Dealer BJ: ',  DealBJ\n",
      "print 'Dealer Busts: ', DealBust\n",
      "print 'Player BJ: ', PlayBJ"
     ],
     "language": "python",
     "metadata": {},
     "outputs": [
      {
       "output_type": "stream",
       "stream": "stdout",
       "text": [
        "Dealer BJ:  41\n",
        "Dealer Busts:  318\n",
        "Player BJ:  318\n"
       ]
      }
     ],
     "prompt_number": 93
    },
    {
     "cell_type": "raw",
     "metadata": {},
     "source": [
      "Individual players busts and BJs:"
     ]
    },
    {
     "cell_type": "code",
     "collapsed": false,
     "input": [
      "ShDck = periodShuffle(5, 6)\n",
      "DealBJ = 0; DealBust = 0; Play1BJ = 0; P1Bust = 0\n",
      "Play2BJ = 0; P2Bust = 0; Play3BJ = 0; P3Bust = 0\n",
      "Play4BJ = 0; P4Bust = 0; Play5BJ = 0; P5Bust = 0\n",
      "Play6BJ = 0; P6Bust = 0; Play7BJ = 0; P7Bust = 0\n",
      "p1=0; p2=0; p3=0; p4=0; p5=0; p6=0; p7=0\n",
      "\n",
      "for k in range(100000):\n",
      "   card1 = [orderedDraw(ShDck) for i in range(7)]\n",
      "   dealer = orderedDraw(ShDck)\n",
      "   card2 = [orderedDraw(ShDck) for i in range(7)]\n",
      "   Player1 = playerStrategy(dealer, card1[0], card2[0], ShDck)\n",
      "   if Player1[0] == 'BJ': Play1BJ = Play1BJ +1\n",
      "   if Player1[0] == 'Bust': P1Bust = P1Bust +1\n",
      "                 \n",
      "   Player2 = playerStrategy(dealer, card1[1], card2[1], ShDck)\n",
      "   if Player2[0] == 'BJ': Play2BJ = Play2BJ +1\n",
      "   if Player2[0] == 'Bust': P2Bust = P2Bust +1\n",
      "                            \n",
      "   Player3 = playerStrategy(dealer, card1[2], card2[2], ShDck)\n",
      "   if Player3[0] == 'BJ': Play3BJ = Play3BJ +1\n",
      "   if Player3[0] == 'Bust': P3Bust = P3Bust +1\n",
      "                                    \n",
      "   Player4 = playerStrategy(dealer, card1[3], card2[3], ShDck)\n",
      "   if Player4[0] == 'BJ': Play4BJ = Play4BJ +1\n",
      "   if Player4[0] == 'Bust': P4Bust = P4Bust +1\n",
      "                                            \n",
      "   Player5 = playerStrategy(dealer, card1[4], card2[4], ShDck)\n",
      "   if Player5[0] == 'BJ': Play5BJ = Play5BJ +1\n",
      "   if Player5[0] == 'Bust': P5Bust = P5Bust +1\n",
      "   \n",
      "                                            \n",
      "   Player6 = playerStrategy(dealer, card1[5], card2[5], ShDck)\n",
      "   if Player6[0] == 'BJ': Play6BJ = Play6BJ +1\n",
      "   if Player6[0] == 'Bust': P6Bust = P6Bust +1\n",
      "                                                            \n",
      "   Player7 = playerStrategy(dealer, card1[6], card2[6], ShDck)\n",
      "   if Player7[0] == 'BJ': Play7BJ = Play7BJ +1\n",
      "   if Player7[0] == 'Bust': P7Bust = P7Bust +1\n",
      "   \n",
      "   Dealer = dealerPlay(dealer, ShDck)   \n",
      "   if Dealer[0] == 'BJ': DealBJ = DealBJ +1 \n",
      "   if Dealer[0] == 'Bust': DealBust = DealBust +1 \n",
      "                                                                        \n",
      "                                                                        \n",
      "   p7 = p7 + playerWin(Dealer[0], Player7[0])[0]\n",
      "   p1 = p1 + playerWin(Dealer[0], Player1[0])[0]                                                                     \n",
      "   p2 = p2 + playerWin(Dealer[0], Player2[0])[0]\n",
      "   p3 = p3 + playerWin(Dealer[0], Player3[0])[0]\n",
      "   p4 = p4 + playerWin(Dealer[0], Player4[0])[0]\n",
      "   p5 = p5 + playerWin(Dealer[0], Player5[0])[0]                                                                     \n",
      "   p6 = p6 + playerWin(Dealer[0], Player6[0])[0]                                                                     \n",
      "   if len(ShDck) < 40: ShDck = periodShuffle(5, 6) # Shuffle\n",
      "print 'Dealer BJ: ',  DealBJ\n",
      "print 'Dealer Busts: ', DealBust\n",
      "print '--------------------'\n",
      "print 'Player BJs in order: ', Play1BJ, Play2BJ, Play3BJ, Play4BJ, Play5BJ, Play6BJ, Play7BJ \n",
      "print 'Player Busts in order: ',P1Bust, P2Bust, P3Bust, P4Bust, P5Bust, P6Bust, P7Bust\n",
      "print 'Total loss by player: ', p1, p2, p3, p4, p5, p6, p7"
     ],
     "language": "python",
     "metadata": {},
     "outputs": [
      {
       "output_type": "stream",
       "stream": "stdout",
       "text": [
        "Dealer BJ:  4616\n",
        "Dealer Busts:  28793\n",
        "--------------------\n",
        "Player BJs in order:  4712 4766 4699 4692 4739 4879 4762\n",
        "Player Busts in order:  38611 38553 38328 38588 38636 38272 38463\n",
        "Total loss by player:  -9165.0 -9167.0 -8880.5 -9201.0 -9246.5 -8540.5 -8665.5\n"
       ]
      }
     ],
     "prompt_number": 94
    },
    {
     "cell_type": "code",
     "collapsed": false,
     "input": [
      "(-2541.5 -2674.5 -2099.5 -2108.5 -2331.5 -2273.0 -1975.0)/7000 # limit 200, 6 decks"
     ],
     "language": "python",
     "metadata": {},
     "outputs": [
      {
       "metadata": {},
       "output_type": "pyout",
       "prompt_number": 119,
       "text": [
        "-2.2862142857142858"
       ]
      }
     ],
     "prompt_number": 119
    },
    {
     "cell_type": "code",
     "collapsed": false,
     "input": [
      "(-2030.5 -1941.0 -2518.5 -2634.0 -2651.5 -2373.5 -2509.5)/7000 # limit 20, 6 decks"
     ],
     "language": "python",
     "metadata": {},
     "outputs": [
      {
       "metadata": {},
       "output_type": "pyout",
       "prompt_number": 111,
       "text": [
        "-2.379785714285714"
       ]
      }
     ],
     "prompt_number": 111
    },
    {
     "cell_type": "code",
     "collapsed": false,
     "input": [
      "(-2367.0 -2226.0 -2686.5 -2116.0 -1825.5 -2108.5 -2502.0)/7000 # limit 20, 6 decks"
     ],
     "language": "python",
     "metadata": {},
     "outputs": [
      {
       "metadata": {},
       "output_type": "pyout",
       "prompt_number": 113,
       "text": [
        "-2.2616428571428573"
       ]
      }
     ],
     "prompt_number": 113
    },
    {
     "cell_type": "code",
     "collapsed": false,
     "input": [
      "(-3145.0 -2908.5 -3041.5 -2780.0 -2619.0 -2236.0 -2766.0)/7000 # limit 3, 6 decks"
     ],
     "language": "python",
     "metadata": {},
     "outputs": [
      {
       "metadata": {},
       "output_type": "pyout",
       "prompt_number": 103,
       "text": [
        "-2.785142857142857"
       ]
      }
     ],
     "prompt_number": 103
    },
    {
     "cell_type": "code",
     "collapsed": false,
     "input": [
      "(-3286.5 -2714.0 -2720.5 -2382.5 -2456.5 -2656.5 -2776.0)/7000 # limit 3, 6 decks"
     ],
     "language": "python",
     "metadata": {},
     "outputs": [
      {
       "metadata": {},
       "output_type": "pyout",
       "prompt_number": 105,
       "text": [
        "-2.713214285714286"
       ]
      }
     ],
     "prompt_number": 105
    },
    {
     "cell_type": "code",
     "collapsed": false,
     "input": [
      "(-4854.5 -3844.0 -3732.5 -3699.0 -3653.5 -3777.5 -3760.0)/7000 # limit 2, 6 decks"
     ],
     "language": "python",
     "metadata": {},
     "outputs": [
      {
       "metadata": {},
       "output_type": "pyout",
       "prompt_number": 115,
       "text": [
        "-3.903"
       ]
      }
     ],
     "prompt_number": 115
    },
    {
     "cell_type": "code",
     "collapsed": false,
     "input": [
      "(-4587.5 -3053.5 -3513.0 -3504.5 -3175.5 -3339.0 -3867.0)/7000 # limit 2, 6 decks"
     ],
     "language": "python",
     "metadata": {},
     "outputs": [
      {
       "metadata": {},
       "output_type": "pyout",
       "prompt_number": 117,
       "text": [
        "-3.577142857142857"
       ]
      }
     ],
     "prompt_number": 117
    },
    {
     "cell_type": "code",
     "collapsed": false,
     "input": [
      "(-6462.0 -4303.0 -3796.5 -3639.0 -3441.0 -3832.5 -5167.5)/7000 # limit 1, 6 decks"
     ],
     "language": "python",
     "metadata": {},
     "outputs": [
      {
       "metadata": {},
       "output_type": "pyout",
       "prompt_number": 107,
       "text": [
        "-4.377357142857143"
       ]
      }
     ],
     "prompt_number": 107
    },
    {
     "cell_type": "code",
     "collapsed": false,
     "input": [
      "(-6271.5 -4329.0 -4415.5 -3678.0 -4113.0 -3967.0 -4788.5)/7000  # limit 1, 6 decks"
     ],
     "language": "python",
     "metadata": {},
     "outputs": [
      {
       "metadata": {},
       "output_type": "pyout",
       "prompt_number": 109,
       "text": [
        "-4.508928571428571"
       ]
      }
     ],
     "prompt_number": 109
    },
    {
     "cell_type": "heading",
     "level": 3,
     "metadata": {},
     "source": [
      "Overal bad news for too few highs and too many lows:"
     ]
    },
    {
     "cell_type": "raw",
     "metadata": {},
     "source": [
      "Over 100,000 hands, with 5 decks [deckShuffle(5,5,5,5)], players lost\n",
      "(-2751.5 -3281.0 -2539.0 -2235.5 -2803.5 -2638.5 -2569.0)/7. = -2688.29\n",
      "on average [this number is likely to be around 2000-2300 and 2700 seems like an anomaly. The latter just makes the case worse.]. That is a little more than $2,500 in losses when playing $1 bets 100,000 times.\n",
      "If the decks are changed to reduce the number of 10s by 16 [deckShuffle(5,5,4,5)]\n",
      "the players now lose (-3648.0 -3634.0 -3166.0 -4111.5 -3493.5 -3858.0 -3693.5)/7 or\n",
      "around 3658, almost an extra 1000 hands over 100,000. \n",
      "Finally, if the number of small cards is increased by 20 [deckShuffle(6,5,5,5)], we obtain (-3914.0 -3523.0 -4004.0 -4059.0 -4407.5 -4179.5 -3782.5)/7 or 3981 on average in losses. That is nearly 1200 extra lost hands. If we combine the two, \n",
      "[deckShuffle(6,5,4,5)], the losses are now (-5316.0 -4937.0 -5217.0 -5182.0 -4946.5 -5250.0 -5077.0)/7 = 5132, almost twice the original ones. Suffices to say with [deckShuffle(7,5,3,5)] things get worse: (-9057.0 -9332.0 -9443.5 -9121.5 -9399.5 -9286.0 -9058.5)/7 = -9243 or 343% higher than in the original case. That is, removing 32 10s and replacing them with 40 2-6 cards increases the \n",
      "advantage of the house by 343%. "
     ]
    },
    {
     "cell_type": "raw",
     "metadata": {},
     "source": [
      "A million hand run yields -2.22% loss over that many games for the even [deckShuffle(5,5,5,5)]\n",
      "(-22379.0 -23244.0 -22135.0 -19938.5 -22193.5 -22376.5 -23323.0)/7\n",
      "In detail:\n",
      "Dealer BJ:  47331\n",
      "Dealer Busts:  282351\n",
      "--------------------\n",
      "Player BJs in order:  47592 47240 48001 47914 47673 47622 47519\n",
      "Player Busts in order:  183141 183695 182399 182897 182667 182869 183702\n",
      "Total loss by player:  -22379.0 -23244.0 -22135.0 -19938.5 -22193.5 -22376.5 -23323.0"
     ]
    },
    {
     "cell_type": "raw",
     "metadata": {},
     "source": [
      "A million runs for [deckShuffle(6,6,5,5)] yields:\n",
      "Dealer BJ:  37710 /lower\n",
      "Dealer Busts:  280263 /same\n",
      "--------------------\n",
      "Player BJs in order:  37810 37846 37969 37553 37500 37695 37587 / lower\n",
      "Player Busts in order:  174940 174814 174496 174912 175022 174631 173925 /1% lower\n",
      "Total loss by player:  -38937.5 -39921.5 -38660.5 -40492.5 -39488.5 -39416.5 -38244.0 \n",
      "    /close to 2 x higher"
     ]
    },
    {
     "cell_type": "raw",
     "metadata": {},
     "source": [
      "A million hand run yields 4.3% loss over that many games for    \n",
      "[deckShuffle(5,5,4,4)]\n",
      "(-42976.5 -42732.0 -42911.0 -43799.0 -42922.5 -43417.5 -42547.5)/7. = -43044\n",
      "Removing 4 aces and 16 tens from 5 decks, almost doubles house's advantage from 2.22% to 4.3%.\n",
      "Fuller picture for a million hands at [deckShuffle(5,5,4,4)]:\n",
      "Dealer BJ:  35408\n",
      "Dealer Busts:  281052\n",
      "--------------------\n",
      "Player BJs in order:  35437 35754 35688 35773 35774 35663 35519\n",
      "Player Busts in order:  172913 173001 173085 172667 173620 173274 173543\n",
      "Total loss by player:  -42976.5 -42732.0 -42911.0 -43799.0 -42922.5 -43417.5 -42547.5\n",
      "Fewer BJs but not a high difference in Busts. BJs go from 4.75 to 3.57%, and that somehow influences the outcome."
     ]
    },
    {
     "cell_type": "raw",
     "metadata": {},
     "source": [
      "[DeckShuffle(5, 5, 5, 5)]\n",
      "# Dealer BJ:  4671\n",
      "# Dealer Busts:  28135\n",
      "# --------------------\n",
      "# Player BJs in order:  4727 4669 4818 4820 4614 4805 4801\n",
      "# Player Busts in order:  18315 18439 18387 18489 18214 18253 18394\n",
      "# The average player + dealer BJ percentage for one 100,000 run of hands\n",
      "print (4727 + 4669 + 4818 + 4820 + 4614 + 4805 + 4801 + 4671)/8000.\n",
      "# Average player percentage of busts for the same 100,000 run\n",
      "print (18315 + 18439 + 18387 + 18489 + 18214 + 18253 + 18394)/7000."
     ]
    },
    {
     "cell_type": "raw",
     "metadata": {},
     "source": [
      "The number of neutral cards, however, seems to have little influence on the \n",
      "final outcomes, although it affacts both the number of BJs (upwards) and the \n",
      "number of Busts (downwards). \n",
      "for DeckShuffle(5, 0, 5, 5)\n",
      "Dealer BJ:  7974 \\ more dealer BJs\n",
      "Dealer Busts:  30009 \\ More dealer busts\n",
      "--------------------\n",
      "Player BJs in order:  7967 8165 7976 8013 8017 8021 8053 \\More player BJs\n",
      "Player Busts in order:  16275 16149 16339 16213 16102 16301 16037 \\ Fewer busts\n",
      "Total loss by player:  -2722.5 -2279.0 -2728.0 -2503.0 -2122.0 -3126.0 -2482.0                                               \\ little higher house advantage\n",
      "\n",
      "(-2722.5 -2279.0 -2728.0 -2503.0 -2122.0 -3126.0 -2482.0)/7. \n",
      "is on the order of 2500"
     ]
    },
    {
     "cell_type": "heading",
     "level": 4,
     "metadata": {},
     "source": [
      "Testing fixed initial hands using continuous shuffle"
     ]
    },
    {
     "cell_type": "raw",
     "metadata": {},
     "source": [
      "Next test fixes the initial draw for all players and dealer's first card, and \n",
      "plays n hands under that setting. "
     ]
    },
    {
     "cell_type": "raw",
     "metadata": {},
     "source": [
      "We can draw the initial deal from the deck, or more informatively, we can\n",
      "fix the initial 15 cards by hand, and run n hands to gauge what happens. Here\n",
      "we fix dealer's card to 10, and players totals to hard 12 to 18. (We could also\n",
      "do Ace and soft 12 to 18 or whatever we fancy.)"
     ]
    },
    {
     "cell_type": "raw",
     "metadata": {},
     "source": [
      "We crucially use the following construction for drawing from a continuously shuffled deck. Each hand, for each player a mini list `[drawCont() for i in range(6)]`  is drawn which is then used to draw additional cards if they are needed. This is justified by the fact that in a continuous shuffle, each card has the unchanging probability of being drawn and thus _when_ we draw a card makes no statistical difference. "
     ]
    },
    {
     "cell_type": "code",
     "collapsed": false,
     "input": [
      "# Example of using the list [drawCont() for i in range(6)]\n",
      "# Here, player's 12 draws against 2 and 3 but stays against 4 and 5 \n",
      "print playerStrategy(9, 'A', 7, [drawCont() for i in range(6)])\n",
      "print playerStrategy(3, 'A', 4, [drawCont() for i in range(6)])  \n",
      "print playerStrategy(4, 'A', 5, [drawCont() for i in range(6)]) \n",
      "print playerStrategy(5, 'A', 6, [drawCont() for i in range(6)])"
     ],
     "language": "python",
     "metadata": {},
     "outputs": [
      {
       "output_type": "stream",
       "stream": "stdout",
       "text": [
        "(20, 4, ['A', 7, 7, 5])\n",
        "(18, 3, ['A', 4, 3])\n",
        "(21, 4, ['A', 5, 10, 5])\n",
        "(19, 3, ['A', 6, 2])\n"
       ]
      }
     ],
     "prompt_number": 78
    },
    {
     "cell_type": "code",
     "collapsed": false,
     "input": [
      "# We start by fixing the initial hand. Two cards are drawn for the players\n",
      "# and one for the dealer. All the following moves are made against this set-up. \n",
      "# ShDck = deckShuffle()\n",
      "# card1 = [drawACard(ShDck) for i in range(7)] # Fix by hand if necessary\n",
      "# dealer = drawACard(ShDck)                    # Fix by hand if necessary\n",
      "# card2 = [drawACard(ShDck) for i in range(7)] # Fix by hand if necessary\n",
      "card1 = [10]*7 # Each player gets a 10\n",
      "dealer = 10 # Dealer get a 10\n",
      "card2 = range(2, 9) # Player1 gets a two, ..., Player7 gets an eight\n",
      "\n",
      "# Display the initial hand\n",
      "play = ['Player1', 'Player2', 'Player3', 'Player4', 'Player5', 'Player6', 'Player7']\n",
      "hand = zip(play, card1, card2)\n",
      "print 'Dealer: ', dealer \n",
      "print '----------'\n",
      "for i, j, k in hand: print i, [j, k]"
     ],
     "language": "python",
     "metadata": {},
     "outputs": [
      {
       "output_type": "stream",
       "stream": "stdout",
       "text": [
        "Dealer:  10\n",
        "----------\n",
        "Player1 [10, 2]\n",
        "Player2 [10, 3]\n",
        "Player3 [10, 4]\n",
        "Player4 [10, 5]\n",
        "Player5 [10, 6]\n",
        "Player6 [10, 7]\n",
        "Player7 [10, 8]\n"
       ]
      }
     ],
     "prompt_number": 58
    },
    {
     "cell_type": "raw",
     "metadata": {},
     "source": [
      "Next, 10000 hands are completed as a dictionary and converted into a Pandas DataFrame. "
     ]
    },
    {
     "cell_type": "code",
     "collapsed": false,
     "input": [
      "n = 10000 # Determine the number of hands to play\n",
      "dic1={} # Create and fill the dictionary with lists of n plays for each player, given the intial hand\n",
      "dic1['Player1'] = [playerStrategy(dealer, card1[0], card2[0], [drawCont() for i in range(6)])[0] for i in range(n)]\n",
      "dic1['Player2'] = [playerStrategy(dealer, card1[1], card2[1], [drawCont() for i in range(6)])[0] for i in range(n)]\n",
      "dic1['Player3'] = [playerStrategy(dealer, card1[2], card2[2], [drawCont() for i in range(6)])[0] for i in range(n)]\n",
      "dic1['Player4'] = [playerStrategy(dealer, card1[3], card2[3], [drawCont() for i in range(6)])[0] for i in range(n)]\n",
      "dic1['Player5'] = [playerStrategy(dealer, card1[4], card2[4], [drawCont() for i in range(6)])[0] for i in range(n)]\n",
      "dic1['Player6'] = [playerStrategy(dealer, card1[5], card2[5], [drawCont() for i in range(6)])[0] for i in range(n)]\n",
      "dic1['Player7'] = [playerStrategy(dealer, card1[6], card2[6], [drawCont() for i in range(6)])[0] for i in range(n)]\n",
      "dic1['Dealer'] = [dealerPlay(dealer, [drawCont() for i in range(6)])[0] for i in range(n)]\n",
      "data = DataFrame(dic1) # Transform the dictionary into a DataFrame\n"
     ],
     "language": "python",
     "metadata": {},
     "outputs": [],
     "prompt_number": 59
    },
    {
     "cell_type": "raw",
     "metadata": {},
     "source": [
      "Determine wins and losses: Add separate columns that for each player enter 1.5 for a BJ win, 1 for a regular win, 0 for push, and -1 for a loss. The sum of this column determines the winnings/losses for each player. The percentage won/lost for each player can be determined as this sum over n. "
     ]
    },
    {
     "cell_type": "code",
     "collapsed": false,
     "input": [
      "# Add columns to sum up wins and losses: 1, 1.5, 0, -1, -1\n",
      "for j in range(len(play)): \n",
      "    st0 = 'P'+ str(j+1) +' Wins'\n",
      "    st1 = 'Player'+ str(j+1)\n",
      "    data[st0] =[playerWin(data['Dealer'][i], data[st1][i])[0] for i in range(n)]\n"
     ],
     "language": "python",
     "metadata": {},
     "outputs": [],
     "prompt_number": 60
    },
    {
     "cell_type": "code",
     "collapsed": false,
     "input": [
      "# print data.ix[:30, 0:15]\n",
      "print data.ix[:, 8:15].sum(axis = 0)\n",
      "# print \"As percentage: \", data.ix[:, 8:15].sum(axis = 0)/(n*1.)"
     ],
     "language": "python",
     "metadata": {},
     "outputs": [
      {
       "output_type": "stream",
       "stream": "stdout",
       "text": [
        "Player1 Wins   -3479\n",
        "Player2 Wins   -3766\n",
        "Player3 Wins   -3975\n",
        "Player4 Wins   -4201\n",
        "Player5 Wins   -4299\n",
        "Player6 Wins   -3743\n",
        "Player7 Wins   -1186\n",
        "dtype: int64\n"
       ]
      }
     ],
     "prompt_number": 82
    },
    {
     "cell_type": "raw",
     "metadata": {},
     "source": [
      "(What follows is based on a single 10000 game run. There is a fair bit of variance from set to set so the numbers ought to be taken with `tolerance` of +/- $150 or so.)\n",
      "In words, if you played 10,000 one dollar hands against dealer's 10, then if you start with:\n",
      "10, 2 you would loose around $4,330\n",
      "10, 3 you would loose around $4,660\n",
      "10, 4 you would loose around $5,100\n",
      "10, 5 you would loose around $5,400\n",
      "10, 6 you would loose around $5,600\n",
      "10, 7 you would loose around $4,600\n",
      "10, 8 you would loose around $2,300\n",
      "This may seem like a lot, but these are among the worst hand combinations a player can have. We can also see that 15 and 16 definitely justify a surrender while 14 may do so too. "
     ]
    },
    {
     "cell_type": "code",
     "collapsed": false,
     "input": [
      "# Add columns to name wins and losses: Win, Win, Push, Loss, Loss, etc.   \n",
      "for j in range(len(play)): \n",
      "    st0 = 'P'+ str(j+1) +' Status'\n",
      "    st1 = 'Player'+ str(j+1)\n",
      "    data[st0] =[playerWin(data['Dealer'][i], data[st1][i])[1] for i in range(n)]"
     ],
     "language": "python",
     "metadata": {},
     "outputs": [],
     "prompt_number": 62
    },
    {
     "cell_type": "code",
     "collapsed": false,
     "input": [
      "data.shape"
     ],
     "language": "python",
     "metadata": {},
     "outputs": [
      {
       "metadata": {},
       "output_type": "pyout",
       "prompt_number": 63,
       "text": [
        "(10000, 22)"
       ]
      }
     ],
     "prompt_number": 63
    },
    {
     "cell_type": "heading",
     "level": 4,
     "metadata": {},
     "source": [
      "For further comparison, lets look at the same player hands agains dealer's 5"
     ]
    },
    {
     "cell_type": "code",
     "collapsed": false,
     "input": [
      "card1 = [10]*7 # Each player gets a 10\n",
      "dealer = 5 # Dealer get a 5\n",
      "card2 = range(2, 9) # Player1 gets a two, ..., Player7 gets an eight\n",
      "\n",
      "# Display the initial hand\n",
      "play = ['Player1', 'Player2', 'Player3', 'Player4', 'Player5', 'Player6', 'Player7']\n",
      "hand = zip(play, card1, card2)\n",
      "print 'Dealer: ', dealer \n",
      "print '----------'\n",
      "for i, j, k in hand: print i, [j, k]\n",
      "    \n",
      "# Generate data    \n",
      "n = 10000 \n",
      "dic1={} \n",
      "dic1['Player1'] = [playerStrategy(dealer, card1[0], card2[0], [drawCont() for i in range(6)])[0] for i in range(n)]\n",
      "dic1['Player2'] = [playerStrategy(dealer, card1[1], card2[1], [drawCont() for i in range(6)])[0] for i in range(n)]\n",
      "dic1['Player3'] = [playerStrategy(dealer, card1[2], card2[2], [drawCont() for i in range(6)])[0] for i in range(n)]\n",
      "dic1['Player4'] = [playerStrategy(dealer, card1[3], card2[3], [drawCont() for i in range(6)])[0] for i in range(n)]\n",
      "dic1['Player5'] = [playerStrategy(dealer, card1[4], card2[4], [drawCont() for i in range(6)])[0] for i in range(n)]\n",
      "dic1['Player6'] = [playerStrategy(dealer, card1[5], card2[5], [drawCont() for i in range(6)])[0] for i in range(n)]\n",
      "dic1['Player7'] = [playerStrategy(dealer, card1[6], card2[6], [drawCont() for i in range(6)])[0] for i in range(n)]\n",
      "dic1['Dealer'] = [dealerPlay(dealer, [drawCont() for i in range(6)])[0] for i in range(n)]\n",
      "data = DataFrame(dic1)\n",
      "\n",
      "for j in range(len(play)): \n",
      "    st0 = 'Player'+ str(j+1) +' Wins'\n",
      "    st1 = 'Player'+ str(j+1)\n",
      "    data[st0] =[playerWin(data['Dealer'][i], data[st1][i])[0] for i in range(n)]\n",
      "\n",
      "for j in range(len(play)): \n",
      "    st0 = 'P'+ str(j+1) +' Status'\n",
      "    st1 = 'Player'+ str(j+1)\n",
      "    data[st0] =[playerWin(data['Dealer'][i], data[st1][i])[1] for i in range(n)]    \n",
      "#print data.ix[:30, 0:15]\n",
      "print '--------------------'\n",
      "print \"The outcome against \", dealer    \n",
      "print data.ix[:, 8:15].sum(axis = 0)    "
     ],
     "language": "python",
     "metadata": {},
     "outputs": [
      {
       "output_type": "stream",
       "stream": "stdout",
       "text": [
        "Dealer:  5\n",
        "----------\n",
        "Player1 [10, 2]\n",
        "Player2 [10, 3]\n",
        "Player3 [10, 4]\n",
        "Player4 [10, 5]\n",
        "Player5 [10, 6]\n",
        "Player6 [10, 7]\n",
        "Player7 [10, 8]\n",
        "--------------------"
       ]
      },
      {
       "output_type": "stream",
       "stream": "stdout",
       "text": [
        "\n",
        "The outcome against  5\n",
        "Player1 Wins   -2565\n",
        "Player2 Wins   -3126\n",
        "Player3 Wins   -3670\n",
        "Player4 Wins   -4017\n",
        "Player5 Wins   -4368\n",
        "Player6 Wins    -400\n",
        "Player7 Wins    2039\n",
        "dtype: int64\n"
       ]
      }
     ],
     "prompt_number": 79
    },
    {
     "cell_type": "heading",
     "level": 4,
     "metadata": {},
     "source": [
      "...and dealer's ace"
     ]
    },
    {
     "cell_type": "markdown",
     "metadata": {},
     "source": [
      "Note: with all the aces in the above two sets we had to increase the number in `range()` of the function `[drawCont() for i in range(8)]` from 6 to 8. Perhaps 10 is an overall safe choice and there was never any guarantee that 6 would work although in practice one almost never sees a player drawing more than 5 cards. That is 2 + 5. "
     ]
    },
    {
     "cell_type": "raw",
     "metadata": {},
     "source": [
      "The only change required is to swap the dealer's 5 with an ace."
     ]
    },
    {
     "cell_type": "code",
     "collapsed": false,
     "input": [
      "card1 = [10]*7 \n",
      "dealer = 'A' \n",
      "card2 = range(2, 9) \n",
      "\n",
      "# Display the initial hand\n",
      "play = ['Player1', 'Player2', 'Player3', 'Player4', 'Player5', 'Player6', 'Player7']\n",
      "hand = zip(play, card1, card2)\n",
      "print 'Dealer: ', dealer \n",
      "print '----------'\n",
      "for i, j, k in hand: print i, [j, k]\n",
      "    \n",
      "# Generate data    \n",
      "n = 10000 \n",
      "dic1={} \n",
      "dic1['Player1'] = [playerStrategy(dealer, card1[0], card2[0], [drawCont() for i in range(8)])[0] for i in range(n)]\n",
      "dic1['Player2'] = [playerStrategy(dealer, card1[1], card2[1], [drawCont() for i in range(8)])[0] for i in range(n)]\n",
      "dic1['Player3'] = [playerStrategy(dealer, card1[2], card2[2], [drawCont() for i in range(8)])[0] for i in range(n)]\n",
      "dic1['Player4'] = [playerStrategy(dealer, card1[3], card2[3], [drawCont() for i in range(8)])[0] for i in range(n)]\n",
      "dic1['Player5'] = [playerStrategy(dealer, card1[4], card2[4], [drawCont() for i in range(8)])[0] for i in range(n)]\n",
      "dic1['Player6'] = [playerStrategy(dealer, card1[5], card2[5], [drawCont() for i in range(8)])[0] for i in range(n)]\n",
      "dic1['Player7'] = [playerStrategy(dealer, card1[6], card2[6], [drawCont() for i in range(8)])[0] for i in range(n)]\n",
      "dic1['Dealer'] = [dealerPlay(dealer, [drawCont() for i in range(8)])[0] for i in range(n)]\n",
      "data = DataFrame(dic1)\n",
      "\n",
      "for j in range(len(play)): \n",
      "    st0 = 'Player'+ str(j+1) +' Wins'\n",
      "    st1 = 'Player'+ str(j+1)\n",
      "    data[st0] =[playerWin(data['Dealer'][i], data[st1][i])[0] for i in range(n)]\n",
      "\n",
      "for j in range(len(play)): \n",
      "    st0 = 'P'+ str(j+1) +' Status'\n",
      "    st1 = 'Player'+ str(j+1)\n",
      "    data[st0] =[playerWin(data['Dealer'][i], data[st1][i])[1] for i in range(n)]    \n",
      "#print data.ix[:30, 0:15]\n",
      "print '--------------------'\n",
      "print \"The outcome against \", dealer    \n",
      "print data.ix[:, 8:15].sum(axis = 0) "
     ],
     "language": "python",
     "metadata": {},
     "outputs": [
      {
       "output_type": "stream",
       "stream": "stdout",
       "text": [
        "Dealer:  A\n",
        "----------\n",
        "Player1 [10, 2]\n",
        "Player2 [10, 3]\n",
        "Player3 [10, 4]\n",
        "Player4 [10, 5]\n",
        "Player5 [10, 6]\n",
        "Player6 [10, 7]\n",
        "Player7 [10, 8]\n",
        "--------------------"
       ]
      },
      {
       "output_type": "stream",
       "stream": "stdout",
       "text": [
        "\n",
        "The outcome against  A\n",
        "Player1 Wins   -5486\n",
        "Player2 Wins   -5802\n",
        "Player3 Wins   -6017\n",
        "Player4 Wins   -6450\n",
        "Player5 Wins   -6577\n",
        "Player6 Wins   -6362\n",
        "Player7 Wins   -3739\n",
        "dtype: int64\n"
       ]
      }
     ],
     "prompt_number": 80
    },
    {
     "cell_type": "heading",
     "level": 4,
     "metadata": {},
     "source": [
      "... or an ace against soft 13 to 19"
     ]
    },
    {
     "cell_type": "code",
     "collapsed": false,
     "input": [
      "card1 = ['A']*7 \n",
      "dealer = 'A' \n",
      "card2 = range(2, 9) \n",
      "\n",
      "# Display the initial hand\n",
      "play = ['Player1', 'Player2', 'Player3', 'Player4', 'Player5', 'Player6', 'Player7']\n",
      "hand = zip(play, card1, card2)\n",
      "print 'Dealer: ', dealer \n",
      "print '----------'\n",
      "for i, j, k in hand: print i, [j, k]\n",
      "    \n",
      "# Generate data    \n",
      "n = 10000 \n",
      "dic1={} \n",
      "dic1['Player1'] = [playerStrategy(dealer, card1[0], card2[0], [drawCont() for i in range(8)])[0] for i in range(n)]\n",
      "dic1['Player2'] = [playerStrategy(dealer, card1[1], card2[1], [drawCont() for i in range(8)])[0] for i in range(n)]\n",
      "dic1['Player3'] = [playerStrategy(dealer, card1[2], card2[2], [drawCont() for i in range(8)])[0] for i in range(n)]\n",
      "dic1['Player4'] = [playerStrategy(dealer, card1[3], card2[3], [drawCont() for i in range(8)])[0] for i in range(n)]\n",
      "dic1['Player5'] = [playerStrategy(dealer, card1[4], card2[4], [drawCont() for i in range(8)])[0] for i in range(n)]\n",
      "dic1['Player6'] = [playerStrategy(dealer, card1[5], card2[5], [drawCont() for i in range(8)])[0] for i in range(n)]\n",
      "dic1['Player7'] = [playerStrategy(dealer, card1[6], card2[6], [drawCont() for i in range(8)])[0] for i in range(n)]\n",
      "dic1['Dealer'] = [dealerPlay(dealer, [drawCont() for i in range(8)])[0] for i in range(n)]\n",
      "data = DataFrame(dic1)\n",
      "\n",
      "for j in range(len(play)): \n",
      "    st0 = 'Player'+ str(j+1) +' Wins'\n",
      "    st1 = 'Player'+ str(j+1)\n",
      "    data[st0] =[playerWin(data['Dealer'][i], data[st1][i])[0] for i in range(n)]\n",
      "\n",
      "for j in range(len(play)): \n",
      "    st0 = 'P'+ str(j+1) +' Status'\n",
      "    st1 = 'Player'+ str(j+1)\n",
      "    data[st0] =[playerWin(data['Dealer'][i], data[st1][i])[1] for i in range(n)]    \n",
      "#print data.ix[:30, 0:15]\n",
      "print '--------------------'\n",
      "print \"The outcome against \", dealer    \n",
      "print data.ix[:, 8:15].sum(axis = 0) "
     ],
     "language": "python",
     "metadata": {},
     "outputs": [
      {
       "output_type": "stream",
       "stream": "stdout",
       "text": [
        "Dealer:  A\n",
        "----------\n",
        "Player1 ['A', 2]\n",
        "Player2 ['A', 3]\n",
        "Player3 ['A', 4]\n",
        "Player4 ['A', 5]\n",
        "Player5 ['A', 6]\n",
        "Player6 ['A', 7]\n",
        "Player7 ['A', 8]\n",
        "--------------------"
       ]
      },
      {
       "output_type": "stream",
       "stream": "stdout",
       "text": [
        "\n",
        "The outcome against  A\n",
        "Player1 Wins   -3479\n",
        "Player2 Wins   -3766\n",
        "Player3 Wins   -3975\n",
        "Player4 Wins   -4201\n",
        "Player5 Wins   -4299\n",
        "Player6 Wins   -3743\n",
        "Player7 Wins   -1186\n",
        "dtype: int64\n"
       ]
      }
     ],
     "prompt_number": 81
    },
    {
     "cell_type": "heading",
     "level": 4,
     "metadata": {},
     "source": [
      "Finally, the `softs` against a five (an actual winning combo!)"
     ]
    },
    {
     "cell_type": "code",
     "collapsed": false,
     "input": [
      "card1 = ['A']*7 \n",
      "dealer = 5 \n",
      "card2 = range(2, 9) \n",
      "\n",
      "# Display the initial hand\n",
      "play = ['Player1', 'Player2', 'Player3', 'Player4', 'Player5', 'Player6', 'Player7']\n",
      "hand = zip(play, card1, card2)\n",
      "print 'Dealer: ', dealer \n",
      "print '----------'\n",
      "for i, j, k in hand: print i, [j, k]\n",
      "    \n",
      "# Generate data    \n",
      "n = 10000 \n",
      "dic1={} \n",
      "dic1['Player1'] = [playerStrategy(dealer, card1[0], card2[0], [drawCont() for i in range(8)])[0] for i in range(n)]\n",
      "dic1['Player2'] = [playerStrategy(dealer, card1[1], card2[1], [drawCont() for i in range(8)])[0] for i in range(n)]\n",
      "dic1['Player3'] = [playerStrategy(dealer, card1[2], card2[2], [drawCont() for i in range(8)])[0] for i in range(n)]\n",
      "dic1['Player4'] = [playerStrategy(dealer, card1[3], card2[3], [drawCont() for i in range(8)])[0] for i in range(n)]\n",
      "dic1['Player5'] = [playerStrategy(dealer, card1[4], card2[4], [drawCont() for i in range(8)])[0] for i in range(n)]\n",
      "dic1['Player6'] = [playerStrategy(dealer, card1[5], card2[5], [drawCont() for i in range(8)])[0] for i in range(n)]\n",
      "dic1['Player7'] = [playerStrategy(dealer, card1[6], card2[6], [drawCont() for i in range(8)])[0] for i in range(n)]\n",
      "dic1['Dealer'] = [dealerPlay(dealer, [drawCont() for i in range(8)])[0] for i in range(n)]\n",
      "data = DataFrame(dic1)\n",
      "\n",
      "for j in range(len(play)): \n",
      "    st0 = 'Player'+ str(j+1) +' Wins'\n",
      "    st1 = 'Player'+ str(j+1)\n",
      "    data[st0] =[playerWin(data['Dealer'][i], data[st1][i])[0] for i in range(n)]\n",
      "\n",
      "for j in range(len(play)): \n",
      "    st0 = 'P'+ str(j+1) +' Status'\n",
      "    st1 = 'Player'+ str(j+1)\n",
      "    data[st0] =[playerWin(data['Dealer'][i], data[st1][i])[1] for i in range(n)]    \n",
      "\n",
      "print '--------------------'\n",
      "print \"The outcome against \", dealer    \n",
      "print data.ix[:, 8:15].sum(axis = 0) "
     ],
     "language": "python",
     "metadata": {},
     "outputs": [
      {
       "output_type": "stream",
       "stream": "stdout",
       "text": [
        "Dealer:  5\n",
        "----------\n",
        "Player1 ['A', 2]\n",
        "Player2 ['A', 3]\n",
        "Player3 ['A', 4]\n",
        "Player4 ['A', 5]\n",
        "Player5 ['A', 6]\n",
        "Player6 ['A', 7]\n",
        "Player7 ['A', 8]\n",
        "--------------------"
       ]
      },
      {
       "output_type": "stream",
       "stream": "stdout",
       "text": [
        "\n",
        "The outcome against  5\n",
        "Player1 Wins    1397\n",
        "Player2 Wins    1266\n",
        "Player3 Wins     999\n",
        "Player4 Wins     778\n",
        "Player5 Wins    1019\n",
        "Player6 Wins    2098\n",
        "Player7 Wins    4444\n",
        "dtype: int64\n"
       ]
      }
     ],
     "prompt_number": 66
    },
    {
     "cell_type": "heading",
     "level": 3,
     "metadata": {},
     "source": [
      "Some further simulations"
     ]
    },
    {
     "cell_type": "raw",
     "metadata": {},
     "source": [
      "We can simulate the overall percentages for various dealer's first cards. That is, given that a dealer has a five, what are the chances of dealer's total ending as 17, 18, ..., BJ, Bust? As it turn out, we can model this in a single simulation."
     ]
    },
    {
     "cell_type": "raw",
     "metadata": {},
     "source": [
      "We can simulate 10,000 hands to see the distribution of dealer outcomes given\n",
      "the first card: "
     ]
    },
    {
     "cell_type": "code",
     "collapsed": false,
     "input": [
      "deck1 = deckShuffle(20000)\n",
      "ls1 = range(2, 11) + ['A']\n",
      "lsLst = [[]]*len(ls1)\n",
      "for i, l in enumerate(ls1):\n",
      "    lsLst[i] = [dealerPlay(l, deck1)[0] for k in range(10000)]   \n",
      "dict1 = {}\n",
      "for k in range(17, 22)+['BJ', 'Bust']:\n",
      "    dict2 = {}\n",
      "    for i, l in enumerate(ls1):\n",
      "       dict2[l] = lsLst[i].count(k)\n",
      "    dict1[k] = dict2 \n",
      "data = DataFrame(dict1)\n",
      "data = data/100.    "
     ],
     "language": "python",
     "metadata": {},
     "outputs": [],
     "prompt_number": 45
    },
    {
     "cell_type": "raw",
     "metadata": {},
     "source": [
      "Probability of a dealer outcome (column) given the dealer's \n",
      "first card (row) as a %:"
     ]
    },
    {
     "cell_type": "code",
     "collapsed": false,
     "input": [
      "print data"
     ],
     "language": "python",
     "metadata": {},
     "outputs": [
      {
       "output_type": "stream",
       "stream": "stdout",
       "text": [
        "       17     18     19     20     21     BJ   Bust\n",
        "2   13.62  14.36  13.30  12.35  11.49   0.00  34.88\n",
        "3   13.84  13.07  12.30  12.09  11.62   0.00  37.08\n",
        "4   13.20  12.83  12.41  12.00  10.79   0.00  38.77\n",
        "5   12.11  12.55  11.65  11.74  10.55   0.00  41.40\n",
        "6   16.79  10.95  10.13  10.03   9.68   0.00  42.42\n",
        "7   36.95  13.67   7.84   7.76   7.22   0.00  26.56\n",
        "8   12.35  36.15  12.90   7.02   6.82   0.00  24.76\n",
        "9   12.43  11.82  34.52  11.98   6.10   0.00  23.15\n",
        "10  11.43  11.14  10.67  34.35   3.25   7.96  21.20\n",
        "A   13.04  13.40  13.12  13.07   5.39  30.72  11.26\n"
       ]
      }
     ],
     "prompt_number": 137
    },
    {
     "cell_type": "heading",
     "level": 3,
     "metadata": {},
     "source": [
      "Changing relative freqeuncies of low and high cards (ratio high/low):"
     ]
    },
    {
     "cell_type": "code",
     "collapsed": false,
     "input": [
      "ls2 = range(2, 11) + ['A']\n",
      "lsLst = [[]]*len(ls2)\n",
      "for n in range(17):\n",
      "    deck = singleDeck(tens = n)\n",
      "    deck1 = deckShuffle(1, decks = deck)\n",
      "    for i, l in enumerate(ls2):\n",
      "      lsLst[i] = [dealerPlay(l, [drawCont(deck1) for i in range(8)])[0] for k in range(1000)]\n",
      "      dict1 = {}\n",
      "      for k in range(17, 22)+['BJ', 'Bust']:\n",
      "         dict2 = {}\n",
      "         for i, l in enumerate(ls2):\n",
      "                 dict2[l] = lsLst[i].count(k)\n",
      "         dict1[k] = dict2        \n",
      "    data = DataFrame(dict1)\n",
      "    data = data/10.\n",
      "    print \"Dealer outcome given the first card and the high/low ratio of: \", n/2000.\n",
      "    print '----------------------------------------------'\n",
      "    print data\n",
      "    print '----------------------------------------------'\n",
      "    print \"The mean bust % across the data: \", data['Bust'].mean()\n",
      "    print '----------------------------------------------'\n",
      "    print ' '"
     ],
     "language": "python",
     "metadata": {},
     "outputs": [
      {
       "output_type": "stream",
       "stream": "stdout",
       "text": [
        "Dealer outcome given the first card and the high/low ratio of:  0.0\n",
        "----------------------------------------------\n",
        "     17   18   19   20  21  BJ  Bust\n",
        "2     0    0    0    0   0   0     0\n",
        "3     0    0    0    0   0   0     0\n",
        "4     0    0    0    0   0   0     0\n",
        "5     0    0    0    0   0   0     0\n",
        "6     0    0    0    0   0   0     0\n",
        "7     0    0    0    0   0   0     0\n",
        "8     0    0    0    0   0   0     0\n",
        "9   193  222  223  224  90   0    48\n",
        "10    0    0    0    0   0   0     0\n",
        "A     0    0    0    0   0   0     0\n",
        "----------------------------------------------\n",
        "The mean bust % across the data:  4.8\n",
        "----------------------------------------------\n",
        " \n",
        "Dealer outcome given the first card and the high/low ratio of: "
       ]
      },
      {
       "output_type": "stream",
       "stream": "stdout",
       "text": [
        " 0.0005\n",
        "----------------------------------------------\n",
        "     17   18   19   20  21  BJ  Bust\n",
        "2     0    0    0    0   0   0     0\n",
        "3     0    0    0    0   0   0     0\n",
        "4     0    0    0    0   0   0     0\n",
        "5     0    0    0    0   0   0     0\n",
        "6     0    0    0    0   0   0     0\n",
        "7     0    0    0    0   0   0     0\n",
        "8     0    0    0    0   0   0     0\n",
        "9   220  206  183  229  86  25    51\n",
        "10    0    0    0    0   0   0     0\n",
        "A     0    0    0    0   0   0     0\n",
        "----------------------------------------------\n",
        "The mean bust % across the data:  5.1\n",
        "----------------------------------------------\n",
        " \n",
        "Dealer outcome given the first card and the high/low ratio of: "
       ]
      },
      {
       "output_type": "stream",
       "stream": "stdout",
       "text": [
        " 0.001\n",
        "----------------------------------------------\n",
        "     17   18   19   20  21  BJ  Bust\n",
        "2     0    0    0    0   0   0     0\n",
        "3     0    0    0    0   0   0     0\n",
        "4     0    0    0    0   0   0     0\n",
        "5     0    0    0    0   0   0     0\n",
        "6     0    0    0    0   0   0     0\n",
        "7     0    0    0    0   0   0     0\n",
        "8     0    0    0    0   0   0     0\n",
        "9   206  217  183  203  92  33    66\n",
        "10    0    0    0    0   0   0     0\n",
        "A     0    0    0    0   0   0     0\n",
        "----------------------------------------------\n",
        "The mean bust % across the data:  6.6\n",
        "----------------------------------------------\n",
        " \n",
        "Dealer outcome given the first card and the high/low ratio of: "
       ]
      },
      {
       "output_type": "stream",
       "stream": "stdout",
       "text": [
        " 0.0015\n",
        "----------------------------------------------\n",
        "     17   18   19   20  21  BJ  Bust\n",
        "2     0    0    0    0   0   0     0\n",
        "3     0    0    0    0   0   0     0\n",
        "4     0    0    0    0   0   0     0\n",
        "5     0    0    0    0   0   0     0\n",
        "6     0    0    0    0   0   0     0\n",
        "7     0    0    0    0   0   0     0\n",
        "8     0    0    0    0   0   0     0\n",
        "9   213  207  186  166  88  79    61\n",
        "10    0    0    0    0   0   0     0\n",
        "A     0    0    0    0   0   0     0\n",
        "----------------------------------------------\n",
        "The mean bust % across the data:  6.1\n",
        "----------------------------------------------\n",
        " \n",
        "Dealer outcome given the first card and the high/low ratio of: "
       ]
      },
      {
       "output_type": "stream",
       "stream": "stdout",
       "text": [
        " 0.002\n",
        "----------------------------------------------\n",
        "     17   18   19   20  21   BJ  Bust\n",
        "2     0    0    0    0   0    0     0\n",
        "3     0    0    0    0   0    0     0\n",
        "4     0    0    0    0   0    0     0\n",
        "5     0    0    0    0   0    0     0\n",
        "6     0    0    0    0   0    0     0\n",
        "7     0    0    0    0   0    0     0\n",
        "8     0    0    0    0   0    0     0\n",
        "9   193  195  181  174  81  103    73\n",
        "10    0    0    0    0   0    0     0\n",
        "A     0    0    0    0   0    0     0\n",
        "----------------------------------------------\n",
        "The mean bust % across the data:  7.3\n",
        "----------------------------------------------\n",
        " \n",
        "Dealer outcome given the first card and the high/low ratio of: "
       ]
      },
      {
       "output_type": "stream",
       "stream": "stdout",
       "text": [
        " 0.0025\n",
        "----------------------------------------------\n",
        "     17   18   19   20  21   BJ  Bust\n",
        "2     0    0    0    0   0    0     0\n",
        "3     0    0    0    0   0    0     0\n",
        "4     0    0    0    0   0    0     0\n",
        "5     0    0    0    0   0    0     0\n",
        "6     0    0    0    0   0    0     0\n",
        "7     0    0    0    0   0    0     0\n",
        "8     0    0    0    0   0    0     0\n",
        "9   167  204  190  156  83  123    77\n",
        "10    0    0    0    0   0    0     0\n",
        "A     0    0    0    0   0    0     0\n",
        "----------------------------------------------\n",
        "The mean bust % across the data:  7.7\n",
        "----------------------------------------------\n",
        " \n",
        "Dealer outcome given the first card and the high/low ratio of: "
       ]
      },
      {
       "output_type": "stream",
       "stream": "stdout",
       "text": [
        " 0.003\n",
        "----------------------------------------------\n",
        "     17   18   19   20  21   BJ  Bust\n",
        "2     0    0    0    0   0    0     0\n",
        "3     0    0    0    0   0    0     0\n",
        "4     0    0    0    0   0    0     0\n",
        "5     0    0    0    0   0    0     0\n",
        "6     0    0    0    0   0    0     0\n",
        "7     0    0    0    0   0    0     0\n",
        "8     0    0    0    0   0    0     0\n",
        "9   162  152  188  182  80  154    82\n",
        "10    0    0    0    0   0    0     0\n",
        "A     0    0    0    0   0    0     0\n",
        "----------------------------------------------\n",
        "The mean bust % across the data:  8.2\n",
        "----------------------------------------------\n",
        " \n",
        "Dealer outcome given the first card and the high/low ratio of: "
       ]
      },
      {
       "output_type": "stream",
       "stream": "stdout",
       "text": [
        " 0.0035\n",
        "----------------------------------------------\n",
        "     17   18   19   20  21   BJ  Bust\n",
        "2     0    0    0    0   0    0     0\n",
        "3     0    0    0    0   0    0     0\n",
        "4     0    0    0    0   0    0     0\n",
        "5     0    0    0    0   0    0     0\n",
        "6     0    0    0    0   0    0     0\n",
        "7     0    0    0    0   0    0     0\n",
        "8     0    0    0    0   0    0     0\n",
        "9   174  183  185  160  60  150    88\n",
        "10    0    0    0    0   0    0     0\n",
        "A     0    0    0    0   0    0     0\n",
        "----------------------------------------------\n",
        "The mean bust % across the data:  8.8\n",
        "----------------------------------------------\n",
        " \n",
        "Dealer outcome given the first card and the high/low ratio of: "
       ]
      },
      {
       "output_type": "stream",
       "stream": "stdout",
       "text": [
        " 0.004\n",
        "----------------------------------------------\n",
        "     17   18   19   20  21   BJ  Bust\n",
        "2     0    0    0    0   0    0     0\n",
        "3     0    0    0    0   0    0     0\n",
        "4     0    0    0    0   0    0     0\n",
        "5     0    0    0    0   0    0     0\n",
        "6     0    0    0    0   0    0     0\n",
        "7     0    0    0    0   0    0     0\n",
        "8     0    0    0    0   0    0     0\n",
        "9   171  167  178  143  74  173    94\n",
        "10    0    0    0    0   0    0     0\n",
        "A     0    0    0    0   0    0     0\n",
        "----------------------------------------------\n",
        "The mean bust % across the data:  9.4\n",
        "----------------------------------------------\n",
        " \n",
        "Dealer outcome given the first card and the high/low ratio of: "
       ]
      },
      {
       "output_type": "stream",
       "stream": "stdout",
       "text": [
        " 0.0045\n",
        "----------------------------------------------\n",
        "     17   18   19   20  21   BJ  Bust\n",
        "2     0    0    0    0   0    0     0\n",
        "3     0    0    0    0   0    0     0\n",
        "4     0    0    0    0   0    0     0\n",
        "5     0    0    0    0   0    0     0\n",
        "6     0    0    0    0   0    0     0\n",
        "7     0    0    0    0   0    0     0\n",
        "8     0    0    0    0   0    0     0\n",
        "9   166  149  160  151  75  219    80\n",
        "10    0    0    0    0   0    0     0\n",
        "A     0    0    0    0   0    0     0\n",
        "----------------------------------------------\n",
        "The mean bust % across the data:  8.0\n",
        "----------------------------------------------\n",
        " \n",
        "Dealer outcome given the first card and the high/low ratio of: "
       ]
      },
      {
       "output_type": "stream",
       "stream": "stdout",
       "text": [
        " 0.005\n",
        "----------------------------------------------\n",
        "     17   18   19   20  21   BJ  Bust\n",
        "2     0    0    0    0   0    0     0\n",
        "3     0    0    0    0   0    0     0\n",
        "4     0    0    0    0   0    0     0\n",
        "5     0    0    0    0   0    0     0\n",
        "6     0    0    0    0   0    0     0\n",
        "7     0    0    0    0   0    0     0\n",
        "8     0    0    0    0   0    0     0\n",
        "9   155  161  157  162  65  190   110\n",
        "10    0    0    0    0   0    0     0\n",
        "A     0    0    0    0   0    0     0\n",
        "----------------------------------------------\n",
        "The mean bust % across the data:  11.0\n",
        "----------------------------------------------\n",
        " \n",
        "Dealer outcome given the first card and the high/low ratio of: "
       ]
      },
      {
       "output_type": "stream",
       "stream": "stdout",
       "text": [
        " 0.0055\n",
        "----------------------------------------------\n",
        "     17   18   19   20  21   BJ  Bust\n",
        "2     0    0    0    0   0    0     0\n",
        "3     0    0    0    0   0    0     0\n",
        "4     0    0    0    0   0    0     0\n",
        "5     0    0    0    0   0    0     0\n",
        "6     0    0    0    0   0    0     0\n",
        "7     0    0    0    0   0    0     0\n",
        "8     0    0    0    0   0    0     0\n",
        "9   157  144  146  156  75  219   103\n",
        "10    0    0    0    0   0    0     0\n",
        "A     0    0    0    0   0    0     0\n",
        "----------------------------------------------\n",
        "The mean bust % across the data:  10.3\n",
        "----------------------------------------------\n",
        " \n",
        "Dealer outcome given the first card and the high/low ratio of: "
       ]
      },
      {
       "output_type": "stream",
       "stream": "stdout",
       "text": [
        " 0.006\n",
        "----------------------------------------------\n",
        "     17   18   19   20  21   BJ  Bust\n",
        "2     0    0    0    0   0    0     0\n",
        "3     0    0    0    0   0    0     0\n",
        "4     0    0    0    0   0    0     0\n",
        "5     0    0    0    0   0    0     0\n",
        "6     0    0    0    0   0    0     0\n",
        "7     0    0    0    0   0    0     0\n",
        "8     0    0    0    0   0    0     0\n",
        "9   140  137  138  142  67  250   126\n",
        "10    0    0    0    0   0    0     0\n",
        "A     0    0    0    0   0    0     0\n",
        "----------------------------------------------\n",
        "The mean bust % across the data:  12.6\n",
        "----------------------------------------------\n",
        " \n",
        "Dealer outcome given the first card and the high/low ratio of: "
       ]
      },
      {
       "output_type": "stream",
       "stream": "stdout",
       "text": [
        " 0.0065\n",
        "----------------------------------------------\n",
        "     17   18   19   20  21   BJ  Bust\n",
        "2     0    0    0    0   0    0     0\n",
        "3     0    0    0    0   0    0     0\n",
        "4     0    0    0    0   0    0     0\n",
        "5     0    0    0    0   0    0     0\n",
        "6     0    0    0    0   0    0     0\n",
        "7     0    0    0    0   0    0     0\n",
        "8     0    0    0    0   0    0     0\n",
        "9   113  148  139  151  74  262   113\n",
        "10    0    0    0    0   0    0     0\n",
        "A     0    0    0    0   0    0     0\n",
        "----------------------------------------------\n",
        "The mean bust % across the data:  11.3\n",
        "----------------------------------------------\n",
        " \n",
        "Dealer outcome given the first card and the high/low ratio of: "
       ]
      },
      {
       "output_type": "stream",
       "stream": "stdout",
       "text": [
        " 0.007\n",
        "----------------------------------------------\n",
        "     17   18   19   20  21   BJ  Bust\n",
        "2     0    0    0    0   0    0     0\n",
        "3     0    0    0    0   0    0     0\n",
        "4     0    0    0    0   0    0     0\n",
        "5     0    0    0    0   0    0     0\n",
        "6     0    0    0    0   0    0     0\n",
        "7     0    0    0    0   0    0     0\n",
        "8     0    0    0    0   0    0     0\n",
        "9   119  162  127  154  54  275   109\n",
        "10    0    0    0    0   0    0     0\n",
        "A     0    0    0    0   0    0     0\n",
        "----------------------------------------------\n",
        "The mean bust % across the data:  10.9\n",
        "----------------------------------------------\n",
        " \n",
        "Dealer outcome given the first card and the high/low ratio of: "
       ]
      },
      {
       "output_type": "stream",
       "stream": "stdout",
       "text": [
        " 0.0075\n",
        "----------------------------------------------\n",
        "     17   18   19   20  21   BJ  Bust\n",
        "2     0    0    0    0   0    0     0\n",
        "3     0    0    0    0   0    0     0\n",
        "4     0    0    0    0   0    0     0\n",
        "5     0    0    0    0   0    0     0\n",
        "6     0    0    0    0   0    0     0\n",
        "7     0    0    0    0   0    0     0\n",
        "8     0    0    0    0   0    0     0\n",
        "9   139  122  135  122  46  294   142\n",
        "10    0    0    0    0   0    0     0\n",
        "A     0    0    0    0   0    0     0\n",
        "----------------------------------------------\n",
        "The mean bust % across the data:  14.2\n",
        "----------------------------------------------\n",
        " \n",
        "Dealer outcome given the first card and the high/low ratio of: "
       ]
      },
      {
       "output_type": "stream",
       "stream": "stdout",
       "text": [
        " 0.008\n",
        "----------------------------------------------\n",
        "     17   18   19   20  21   BJ  Bust\n",
        "2     0    0    0    0   0    0     0\n",
        "3     0    0    0    0   0    0     0\n",
        "4     0    0    0    0   0    0     0\n",
        "5     0    0    0    0   0    0     0\n",
        "6     0    0    0    0   0    0     0\n",
        "7     0    0    0    0   0    0     0\n",
        "8     0    0    0    0   0    0     0\n",
        "9   112  123  133  132  51  318   131\n",
        "10    0    0    0    0   0    0     0\n",
        "A     0    0    0    0   0    0     0\n",
        "----------------------------------------------\n",
        "The mean bust % across the data:  13.1\n",
        "----------------------------------------------\n",
        " \n"
       ]
      }
     ],
     "prompt_number": 134
    },
    {
     "cell_type": "raw",
     "metadata": {},
     "source": [
      "'''Note: the numbers need to be adjusted for fewer 10s in circulations, so take them as they are with a grain of salt. For instance, when there are no 10 there are no BJ's either, so under 10 all columns should be empty for 0/2000 ratio. The average number of busts should be weighted to tak this into account.'''\n",
      "The mean bust % increases in the data from 18.5% to close to 30%\n",
      "as we increase the ratio of high/low from 0 to near 1. For a dealer facing a 6, it goes from around 18% to 43% as we even the number of high and low cards."
     ]
    },
    {
     "cell_type": "raw",
     "metadata": {},
     "source": [
      "for loop here to explore the data under varied settings, discover an already \n",
      "known regression: the ratio of low to high cards affects the house's advantage. "
     ]
    },
    {
     "cell_type": "raw",
     "metadata": {},
     "source": [
      "A single player against house\n",
      "Can you start basic and learn?\n",
      "\n",
      "What if you change ratio of small and large?\n",
      "How that affects learning/strategy?\n",
      "\n",
      "Strategy when you have 14, 15 16, 17 if ratio not even?\n",
      "\n",
      "Clumps and basic strategy?\n",
      "\n",
      "Different clumping regiments?\n",
      "\n",
      "How does it affect busting rate?\n",
      "\n",
      "--------------\n",
      "Ideas March 21, 2014\n",
      "-------------\n",
      "\n",
      "counting and strategy:\n",
      "\n",
      "reverse: if the number is low and deck is biased try betting hi\n",
      "\n",
      "can counting reveal imbalance? is average count is smaller and bigger than 0\n",
      "\n",
      "we use blackjacks to reveal the biased deck\n",
      "\n",
      "play with bet sizes in experiments. \n",
      "\n",
      "what would you do to counter the basic strategy? keeping the mean count near 0. "
     ]
    },
    {
     "cell_type": "raw",
     "metadata": {},
     "source": [
      "Algo for increasing the bet with the card count:\n",
      "\n",
      "(lets say): 3-6 increase bet to 150%\n",
      " 7 - 10 increase to 200%\n",
      " above 10 increase to 250%\n",
      " \n"
     ]
    },
    {
     "cell_type": "code",
     "collapsed": false,
     "input": [
      "playerStrag(dealer, players_cards_so_far, [size of bet], card_count)\n",
      "\n",
      "return everything + size of bet as %, card_count "
     ],
     "language": "python",
     "metadata": {},
     "outputs": []
    },
    {
     "cell_type": "raw",
     "metadata": {},
     "source": [
      "different counting strategy that also adds up to 0:\n",
      "2 to 7 are low, 8, 9 10 are high and Ace is neutral"
     ]
    },
    {
     "cell_type": "code",
     "collapsed": false,
     "input": [],
     "language": "python",
     "metadata": {},
     "outputs": []
    },
    {
     "cell_type": "code",
     "collapsed": false,
     "input": [
      "deck = singleDeck(tens = 16)\n",
      "deck1 = deckShuffle(1, decks = deck)\n",
      "[drawCont(deck1) for i in range(8)]"
     ],
     "language": "python",
     "metadata": {},
     "outputs": [
      {
       "metadata": {},
       "output_type": "pyout",
       "prompt_number": 130,
       "text": [
        "[7, 2, 10, 7, 10, 'A', 6, 7]"
       ]
      }
     ],
     "prompt_number": 130
    },
    {
     "cell_type": "code",
     "collapsed": false,
     "input": [
      "[[drawCont(deck1) for i in range(13)] for i in range(16)]"
     ],
     "language": "python",
     "metadata": {},
     "outputs": [
      {
       "metadata": {},
       "output_type": "pyout",
       "prompt_number": 89,
       "text": [
        "[[4, 3, 9, 5, 4, 3, 6, 10, 'A', 10, 10, 2, 10],\n",
        " [3, 7, 5, 10, 6, 4, 10, 8, 10, 8, 10, 10, 7],\n",
        " [2, 10, 5, 10, 4, 8, 10, 10, 5, 'A', 4, 8, 7],\n",
        " ['A', 6, 2, 6, 7, 4, 10, 10, 4, 10, 8, 10, 7],\n",
        " [2, 'A', 3, 2, 10, 9, 'A', 9, 8, 8, 5, 10, 'A'],\n",
        " [2, 2, 10, 9, 7, 'A', 7, 'A', 10, 10, 2, 5, 'A'],\n",
        " [3, 6, 5, 10, 4, 4, 3, 3, 8, 10, 4, 10, 10],\n",
        " ['A', 9, 10, 2, 10, 'A', 10, 4, 6, 10, 10, 6, 10],\n",
        " [10, 9, 7, 10, 7, 5, 10, 2, 6, 10, 10, 10, 7],\n",
        " [5, 7, 3, 2, 2, 'A', 10, 10, 8, 8, 10, 5, 10],\n",
        " ['A', 10, 3, 2, 10, 10, 'A', 8, 10, 3, 5, 7, 10],\n",
        " [3, 4, 10, 10, 5, 5, 4, 7, 3, 6, 10, 10, 4],\n",
        " [3, 6, 10, 2, 'A', 10, 9, 8, 3, 10, 10, 5, 10],\n",
        " [8, 10, 9, 9, 2, 7, 5, 6, 10, 10, 10, 3, 5],\n",
        " [3, 8, 6, 6, 6, 8, 6, 'A', 5, 4, 5, 8, 10],\n",
        " [3, 6, 'A', 2, 'A', 6, 4, 10, 10, 10, 6, 9, 6]]"
       ]
      }
     ],
     "prompt_number": 89
    },
    {
     "cell_type": "code",
     "collapsed": false,
     "input": [
      "A = [drawCont(deck1) for i in range(52)]\n",
      "B = sorted(A)\n",
      "print B"
     ],
     "language": "python",
     "metadata": {},
     "outputs": [
      {
       "output_type": "stream",
       "stream": "stdout",
       "text": [
        "[2, 2, 3, 3, 3, 3, 4, 5, 5, 5, 6, 6, 6, 6, 6, 6, 7, 7, 8, 8, 8, 8, 9, 9, 9, 10, 10, 10, 10, 10, 10, 10, 10, 10, 10, 10, 10, 10, 10, 10, 10, 10, 10, 10, 10, 'A', 'A', 'A', 'A', 'A', 'A', 'A']\n"
       ]
      }
     ],
     "prompt_number": 131
    },
    {
     "cell_type": "code",
     "collapsed": false,
     "input": [
      "ls2 = range(2, 11) + ['A']\n",
      "lsLst = [[]]*len(ls2)"
     ],
     "language": "python",
     "metadata": {},
     "outputs": [],
     "prompt_number": 135
    },
    {
     "cell_type": "code",
     "collapsed": false,
     "input": [
      "ls2"
     ],
     "language": "python",
     "metadata": {},
     "outputs": [
      {
       "metadata": {},
       "output_type": "pyout",
       "prompt_number": 136,
       "text": [
        "[2, 3, 4, 5, 6, 7, 8, 9, 10, 'A']"
       ]
      }
     ],
     "prompt_number": 136
    },
    {
     "cell_type": "code",
     "collapsed": false,
     "input": [
      "def addACard(total, deck = deckShuffle()):\n",
      "    card = drawCont(deck)\n",
      "    # player = [total, card]\n",
      "    total = AddCards(total, card)\n",
      "    if isinstance(total, int): \n",
      "        if total > 21: return 'Bust'#, player\n",
      "        else: return total#, player\n",
      "    else: \n",
      "        if len(total) == 2: return int(total[1])#, player\n",
      "        else: return 'Bust'#, player\n",
      "    "
     ],
     "language": "python",
     "metadata": {},
     "outputs": [],
     "prompt_number": 37
    },
    {
     "cell_type": "code",
     "collapsed": false,
     "input": [
      "'''One million hands, dealing a single card each to 12 - 17. We are interested in other values too, but we are particularly interested in the chance of busting having drawn a single card (on a hand that adds up to the column value): \n",
      "           12       13       14       15       16       17\n",
      "17     7.7144   7.7001   7.7385   7.7110   7.6987   0.0000\n",
      "18     7.6948   7.6964   7.6980   7.6802   7.6481   7.7636\n",
      "19     7.6592   7.7279   7.6868   7.6600   7.6938   7.7198\n",
      "20     7.6664   7.6650   7.6462   7.6777   7.6910   7.6535\n",
      "21     7.6994   7.7055   7.6652   7.6552   7.7063   7.6648\n",
      "Bust  30.7351  38.4574  46.1760  53.8238  61.5410  69.1775\n",
      "Chances of bust if you play dealer's strategy: hit until you reach 16 or bust:\n",
      "Bust  48.4300  52.1100\t56.5400\t 58.7500  61.3700  no value\n",
      "Difference: -17.7, -13.65, -10.36 ,  -5.,   0.\n",
      "\n",
      "Analytically, the first set of numbers, after a single card, should be:\n",
      "Bust at 4/13, 5/13, 6/13, 7/13, 8/13, 9/13\n",
      "\n",
      "30.76, 38.46, 46.15, 53.84, 61.53,  69.23, pretty close. \n",
      "Notice finally that the columns for 12, 13, etc. don't add up to 100%. \n",
      "This is clearly the result of the possiblilty of drawing a single card \n",
      "and obtaining less than 17 total. This possibility starts at 0% at 16, \n",
      "and increases by 1/13 with each card as it reaches 12. \n",
      "\n",
      "Chance < 17:\n",
      "00.00% when starting with 16\n",
      "07.70% with 15\n",
      "15.40% with 14\n",
      "23.08% with 13 and\n",
      "30.77% with 12\n",
      "\n",
      "The differences nicely account for the increased busts as one chases 16 \n",
      "to stop taking cards. '''"
     ],
     "language": "python",
     "metadata": {},
     "outputs": [
      {
       "ename": "SyntaxError",
       "evalue": "invalid syntax (<ipython-input-35-2442e4e9caf4>, line 33)",
       "output_type": "pyerr",
       "traceback": [
        "\u001b[0;36m  File \u001b[0;32m\"<ipython-input-35-2442e4e9caf4>\"\u001b[0;36m, line \u001b[0;32m33\u001b[0m\n\u001b[0;31m    array([30.7351,  38.4574,  46.1760,  53.8238,  61.5410])-\u001b[0m\n\u001b[0m                                                             ^\u001b[0m\n\u001b[0;31mSyntaxError\u001b[0m\u001b[0;31m:\u001b[0m invalid syntax\n"
       ]
      }
     ],
     "prompt_number": 35
    },
    {
     "cell_type": "code",
     "collapsed": false,
     "input": [
      "#Single card draw vs. going all the way to 16:\n",
      "array([30.7351,  38.4574,  46.1760,  53.8238,  61.5410])- array([48.4300,  52.1100,\t56.5400,\t 58.7500,  61.3700])\n",
      "\n",
      "#Analytically determining the same (assuming continuous shuffle):\n",
      "4/13., 5/13., 6/13., 7/13., 8/13., 9/13.\n",
      "print 1/13. # at 15\n",
      "print 2/13. # at 14\n",
      "print 3/13. # at 13\n",
      "print 4/13. # at 12\n",
      "\n",
      "#Chance of busting upon drawing a second card: \n",
      "-17.7/(4/13.), -13.65/(3/13.), -10.36/(2/13.),  -5./(1/13.)\n",
      "dictA={}\n",
      "# ----- the crux function for bust determination. Goes for a million round\n",
      "# spin. Takes a while, but much less than a previous version.\n",
      "for i in range(12, 18):\n",
      "    dictA[i]={k:[addACard(i) for j in range(10000)].count(k) for k in range(17, 22)+['Bust']}\n",
      "dat1 = DataFrame(dictA)/10000.\n",
      "print dat1"
     ],
     "language": "python",
     "metadata": {},
     "outputs": [
      {
       "output_type": "stream",
       "stream": "stdout",
       "text": [
        "0.0769230769231\n",
        "0.153846153846\n",
        "0.230769230769\n",
        "0.307692307692\n",
        "          12      13      14      15      16      17\n",
        "17    0.0788  0.0786  0.0778  0.0804  0.0764  0.0000\n",
        "18    0.0785  0.0748  0.0732  0.0801  0.0763  0.0767\n",
        "19    0.0764  0.0773  0.0737  0.0746  0.0771  0.0734\n",
        "20    0.0796  0.0754  0.0758  0.0773  0.0771  0.0794\n",
        "21    0.0734  0.0744  0.0773  0.0776  0.0779  0.0748\n",
        "Bust  0.3111  0.3830  0.4593  0.5413  0.6063  0.6928"
       ]
      },
      {
       "output_type": "stream",
       "stream": "stdout",
       "text": [
        "\n"
       ]
      }
     ],
     "prompt_number": 38
    },
    {
     "cell_type": "code",
     "collapsed": false,
     "input": [
      "# dictA\n",
      "dat1 = DataFrame(dictA)/100.\n",
      "print dat1"
     ],
     "language": "python",
     "metadata": {},
     "outputs": [
      {
       "metadata": {},
       "output_type": "pyout",
       "prompt_number": 174,
       "text": [
        "{12: {17: 77144, 18: 76948, 19: 76592, 20: 76664, 21: 76994, 'Bust': 307351},\n",
        " 13: {17: 77001, 18: 76964, 19: 77279, 20: 76650, 21: 77055, 'Bust': 384574},\n",
        " 14: {17: 77385, 18: 76980, 19: 76868, 20: 76462, 21: 76652, 'Bust': 461760},\n",
        " 15: {17: 77110, 18: 76802, 19: 76600, 20: 76777, 21: 76552, 'Bust': 538238},\n",
        " 16: {17: 76987, 18: 76481, 19: 76938, 20: 76910, 21: 77063, 'Bust': 615410},\n",
        " 17: {17: 0, 18: 77636, 19: 77198, 20: 76535, 21: 76648, 'Bust': 691775}}"
       ]
      }
     ],
     "prompt_number": 174
    },
    {
     "cell_type": "code",
     "collapsed": false,
     "input": [
      "AA = [dealerPlay(13, [drawCont() for i in range(8)])[0] for i in range(10000)]\n",
      "dict1 = {}\n",
      "for k in range(17, 22)+['BJ', 'Bust']:\n",
      "    # dict2 = {}\n",
      "    for i, l in enumerate(AA):\n",
      "       dict1[k] = AA.count(k)\n",
      "    #dict1[k] = dict2 "
     ],
     "language": "python",
     "metadata": {},
     "outputs": [],
     "prompt_number": 65
    },
    {
     "cell_type": "code",
     "collapsed": false,
     "input": [
      "dict1"
     ],
     "language": "python",
     "metadata": {},
     "outputs": [
      {
       "metadata": {},
       "output_type": "pyout",
       "prompt_number": 66,
       "text": [
        "{17: 917, 18: 910, 19: 996, 20: 976, 21: 990, 'BJ': 0, 'Bust': 5211}"
       ]
      }
     ],
     "prompt_number": 66
    },
    {
     "cell_type": "code",
     "collapsed": false,
     "input": [
      "#dict2 = {}\n",
      "dict2[13] = dict1"
     ],
     "language": "python",
     "metadata": {},
     "outputs": [],
     "prompt_number": 67
    },
    {
     "cell_type": "code",
     "collapsed": false,
     "input": [
      "dict2"
     ],
     "language": "python",
     "metadata": {},
     "outputs": [
      {
       "metadata": {},
       "output_type": "pyout",
       "prompt_number": 68,
       "text": [
        "{12: {17: 994, 18: 1096, 19: 993, 20: 1032, 21: 1042, 'BJ': 0, 'Bust': 4843},\n",
        " 13: {17: 917, 18: 910, 19: 996, 20: 976, 21: 990, 'BJ': 0, 'Bust': 5211},\n",
        " 14: {17: 891, 18: 857, 19: 857, 20: 914, 21: 827, 'BJ': 0, 'Bust': 5654},\n",
        " 15: {17: 859, 18: 837, 19: 802, 20: 816, 21: 811, 'BJ': 0, 'Bust': 5875},\n",
        " 16: {17: 785, 18: 784, 19: 768, 20: 800, 21: 726, 'BJ': 0, 'Bust': 6137}}"
       ]
      }
     ],
     "prompt_number": 68
    },
    {
     "cell_type": "code",
     "collapsed": false,
     "input": [
      "dat = DataFrame(dict2)\n",
      "dat/100."
     ],
     "language": "python",
     "metadata": {},
     "outputs": [
      {
       "html": [
        "<div style=\"max-height:1000px;max-width:1500px;overflow:auto;\">\n",
        "<table border=\"1\" class=\"dataframe\">\n",
        "  <thead>\n",
        "    <tr style=\"text-align: right;\">\n",
        "      <th></th>\n",
        "      <th>12</th>\n",
        "      <th>13</th>\n",
        "      <th>14</th>\n",
        "      <th>15</th>\n",
        "      <th>16</th>\n",
        "    </tr>\n",
        "  </thead>\n",
        "  <tbody>\n",
        "    <tr>\n",
        "      <th>17</th>\n",
        "      <td>  9.94</td>\n",
        "      <td>  9.17</td>\n",
        "      <td>  8.91</td>\n",
        "      <td>  8.59</td>\n",
        "      <td>  7.85</td>\n",
        "    </tr>\n",
        "    <tr>\n",
        "      <th>18</th>\n",
        "      <td> 10.96</td>\n",
        "      <td>  9.10</td>\n",
        "      <td>  8.57</td>\n",
        "      <td>  8.37</td>\n",
        "      <td>  7.84</td>\n",
        "    </tr>\n",
        "    <tr>\n",
        "      <th>19</th>\n",
        "      <td>  9.93</td>\n",
        "      <td>  9.96</td>\n",
        "      <td>  8.57</td>\n",
        "      <td>  8.02</td>\n",
        "      <td>  7.68</td>\n",
        "    </tr>\n",
        "    <tr>\n",
        "      <th>20</th>\n",
        "      <td> 10.32</td>\n",
        "      <td>  9.76</td>\n",
        "      <td>  9.14</td>\n",
        "      <td>  8.16</td>\n",
        "      <td>  8.00</td>\n",
        "    </tr>\n",
        "    <tr>\n",
        "      <th>21</th>\n",
        "      <td> 10.42</td>\n",
        "      <td>  9.90</td>\n",
        "      <td>  8.27</td>\n",
        "      <td>  8.11</td>\n",
        "      <td>  7.26</td>\n",
        "    </tr>\n",
        "    <tr>\n",
        "      <th>BJ</th>\n",
        "      <td>  0.00</td>\n",
        "      <td>  0.00</td>\n",
        "      <td>  0.00</td>\n",
        "      <td>  0.00</td>\n",
        "      <td>  0.00</td>\n",
        "    </tr>\n",
        "    <tr>\n",
        "      <th>Bust</th>\n",
        "      <td> 48.43</td>\n",
        "      <td> 52.11</td>\n",
        "      <td> 56.54</td>\n",
        "      <td> 58.75</td>\n",
        "      <td> 61.37</td>\n",
        "    </tr>\n",
        "  </tbody>\n",
        "</table>\n",
        "</div>"
       ],
       "metadata": {},
       "output_type": "pyout",
       "prompt_number": 71,
       "text": [
        "         12     13     14     15     16\n",
        "17     9.94   9.17   8.91   8.59   7.85\n",
        "18    10.96   9.10   8.57   8.37   7.84\n",
        "19     9.93   9.96   8.57   8.02   7.68\n",
        "20    10.32   9.76   9.14   8.16   8.00\n",
        "21    10.42   9.90   8.27   8.11   7.26\n",
        "BJ     0.00   0.00   0.00   0.00   0.00\n",
        "Bust  48.43  52.11  56.54  58.75  61.37"
       ]
      }
     ],
     "prompt_number": 71
    },
    {
     "cell_type": "code",
     "collapsed": false,
     "input": [
      "[drawCont() for i in xrange(8)]"
     ],
     "language": "python",
     "metadata": {},
     "outputs": [
      {
       "metadata": {},
       "output_type": "pyout",
       "prompt_number": 97,
       "text": [
        "[4, 6, 2, 'A', 7, 'A', 3, 9]"
       ]
      }
     ],
     "prompt_number": 97
    },
    {
     "cell_type": "code",
     "collapsed": false,
     "input": [],
     "language": "python",
     "metadata": {},
     "outputs": []
    }
   ],
   "metadata": {}
  }
 ]
}