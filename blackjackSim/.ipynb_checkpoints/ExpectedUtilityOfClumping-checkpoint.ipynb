{
 "metadata": {
  "name": ""
 },
 "nbformat": 3,
 "nbformat_minor": 0,
 "worksheets": [
  {
   "cells": [
    {
     "cell_type": "heading",
     "level": 2,
     "metadata": {},
     "source": [
      "Calculating Expected Utilities of Clumping"
     ]
    },
    {
     "cell_type": "markdown",
     "metadata": {},
     "source": [
      "The cell that follows contains all the needed bacground functions such as shuffle, dealer's and player's strategies, and the function that determines the winner. These are all be imported from a module `basicFunctions`."
     ]
    },
    {
     "cell_type": "code",
     "collapsed": false,
     "input": [
      "from basicFunctions import *\n",
      "from pandas import DataFrame \n",
      "from scipy.stats import describe\n",
      "from numpy.random import shuffle\n",
      "from __future__ import division\n",
      "%matplotlib inline"
     ],
     "language": "python",
     "metadata": {},
     "outputs": [],
     "prompt_number": 22
    },
    {
     "cell_type": "markdown",
     "metadata": {},
     "source": [
      "The goal here is to estimate player's expected utilities as the cards clump. The idea is to take the end of a set of deck arranged to have a certain count."
     ]
    },
    {
     "cell_type": "markdown",
     "metadata": {},
     "source": [
      "To begin, we assume that we are working with 3 decks of cards (156) with a positive or a negative count of 15. That means that the actual number of cards is 140, as either 16 low or 16 high cards are excluded to build the deck with the desired count. For the purposes of counting,\n",
      "\n",
      "`low cards` are 2 - 7\n",
      "\n",
      "`high cards` are 8-10\n",
      "\n",
      "`ace` is neutral\n",
      "\n",
      "So we will either be working with decks that have 16 fewer cards in 2-7 or 8-10 range."
     ]
    },
    {
     "cell_type": "code",
     "collapsed": false,
     "input": [
      "# for example:\n",
      "less15tens = deckShuffle(NDecks =3, decks = singleDeck(tens = 11))\n",
      "deck = less15tens[:]"
     ],
     "language": "python",
     "metadata": {},
     "outputs": [],
     "prompt_number": 2
    },
    {
     "cell_type": "code",
     "collapsed": false,
     "input": [
      "# A small adjustment to basic strategy to accomodate the new kind of deck \n",
      "def playerStrategy(dealer, card1, card2, deck):\n",
      "    player = [card1, card2]\n",
      "    total = AddCards(card1, card2)\n",
      "    count = 2\n",
      "    while not Bust(total) and ((not isinstance(total, int) and ((dealer in [9, 10, 'A'] and total[1] < 19) or (dealer not in [9, 10, 'A'] and total[1] < 18))) or  \n",
      "            (isinstance(total, int) and ((total < 17 and dealer in [7, 8, 9, 10, 'A']) or  (total < 13 and dealer in [2, 3, 4, 5, 6]) and not (total == 12 and dealer in [4, 5, 6])))): \n",
      "        count = count + 1\n",
      "        if len(deck) == 0:\n",
      "            deck = less15tens[:]\n",
      "        card = drawACard(deck)\n",
      "        player = player + [card]\n",
      "        total = AddCards(total, card)\n",
      "    if isinstance(total, int): \n",
      "        if total > 21: return 'Bust', count, player\n",
      "        else: return total, count, player\n",
      "    else: \n",
      "        if len(total) == 2: return int(total[1]), count, player\n",
      "        else: return 'Bust', count, player"
     ],
     "language": "python",
     "metadata": {},
     "outputs": [],
     "prompt_number": 3
    },
    {
     "cell_type": "code",
     "collapsed": false,
     "input": [
      "# Similar adjustment to dealer play\n",
      "def dealerPlay(dealer, deck, hard = 17, soft = 17):\n",
      "    lst =[dealer]\n",
      "    if len(deck) == 0: deck = less15tens[:]\n",
      "    card = drawACard(deck)\n",
      "    lst.append(card) \n",
      "    dealer = AddCards(dealer, card)\n",
      "    count = 2\n",
      "    if (not isinstance(dealer, int) and dealer[1] == 21): return 'BJ', count, lst\n",
      "\n",
      "    while not Bust(dealer) and ((isinstance(dealer, int) and dealer < hard) \n",
      "                                or(not isinstance(dealer, int) and dealer[1] < soft)):\n",
      "            count = count + 1\n",
      "            if len(deck) == 0:\n",
      "                 deck = less15tens[:]\n",
      "            card = drawACard(deck)\n",
      "            lst.append(card) \n",
      "            dealer = AddCards(dealer, card)\n",
      "    if isinstance(dealer, int): \n",
      "            if dealer > 21: return 'Bust', count, lst\n",
      "            else: return dealer, count, lst\n",
      "    else: \n",
      "            if len(dealer) == 2: return int(dealer[1]), count, lst\n",
      "            else: return 'Bust', count, lst\n",
      "            \n",
      "            "
     ],
     "language": "python",
     "metadata": {},
     "outputs": [],
     "prompt_number": 4
    },
    {
     "cell_type": "code",
     "collapsed": false,
     "input": [
      "P = playerStrategy(5, 2, 3, deck)\n",
      "D = dealerPlay(5, deck) \n",
      "print 'Player: ', P\n",
      "print 'Dealer: ', D\n",
      "print \"Player's \", playerWin(D[0], P[0])[1]"
     ],
     "language": "python",
     "metadata": {},
     "outputs": [
      {
       "output_type": "stream",
       "stream": "stdout",
       "text": [
        "Player:  (16, 4, [2, 3, 4, 7])\n",
        "Dealer:  (18, 3, [5, 3, 10])\n",
        "Player's  Loss\n"
       ]
      }
     ],
     "prompt_number": 5
    },
    {
     "cell_type": "code",
     "collapsed": false,
     "input": [
      "for i in range(10): \n",
      "    P = playerStrategy(5, 2, 3, deck)\n",
      "    D = dealerPlay(5, deck) \n",
      "    print 'Player: ', P\n",
      "    print 'Dealer: ', D\n",
      "    print \"Player's \", playerWin(D[0], P[0])[1]\n",
      "    print ' '"
     ],
     "language": "python",
     "metadata": {},
     "outputs": [
      {
       "output_type": "stream",
       "stream": "stdout",
       "text": [
        "Player:  (13, 3, [2, 3, 8])\n",
        "Dealer:  ('Bust', 3, [5, 10, 10])\n",
        "Player's  Win\n",
        " \n",
        "Player:  (13, 3, [2, 3, 8])\n",
        "Dealer:  ('Bust', 3, [5, 7, 10])\n",
        "Player's  Win\n",
        " \n",
        "Player:  (15, 4, [2, 3, 6, 4])\n",
        "Dealer:  (19, 4, [5, 4, 3, 7])\n",
        "Player's  Loss\n",
        " \n",
        "Player:  (14, 3, [2, 3, 9])\n",
        "Dealer:  ('Bust', 3, [5, 10, 7])\n",
        "Player's  Win\n",
        " \n",
        "Player:  (17, 4, [2, 3, 2, 10])\n",
        "Dealer:  (18, 4, [5, 2, 5, 6])\n",
        "Player's  Loss\n",
        " \n",
        "Player:  (15, 3, [2, 3, 10])\n",
        "Dealer:  ('Bust', 3, [5, 10, 10])\n",
        "Player's  Win\n",
        " \n",
        "Player:  (19, 4, [2, 3, 6, 8])\n",
        "Dealer:  (17, 3, [5, 8, 4])\n",
        "Player's  Win\n",
        " \n",
        "Player:  (21, 4, [2, 3, 6, 10])\n",
        "Dealer:  (18, 3, [5, 4, 9])\n",
        "Player's  Win\n",
        " \n",
        "Player:  (15, 3, [2, 3, 10])\n",
        "Dealer:  (20, 3, [5, 5, 10])\n",
        "Player's  Loss\n",
        " \n",
        "Player:  (16, 4, [2, 3, 'A', 10])\n",
        "Dealer:  ('Bust', 3, [5, 10, 10])\n",
        "Player's  Win\n",
        " \n"
       ]
      }
     ],
     "prompt_number": 6
    },
    {
     "cell_type": "code",
     "collapsed": false,
     "input": [
      "deck = less15tens[:]\n",
      "count = 0\n",
      "for i in range(23): \n",
      "    d = drawACard(deck)\n",
      "    P = playerStrategy(d, drawACard(deck), drawACard(deck), deck)\n",
      "    D = dealerPlay(d, deck) \n",
      "    print 'Player: ', P\n",
      "    print 'Dealer: ', D\n",
      "    print \"Player's \", playerWin(D[0], P[0])[1]\n",
      "    count += playerWin(D[0], P[0])[0]\n",
      "    print ' '\n",
      "print 'In 23 rounds, the player lost/won: $',count \n",
      "print 'The remaining cards: ', len(deck)"
     ],
     "language": "python",
     "metadata": {},
     "outputs": [
      {
       "output_type": "stream",
       "stream": "stdout",
       "text": [
        "Player:  (19, 2, [9, 10])\n",
        "Dealer:  (17, 2, [10, 7])\n",
        "Player's  Win\n",
        " \n",
        "Player:  (14, 3, [5, 6, 3])\n",
        "Dealer:  (19, 3, [5, 9, 5])\n",
        "Player's  Loss\n",
        " \n",
        "Player:  (17, 3, [2, 9, 6])\n",
        "Dealer:  (19, 3, [10, 2, 7])\n",
        "Player's  Loss\n",
        " \n",
        "Player:  ('Bust', 4, [6, 4, 5, 10])\n",
        "Dealer:  (19, 2, [8, 'A'])\n",
        "Player's  Loss\n",
        " \n",
        "Player:  (17, 3, [7, 2, 8])\n",
        "Dealer:  (19, 2, [9, 10])\n",
        "Player's  Loss\n",
        " \n",
        "Player:  (18, 3, [5, 5, 8])\n",
        "Dealer:  ('Bust', 3, [6, 10, 9])\n",
        "Player's  Win\n",
        " \n",
        "Player:  (17, 3, [6, 'A', 10])\n",
        "Dealer:  ('Bust', 4, [3, 'A', 10, 8])\n",
        "Player's  Win\n",
        " \n",
        "Player:  (20, 2, [10, 10])\n",
        "Dealer:  ('Bust', 4, [7, 2, 4, 9])\n",
        "Player's  Win\n",
        " \n",
        "Player:  (21, 3, [4, 7, 10])\n",
        "Dealer:  (17, 3, [5, 9, 3])\n",
        "Player's  Win\n",
        " \n",
        "Player:  ('Bust', 5, ['A', 3, 'A', 9, 10])\n",
        "Dealer:  (17, 2, [10, 7])\n",
        "Player's  Loss\n",
        " \n",
        "Player:  (19, 6, [2, 'A', 4, 6, 3, 3])\n",
        "Dealer:  (18, 2, [10, 8])\n",
        "Player's  Win\n",
        " \n",
        "Player:  (13, 2, [6, 7])\n",
        "Dealer:  (18, 3, [4, 10, 4])\n",
        "Player's  Loss\n",
        " \n",
        "Player:  (16, 3, [4, 2, 10])\n",
        "Dealer:  (18, 3, [5, 3, 10])\n",
        "Player's  Loss\n",
        " \n",
        "Player:  (20, 2, [10, 10])\n",
        "Dealer:  (17, 3, [10, 3, 4])\n",
        "Player's  Win\n",
        " \n",
        "Player:  (21, 5, [2, 2, 'A', 2, 4])\n",
        "Dealer:  (19, 2, ['A', 8])\n",
        "Player's  Win\n",
        " \n",
        "Player:  ('Bust', 4, [8, 5, 3, 6])\n",
        "Dealer:  ('Bust', 3, [7, 7, 8])\n",
        "Player's  Loss\n",
        " \n",
        "Player:  (13, 3, [2, 'A', 10])\n",
        "Dealer:  ('Bust', 3, [6, 10, 10])\n",
        "Player's  Win\n",
        " \n",
        "Player:  (13, 2, [10, 3])\n",
        "Dealer:  ('Bust', 5, [4, 7, 3, 'A', 10])\n",
        "Player's  Win\n",
        " \n",
        "Player:  (17, 2, [8, 9])\n",
        "Dealer:  ('Bust', 3, [4, 10, 8])\n",
        "Player's  Win\n",
        " \n",
        "Player:  (12, 2, [10, 2])\n",
        "Dealer:  ('Bust', 3, [5, 10, 10])\n",
        "Player's  Win\n",
        " \n",
        "Player:  ('Bust', 5, [6, 6, 3, 'A', 9])\n",
        "Dealer:  ('Bust', 4, ['A', 5, 10, 6])\n",
        "Player's  Loss\n",
        " \n",
        "Player:  (18, 2, [10, 8])\n",
        "Dealer:  (18, 3, [9, 2, 7])\n",
        "Player's  Push\n",
        " \n",
        "Player:  ('Bust', 3, [7, 9, 10])\n",
        "Dealer:  (19, 3, [10, 5, 4])\n",
        "Player's  Loss\n",
        " \n",
        "In 23 rounds, the player lost/won: $ 2\n",
        "The remaining cards:  1\n"
       ]
      }
     ],
     "prompt_number": 9
    },
    {
     "cell_type": "code",
     "collapsed": false,
     "input": [],
     "language": "python",
     "metadata": {},
     "outputs": []
    },
    {
     "cell_type": "heading",
     "level": 3,
     "metadata": {},
     "source": [
      "Monte Carlo simulation for calculating and comparing the expected utilities"
     ]
    },
    {
     "cell_type": "markdown",
     "metadata": {},
     "source": [
      "We count loss as -1, win as 1 (unless it is a 'BJ', then 1.5) and push as 0. We are interested in total count over some number of plays. Here is the idea for 10 plays:"
     ]
    },
    {
     "cell_type": "code",
     "collapsed": false,
     "input": [
      "less15tens = deckShuffle(NDecks =3, decks = singleDeck(tens = 11))\n",
      "deck = less15tens[:]\n",
      "count = 0\n",
      "for i in range(10): \n",
      "    P = playerStrategy(5, 2, 3, deck)\n",
      "    D = dealerPlay(5, deck) \n",
      "    print 'Player: ', P\n",
      "    print 'Dealer: ', D\n",
      "    print \"Player's \", playerWin(D[0], P[0])[1]\n",
      "    count += playerWin(D[0], P[0])[0]\n",
      "    print ' '\n",
      "print 'In ten rounds, the player lost/won: $',count    "
     ],
     "language": "python",
     "metadata": {},
     "outputs": [
      {
       "output_type": "stream",
       "stream": "stdout",
       "text": [
        "Player:  (13, 3, [2, 3, 8])\n",
        "Dealer:  (21, 3, [5, 6, 10])\n",
        "Player's  Loss\n",
        " \n",
        "Player:  (12, 3, [2, 3, 7])\n",
        "Dealer:  (21, 4, [5, 5, 6, 5])\n",
        "Player's  Loss\n",
        " \n",
        "Player:  (17, 4, [2, 3, 4, 8])\n",
        "Dealer:  ('Bust', 3, [5, 10, 10])\n",
        "Player's  Win\n",
        " \n",
        "Player:  (14, 4, [2, 3, 'A', 8])\n",
        "Dealer:  (18, 3, [5, 4, 9])\n",
        "Player's  Loss\n",
        " \n",
        "Player:  (15, 3, [2, 3, 10])\n",
        "Dealer:  ('Bust', 3, [5, 10, 7])\n",
        "Player's  Win\n",
        " \n",
        "Player:  (13, 3, [2, 3, 8])\n",
        "Dealer:  (17, 3, [5, 2, 10])\n",
        "Player's  Loss\n",
        " \n",
        "Player:  (16, 4, [2, 3, 'A', 10])\n",
        "Dealer:  (19, 3, [5, 'A', 3])\n",
        "Player's  Loss\n",
        " \n",
        "Player:  (16, 4, [2, 3, 2, 9])\n",
        "Dealer:  (21, 4, [5, 6, 5, 5])\n",
        "Player's  Loss\n",
        " \n",
        "Player:  (13, 3, [2, 3, 8])\n",
        "Dealer:  (20, 3, [5, 4, 'A'])\n",
        "Player's  Loss\n",
        " \n",
        "Player:  (13, 5, [2, 3, 3, 3, 2])\n",
        "Dealer:  (18, 3, [5, 10, 3])\n",
        "Player's  Loss\n",
        " \n",
        "In ten rounds, the player lost/won: $ -6\n"
       ]
      }
     ],
     "prompt_number": 10
    },
    {
     "cell_type": "markdown",
     "metadata": {},
     "source": [
      "In fact, we want to know the count for a much larger number of games for it to have any statistical significance. We pick 10000 rounds, but rather than printing all the games, keep track of count only:"
     ]
    },
    {
     "cell_type": "code",
     "collapsed": false,
     "input": [
      "def cardUtility(dealer, countAdjustedDeck, runNumber=100, handNumber =10000):\n",
      "    countAdjustedDeck.remove(dealer) # Remove dealer's card from the deck\n",
      "    deck = countAdjustedDeck[:] # Assign the adjusted deck to be the playing deck\n",
      "    list1 = []\n",
      "    for j in xrange(runNumber): # The number of runs\n",
      "        winCount = 0\n",
      "        for i in xrange(handNumber): # The number of hands\n",
      "            P = playerStrategy(dealer, drawACard(deck), drawACard(deck), deck) # Player plays\n",
      "            D = dealerPlay(dealer, deck)  # Dealer plays\n",
      "            winCount += playerWin(D[0], P[0])[0]   # Determine the winner and adjust the count\n",
      "            if len(deck)<10: deck = countAdjustedDeck[:] # Reshuffle using the adjusted deck\n",
      "        list1.append(winCount) \n",
      "    return array(list1)/handNumber # Return the array of realized utilities as percentages   "
     ],
     "language": "python",
     "metadata": {},
     "outputs": [],
     "prompt_number": 96
    },
    {
     "cell_type": "code",
     "collapsed": false,
     "input": [
      "countAdjustedDeck = deckShuffle(NDecks =3)\n",
      "oout = cardUtility(9, countAdjustedDeck)"
     ],
     "language": "python",
     "metadata": {},
     "outputs": [],
     "prompt_number": 103
    },
    {
     "cell_type": "code",
     "collapsed": false,
     "input": [
      "countAdjustedDeck = deckShuffle(NDecks =3, decks = singleDeck(tens = 11))\n",
      "OOut = cardUtility(9, countAdjustedDeck)"
     ],
     "language": "python",
     "metadata": {},
     "outputs": [],
     "prompt_number": 104
    },
    {
     "cell_type": "code",
     "collapsed": false,
     "input": [
      "print oout.mean()\n",
      "print oout.std()\n",
      "print OOut.mean()\n",
      "print OOut.std()"
     ],
     "language": "python",
     "metadata": {},
     "outputs": [
      {
       "output_type": "stream",
       "stream": "stdout",
       "text": [
        "-0.076459\n",
        "0.00951269777718\n",
        "-0.069005\n",
        "0.00932567825952\n"
       ]
      }
     ],
     "prompt_number": 105
    },
    {
     "cell_type": "code",
     "collapsed": false,
     "input": [
      "countAdjustedDeck = deckShuffle(NDecks =3, decks = singleDeck(tens = 11))\n",
      "OO=array([cardUtility(9, countAdjustedDeck, runNumber=100, handNumber =23).mean() for i in xrange(100)])\n",
      "print OO.mean()\n",
      "print OO.std()"
     ],
     "language": "python",
     "metadata": {},
     "outputs": [
      {
       "ename": "ValueError",
       "evalue": "list.remove(x): x not in list",
       "output_type": "pyerr",
       "traceback": [
        "\u001b[0;31m---------------------------------------------------------------------------\u001b[0m\n\u001b[0;31mValueError\u001b[0m                                Traceback (most recent call last)",
        "\u001b[0;32m<ipython-input-106-afbf98bdb468>\u001b[0m in \u001b[0;36m<module>\u001b[0;34m()\u001b[0m\n\u001b[1;32m      1\u001b[0m \u001b[0mcountAdjustedDeck\u001b[0m \u001b[0;34m=\u001b[0m \u001b[0mdeckShuffle\u001b[0m\u001b[0;34m(\u001b[0m\u001b[0mNDecks\u001b[0m \u001b[0;34m=\u001b[0m\u001b[0;36m3\u001b[0m\u001b[0;34m,\u001b[0m \u001b[0mdecks\u001b[0m \u001b[0;34m=\u001b[0m \u001b[0msingleDeck\u001b[0m\u001b[0;34m(\u001b[0m\u001b[0mtens\u001b[0m \u001b[0;34m=\u001b[0m \u001b[0;36m11\u001b[0m\u001b[0;34m)\u001b[0m\u001b[0;34m)\u001b[0m\u001b[0;34m\u001b[0m\u001b[0m\n\u001b[0;32m----> 2\u001b[0;31m \u001b[0mOO\u001b[0m\u001b[0;34m=\u001b[0m\u001b[0marray\u001b[0m\u001b[0;34m(\u001b[0m\u001b[0;34m[\u001b[0m\u001b[0mcardUtility\u001b[0m\u001b[0;34m(\u001b[0m\u001b[0;36m9\u001b[0m\u001b[0;34m,\u001b[0m \u001b[0mcountAdjustedDeck\u001b[0m\u001b[0;34m,\u001b[0m \u001b[0mrunNumber\u001b[0m\u001b[0;34m=\u001b[0m\u001b[0;36m100\u001b[0m\u001b[0;34m,\u001b[0m \u001b[0mhandNumber\u001b[0m \u001b[0;34m=\u001b[0m\u001b[0;36m23\u001b[0m\u001b[0;34m)\u001b[0m\u001b[0;34m.\u001b[0m\u001b[0mmean\u001b[0m\u001b[0;34m(\u001b[0m\u001b[0;34m)\u001b[0m \u001b[0;32mfor\u001b[0m \u001b[0mi\u001b[0m \u001b[0;32min\u001b[0m \u001b[0mxrange\u001b[0m\u001b[0;34m(\u001b[0m\u001b[0;36m100\u001b[0m\u001b[0;34m)\u001b[0m\u001b[0;34m]\u001b[0m\u001b[0;34m)\u001b[0m\u001b[0;34m\u001b[0m\u001b[0m\n\u001b[0m\u001b[1;32m      3\u001b[0m \u001b[0;32mprint\u001b[0m \u001b[0mOO\u001b[0m\u001b[0;34m.\u001b[0m\u001b[0mmean\u001b[0m\u001b[0;34m(\u001b[0m\u001b[0;34m)\u001b[0m\u001b[0;34m\u001b[0m\u001b[0m\n\u001b[1;32m      4\u001b[0m \u001b[0;32mprint\u001b[0m \u001b[0mOO\u001b[0m\u001b[0;34m.\u001b[0m\u001b[0mstd\u001b[0m\u001b[0;34m(\u001b[0m\u001b[0;34m)\u001b[0m\u001b[0;34m\u001b[0m\u001b[0m\n",
        "\u001b[0;32m<ipython-input-96-15fd42a8443b>\u001b[0m in \u001b[0;36mcardUtility\u001b[0;34m(dealer, countAdjustedDeck, runNumber, handNumber)\u001b[0m\n\u001b[1;32m      1\u001b[0m \u001b[0;32mdef\u001b[0m \u001b[0mcardUtility\u001b[0m\u001b[0;34m(\u001b[0m\u001b[0mdealer\u001b[0m\u001b[0;34m,\u001b[0m \u001b[0mcountAdjustedDeck\u001b[0m\u001b[0;34m,\u001b[0m \u001b[0mrunNumber\u001b[0m\u001b[0;34m=\u001b[0m\u001b[0;36m100\u001b[0m\u001b[0;34m,\u001b[0m \u001b[0mhandNumber\u001b[0m \u001b[0;34m=\u001b[0m\u001b[0;36m10000\u001b[0m\u001b[0;34m)\u001b[0m\u001b[0;34m:\u001b[0m\u001b[0;34m\u001b[0m\u001b[0m\n\u001b[0;32m----> 2\u001b[0;31m     \u001b[0mcountAdjustedDeck\u001b[0m\u001b[0;34m.\u001b[0m\u001b[0mremove\u001b[0m\u001b[0;34m(\u001b[0m\u001b[0mdealer\u001b[0m\u001b[0;34m)\u001b[0m \u001b[0;31m# Remove dealer's card from the deck\u001b[0m\u001b[0;34m\u001b[0m\u001b[0m\n\u001b[0m\u001b[1;32m      3\u001b[0m     \u001b[0mdeck\u001b[0m \u001b[0;34m=\u001b[0m \u001b[0mcountAdjustedDeck\u001b[0m\u001b[0;34m[\u001b[0m\u001b[0;34m:\u001b[0m\u001b[0;34m]\u001b[0m \u001b[0;31m# Assign the adjusted deck to be the playing deck\u001b[0m\u001b[0;34m\u001b[0m\u001b[0m\n\u001b[1;32m      4\u001b[0m     \u001b[0mlist1\u001b[0m \u001b[0;34m=\u001b[0m \u001b[0;34m[\u001b[0m\u001b[0;34m]\u001b[0m\u001b[0;34m\u001b[0m\u001b[0m\n\u001b[1;32m      5\u001b[0m     \u001b[0;32mfor\u001b[0m \u001b[0mj\u001b[0m \u001b[0;32min\u001b[0m \u001b[0mxrange\u001b[0m\u001b[0;34m(\u001b[0m\u001b[0mrunNumber\u001b[0m\u001b[0;34m)\u001b[0m\u001b[0;34m:\u001b[0m \u001b[0;31m# The number of runs\u001b[0m\u001b[0;34m\u001b[0m\u001b[0m\n",
        "\u001b[0;31mValueError\u001b[0m: list.remove(x): x not in list"
       ]
      }
     ],
     "prompt_number": 106
    },
    {
     "cell_type": "code",
     "collapsed": false,
     "input": [
      "dealer = 9\n",
      "countAdjustedDeck.remove(dealer)\n",
      "deck = countAdjustedDeck[:]\n",
      "len(deck)"
     ],
     "language": "python",
     "metadata": {},
     "outputs": [
      {
       "metadata": {},
       "output_type": "pyout",
       "prompt_number": 95,
       "text": [
        "140"
       ]
      }
     ],
     "prompt_number": 95
    },
    {
     "cell_type": "code",
     "collapsed": false,
     "input": [
      "dealerCard = range(2, 11) + ['A']"
     ],
     "language": "python",
     "metadata": {},
     "outputs": []
    },
    {
     "cell_type": "code",
     "collapsed": false,
     "input": [
      "print BB.mean()\n",
      "print BB.std()\n",
      "BB"
     ],
     "language": "python",
     "metadata": {},
     "outputs": [
      {
       "output_type": "stream",
       "stream": "stdout",
       "text": [
        "-0.108695652174\n",
        "0.103346646296\n"
       ]
      },
      {
       "metadata": {},
       "output_type": "pyout",
       "prompt_number": 82,
       "text": [
        "array([-0.08695652,  0.        ,  0.        ,  0.04347826, -0.17391304,\n",
        "       -0.30434783, -0.08695652, -0.17391304, -0.08695652, -0.2173913 ])"
       ]
      }
     ],
     "prompt_number": 82
    },
    {
     "cell_type": "code",
     "collapsed": false,
     "input": [
      "hist(BB);"
     ],
     "language": "python",
     "metadata": {},
     "outputs": [
      {
       "metadata": {},
       "output_type": "display_data",
       "png": "[encoded data removed]",
       "text": [
        "<matplotlib.figure.Figure at 0x108702210>"
       ]
      }
     ],
     "prompt_number": 69
    },
    {
     "cell_type": "code",
     "collapsed": false,
     "input": [
      "print AA.mean()\n",
      "print AA.std()\n",
      "AA"
     ],
     "language": "python",
     "metadata": {},
     "outputs": [
      {
       "output_type": "stream",
       "stream": "stdout",
       "text": [
        "-0.069479\n",
        "0.00895287992771\n"
       ]
      },
      {
       "metadata": {},
       "output_type": "pyout",
       "prompt_number": 56,
       "text": [
        "array([-0.0756, -0.0674, -0.0713, -0.0714, -0.0562, -0.0593, -0.0727,\n",
        "       -0.0561, -0.0571, -0.0633, -0.0728, -0.0753, -0.0734, -0.071 ,\n",
        "       -0.086 , -0.0772, -0.0759, -0.0637, -0.0667, -0.082 , -0.0637,\n",
        "       -0.0712, -0.0734, -0.0722, -0.076 , -0.0509, -0.0748, -0.0658,\n",
        "       -0.0821, -0.08  , -0.0735, -0.0662, -0.0726, -0.0544, -0.0663,\n",
        "       -0.0735, -0.0761, -0.0763, -0.0481, -0.0663, -0.0665, -0.0866,\n",
        "       -0.0546, -0.0784, -0.0603, -0.0647, -0.062 , -0.0753, -0.0789,\n",
        "       -0.0697, -0.0761, -0.0728, -0.0746, -0.0807, -0.0491, -0.0634,\n",
        "       -0.0656, -0.0615, -0.0711, -0.0665, -0.0693, -0.045 , -0.0542,\n",
        "       -0.0612, -0.0676, -0.0517, -0.0861, -0.0644, -0.0664, -0.0729,\n",
        "       -0.0773, -0.0702, -0.0718, -0.0721, -0.0733, -0.0838, -0.0538,\n",
        "       -0.0732, -0.0661, -0.0663, -0.0857, -0.0686, -0.0715, -0.069 ,\n",
        "       -0.0664, -0.0782, -0.0727, -0.0737, -0.0657, -0.0615, -0.0545,\n",
        "       -0.0781, -0.0662, -0.0716, -0.0775, -0.0814, -0.086 , -0.0723,\n",
        "       -0.0682, -0.0762])"
       ]
      }
     ],
     "prompt_number": 56
    },
    {
     "cell_type": "code",
     "collapsed": false,
     "input": [
      "hist(AA)"
     ],
     "language": "python",
     "metadata": {},
     "outputs": [
      {
       "metadata": {},
       "output_type": "pyout",
       "prompt_number": 54,
       "text": [
        "(array([  6.,   7.,  16.,  25.,  18.,  10.,   5.,   8.,   2.,   3.]),\n",
        " array([-0.0866 , -0.08244, -0.07828, -0.07412, -0.06996, -0.0658 ,\n",
        "       -0.06164, -0.05748, -0.05332, -0.04916, -0.045  ]),\n",
        " <a list of 10 Patch objects>)"
       ]
      },
      {
       "metadata": {},
       "output_type": "display_data",
       "png": "[encoded data removed]",
       "text": [
        "<matplotlib.figure.Figure at 0x1085caa50>"
       ]
      }
     ],
     "prompt_number": 54
    },
    {
     "cell_type": "code",
     "collapsed": false,
     "input": [
      "print AA.mean()\n",
      "AA.std()"
     ],
     "language": "python",
     "metadata": {},
     "outputs": [
      {
       "output_type": "stream",
       "stream": "stdout",
       "text": [
        "-0.070497\n"
       ]
      },
      {
       "metadata": {},
       "output_type": "pyout",
       "prompt_number": 45,
       "text": [
        "0.009758652109794673"
       ]
      }
     ],
     "prompt_number": 45
    },
    {
     "cell_type": "code",
     "collapsed": false,
     "input": [
      "print AA.mean()\n",
      "AA.std()"
     ],
     "language": "python",
     "metadata": {},
     "outputs": [
      {
       "output_type": "stream",
       "stream": "stdout",
       "text": [
        "-0.0709\n"
       ]
      },
      {
       "metadata": {},
       "output_type": "pyout",
       "prompt_number": 43,
       "text": [
        "0.027089296779355496"
       ]
      }
     ],
     "prompt_number": 43
    },
    {
     "cell_type": "code",
     "collapsed": false,
     "input": [
      "def expUtilList(ls):\n",
      "    result = array(ls).sum()/len(ls)\n",
      "    return result"
     ],
     "language": "python",
     "metadata": {},
     "outputs": [],
     "prompt_number": 27
    },
    {
     "cell_type": "code",
     "collapsed": false,
     "input": [
      "expUtilList(AA)"
     ],
     "language": "python",
     "metadata": {},
     "outputs": [
      {
       "metadata": {},
       "output_type": "pyout",
       "prompt_number": 32,
       "text": [
        "-0.070402000000000006"
       ]
      }
     ],
     "prompt_number": 32
    },
    {
     "cell_type": "code",
     "collapsed": false,
     "input": [
      "AA"
     ],
     "language": "python",
     "metadata": {},
     "outputs": [
      {
       "metadata": {},
       "output_type": "pyout",
       "prompt_number": 29,
       "text": [
        "[-0.057,\n",
        " -0.0607,\n",
        " -0.0842,\n",
        " -0.0821,\n",
        " -0.0815,\n",
        " -0.0727,\n",
        " -0.0604,\n",
        " -0.0829,\n",
        " -0.056,\n",
        " -0.0614,\n",
        " -0.0698,\n",
        " -0.0665,\n",
        " -0.0834,\n",
        " -0.0627,\n",
        " -0.0635,\n",
        " -0.0687,\n",
        " -0.0676,\n",
        " -0.0509,\n",
        " -0.0695,\n",
        " -0.0922,\n",
        " -0.063,\n",
        " -0.0611,\n",
        " -0.0745,\n",
        " -0.065,\n",
        " -0.0631,\n",
        " -0.072,\n",
        " -0.0703,\n",
        " -0.0595,\n",
        " -0.0654,\n",
        " -0.0587,\n",
        " -0.065,\n",
        " -0.0705,\n",
        " -0.0723,\n",
        " -0.0706,\n",
        " -0.0625,\n",
        " -0.0563,\n",
        " -0.0758,\n",
        " -0.07,\n",
        " -0.0692,\n",
        " -0.0525,\n",
        " -0.0486,\n",
        " -0.0784,\n",
        " -0.0642,\n",
        " -0.0565,\n",
        " -0.0674,\n",
        " -0.0558,\n",
        " -0.0621,\n",
        " -0.0677,\n",
        " -0.0668,\n",
        " -0.0762,\n",
        " -0.0753,\n",
        " -0.0661,\n",
        " -0.0618,\n",
        " -0.0681,\n",
        " -0.068,\n",
        " -0.0707,\n",
        " -0.0633,\n",
        " -0.0483,\n",
        " -0.0683,\n",
        " -0.0682,\n",
        " -0.0633,\n",
        " -0.0766,\n",
        " -0.0686,\n",
        " -0.0756,\n",
        " -0.0751,\n",
        " -0.0728,\n",
        " -0.0608,\n",
        " -0.0819,\n",
        " -0.0698,\n",
        " -0.0702,\n",
        " -0.0712,\n",
        " -0.0693,\n",
        " -0.0731,\n",
        " -0.078,\n",
        " -0.0744,\n",
        " -0.0598,\n",
        " -0.0654,\n",
        " -0.0713,\n",
        " -0.0679,\n",
        " -0.0733,\n",
        " -0.0537,\n",
        " -0.0588,\n",
        " -0.067,\n",
        " -0.0724,\n",
        " -0.0605,\n",
        " -0.0472,\n",
        " -0.0452,\n",
        " -0.0723,\n",
        " -0.0627,\n",
        " -0.0717,\n",
        " -0.0727,\n",
        " -0.051,\n",
        " -0.0739,\n",
        " -0.0851,\n",
        " -0.0802,\n",
        " -0.0795,\n",
        " -0.0592,\n",
        " -0.0462,\n",
        " -0.0596,\n",
        " -0.0669]"
       ]
      }
     ],
     "prompt_number": 29
    },
    {
     "cell_type": "markdown",
     "metadata": {},
     "source": [
      "We could then figure out what percentage of 10,000 is the outcome and claim that as an estimate of expected utility, but since this number will tend to vary quite a bit even with 10,000 rounds, a more prudent approach is to pick a smaller number, say 1,000 rounds, and obtain a hundred results over 1,000 rounds and then average them out to get an estimate of expected utility. This, it turns out, gives us a pretty reliable estimate. "
     ]
    },
    {
     "cell_type": "markdown",
     "metadata": {},
     "source": [
      "Player plays 1000 rounds against the dealer. He does this 100 times. The results are averaged, and the expected return is found to be around -2.5%. By visually inspecting the list1, one sees that the player loses about 25 more times than he wins."
     ]
    },
    {
     "cell_type": "code",
     "collapsed": false,
     "input": [
      "deck = deckShuffle()\n",
      "list1=[]\n",
      "for j in range(100):\n",
      "  count = 0\n",
      "  for i in range(1000):\n",
      "      P = playerStrategy(5, 2, 3, deck)\n",
      "      D = dealerPlay(5, deck) \n",
      "      count += playerWin(D[0], P[0])[0] \n",
      "      if len(deck)<10: deck = deckShuffle()  \n",
      "  list1.append(count)\n",
      "print list1 "
     ],
     "language": "python",
     "metadata": {},
     "outputs": [
      {
       "output_type": "stream",
       "stream": "stdout",
       "text": [
        "[12, -80, -28, -35, -11, -47, -25, -10, -16, -9, -49, -68, 47, -39, -50, 2, -58, -39, -24, -45, -10, -27, 4, -55, -38, -43, 30, -5, -25, -40, 19, -16, -15, -35, -17, -41, -48, -93, 30, -34, -10, -9, -27, -64, -27, -81, -28, -125, 1, -39, -14, -34, -65, 41, -47, -32, -46, -63, -18, -1, -42, -10, -40, -56, -25, 31, -48, -41, -75, -28, -2, -2, -70, 22, -25, -36, -16, 0, 9, -19, -26, -47, 21, -21, 59, -44, -51, -30, 11, -40, 7, -28, -6, -1, -38, -43, 3, -20, -71, -6]\n"
       ]
      }
     ],
     "prompt_number": 7
    },
    {
     "cell_type": "markdown",
     "metadata": {},
     "source": [
      "We average out the expected outcomes of 1000 hands played 100 times to get a good approximation of expected utility"
     ]
    },
    {
     "cell_type": "code",
     "collapsed": false,
     "input": [
      "l = 0\n",
      "for i in list1:\n",
      "  l = l + i/1000.\n",
      "print l/100."
     ],
     "language": "python",
     "metadata": {},
     "outputs": [
      {
       "output_type": "stream",
       "stream": "stdout",
       "text": [
        "-0.02563\n"
       ]
      }
     ],
     "prompt_number": 8
    },
    {
     "cell_type": "markdown",
     "metadata": {},
     "source": [
      "Plot the variance. See that the mean is somewhere around -25 but it varies from one set of 1000  hands to another."
     ]
    },
    {
     "cell_type": "code",
     "collapsed": false,
     "input": [
      "figsize(6,4)\n",
      "hist(list1, color='k', alpha = .15);"
     ],
     "language": "python",
     "metadata": {},
     "outputs": [
      {
       "metadata": {},
       "output_type": "display_data",
       "png": "[encoded data removed]",
       "text": [
        "<matplotlib.figure.Figure at 0x1082bf110>"
       ]
      }
     ],
     "prompt_number": 9
    },
    {
     "cell_type": "code",
     "collapsed": false,
     "input": [
      "print '-------'\n",
      "print '''Summary stats for Player 1 (never bust)'''\n",
      "print '-------'\n",
      "Size,  Range, Mean, variance, skewness, kurtosis = describe(list1)\n",
      "print 'Number of observations: ', Size\n",
      "print 'Mean: ',  Mean\n",
      "print 'Min to Max: ', Range\n",
      "print 'Variance: ', variance\n",
      "print 'Standard Dev.: ', sqrt(variance)\n",
      "print 'Skewness: ', skewness\n",
      "print 'Kurtosis: ', kurtosis\n",
      "print '-------'\n",
      "print '-------'"
     ],
     "language": "python",
     "metadata": {},
     "outputs": [
      {
       "output_type": "stream",
       "stream": "stdout",
       "text": [
        "-------\n",
        "Summary stats for Player 1 (never bust)\n",
        "-------\n",
        "Number of observations:  100\n",
        "Mean:  -25.63\n",
        "Min to Max:  (-125, 59)\n",
        "Variance:  930.639494949\n",
        "Standard Dev.:  30.5063844949\n",
        "Skewness:  0.0336812984614\n",
        "Kurtosis:  0.767678565287\n",
        "-------\n",
        "-------\n"
       ]
      }
     ],
     "prompt_number": 10
    },
    {
     "cell_type": "markdown",
     "metadata": {},
     "source": [
      "We can ask more ambitious questions. Given two other player strategies, `copy dealer` and `basic`, which one has the highest expected return? A small extension of our method does just that."
     ]
    },
    {
     "cell_type": "code",
     "collapsed": false,
     "input": [
      "deck = deckShuffle()\n",
      "list1=[]\n",
      "list2=[]\n",
      "list3=[]\n",
      "\n",
      "player1 = 2\n",
      "dealer = 5\n",
      "player2 = 3\n",
      "\n",
      "for j in range(100):\n",
      "  count = 0\n",
      "  count1 = 0\n",
      "  count2 = 0  \n",
      "  for i in range(1000):\n",
      "      P = playerStrategy(dealer, player1, player2, deck)\n",
      "      P2 = copyDealer(player1, player2, deck) # Player 2 plays copy the dealer strategy \n",
      "      P3 = basicStrategy(dealer, player1, player2, deck)  # Player 3 plays basic strategy  \n",
      "      D = dealerPlay(dealer, deck) \n",
      "      count += playerWin(D[0], P[0])[0]\n",
      "      count1 += playerWin(D[0], P2[0])[0] \n",
      "      count2 += playerWin(D[0], P3[0])[0]\n",
      "      if len(deck)<10: deck = deckShuffle()  \n",
      "  list1.append(count)\n",
      "  list2.append(count1)\n",
      "  list3.append(count2) \n",
      "        \n",
      "\n",
      "ls = zip(list1, list2, list3)\n",
      "l = 0\n",
      "l2 = 0\n",
      "l3 = 0\n",
      "for i, j, k in ls:\n",
      "  l = l + i/1000.\n",
      "  l2 = l2 + j/1000.\n",
      "  l3 = l3 + k/1000.  \n",
      "print 'Expected return for P playing never bust: ', l/100.\n",
      "print 'Expected return for P2 copying the dealer: ', l2/100.\n",
      "print 'Expected return for P3 playing basic strategy: ', l3/100.        "
     ],
     "language": "python",
     "metadata": {},
     "outputs": [
      {
       "output_type": "stream",
       "stream": "stdout",
       "text": [
        "Expected return for P playing never bust:  -0.02542\n",
        "Expected return for P2 copying the dealer:  -0.17055\n",
        "Expected return for P3 playing basic strategy:  -0.02552\n"
       ]
      }
     ],
     "prompt_number": 11
    },
    {
     "cell_type": "markdown",
     "metadata": {},
     "source": [
      "We can plot the three strategies and see that `basic` (blue) and `never bust` (gray) are more or less the same on this problem, and average close to -0.025, but the third strategy, `copy dealer`, does much worse at around -0.17."
     ]
    },
    {
     "cell_type": "code",
     "collapsed": false,
     "input": [
      "figsize(14, 5)\n",
      "hist(list1, color = 'k', alpha = .1)\n",
      "hist(list2, color = 'r', alpha = .1)\n",
      "hist(list3, color = 'b', alpha = .1);"
     ],
     "language": "python",
     "metadata": {},
     "outputs": [
      {
       "metadata": {},
       "output_type": "display_data",
       "png": "[encoded data removed]",
       "text": [
        "<matplotlib.figure.Figure at 0x10875ea10>"
       ]
      }
     ],
     "prompt_number": 12
    },
    {
     "cell_type": "markdown",
     "metadata": {},
     "source": [
      "We next put all the insights together into a single model. To compare the three strategy given the player's initial two cards\n",
      "\n",
      "`player1 = 2`\n",
      "\n",
      "and\n",
      "\n",
      "`player = 3`\n",
      "\n",
      "and dealer's first card \n",
      "\n",
      "`dealer = 5`\n",
      "\n",
      "we simply substitute `n, m` and `k` for 2, 3 and 5 in the model below and run it. We run it for `x` and `y` below."
     ]
    },
    {
     "cell_type": "heading",
     "level": 3,
     "metadata": {},
     "source": [
      "Calculating the expected utility of player's hard total of `n` against the dealer's first card `m`"
     ]
    },
    {
     "cell_type": "code",
     "collapsed": false,
     "input": [
      "'''\n",
      "Part 1: Enter the player's hard total n and dealer's card m for which you want \n",
      "to see the expected utility:\n",
      "'''\n",
      "\n",
      "player1 = 1\n",
      "player2 = 7\n",
      "dealer = 6\n",
      "\n",
      "'''\n",
      "Part 2: Simulate 100 times 1000 rounds of play. Three players representing three strategies:\n",
      "P: never bust\n",
      "P2: play like the dealer (stay on soft and hard 17)\n",
      "P3: basic strategy\n",
      "Return results as three lists of final outcomes. Each list has 100 elements, each of which is\n",
      "a number between -1000 and 1000 (perhaps a bit more if 'BJ' is possible)\n",
      "if you bet a dollar in each round, than this number would simply represent the extra dollars\n",
      "in your pocket after 1000 rounds (with negative numbers representing dollars lost).\n",
      "so -236 means that you lost 236 dollars over 1000 rounds, so your realized utility is -23.6% \n",
      "or -0.236. In Part 3, these numbers are averaged out to obtain an estimate of expected utility.\n",
      "100 such numbers are added for each strategy and the total divided by 100. \n",
      "Expected utility should strictly speaking be represented in $ but here we can represent it as\n",
      "a percentage of the bet size since it scales linearly.\n",
      "'''\n",
      "\n",
      "deck = deckShuffle()\n",
      "list1=[]\n",
      "list2=[]\n",
      "list3=[]\n",
      "for j in range(100):\n",
      "  count = 0\n",
      "  count1 = 0\n",
      "  count2 = 0  \n",
      "  for i in range(1000):\n",
      "      P = playerStrategy(dealer, player1, player2, deck)\n",
      "      P2 = copyDealer(player1, player2, deck) # Player 2 plays copy the dealer strategy \n",
      "      P3 = basicStrategy(dealer, player1, player2, deck)  # Player 3 plays basic strategy  \n",
      "      D = dealerPlay(dealer, deck) \n",
      "      count += playerWin(D[0], P[0])[0]\n",
      "      count1 += playerWin(D[0], P2[0])[0] \n",
      "      count2 += playerWin(D[0], P3[0])[0]\n",
      "      if len(deck)<10: deck = deckShuffle()  \n",
      "  list1.append(count)\n",
      "  list2.append(count1)\n",
      "  list3.append(count2)      \n",
      "print 'Player 1 outcomes:'\n",
      "print list1\n",
      "print '-----'\n",
      "print ' '\n",
      "print ' '\n",
      "print 'Player 2 outcomes:'\n",
      "print list2\n",
      "print '-----'\n",
      "print ' '\n",
      "print ' '\n",
      "print 'Player 3 outcomes:'\n",
      "print list3\n",
      "print '-----'\n",
      "print '-----'\n",
      "print ' '\n",
      "print ' '\n",
      "print ' '\n",
      "print ' '\n",
      "\n",
      "\n",
      "'''\n",
      "Part 3\n",
      "Calculate the expected utility\n",
      "'''\n",
      "\n",
      "ls = zip(list1, list2, list3)\n",
      "l = 0\n",
      "l2 = 0\n",
      "l3 = 0\n",
      "for i, j, k in ls:\n",
      "  l = l + i/1000.\n",
      "  l2 = l2 + j/1000.\n",
      "  l3 = l3 + k/1000.  \n",
      "print 'Expected return for P playing never bust: ', l/100.\n",
      "print 'Expected return for P2 copying the dealer: ', l2/100.\n",
      "print 'Expected return for P3 playing basic strategy: ', l3/100.\n",
      "print ' '\n",
      "print ' '\n",
      "print ' '\n",
      "print ' '\n",
      "\n",
      "\n",
      "\n",
      "'''\n",
      "Part 4: Plot the variance of returns: to see that a distribution of your \n",
      "outcomes over 100 attempts of playing 1000 hands. The plot captures the frequency of \n",
      "various realized outcomes over 100 runs on y-axis, and their magnitudes on x-axis. If at\n",
      "x of -100 the y is around 20, then about 20 times out of 100 you lost $100. \n",
      "'''\n",
      "figsize(14, 5)\n",
      "figure(1)\n",
      "title(\"P1 (never bust) in gray, P2 (copy the dealer) in pink, P3 (basic strategy) in blue\")\n",
      "xlabel(\"Magnitude of a return (could in principle range from -1000 to 1000)\")\n",
      "ylabel(\"Frequency of a return (out of 100)\")\n",
      "hist(list1, color = 'k', alpha = .1)\n",
      "hist(list2, color = 'r', alpha = .1)\n",
      "hist(list3, color = 'b', alpha = .1);\n",
      "\n",
      "\n",
      "\n",
      "'''\n",
      "Part 5\n",
      "'''\n",
      "\n",
      "print '-------'\n",
      "print '''Summary stats for Player 1 (never bust)'''\n",
      "print '-------'\n",
      "Size,  Range, Mean, variance, skewness, kurtosis = describe(list1)\n",
      "print 'Number of observations: ', Size\n",
      "print 'Mean: ',  Mean\n",
      "print 'Min to Max: ', Range\n",
      "print 'Variance: ', variance\n",
      "print 'Standard Dev.: ', sqrt(variance)\n",
      "print 'Skewness: ', skewness\n",
      "print 'Kurtosis: ', kurtosis\n",
      "print '-------'\n",
      "print '-------'\n",
      "\n",
      "print ' '\n",
      "print ' '\n",
      "print ' '\n",
      "\n",
      "Size,  Range, Mean, variance, skewness, kurtosis = describe(list2)\n",
      "print 'Summary stats for Player 2 (copy dealer)'\n",
      "print '-------'\n",
      "print 'Number of observations: ', Size\n",
      "print 'Mean: ',  Mean\n",
      "print 'Min to Max: ', Range\n",
      "print 'Variance: ', variance\n",
      "print 'Standard Dev.: ', sqrt(variance)\n",
      "print 'Skewness: ', skewness\n",
      "print 'Kurtosis: ', kurtosis\n",
      "print '-------'\n",
      "print '-------'\n",
      "print ' '\n",
      "print ' '\n",
      "print ' '\n",
      "\n",
      "Size,  Range, Mean, variance, skewness, kurtosis = describe(list3)\n",
      "print 'Summary stats for Player 3 (basic strategy)'\n",
      "print '-------'\n",
      "print 'Number of observations: ', Size\n",
      "print 'Mean: ',  Mean\n",
      "print 'Min to Max: ', Range\n",
      "print 'Variance: ', variance\n",
      "print 'Standard Dev.: ', sqrt(variance)\n",
      "print 'Skewness: ', skewness\n",
      "print 'Kurtosis: ', kurtosis\n",
      "print 'Summary stats for Player 2'\n",
      "print '-------'\n",
      "print ' '\n",
      "print ' '\n",
      "print ' '"
     ],
     "language": "python",
     "metadata": {},
     "outputs": [
      {
       "output_type": "stream",
       "stream": "stdout",
       "text": [
        "Player 1 outcomes:\n",
        "[74, 171, 77, 150, 127, 117, 87, 149, 162, 172, 118, 108, 153, 218, 106, 79, 127, 192, 90, 40, 113, 89, 162, 114, 102, 144, 67, 142, 149, 109, 122, 135, 80, 132, 163, 59, 91, 145, 113, 108, 148, 120, 114, 119, 103, 132, 121, 98, 173, 80, 124, 47, 104, 139, 144, 75, 120, 93, 125, 123, 171, 146, 131, 73, 80, 115, 113, 53, 59, 109, 82, 137, 130, 110, 112, 90, 155, 153, 61, 94, 116, 160, 112, 149, 95, 132, 74, 62, 77, 72, 141, 118, 98, 93, 112, 92, 98, 103, 155, 82]\n",
        "-----\n",
        " \n",
        " \n",
        "Player 2 outcomes:\n",
        "[32, 100, 20, 70, 48, 36, 72, 88, 86, 64, 63, 11, 58, 35, 48, 29, 45, 76, 6, 3, -7, 69, 72, 81, 9, 62, 15, 59, 69, 2, 57, 27, 9, 54, 95, 20, 59, -11, 27, 42, 29, 27, 34, 46, 19, -2, -14, -6, 94, 21, 21, -13, 5, -9, 8, 27, 76, 29, 76, -14, 62, 44, 42, 39, 17, 33, 41, -15, 14, -35, 27, 45, 45, 24, 4, -10, 17, 19, 6, 34, 28, 75, -1, 80, -34, 35, 24, 25, 9, -5, 46, 46, 32, 17, 37, 75, 7, -11, 69, 78]\n",
        "-----\n",
        " \n",
        " \n",
        "Player 3 outcomes:\n",
        "[101, 199, 99, 117, 88, 87, 90, 146, 126, 179, 116, 91, 156, 160, 117, 71, 162, 160, 93, 69, 109, 88, 176, 151, 93, 124, 63, 174, 147, 111, 107, 145, 74, 139, 133, 70, 140, 139, 109, 72, 124, 130, 113, 138, 86, 131, 108, 106, 185, 98, 122, 69, 74, 139, 124, 117, 101, 96, 121, 149, 176, 121, 146, 78, 94, 107, 135, 56, 84, 84, 51, 126, 147, 142, 102, 80, 141, 121, 76, 130, 126, 155, 117, 162, 122, 163, 55, 89, 59, 65, 148, 94, 102, 118, 103, 121, 128, 133, 137, 128]\n",
        "-----\n",
        "-----\n",
        " \n",
        " \n",
        " \n",
        " \n",
        "Expected return for P playing never bust:  0.11473\n",
        "Expected return for P2 copying the dealer:  0.03339\n",
        "Expected return for P3 playing basic strategy:  0.11644\n",
        " \n",
        " \n",
        " \n",
        " \n",
        "-------"
       ]
      },
      {
       "output_type": "stream",
       "stream": "stdout",
       "text": [
        "\n",
        "Summary stats for Player 1 (never bust)\n",
        "-------\n",
        "Number of observations:  100\n",
        "Mean:  114.73\n",
        "Min to Max:  (40, 218)\n",
        "Variance:  1140.27989899\n",
        "Standard Dev.:  33.7680307242\n",
        "Skewness:  0.212489284595\n",
        "Kurtosis:  -0.0903909345351\n",
        "-------\n",
        "-------\n",
        " \n",
        " \n",
        " \n",
        "Summary stats for Player 2 (copy dealer)\n",
        "-------\n",
        "Number of observations:  100\n",
        "Mean:  33.39\n",
        "Min to Max:  (-35, 100)\n",
        "Variance:  948.684747475\n",
        "Standard Dev.:  30.8007264115\n",
        "Skewness:  0.100720276928\n",
        "Kurtosis:  -0.680806767636\n",
        "-------\n",
        "-------\n",
        " \n",
        " \n",
        " \n",
        "Summary stats for Player 3 (basic strategy)\n",
        "-------\n",
        "Number of observations:  100\n",
        "Mean:  116.44\n",
        "Min to Max:  (51, 199)\n",
        "Variance:  1059.2589899\n",
        "Standard Dev.:  32.5462592305\n",
        "Skewness:  0.101010223792\n",
        "Kurtosis:  -0.528373718938\n",
        "Summary stats for Player 2\n",
        "-------\n",
        " \n",
        " \n",
        " \n"
       ]
      },
      {
       "metadata": {},
       "output_type": "display_data",
       "png": "[encoded data removed]",
       "text": [
        "<matplotlib.figure.Figure at 0x10874ea50>"
       ]
      }
     ],
     "prompt_number": 13
    }
   ],
   "metadata": {}
  }
 ]
}