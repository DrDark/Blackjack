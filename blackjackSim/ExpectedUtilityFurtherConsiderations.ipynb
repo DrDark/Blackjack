{
 "metadata": {
  "name": ""
 },
 "nbformat": 3,
 "nbformat_minor": 0,
 "worksheets": [
  {
   "cells": [
    {
     "cell_type": "heading",
     "level": 2,
     "metadata": {},
     "source": [
      "Calculating Expected Utilities of Clumping"
     ]
    },
    {
     "cell_type": "code",
     "collapsed": false,
     "input": [
      "from basicFunctions import *\n",
      "from pandas import DataFrame \n",
      "from scipy.stats import describe\n",
      "from numpy.random import shuffle\n",
      "import numpy as np\n",
      "from __future__ import division\n",
      "%matplotlib inline"
     ],
     "language": "python",
     "metadata": {},
     "outputs": [],
     "prompt_number": 1
    },
    {
     "cell_type": "code",
     "collapsed": false,
     "input": [
      "# A small adjustment to basic strategy to accomodate the new kind of deck \n",
      "def playerStrategy(dealer, card1, card2, deck):\n",
      "    player = [card1, card2]\n",
      "    total = AddCards(card1, card2)\n",
      "    if (not isinstance(total, int) and total[1] == 21): \n",
      "        return 'BJ', player\n",
      "    while not Bust(total) and ((not isinstance(total, int) and ((dealer in [9, 10, 'A'] and total[1] < 19) or (dealer not in [9, 10, 'A'] and total[1] < 18))) or  \n",
      "            (isinstance(total, int) and ((total < 17 and dealer in [7, 8, 9, 10, 'A']) or  (total < 13 and dealer in [2, 3, 4, 5, 6]) and not (total == 12 and dealer in [4, 5, 6])))): \n",
      "        if len(deck) == 0:\n",
      "            deck = countAdjustedDeck[:]\n",
      "        card = drawACard(deck)\n",
      "        player = player + [card]\n",
      "        total = AddCards(total, card)\n",
      "    if isinstance(total, int): \n",
      "        if total > 21: \n",
      "            return 'Bust', player\n",
      "        else: return total, player\n",
      "    else: \n",
      "        if len(total) == 2: \n",
      "            return int(total[1]), player\n",
      "        else: \n",
      "            return 'Bust', player"
     ],
     "language": "python",
     "metadata": {},
     "outputs": [],
     "prompt_number": 2
    },
    {
     "cell_type": "code",
     "collapsed": false,
     "input": [
      "def takeSingleCard(player, deck=deckShuffle()):\n",
      "    '''\n",
      "    Takes a list of player's cards (one or two) and draws a single card\n",
      "    returning the new total and the list of (two or three) players cards.\n",
      "    '''\n",
      "    \n",
      "    if len(player) == 2: \n",
      "        total = AddCards(player[0], player[1])\n",
      "        card = drawACard(deck)\n",
      "        player = player + [card]\n",
      "        total = AddCards(total, card)\n",
      "    else:\n",
      "        card = drawACard(deck)\n",
      "        player = player + [card]\n",
      "        total = AddCards(player[0], card)\n",
      "    \n",
      "    if isinstance(total, int): \n",
      "        if total > 21: \n",
      "            return 'Bust', player\n",
      "        else: return total, player\n",
      "    else: \n",
      "        if len(total) == 2: \n",
      "            return int(total[1]), player\n",
      "        else: \n",
      "            return 'Bust', player"
     ],
     "language": "python",
     "metadata": {},
     "outputs": [],
     "prompt_number": 3
    },
    {
     "cell_type": "code",
     "collapsed": false,
     "input": [
      "[takeSingleCard(['A']) for i in range(10)]"
     ],
     "language": "python",
     "metadata": {},
     "outputs": [
      {
       "metadata": {},
       "output_type": "pyout",
       "prompt_number": 6,
       "text": [
        "[(20, ['A', 9]),\n",
        " (17, ['A', 6]),\n",
        " (21, ['A', 10]),\n",
        " (21, ['A', 10]),\n",
        " (21, ['A', 10]),\n",
        " (15, ['A', 4]),\n",
        " (15, ['A', 4]),\n",
        " (21, ['A', 10]),\n",
        " (12, ['A', 'A']),\n",
        " (17, ['A', 6])]"
       ]
      }
     ],
     "prompt_number": 6
    },
    {
     "cell_type": "code",
     "collapsed": false,
     "input": [
      "# Similar adjustment to dealer play\n",
      "def dealerPlay(dealer, deck, hard = 17, soft = 17):\n",
      "    Dealer =[dealer]\n",
      "    if len(deck) == 0: deck = countAdjustedDeck[:]\n",
      "    card = drawACard(deck)\n",
      "    Dealer.append(card) \n",
      "    dealer = AddCards(dealer, card)\n",
      "\n",
      "    if (not isinstance(dealer, int) and dealer[1] == 21): \n",
      "        return 'BJ', Dealer\n",
      "\n",
      "\n",
      "    while not Bust(dealer) and ((isinstance(dealer, int) and dealer < hard) \n",
      "                                or(not isinstance(dealer, int) and dealer[1] < soft)):\n",
      "        \n",
      "            if len(deck) == 0:\n",
      "                 deck = countAdjustedDeck[:]\n",
      "            card = drawACard(deck)\n",
      "            Dealer.append(card) \n",
      "            dealer = AddCards(dealer, card)\n",
      "    if isinstance(dealer, int): \n",
      "            if dealer > 21: \n",
      "                return 'Bust', Dealer\n",
      "            else: \n",
      "                return dealer, Dealer\n",
      "    else: \n",
      "            if len(dealer) == 2: \n",
      "                return int(dealer[1]), Dealer\n",
      "            else: \n",
      "                return 'Bust', Dealer\n",
      "            \n",
      "            "
     ],
     "language": "python",
     "metadata": {},
     "outputs": [],
     "prompt_number": 7
    },
    {
     "cell_type": "code",
     "collapsed": false,
     "input": [
      "countAdjustedDeck = deckShuffle(NDecks =3, decks = singleDeck(tens = 11))\n",
      "deck = countAdjustedDeck\n",
      "count = 0\n",
      "for i in range(23): \n",
      "    d = drawACard(deck)\n",
      "    P = playerStrategy(d, drawACard(deck), drawACard(deck), deck)\n",
      "    D = dealerPlay(d, deck) \n",
      "    print 'Player: ', P\n",
      "    print 'Dealer: ', D\n",
      "    print \"Player's \", playerWin(D[0], P[0])[1]\n",
      "    count += playerWin(D[0], P[0])[0]\n",
      "    print ' '\n",
      "print 'In 23 rounds, the player lost/won: $',count \n",
      "print 'The remaining cards: ', len(deck)"
     ],
     "language": "python",
     "metadata": {},
     "outputs": [
      {
       "ename": "ValueError",
       "evalue": "a must be greater than 0",
       "output_type": "pyerr",
       "traceback": [
        "\u001b[0;31m---------------------------------------------------------------------------\u001b[0m\n\u001b[0;31mValueError\u001b[0m                                Traceback (most recent call last)",
        "\u001b[0;32m<ipython-input-8-a914413d2b64>\u001b[0m in \u001b[0;36m<module>\u001b[0;34m()\u001b[0m\n\u001b[1;32m      5\u001b[0m     \u001b[0md\u001b[0m \u001b[0;34m=\u001b[0m \u001b[0mdrawACard\u001b[0m\u001b[0;34m(\u001b[0m\u001b[0mdeck\u001b[0m\u001b[0;34m)\u001b[0m\u001b[0;34m\u001b[0m\u001b[0m\n\u001b[1;32m      6\u001b[0m     \u001b[0mP\u001b[0m \u001b[0;34m=\u001b[0m \u001b[0mplayerStrategy\u001b[0m\u001b[0;34m(\u001b[0m\u001b[0md\u001b[0m\u001b[0;34m,\u001b[0m \u001b[0mdrawACard\u001b[0m\u001b[0;34m(\u001b[0m\u001b[0mdeck\u001b[0m\u001b[0;34m)\u001b[0m\u001b[0;34m,\u001b[0m \u001b[0mdrawACard\u001b[0m\u001b[0;34m(\u001b[0m\u001b[0mdeck\u001b[0m\u001b[0;34m)\u001b[0m\u001b[0;34m,\u001b[0m \u001b[0mdeck\u001b[0m\u001b[0;34m)\u001b[0m\u001b[0;34m\u001b[0m\u001b[0m\n\u001b[0;32m----> 7\u001b[0;31m     \u001b[0mD\u001b[0m \u001b[0;34m=\u001b[0m \u001b[0mdealerPlay\u001b[0m\u001b[0;34m(\u001b[0m\u001b[0md\u001b[0m\u001b[0;34m,\u001b[0m \u001b[0mdeck\u001b[0m\u001b[0;34m)\u001b[0m\u001b[0;34m\u001b[0m\u001b[0m\n\u001b[0m\u001b[1;32m      8\u001b[0m     \u001b[0;32mprint\u001b[0m \u001b[0;34m'Player: '\u001b[0m\u001b[0;34m,\u001b[0m \u001b[0mP\u001b[0m\u001b[0;34m\u001b[0m\u001b[0m\n\u001b[1;32m      9\u001b[0m     \u001b[0;32mprint\u001b[0m \u001b[0;34m'Dealer: '\u001b[0m\u001b[0;34m,\u001b[0m \u001b[0mD\u001b[0m\u001b[0;34m\u001b[0m\u001b[0m\n",
        "\u001b[0;32m<ipython-input-7-8dfdea1b6253>\u001b[0m in \u001b[0;36mdealerPlay\u001b[0;34m(dealer, deck, hard, soft)\u001b[0m\n\u001b[1;32m      3\u001b[0m     \u001b[0mDealer\u001b[0m \u001b[0;34m=\u001b[0m\u001b[0;34m[\u001b[0m\u001b[0mdealer\u001b[0m\u001b[0;34m]\u001b[0m\u001b[0;34m\u001b[0m\u001b[0m\n\u001b[1;32m      4\u001b[0m     \u001b[0;32mif\u001b[0m \u001b[0mlen\u001b[0m\u001b[0;34m(\u001b[0m\u001b[0mdeck\u001b[0m\u001b[0;34m)\u001b[0m \u001b[0;34m==\u001b[0m \u001b[0;36m0\u001b[0m\u001b[0;34m:\u001b[0m \u001b[0mdeck\u001b[0m \u001b[0;34m=\u001b[0m \u001b[0mcountAdjustedDeck\u001b[0m\u001b[0;34m[\u001b[0m\u001b[0;34m:\u001b[0m\u001b[0;34m]\u001b[0m\u001b[0;34m\u001b[0m\u001b[0m\n\u001b[0;32m----> 5\u001b[0;31m     \u001b[0mcard\u001b[0m \u001b[0;34m=\u001b[0m \u001b[0mdrawACard\u001b[0m\u001b[0;34m(\u001b[0m\u001b[0mdeck\u001b[0m\u001b[0;34m)\u001b[0m\u001b[0;34m\u001b[0m\u001b[0m\n\u001b[0m\u001b[1;32m      6\u001b[0m     \u001b[0mDealer\u001b[0m\u001b[0;34m.\u001b[0m\u001b[0mappend\u001b[0m\u001b[0;34m(\u001b[0m\u001b[0mcard\u001b[0m\u001b[0;34m)\u001b[0m\u001b[0;34m\u001b[0m\u001b[0m\n\u001b[1;32m      7\u001b[0m     \u001b[0mdealer\u001b[0m \u001b[0;34m=\u001b[0m \u001b[0mAddCards\u001b[0m\u001b[0;34m(\u001b[0m\u001b[0mdealer\u001b[0m\u001b[0;34m,\u001b[0m \u001b[0mcard\u001b[0m\u001b[0;34m)\u001b[0m\u001b[0;34m\u001b[0m\u001b[0m\n",
        "\u001b[0;32m/Users/darko/Notebooks/Blackjack/blackjackSim/basicFunctions.pyc\u001b[0m in \u001b[0;36mdrawACard\u001b[0;34m(deck)\u001b[0m\n\u001b[1;32m     24\u001b[0m \u001b[0;34m\u001b[0m\u001b[0m\n\u001b[1;32m     25\u001b[0m \u001b[0;32mdef\u001b[0m \u001b[0mdrawACard\u001b[0m\u001b[0;34m(\u001b[0m\u001b[0mdeck\u001b[0m\u001b[0;34m)\u001b[0m\u001b[0;34m:\u001b[0m\u001b[0;34m\u001b[0m\u001b[0m\n\u001b[0;32m---> 26\u001b[0;31m     \u001b[0mx\u001b[0m \u001b[0;34m=\u001b[0m \u001b[0mchoice\u001b[0m\u001b[0;34m(\u001b[0m\u001b[0mlen\u001b[0m\u001b[0;34m(\u001b[0m\u001b[0mdeck\u001b[0m\u001b[0;34m)\u001b[0m\u001b[0;34m)\u001b[0m \u001b[0;31m# Sellect a random card's index\u001b[0m\u001b[0;34m\u001b[0m\u001b[0m\n\u001b[0m\u001b[1;32m     27\u001b[0m     \u001b[0;32mreturn\u001b[0m \u001b[0mdeck\u001b[0m\u001b[0;34m.\u001b[0m\u001b[0mpop\u001b[0m\u001b[0;34m(\u001b[0m\u001b[0mx\u001b[0m\u001b[0;34m)\u001b[0m \u001b[0;31m# Return the card removing it from the deck\u001b[0m\u001b[0;34m\u001b[0m\u001b[0m\n\u001b[1;32m     28\u001b[0m \u001b[0;34m\u001b[0m\u001b[0m\n",
        "\u001b[0;32m/Users/darko/anaconda/lib/python2.7/site-packages/numpy/random/mtrand.so\u001b[0m in \u001b[0;36mmtrand.RandomState.choice (numpy/random/mtrand/mtrand.c:7040)\u001b[0;34m()\u001b[0m\n",
        "\u001b[0;31mValueError\u001b[0m: a must be greater than 0"
       ]
      },
      {
       "output_type": "stream",
       "stream": "stdout",
       "text": [
        "Player:  (21, [2, 4, 5, 10])\n",
        "Dealer:  ('Bust', [10, 2, 2, 10])\n",
        "Player's  Win\n",
        " \n",
        "Player:  (17, [5, 6, 6])\n",
        "Dealer:  ('Bust', [7, 5, 4, 10])\n",
        "Player's  Win\n",
        " \n",
        "Player:  ('Bust', [5, 10, 'A', 7])\n",
        "Dealer:  ('Bust', [9, 6, 9])\n",
        "Player's  Loss\n",
        " \n",
        "Player:  (18, [10, 2, 6])\n",
        "Dealer:  (19, [2, 6, 3, 8])\n",
        "Player's  Loss\n",
        " \n",
        "Player:  ('Bust', [6, 10, 8])\n",
        "Dealer:  ('BJ', ['A', 10])\n",
        "Player's  Loss\n",
        " \n",
        "Player:  (19, [10, 9])\n",
        "Dealer:  (18, [5, 5, 8])\n",
        "Player's  Win\n",
        " \n",
        "Player:  (19, [7, 'A', 'A'])\n",
        "Dealer:  (18, ['A', 'A', 10, 'A', 5])\n",
        "Player's  Win\n",
        " \n",
        "Player:  (18, [10, 8])\n",
        "Dealer:  ('Bust', ['A', 3, 10, 10])\n",
        "Player's  Win\n",
        " \n",
        "Player:  (21, [7, 4, 10])\n",
        "Dealer:  (18, [5, 8, 5])\n",
        "Player's  Win\n",
        " \n",
        "Player:  (19, [4, 8, 7])\n",
        "Dealer:  (20, [10, 10])\n",
        "Player's  Loss\n",
        " \n",
        "Player:  (12, [3, 3, 6])\n",
        "Dealer:  (20, [6, 3, 2, 9])\n",
        "Player's  Loss\n",
        " \n",
        "Player:  (15, [4, 3, 8])\n",
        "Dealer:  (18, [2, 2, 4, 10])\n",
        "Player's  Loss\n",
        " \n",
        "Player:  (18, ['A', 'A', 6])\n",
        "Dealer:  (19, [4, 8, 7])\n",
        "Player's  Loss\n",
        " \n",
        "Player:  (14, [2, 9, 3])\n",
        "Dealer:  ('Bust', [2, 5, 8, 10])\n",
        "Player's  Win\n",
        " \n",
        "Player:  (20, [10, 10])\n",
        "Dealer:  (20, [10, 10])\n",
        "Player's  Push\n",
        " \n",
        "Player:  ('Bust', [3, 9, 3, 9])\n",
        "Dealer:  (21, [7, 7, 7])\n",
        "Player's  Loss\n",
        " \n",
        "Player:  ('Bust', [9, 3, 10])\n",
        "Dealer:  (18, [8, 10])\n",
        "Player's  Loss\n",
        " \n",
        "Player:  (21, [8, 4, 9])\n",
        "Dealer:  ('Bust', [3, 3, 9, 10])\n",
        "Player's  Win\n",
        " \n",
        "Player:  ('Bust', [6, 6, 10])\n",
        "Dealer:  (21, [2, 10, 9])\n",
        "Player's  Loss\n",
        " \n",
        "Player:  (17, [10, 7])\n",
        "Dealer:  (18, [8, 10])\n",
        "Player's  Loss\n",
        " \n",
        "Player:  (17, [10, 7])\n",
        "Dealer:  (19, [2, 'A', 6])\n",
        "Player's  Loss\n",
        " \n",
        "Player:  (21, [4, 4, 4, 9])\n",
        "Dealer:  ('Bust', [10, 5, 10])\n",
        "Player's  Win\n",
        " \n"
       ]
      }
     ],
     "prompt_number": 8
    },
    {
     "cell_type": "markdown",
     "metadata": {},
     "source": [
      "The workhorse function below calculates the expected utility of a hand when the dealer's card (but nothing else) is known): "
     ]
    },
    {
     "cell_type": "code",
     "collapsed": false,
     "input": [
      "def cardUtility(dealer, countAdjustedDeck, runNumber=100, handNumber =10000):\n",
      "    countAdjustedDeck.remove(dealer) # Remove dealer's card from the deck\n",
      "    deck = countAdjustedDeck[:] # Assign the adjusted deck to be the playing deck\n",
      "    list1 = []\n",
      "    for j in xrange(runNumber): # The number of runs\n",
      "        winCount = 0\n",
      "        for i in xrange(handNumber): # The number of hands\n",
      "            P = playerStrategy(dealer, drawACard(deck), drawACard(deck), deck) # Player plays\n",
      "            D = dealerPlay(dealer, deck)  # Dealer plays\n",
      "            winCount += playerWin(D[0], P[0])[0]   # Determine the winner and adjust the count\n",
      "            if len(deck)<10: deck = countAdjustedDeck[:] # Reshuffle using the adjusted deck\n",
      "        list1.append(winCount) \n",
      "    return array(list1)/handNumber # Return the array of realized utilities as percentages   "
     ],
     "language": "python",
     "metadata": {},
     "outputs": [],
     "prompt_number": 9
    },
    {
     "cell_type": "code",
     "collapsed": false,
     "input": [
      "def cardUtil(dealer, player1, player2, countAdjustedDeck, runNumber=100, handNumber =10000):\n",
      "    countAdjustedDeck.remove(dealer) # Remove dealer's card from the deck\n",
      "    countAdjustedDeck.remove(player1) # Remove dealer's card from the deck\n",
      "    countAdjustedDeck.remove(player2) # Remove dealer's card from the deck\n",
      "    deck = countAdjustedDeck[:] # Assign the adjusted deck to be the playing deck\n",
      "    list1 = []\n",
      "    for j in xrange(runNumber): # The number of runs\n",
      "        winCount = 0\n",
      "        for i in xrange(handNumber): # The number of hands\n",
      "            P = playerStrategy(dealer, player1, player2, deck) # Player plays\n",
      "            D = dealerPlay(dealer, deck)  # Dealer plays\n",
      "            winCount += playerWin(D[0], P[0])[0]   # Determine the winner and adjust the count\n",
      "            if len(deck)<10: deck = countAdjustedDeck[:] # Reshuffle using the adjusted deck\n",
      "        list1.append(winCount) \n",
      "    return array(list1)/handNumber # Return the array of realized utilities as percentages   "
     ],
     "language": "python",
     "metadata": {},
     "outputs": [],
     "prompt_number": 10
    },
    {
     "cell_type": "code",
     "collapsed": false,
     "input": [
      "def oneCardUtil(dealer, player1, player2, countAdjustedDeck, runNumber=100, handNumber =10000):\n",
      "    countAdjustedDeck.remove(dealer) # Remove dealer's card from the deck\n",
      "    countAdjustedDeck.remove(player1) # Remove dealer's card from the deck\n",
      "    countAdjustedDeck.remove(player2) # Remove dealer's card from the deck\n",
      "    deck = countAdjustedDeck[:] # Assign the adjusted deck to be the playing deck\n",
      "    list1 = []\n",
      "    for j in xrange(runNumber): # The number of runs\n",
      "        winCount = 0\n",
      "        for i in xrange(handNumber): # The number of hands\n",
      "            P = takeSingleCard([player1, player2], deck) # Player plays\n",
      "            D = dealerPlay(dealer, deck)  # Dealer plays\n",
      "            winCount += playerWin(D[0], P[0])[0]   # Determine the winner and adjust the count\n",
      "            if len(deck)<10: deck = countAdjustedDeck[:] # Reshuffle using the adjusted deck\n",
      "        list1.append(winCount) \n",
      "    return array(list1)/handNumber # Return the array of realized utilities as percentages   "
     ],
     "language": "python",
     "metadata": {},
     "outputs": [],
     "prompt_number": 11
    },
    {
     "cell_type": "code",
     "collapsed": false,
     "input": [
      "for card in range(2, 11) + ['A']:\n",
      "     print card, cardUtil(card, 4, 6, countAdjustedDeck=deckShuffle(), runNumber=100, handNumber =1000).mean()"
     ],
     "language": "python",
     "metadata": {},
     "outputs": [
      {
       "output_type": "stream",
       "stream": "stdout",
       "text": [
        "2 "
       ]
      },
      {
       "output_type": "stream",
       "stream": "stdout",
       "text": [
        "0.18553\n",
        "3 "
       ]
      },
      {
       "output_type": "stream",
       "stream": "stdout",
       "text": [
        "0.21236\n",
        "4 "
       ]
      },
      {
       "output_type": "stream",
       "stream": "stdout",
       "text": [
        "0.239\n",
        "5 "
       ]
      },
      {
       "output_type": "stream",
       "stream": "stdout",
       "text": [
        "0.26833\n",
        "6 "
       ]
      },
      {
       "output_type": "stream",
       "stream": "stdout",
       "text": [
        "0.2992\n",
        "7 "
       ]
      },
      {
       "output_type": "stream",
       "stream": "stdout",
       "text": [
        "0.26124\n",
        "8 "
       ]
      },
      {
       "output_type": "stream",
       "stream": "stdout",
       "text": [
        "0.19845\n",
        "9 "
       ]
      },
      {
       "output_type": "stream",
       "stream": "stdout",
       "text": [
        "0.117\n",
        "10 "
       ]
      },
      {
       "output_type": "stream",
       "stream": "stdout",
       "text": [
        "-0.05517\n",
        "A "
       ]
      },
      {
       "output_type": "stream",
       "stream": "stdout",
       "text": [
        "-0.24648\n"
       ]
      }
     ],
     "prompt_number": 12
    },
    {
     "cell_type": "code",
     "collapsed": false,
     "input": [
      "dict1={}\n",
      "for card in range(2, 11) + ['A']:\n",
      "    dict2={}\n",
      "    for card1 in range(2, 11) + ['A']:\n",
      "        dict2[card1] = oneCardUtil(card, 'A', card1, countAdjustedDeck=deckShuffle(), runNumber=10, handNumber =100).mean()\n",
      "    dict1[card] = dict2    "
     ],
     "language": "python",
     "metadata": {},
     "outputs": [],
     "prompt_number": 15
    },
    {
     "cell_type": "code",
     "collapsed": false,
     "input": [
      "data = DataFrame(dict1)\n",
      "(data>0).sum(axis=1).sum()+24\n"
     ],
     "language": "python",
     "metadata": {},
     "outputs": [
      {
       "metadata": {},
       "output_type": "pyout",
       "prompt_number": 28,
       "text": [
        "76"
       ]
      }
     ],
     "prompt_number": 28
    },
    {
     "cell_type": "code",
     "collapsed": false,
     "input": [
      "13*13"
     ],
     "language": "python",
     "metadata": {},
     "outputs": [
      {
       "metadata": {},
       "output_type": "pyout",
       "prompt_number": 29,
       "text": [
        "169"
       ]
      }
     ],
     "prompt_number": 29
    },
    {
     "cell_type": "code",
     "collapsed": false,
     "input": [
      "dict3={}\n",
      "for card in range(2, 11) + ['A']:\n",
      "    dict3[card] = cardUtil(card, 'A', 'A', countAdjustedDeck=deckShuffle(), runNumber=10, handNumber =100).mean() "
     ],
     "language": "python",
     "metadata": {},
     "outputs": [],
     "prompt_number": 22
    },
    {
     "cell_type": "code",
     "collapsed": false,
     "input": [
      "dict3"
     ],
     "language": "python",
     "metadata": {},
     "outputs": [
      {
       "metadata": {},
       "output_type": "pyout",
       "prompt_number": 24,
       "text": [
        "{2: 0.11899999999999999,\n",
        " 3: 0.14200000000000002,\n",
        " 4: 0.10500000000000001,\n",
        " 5: 0.14699999999999996,\n",
        " 6: 0.192,\n",
        " 7: 0.16899999999999998,\n",
        " 8: 0.055999999999999994,\n",
        " 9: -0.022999999999999996,\n",
        " 10: -0.084000000000000005,\n",
        " 'A': -0.30700000000000005}"
       ]
      }
     ],
     "prompt_number": 24
    },
    {
     "cell_type": "raw",
     "metadata": {},
     "source": [
      "Should you double down on 5, 6 against a dealer 10? Expected utility of doubling down is around 1%, but it varies from 7% to - 5% on this run or 1000 x 1000 hands. Doubling down here increases the variance of your returns quite a bit (as expected). The returns seem normally distributed with the mean of 0.9 - 1% and standard deviation of 1.75%.\n",
      "Note: Doubling down always increases the variance of return, i.e., increases risk. This is akin to leverage in finance. "
     ]
    },
    {
     "cell_type": "code",
     "collapsed": false,
     "input": [
      "# Summary for 5, 6 agains 10 run 1000x1000\n",
      "print A.max()\n",
      "print A.mean()\n",
      "print A.min()\n",
      "print A.std()\n",
      "hist(A);"
     ],
     "language": "python",
     "metadata": {},
     "outputs": [
      {
       "output_type": "stream",
       "stream": "stdout",
       "text": [
        "0.0355\n",
        "0.0044712\n",
        "-0.0238\n",
        "0.00874847247009\n"
       ]
      },
      {
       "metadata": {},
       "output_type": "display_data",
       "png": "[encoded data removed]",
       "text": [
        "<matplotlib.figure.Figure at 0x108f34790>"
       ]
      }
     ],
     "prompt_number": 100
    },
    {
     "cell_type": "code",
     "collapsed": false,
     "input": [
      "# Number of times return negative after doubling in 1000 hands with 5, 6\n",
      "# against 10 (out of 1000): 30.4%\n",
      "(A<0).sum()"
     ],
     "language": "python",
     "metadata": {},
     "outputs": [
      {
       "metadata": {},
       "output_type": "pyout",
       "prompt_number": 101,
       "text": [
        "304"
       ]
      }
     ],
     "prompt_number": 101
    },
    {
     "cell_type": "code",
     "collapsed": false,
     "input": [
      "A = oneCardUtil(3, 5, 4, countAdjustedDeck=deckShuffle(), runNumber=100, handNumber =10000)"
     ],
     "language": "python",
     "metadata": {},
     "outputs": [],
     "prompt_number": 108
    },
    {
     "cell_type": "code",
     "collapsed": false,
     "input": [
      "# Summary for 5, 4 agains 3 run 100x1000\n",
      "# playing out the hand using basic strategy has exp. util. of 12%, doubling \n",
      "# down imporoves that to 13% but doubles the variance too\n",
      "print A.max()\n",
      "print A.mean()\n",
      "print A.min()\n",
      "print A.std()\n",
      "hist(A);"
     ],
     "language": "python",
     "metadata": {},
     "outputs": [
      {
       "output_type": "stream",
       "stream": "stdout",
       "text": [
        "0.0855\n",
        "0.065781\n",
        "0.0421\n",
        "0.00881282809318\n"
       ]
      },
      {
       "metadata": {},
       "output_type": "display_data",
       "png": "[encoded data removed]",
       "text": [
        "<matplotlib.figure.Figure at 0x108ee5390>"
       ]
      }
     ],
     "prompt_number": 109
    },
    {
     "cell_type": "code",
     "collapsed": false,
     "input": [
      "cardUtil(4, 10, 2, countAdjustedDeck=deckShuffle(1), runNumber=10, handNumber =1000).mean()"
     ],
     "language": "python",
     "metadata": {},
     "outputs": [
      {
       "metadata": {},
       "output_type": "pyout",
       "prompt_number": 86,
       "text": [
        "-0.19399999999999998"
       ]
      }
     ],
     "prompt_number": 86
    },
    {
     "cell_type": "code",
     "collapsed": false,
     "input": [
      "def split(dealer, player1, player2, deck = deckShuffle()):\n",
      "    if player1 == player2:\n",
      "        if player1 != 'A':\n",
      "            one = playerStrategy(dealer, player1, drawACard(deck), deck)\n",
      "            two = playerStrategy(dealer, drawACard(deck), player2, deck)\n",
      "            return one, two\n",
      "        else:\n",
      "            one = takeSingleCard(['A'], deck)\n",
      "            two = takeSingleCard(['A'], deck)\n",
      "            return one, two\n",
      "        "
     ],
     "language": "python",
     "metadata": {},
     "outputs": [],
     "prompt_number": 24
    },
    {
     "cell_type": "code",
     "collapsed": false,
     "input": [
      "split(10, 'A', 'A')"
     ],
     "language": "python",
     "metadata": {},
     "outputs": [
      {
       "metadata": {},
       "output_type": "pyout",
       "prompt_number": 65,
       "text": [
        "((13, ['A', 2]), (19, ['A', 8]))"
       ]
      }
     ],
     "prompt_number": 65
    },
    {
     "cell_type": "code",
     "collapsed": false,
     "input": [
      "takeSingleCard([10, 2], deck = deckShuffle())"
     ],
     "language": "python",
     "metadata": {},
     "outputs": [
      {
       "metadata": {},
       "output_type": "pyout",
       "prompt_number": 76,
       "text": [
        "(13, [10, 2, 'A'])"
       ]
      }
     ],
     "prompt_number": 76
    },
    {
     "cell_type": "code",
     "collapsed": false,
     "input": [
      "def doubleDown(dealer, player1, player2, deck = deckShuffle()):\n",
      "    one = takeSingleCard([player1, player2], deck)\n",
      "    return one, one"
     ],
     "language": "python",
     "metadata": {},
     "outputs": [],
     "prompt_number": 66
    },
    {
     "cell_type": "code",
     "collapsed": false,
     "input": [
      "doubleDown(7, 6, 5)"
     ],
     "language": "python",
     "metadata": {},
     "outputs": [
      {
       "metadata": {},
       "output_type": "pyout",
       "prompt_number": 71,
       "text": [
        "((21, [6, 5, 10]), (21, [6, 5, 10]))"
       ]
      }
     ],
     "prompt_number": 71
    },
    {
     "cell_type": "code",
     "collapsed": false,
     "input": [
      "# Comparing the regular 3 deck play against that where 15 10s have been removed\n",
      "countAdjustedDeck = deckShuffle(NDecks =3)\n",
      "oout = cardUtility(4, countAdjustedDeck)\n",
      "countAdjustedDeck = deckShuffle(NDecks =3, decks = singleDeck(tens = 11))\n",
      "OOut = cardUtility(4, countAdjustedDeck)\n",
      "print 'Expected utility of the regular 3 decks with 48 10s (mean)\" ', oout.mean()\n",
      "print 'StD of the regular 3 decks with 48 10s (mean)\" ',oout.std()\n",
      "print 'Expected utility of 3 decks with total of 33 10s (mean)\" ', OOut.mean()\n",
      "print 'StD of 3 decks with total of 33 10s (mean)\" ',OOut.std()"
     ],
     "language": "python",
     "metadata": {},
     "outputs": [
      {
       "output_type": "stream",
       "stream": "stdout",
       "text": [
        "Expected utility of the regular 3 decks with 48 10s (mean)\"  0.128444\n",
        "StD of the regular 3 decks with 48 10s (mean)\"  0.010214360675\n",
        "Expected utility of 3 decks with total of 33 10s (mean)\"  0.0148335\n",
        "StD of 3 decks with total of 33 10s (mean)\"  0.00952133933593\n"
       ]
      }
     ],
     "prompt_number": 9
    },
    {
     "cell_type": "code",
     "collapsed": false,
     "input": [
      "def expUtilGivenDealerCard(countAdjustedDeck, runNumber=100, handNumber =10000):\n",
      "    dic = {}\n",
      "    for card in range(2, 11) + ['A']:\n",
      "        Deck = countAdjustedDeck[:]\n",
      "        dic[card]=cardUtility(card, Deck, runNumber, handNumber)\n",
      "    return dic    \n",
      "    "
     ],
     "language": "python",
     "metadata": {},
     "outputs": [],
     "prompt_number": 23
    },
    {
     "cell_type": "code",
     "collapsed": false,
     "input": [
      "countAdjustedDeck = deckShuffle(NDecks =3, decks = singleDeck(tens = 11))\n",
      "data = expUtilGivenDealerCard(countAdjustedDeck, runNumber=100, handNumber =100)\n",
      "data = DataFrame(data)"
     ],
     "language": "python",
     "metadata": {},
     "outputs": [],
     "prompt_number": 11
    },
    {
     "cell_type": "code",
     "collapsed": false,
     "input": [
      "dict1 = {}\n",
      "for i in range(1,17):\n",
      "    countAdjustedDeck = deckShuffle(NDecks =3, decks = singleDeck(tens = i))\n",
      "    data = expUtilGivenDealerCard(countAdjustedDeck, runNumber=100, handNumber =100)\n",
      "    data = DataFrame(data)\n",
      "    dict1[i]=data.mean(axis=0)\n",
      "    "
     ],
     "language": "python",
     "metadata": {},
     "outputs": [],
     "prompt_number": 13
    },
    {
     "cell_type": "code",
     "collapsed": false,
     "input": [
      "data1 = DataFrame(dict1)"
     ],
     "language": "python",
     "metadata": {},
     "outputs": [],
     "prompt_number": 41
    },
    {
     "cell_type": "code",
     "collapsed": false,
     "input": [
      "print data1"
     ],
     "language": "python",
     "metadata": {},
     "outputs": [
      {
       "output_type": "stream",
       "stream": "stdout",
       "text": [
        "         11       12       13       14       15       16\n",
        "2  -0.01995 -0.00515  0.02115  0.01280  0.05035  0.06385\n",
        "3  -0.00915  0.02335  0.04935  0.06210  0.08225  0.08415\n",
        "4   0.01450  0.03355  0.06455  0.08230  0.10915  0.12680\n",
        "5   0.05250  0.05400  0.09065  0.12260  0.14940  0.15815\n",
        "6   0.07645  0.10230  0.12785  0.14680  0.16340  0.18725\n",
        "7   0.09780  0.09205  0.11035  0.12425  0.11480  0.10210\n",
        "8   0.03925  0.01385  0.03850  0.03255  0.05705  0.04170\n",
        "9  -0.05495 -0.04395 -0.05150 -0.04025 -0.06920 -0.04205\n",
        "10 -0.17460 -0.16535 -0.15025 -0.16820 -0.18855 -0.17830\n",
        "A  -0.31435 -0.32720 -0.33455 -0.32500 -0.33450 -0.33920\n",
        "\n",
        "[10 rows x 6 columns]\n"
       ]
      }
     ],
     "prompt_number": 42
    },
    {
     "cell_type": "code",
     "collapsed": false,
     "input": [
      "dict2 = {}\n",
      "for i in range(1,11):\n",
      "    countAdjustedDeck = deckShuffle(NDecks =3, decks = singleDeck(tens = i))\n",
      "    data = expUtilGivenDealerCard(countAdjustedDeck, runNumber=100, handNumber =100)\n",
      "    data = DataFrame(data)\n",
      "    dict2[i]=data.mean(axis=0)\n",
      "data2 = DataFrame(dict2) \n",
      "print data2"
     ],
     "language": "python",
     "metadata": {},
     "outputs": [
      {
       "output_type": "stream",
       "stream": "stdout",
       "text": [
        "         1        2        3        4        5        6        7        8   \\\n",
        "2  -0.25620 -0.22915 -0.20990 -0.17575 -0.16620 -0.11930 -0.13815 -0.08260   \n",
        "3  -0.25560 -0.22555 -0.19620 -0.15915 -0.13880 -0.10575 -0.09375 -0.05055   \n",
        "4  -0.31390 -0.27115 -0.23775 -0.19860 -0.17105 -0.13175 -0.10910 -0.04930   \n",
        "5  -0.28330 -0.23085 -0.19680 -0.16845 -0.12810 -0.09665 -0.05870 -0.04510   \n",
        "6  -0.24995 -0.20365 -0.17875 -0.11570 -0.08995 -0.05950 -0.02535 -0.00380   \n",
        "7   0.04200  0.04890  0.05345  0.05195  0.07595  0.06700  0.07970  0.07135   \n",
        "8   0.03390  0.02675  0.00805  0.02725  0.01700  0.02375  0.04110  0.02750   \n",
        "9   0.01010  0.01440 -0.00775 -0.00865 -0.02665 -0.02630 -0.03570 -0.01840   \n",
        "10 -0.05375 -0.07105 -0.08905 -0.10175 -0.10035 -0.11975 -0.13585 -0.13915   \n",
        "A  -0.14675 -0.17950 -0.20180 -0.20640 -0.23205 -0.23935 -0.26145 -0.26170   \n",
        "\n",
        "         9        10  \n",
        "2  -0.05650 -0.03360  \n",
        "3  -0.03685 -0.03310  \n",
        "4  -0.02575 -0.01470  \n",
        "5  -0.00125  0.01640  \n",
        "6   0.03270  0.05555  \n",
        "7   0.08920  0.08270  \n",
        "8   0.02815  0.04380  \n",
        "9  -0.04060 -0.03770  \n",
        "10 -0.13285 -0.12980  \n",
        "A  -0.26760 -0.29795  \n",
        "\n",
        "[10 rows x 10 columns]\n"
       ]
      }
     ],
     "prompt_number": 43
    },
    {
     "cell_type": "code",
     "collapsed": false,
     "input": [
      "dic = {}\n",
      "for ten in range(11,17):\n",
      "    for nine in range(1,5):\n",
      "        for eight in range(1,5):\n",
      "            countAdjustedDeck = deckShuffle(NDecks =3, decks = singleDeck(eights= eight, nines=nine, tens = ten))\n",
      "            data = expUtilGivenDealerCard(countAdjustedDeck, runNumber=100, handNumber =100)\n",
      "            data = DataFrame(data)\n",
      "            dic[(eight, nine, ten)]=data.mean(axis=0)\n",
      "data3 = DataFrame(dic) \n",
      "print data3"
     ],
     "language": "python",
     "metadata": {},
     "outputs": [
      {
       "output_type": "stream",
       "stream": "stdout",
       "text": [
        "<class 'pandas.core.frame.DataFrame'>\n",
        "Index: 10 entries, 2 to A\n",
        "Data columns (total 96 columns):\n",
        "(1, 1, 11)    10  non-null values\n",
        "(1, 1, 12)    10  non-null values\n",
        "(1, 1, 13)    10  non-null values\n",
        "(1, 1, 14)    10  non-null values\n",
        "(1, 1, 15)    10  non-null values\n",
        "(1, 1, 16)    10  non-null values\n",
        "(1, 2, 11)    10  non-null values\n",
        "(1, 2, 12)    10  non-null values\n",
        "(1, 2, 13)    10  non-null values\n",
        "(1, 2, 14)    10  non-null values\n",
        "(1, 2, 15)    10  non-null values\n",
        "(1, 2, 16)    10  non-null values\n",
        "(1, 3, 11)    10  non-null values\n",
        "(1, 3, 12)    10  non-null values\n",
        "(1, 3, 13)    10  non-null values\n",
        "(1, 3, 14)    10  non-null values\n",
        "(1, 3, 15)    10  non-null values\n",
        "(1, 3, 16)    10  non-null values\n",
        "(1, 4, 11)    10  non-null values\n",
        "(1, 4, 12)    10  non-null values\n",
        "(1, 4, 13)    10  non-null values\n",
        "(1, 4, 14)    10  non-null values\n",
        "(1, 4, 15)    10  non-null values\n",
        "(1, 4, 16)    10  non-null values\n",
        "(2, 1, 11)    10  non-null values\n",
        "(2, 1, 12)    10  non-null values\n",
        "(2, 1, 13)    10  non-null values\n",
        "(2, 1, 14)    10  non-null values\n",
        "(2, 1, 15)    10  non-null values\n",
        "(2, 1, 16)    10  non-null values\n",
        "(2, 2, 11)    10  non-null values\n",
        "(2, 2, 12)    10  non-null values\n",
        "(2, 2, 13)    10  non-null values\n",
        "(2, 2, 14)    10  non-null values\n",
        "(2, 2, 15)    10  non-null values\n",
        "(2, 2, 16)    10  non-null values\n",
        "(2, 3, 11)    10  non-null values\n",
        "(2, 3, 12)    10  non-null values\n",
        "(2, 3, 13)    10  non-null values\n",
        "(2, 3, 14)    10  non-null values\n",
        "(2, 3, 15)    10  non-null values\n",
        "(2, 3, 16)    10  non-null values\n",
        "(2, 4, 11)    10  non-null values\n",
        "(2, 4, 12)    10  non-null values\n",
        "(2, 4, 13)    10  non-null values\n",
        "(2, 4, 14)    10  non-null values\n",
        "(2, 4, 15)    10  non-null values\n",
        "(2, 4, 16)    10  non-null values\n",
        "(3, 1, 11)    10  non-null values\n",
        "(3, 1, 12)    10  non-null values\n",
        "(3, 1, 13)    10  non-null values\n",
        "(3, 1, 14)    10  non-null values\n",
        "(3, 1, 15)    10  non-null values\n",
        "(3, 1, 16)    10  non-null values\n",
        "(3, 2, 11)    10  non-null values\n",
        "(3, 2, 12)    10  non-null values\n",
        "(3, 2, 13)    10  non-null values\n",
        "(3, 2, 14)    10  non-null values\n",
        "(3, 2, 15)    10  non-null values\n",
        "(3, 2, 16)    10  non-null values\n",
        "(3, 3, 11)    10  non-null values\n",
        "(3, 3, 12)    10  non-null values\n",
        "(3, 3, 13)    10  non-null values\n",
        "(3, 3, 14)    10  non-null values\n",
        "(3, 3, 15)    10  non-null values\n",
        "(3, 3, 16)    10  non-null values\n",
        "(3, 4, 11)    10  non-null values\n",
        "(3, 4, 12)    10  non-null values\n",
        "(3, 4, 13)    10  non-null values\n",
        "(3, 4, 14)    10  non-null values\n",
        "(3, 4, 15)    10  non-null values\n",
        "(3, 4, 16)    10  non-null values\n",
        "(4, 1, 11)    10  non-null values\n",
        "(4, 1, 12)    10  non-null values\n",
        "(4, 1, 13)    10  non-null values\n",
        "(4, 1, 14)    10  non-null values\n",
        "(4, 1, 15)    10  non-null values\n",
        "(4, 1, 16)    10  non-null values\n",
        "(4, 2, 11)    10  non-null values\n",
        "(4, 2, 12)    10  non-null values\n",
        "(4, 2, 13)    10  non-null values\n",
        "(4, 2, 14)    10  non-null values\n",
        "(4, 2, 15)    10  non-null values\n",
        "(4, 2, 16)    10  non-null values\n",
        "(4, 3, 11)    10  non-null values\n",
        "(4, 3, 12)    10  non-null values\n",
        "(4, 3, 13)    10  non-null values\n",
        "(4, 3, 14)    10  non-null values\n",
        "(4, 3, 15)    10  non-null values\n",
        "(4, 3, 16)    10  non-null values\n",
        "(4, 4, 11)    10  non-null values\n",
        "(4, 4, 12)    10  non-null values\n",
        "(4, 4, 13)    10  non-null values\n",
        "(4, 4, 14)    10  non-null values\n",
        "(4, 4, 15)    10  non-null values\n",
        "(4, 4, 16)    10  non-null values\n",
        "dtypes: float64(96)\n"
       ]
      }
     ],
     "prompt_number": 12
    },
    {
     "cell_type": "code",
     "collapsed": false,
     "input": [
      "data3.to_csv('tens.csv', sep=',')"
     ],
     "language": "python",
     "metadata": {},
     "outputs": [],
     "prompt_number": 15
    },
    {
     "cell_type": "code",
     "collapsed": false,
     "input": [
      "dic = {}\n",
      "for two in range(1,5):\n",
      "    for four in range(1,5):\n",
      "        for six in range(1,5):\n",
      "            countAdjustedDeck = deckShuffle(NDecks =3, decks = singleDeck(twos=two, fours=four, sixes=six))\n",
      "            data = expUtilGivenDealerCard(countAdjustedDeck, runNumber=100, handNumber =100)\n",
      "            data = DataFrame(data)\n",
      "            dic[((4-two), (4-four), (4-six))]=data.mean(axis=0)\n",
      "dataLow = DataFrame(dic) \n",
      "print dataLow"
     ],
     "language": "python",
     "metadata": {},
     "outputs": [
      {
       "output_type": "stream",
       "stream": "stdout",
       "text": [
        "<class 'pandas.core.frame.DataFrame'>\n",
        "Index: 10 entries, 2 to A\n",
        "Data columns (total 64 columns):\n",
        "(0, 0, 0)    10  non-null values\n",
        "(0, 0, 1)    10  non-null values\n",
        "(0, 0, 2)    10  non-null values\n",
        "(0, 0, 3)    10  non-null values\n",
        "(0, 1, 0)    10  non-null values\n",
        "(0, 1, 1)    10  non-null values\n",
        "(0, 1, 2)    10  non-null values\n",
        "(0, 1, 3)    10  non-null values\n",
        "(0, 2, 0)    10  non-null values\n",
        "(0, 2, 1)    10  non-null values\n",
        "(0, 2, 2)    10  non-null values\n",
        "(0, 2, 3)    10  non-null values\n",
        "(0, 3, 0)    10  non-null values\n",
        "(0, 3, 1)    10  non-null values\n",
        "(0, 3, 2)    10  non-null values\n",
        "(0, 3, 3)    10  non-null values\n",
        "(1, 0, 0)    10  non-null values\n",
        "(1, 0, 1)    10  non-null values\n",
        "(1, 0, 2)    10  non-null values\n",
        "(1, 0, 3)    10  non-null values\n",
        "(1, 1, 0)    10  non-null values\n",
        "(1, 1, 1)    10  non-null values\n",
        "(1, 1, 2)    10  non-null values\n",
        "(1, 1, 3)    10  non-null values\n",
        "(1, 2, 0)    10  non-null values\n",
        "(1, 2, 1)    10  non-null values\n",
        "(1, 2, 2)    10  non-null values\n",
        "(1, 2, 3)    10  non-null values\n",
        "(1, 3, 0)    10  non-null values\n",
        "(1, 3, 1)    10  non-null values\n",
        "(1, 3, 2)    10  non-null values\n",
        "(1, 3, 3)    10  non-null values\n",
        "(2, 0, 0)    10  non-null values\n",
        "(2, 0, 1)    10  non-null values\n",
        "(2, 0, 2)    10  non-null values\n",
        "(2, 0, 3)    10  non-null values\n",
        "(2, 1, 0)    10  non-null values\n",
        "(2, 1, 1)    10  non-null values\n",
        "(2, 1, 2)    10  non-null values\n",
        "(2, 1, 3)    10  non-null values\n",
        "(2, 2, 0)    10  non-null values\n",
        "(2, 2, 1)    10  non-null values\n",
        "(2, 2, 2)    10  non-null values\n",
        "(2, 2, 3)    10  non-null values\n",
        "(2, 3, 0)    10  non-null values\n",
        "(2, 3, 1)    10  non-null values\n",
        "(2, 3, 2)    10  non-null values\n",
        "(2, 3, 3)    10  non-null values\n",
        "(3, 0, 0)    10  non-null values\n",
        "(3, 0, 1)    10  non-null values\n",
        "(3, 0, 2)    10  non-null values\n",
        "(3, 0, 3)    10  non-null values\n",
        "(3, 1, 0)    10  non-null values\n",
        "(3, 1, 1)    10  non-null values\n",
        "(3, 1, 2)    10  non-null values\n",
        "(3, 1, 3)    10  non-null values\n",
        "(3, 2, 0)    10  non-null values\n",
        "(3, 2, 1)    10  non-null values\n",
        "(3, 2, 2)    10  non-null values\n",
        "(3, 2, 3)    10  non-null values\n",
        "(3, 3, 0)    10  non-null values\n",
        "(3, 3, 1)    10  non-null values\n",
        "(3, 3, 2)    10  non-null values\n",
        "(3, 3, 3)    10  non-null values\n",
        "dtypes: float64(64)\n"
       ]
      }
     ],
     "prompt_number": 16
    },
    {
     "cell_type": "code",
     "collapsed": false,
     "input": [
      "dataLow.to_csv('twos.csv', sep=',')"
     ],
     "language": "python",
     "metadata": {},
     "outputs": [],
     "prompt_number": 17
    },
    {
     "cell_type": "code",
     "collapsed": false,
     "input": [
      "dic = {}\n",
      "for seven in range(1,5):\n",
      "    for eight in range(1,5):\n",
      "        for nine in range(1,5):\n",
      "            countAdjustedDeck = deckShuffle(NDecks =1, decks = singleDeck(sevens=seven, eights= eight, nines=nine))\n",
      "            data = expUtilGivenDealerCard(countAdjustedDeck, runNumber=100, handNumber =100)\n",
      "            data = DataFrame(data)\n",
      "            dic[((4-seven), (4-eight), (4-nine))]=data.mean(axis=0)\n",
      "dataNeut = DataFrame(dic) \n",
      "print dataNeut"
     ],
     "language": "python",
     "metadata": {},
     "outputs": [
      {
       "output_type": "stream",
       "stream": "stdout",
       "text": [
        "<class 'pandas.core.frame.DataFrame'>\n",
        "Index: 10 entries, 2 to A\n",
        "Data columns (total 64 columns):\n",
        "(0, 0, 0)    10  non-null values\n",
        "(0, 0, 1)    10  non-null values\n",
        "(0, 0, 2)    10  non-null values\n",
        "(0, 0, 3)    10  non-null values\n",
        "(0, 1, 0)    10  non-null values\n",
        "(0, 1, 1)    10  non-null values\n",
        "(0, 1, 2)    10  non-null values\n",
        "(0, 1, 3)    10  non-null values\n",
        "(0, 2, 0)    10  non-null values\n",
        "(0, 2, 1)    10  non-null values\n",
        "(0, 2, 2)    10  non-null values\n",
        "(0, 2, 3)    10  non-null values\n",
        "(0, 3, 0)    10  non-null values\n",
        "(0, 3, 1)    10  non-null values\n",
        "(0, 3, 2)    10  non-null values\n",
        "(0, 3, 3)    10  non-null values\n",
        "(1, 0, 0)    10  non-null values\n",
        "(1, 0, 1)    10  non-null values\n",
        "(1, 0, 2)    10  non-null values\n",
        "(1, 0, 3)    10  non-null values\n",
        "(1, 1, 0)    10  non-null values\n",
        "(1, 1, 1)    10  non-null values\n",
        "(1, 1, 2)    10  non-null values\n",
        "(1, 1, 3)    10  non-null values\n",
        "(1, 2, 0)    10  non-null values\n",
        "(1, 2, 1)    10  non-null values\n",
        "(1, 2, 2)    10  non-null values\n",
        "(1, 2, 3)    10  non-null values\n",
        "(1, 3, 0)    10  non-null values\n",
        "(1, 3, 1)    10  non-null values\n",
        "(1, 3, 2)    10  non-null values\n",
        "(1, 3, 3)    10  non-null values\n",
        "(2, 0, 0)    10  non-null values\n",
        "(2, 0, 1)    10  non-null values\n",
        "(2, 0, 2)    10  non-null values\n",
        "(2, 0, 3)    10  non-null values\n",
        "(2, 1, 0)    10  non-null values\n",
        "(2, 1, 1)    10  non-null values\n",
        "(2, 1, 2)    10  non-null values\n",
        "(2, 1, 3)    10  non-null values\n",
        "(2, 2, 0)    10  non-null values\n",
        "(2, 2, 1)    10  non-null values\n",
        "(2, 2, 2)    10  non-null values\n",
        "(2, 2, 3)    10  non-null values\n",
        "(2, 3, 0)    10  non-null values\n",
        "(2, 3, 1)    10  non-null values\n",
        "(2, 3, 2)    10  non-null values\n",
        "(2, 3, 3)    10  non-null values\n",
        "(3, 0, 0)    10  non-null values\n",
        "(3, 0, 1)    10  non-null values\n",
        "(3, 0, 2)    10  non-null values\n",
        "(3, 0, 3)    10  non-null values\n",
        "(3, 1, 0)    10  non-null values\n",
        "(3, 1, 1)    10  non-null values\n",
        "(3, 1, 2)    10  non-null values\n",
        "(3, 1, 3)    10  non-null values\n",
        "(3, 2, 0)    10  non-null values\n",
        "(3, 2, 1)    10  non-null values\n",
        "(3, 2, 2)    10  non-null values\n",
        "(3, 2, 3)    10  non-null values\n",
        "(3, 3, 0)    10  non-null values\n",
        "(3, 3, 1)    10  non-null values\n",
        "(3, 3, 2)    10  non-null values\n",
        "(3, 3, 3)    10  non-null values\n",
        "dtypes: float64(64)\n"
       ]
      }
     ],
     "prompt_number": 24
    },
    {
     "cell_type": "code",
     "collapsed": false,
     "input": [
      "dataNeut.to_csv('neuts.csv', sep=',')"
     ],
     "language": "python",
     "metadata": {},
     "outputs": [],
     "prompt_number": 25
    },
    {
     "cell_type": "code",
     "collapsed": false,
     "input": [],
     "language": "python",
     "metadata": {},
     "outputs": []
    }
   ],
   "metadata": {}
  }
 ]
}